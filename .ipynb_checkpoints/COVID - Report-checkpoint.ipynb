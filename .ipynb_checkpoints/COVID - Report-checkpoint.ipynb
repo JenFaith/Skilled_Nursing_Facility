{
 "cells": [
  {
   "cell_type": "markdown",
   "id": "sufficient-distinction",
   "metadata": {},
   "source": [
    "## Imports"
   ]
  },
  {
   "cell_type": "code",
   "execution_count": 3,
   "id": "photographic-chicago",
   "metadata": {},
   "outputs": [],
   "source": [
    "import numpy as np\n",
    "import pandas as pd\n",
    "import warnings\n",
    "warnings.filterwarnings(\"ignore\")"
   ]
  },
  {
   "cell_type": "code",
   "execution_count": 39,
   "id": "radical-logic",
   "metadata": {},
   "outputs": [],
   "source": [
    "df = pd.read_csv(\"COVID-19_Nursing_Home_Dataset.csv\", parse_dates=['Week Ending'])"
   ]
  },
  {
   "cell_type": "markdown",
   "id": "spare-appendix",
   "metadata": {},
   "source": [
    "## Basic Analysis "
   ]
  },
  {
   "cell_type": "code",
   "execution_count": 17,
   "id": "sexual-jungle",
   "metadata": {},
   "outputs": [],
   "source": [
    "all_shape = df.shape"
   ]
  },
  {
   "cell_type": "code",
   "execution_count": 10,
   "id": "listed-soundtrack",
   "metadata": {},
   "outputs": [],
   "source": [
    "submitted = df[df['Submitted Data']=='Y']"
   ]
  },
  {
   "cell_type": "code",
   "execution_count": 13,
   "id": "hispanic-hawaiian",
   "metadata": {},
   "outputs": [],
   "source": [
    "did_sub_shape = submitted.shape"
   ]
  },
  {
   "cell_type": "code",
   "execution_count": 18,
   "id": "matched-terrorist",
   "metadata": {},
   "outputs": [
    {
     "data": {
      "text/plain": [
       "6097"
      ]
     },
     "execution_count": 18,
     "metadata": {},
     "output_type": "execute_result"
    }
   ],
   "source": [
    "# Only 6,097 missing rows of data\n",
    "\n",
    "all_shape[0]-did_sub_shape[0]"
   ]
  },
  {
   "cell_type": "code",
   "execution_count": 20,
   "id": "social-antibody",
   "metadata": {},
   "outputs": [
    {
     "data": {
      "text/plain": [
       "19171"
      ]
     },
     "execution_count": 20,
     "metadata": {},
     "output_type": "execute_result"
    }
   ],
   "source": [
    "# 19,171 unique federal provider numbers for skilled nursing facilities\n",
    "\n",
    "df['Federal Provider Number'].nunique()"
   ]
  },
  {
   "cell_type": "code",
   "execution_count": 110,
   "id": "religious-breakdown",
   "metadata": {},
   "outputs": [
    {
     "data": {
      "text/html": [
       "<div>\n",
       "<style scoped>\n",
       "    .dataframe tbody tr th:only-of-type {\n",
       "        vertical-align: middle;\n",
       "    }\n",
       "\n",
       "    .dataframe tbody tr th {\n",
       "        vertical-align: top;\n",
       "    }\n",
       "\n",
       "    .dataframe thead th {\n",
       "        text-align: right;\n",
       "    }\n",
       "</style>\n",
       "<table border=\"1\" class=\"dataframe\">\n",
       "  <thead>\n",
       "    <tr style=\"text-align: right;\">\n",
       "      <th></th>\n",
       "      <th>Week Ending</th>\n",
       "      <th>Federal Provider Number</th>\n",
       "      <th>Provider Name</th>\n",
       "      <th>Provider Address</th>\n",
       "      <th>Provider City</th>\n",
       "      <th>Provider State</th>\n",
       "      <th>Provider Zip Code</th>\n",
       "      <th>Submitted Data</th>\n",
       "      <th>Passed Quality Assurance Check</th>\n",
       "      <th>Residents Weekly Admissions COVID-19</th>\n",
       "      <th>...</th>\n",
       "      <th>Number of Staff and/or Personnel with a New Positive COVID-19 Test Result with Positive NAAT (PCR) Test Only</th>\n",
       "      <th>Number of Staff and/or Personnel with a New Positive COVID-19 Test Result with Positive Antigen Test AND Negative NAAT (PCR) Test</th>\n",
       "      <th>Number of Staff and/or Personnel with a New Positive COVID-19 Test Result with Any Other Combination of Antigen Test and/or NAAT (PCR) Test with At Least One Positive Test</th>\n",
       "      <th>Number of Staff and/or Personnel with a New Positive COVID-19 Test Result who are Reinfected</th>\n",
       "      <th>Number of Staff and/or Personnel with a New Positive COVID-19 Test Result who are Reinfected and Symptomatic</th>\n",
       "      <th>Number of Staff and/or Personnel with a New Positive COVID-19 Test Result who are Reinfected and Asymptomatic</th>\n",
       "      <th>Number of Staff and/or Personnel with New Influenza</th>\n",
       "      <th>Number of Staff and/or Personnel with Acute Respiratory Illness Symptoms Excluding COVID-19 and/or Influenza</th>\n",
       "      <th>Number of Staff and/or Personnel with Confirmed Coinfection with Influenza and COVID-19</th>\n",
       "      <th>Submitted Data Counts</th>\n",
       "    </tr>\n",
       "  </thead>\n",
       "  <tbody>\n",
       "    <tr>\n",
       "      <th>0</th>\n",
       "      <td>2020-05-24</td>\n",
       "      <td>045189</td>\n",
       "      <td>SOMERSET SENIOR LIVING AT PINE HILLS</td>\n",
       "      <td>900 MAGNOLIA RD</td>\n",
       "      <td>CAMDEN</td>\n",
       "      <td>AR</td>\n",
       "      <td>71701</td>\n",
       "      <td>N</td>\n",
       "      <td>NaN</td>\n",
       "      <td>NaN</td>\n",
       "      <td>...</td>\n",
       "      <td>NaN</td>\n",
       "      <td>NaN</td>\n",
       "      <td>NaN</td>\n",
       "      <td>NaN</td>\n",
       "      <td>NaN</td>\n",
       "      <td>NaN</td>\n",
       "      <td>NaN</td>\n",
       "      <td>NaN</td>\n",
       "      <td>NaN</td>\n",
       "      <td>0</td>\n",
       "    </tr>\n",
       "    <tr>\n",
       "      <th>1</th>\n",
       "      <td>2020-05-24</td>\n",
       "      <td>055304</td>\n",
       "      <td>DYCORA TRANSITIONAL HEALTH - QUAIL LAKE</td>\n",
       "      <td>1221 ROSEMARIE LANE</td>\n",
       "      <td>STOCKTON</td>\n",
       "      <td>CA</td>\n",
       "      <td>95207</td>\n",
       "      <td>N</td>\n",
       "      <td>NaN</td>\n",
       "      <td>NaN</td>\n",
       "      <td>...</td>\n",
       "      <td>NaN</td>\n",
       "      <td>NaN</td>\n",
       "      <td>NaN</td>\n",
       "      <td>NaN</td>\n",
       "      <td>NaN</td>\n",
       "      <td>NaN</td>\n",
       "      <td>NaN</td>\n",
       "      <td>NaN</td>\n",
       "      <td>NaN</td>\n",
       "      <td>0</td>\n",
       "    </tr>\n",
       "    <tr>\n",
       "      <th>2</th>\n",
       "      <td>2020-05-24</td>\n",
       "      <td>055474</td>\n",
       "      <td>MAGNOLIA REHABILITATION  &amp; NURSING  CENTER</td>\n",
       "      <td>8133 MAGNOLIA AVENUE</td>\n",
       "      <td>RIVERSIDE</td>\n",
       "      <td>CA</td>\n",
       "      <td>92504</td>\n",
       "      <td>N</td>\n",
       "      <td>NaN</td>\n",
       "      <td>NaN</td>\n",
       "      <td>...</td>\n",
       "      <td>NaN</td>\n",
       "      <td>NaN</td>\n",
       "      <td>NaN</td>\n",
       "      <td>NaN</td>\n",
       "      <td>NaN</td>\n",
       "      <td>NaN</td>\n",
       "      <td>NaN</td>\n",
       "      <td>NaN</td>\n",
       "      <td>NaN</td>\n",
       "      <td>0</td>\n",
       "    </tr>\n",
       "    <tr>\n",
       "      <th>3</th>\n",
       "      <td>2020-05-24</td>\n",
       "      <td>055516</td>\n",
       "      <td>WINDSOR CHICO CARE CENTER</td>\n",
       "      <td>188 COHASSET LANE</td>\n",
       "      <td>CHICO</td>\n",
       "      <td>CA</td>\n",
       "      <td>95926</td>\n",
       "      <td>N</td>\n",
       "      <td>NaN</td>\n",
       "      <td>NaN</td>\n",
       "      <td>...</td>\n",
       "      <td>NaN</td>\n",
       "      <td>NaN</td>\n",
       "      <td>NaN</td>\n",
       "      <td>NaN</td>\n",
       "      <td>NaN</td>\n",
       "      <td>NaN</td>\n",
       "      <td>NaN</td>\n",
       "      <td>NaN</td>\n",
       "      <td>NaN</td>\n",
       "      <td>0</td>\n",
       "    </tr>\n",
       "    <tr>\n",
       "      <th>4</th>\n",
       "      <td>2020-05-24</td>\n",
       "      <td>056078</td>\n",
       "      <td>LAKEVIEW TERRACE</td>\n",
       "      <td>831 S LAKE STREET</td>\n",
       "      <td>LOS ANGELES</td>\n",
       "      <td>CA</td>\n",
       "      <td>90057</td>\n",
       "      <td>N</td>\n",
       "      <td>NaN</td>\n",
       "      <td>NaN</td>\n",
       "      <td>...</td>\n",
       "      <td>NaN</td>\n",
       "      <td>NaN</td>\n",
       "      <td>NaN</td>\n",
       "      <td>NaN</td>\n",
       "      <td>NaN</td>\n",
       "      <td>NaN</td>\n",
       "      <td>NaN</td>\n",
       "      <td>NaN</td>\n",
       "      <td>NaN</td>\n",
       "      <td>0</td>\n",
       "    </tr>\n",
       "  </tbody>\n",
       "</table>\n",
       "<p>5 rows × 121 columns</p>\n",
       "</div>"
      ],
      "text/plain": [
       "  Week Ending Federal Provider Number  \\\n",
       "0  2020-05-24                  045189   \n",
       "1  2020-05-24                  055304   \n",
       "2  2020-05-24                  055474   \n",
       "3  2020-05-24                  055516   \n",
       "4  2020-05-24                  056078   \n",
       "\n",
       "                                Provider Name      Provider Address  \\\n",
       "0        SOMERSET SENIOR LIVING AT PINE HILLS       900 MAGNOLIA RD   \n",
       "1     DYCORA TRANSITIONAL HEALTH - QUAIL LAKE   1221 ROSEMARIE LANE   \n",
       "2  MAGNOLIA REHABILITATION  & NURSING  CENTER  8133 MAGNOLIA AVENUE   \n",
       "3                   WINDSOR CHICO CARE CENTER     188 COHASSET LANE   \n",
       "4                            LAKEVIEW TERRACE     831 S LAKE STREET   \n",
       "\n",
       "  Provider City Provider State  Provider Zip Code Submitted Data  \\\n",
       "0        CAMDEN             AR              71701              N   \n",
       "1      STOCKTON             CA              95207              N   \n",
       "2     RIVERSIDE             CA              92504              N   \n",
       "3         CHICO             CA              95926              N   \n",
       "4   LOS ANGELES             CA              90057              N   \n",
       "\n",
       "  Passed Quality Assurance Check  Residents Weekly Admissions COVID-19  ...  \\\n",
       "0                            NaN                                   NaN  ...   \n",
       "1                            NaN                                   NaN  ...   \n",
       "2                            NaN                                   NaN  ...   \n",
       "3                            NaN                                   NaN  ...   \n",
       "4                            NaN                                   NaN  ...   \n",
       "\n",
       "   Number of Staff and/or Personnel with a New Positive COVID-19 Test Result with Positive NAAT (PCR) Test Only  \\\n",
       "0                                                NaN                                                              \n",
       "1                                                NaN                                                              \n",
       "2                                                NaN                                                              \n",
       "3                                                NaN                                                              \n",
       "4                                                NaN                                                              \n",
       "\n",
       "   Number of Staff and/or Personnel with a New Positive COVID-19 Test Result with Positive Antigen Test AND Negative NAAT (PCR) Test  \\\n",
       "0                                                NaN                                                                                   \n",
       "1                                                NaN                                                                                   \n",
       "2                                                NaN                                                                                   \n",
       "3                                                NaN                                                                                   \n",
       "4                                                NaN                                                                                   \n",
       "\n",
       "   Number of Staff and/or Personnel with a New Positive COVID-19 Test Result with Any Other Combination of Antigen Test and/or NAAT (PCR) Test with At Least One Positive Test  \\\n",
       "0                                                NaN                                                                                                                             \n",
       "1                                                NaN                                                                                                                             \n",
       "2                                                NaN                                                                                                                             \n",
       "3                                                NaN                                                                                                                             \n",
       "4                                                NaN                                                                                                                             \n",
       "\n",
       "   Number of Staff and/or Personnel with a New Positive COVID-19 Test Result who are Reinfected  \\\n",
       "0                                                NaN                                              \n",
       "1                                                NaN                                              \n",
       "2                                                NaN                                              \n",
       "3                                                NaN                                              \n",
       "4                                                NaN                                              \n",
       "\n",
       "   Number of Staff and/or Personnel with a New Positive COVID-19 Test Result who are Reinfected and Symptomatic  \\\n",
       "0                                                NaN                                                              \n",
       "1                                                NaN                                                              \n",
       "2                                                NaN                                                              \n",
       "3                                                NaN                                                              \n",
       "4                                                NaN                                                              \n",
       "\n",
       "   Number of Staff and/or Personnel with a New Positive COVID-19 Test Result who are Reinfected and Asymptomatic  \\\n",
       "0                                                NaN                                                               \n",
       "1                                                NaN                                                               \n",
       "2                                                NaN                                                               \n",
       "3                                                NaN                                                               \n",
       "4                                                NaN                                                               \n",
       "\n",
       "   Number of Staff and/or Personnel with New Influenza  \\\n",
       "0                                                NaN     \n",
       "1                                                NaN     \n",
       "2                                                NaN     \n",
       "3                                                NaN     \n",
       "4                                                NaN     \n",
       "\n",
       "   Number of Staff and/or Personnel with Acute Respiratory Illness Symptoms Excluding COVID-19 and/or Influenza  \\\n",
       "0                                                NaN                                                              \n",
       "1                                                NaN                                                              \n",
       "2                                                NaN                                                              \n",
       "3                                                NaN                                                              \n",
       "4                                                NaN                                                              \n",
       "\n",
       "   Number of Staff and/or Personnel with Confirmed Coinfection with Influenza and COVID-19  \\\n",
       "0                                                NaN                                         \n",
       "1                                                NaN                                         \n",
       "2                                                NaN                                         \n",
       "3                                                NaN                                         \n",
       "4                                                NaN                                         \n",
       "\n",
       "   Submitted Data Counts  \n",
       "0                      0  \n",
       "1                      0  \n",
       "2                      0  \n",
       "3                      0  \n",
       "4                      0  \n",
       "\n",
       "[5 rows x 121 columns]"
      ]
     },
     "execution_count": 110,
     "metadata": {},
     "output_type": "execute_result"
    }
   ],
   "source": [
    "df.head()"
   ]
  },
  {
   "cell_type": "code",
   "execution_count": 23,
   "id": "constant-carpet",
   "metadata": {},
   "outputs": [
    {
     "data": {
      "text/plain": [
       "19100"
      ]
     },
     "execution_count": 23,
     "metadata": {},
     "output_type": "execute_result"
    }
   ],
   "source": [
    "# 71 facilities did not submit data\n",
    "\n",
    "submitted['Federal Provider Number'].nunique()"
   ]
  },
  {
   "cell_type": "code",
   "execution_count": 43,
   "id": "western-marina",
   "metadata": {},
   "outputs": [
    {
     "data": {
      "text/plain": [
       "15353.25"
      ]
     },
     "execution_count": 43,
     "metadata": {},
     "output_type": "execute_result"
    }
   ],
   "source": [
    "# First report for 2020 was filed the week of May 24th\n",
    "# There are 31 weeks between those dates\n",
    "# On average, 15,353 reports were filed weekly\n",
    "year_2020 = df[df['Week Ending'] < '12/31/20']\n",
    "year_2020['Week Ending'].value_counts().mean()"
   ]
  },
  {
   "cell_type": "code",
   "execution_count": 119,
   "id": "opponent-forth",
   "metadata": {},
   "outputs": [],
   "source": [
    "# finding distribution of reporting\n",
    "df['Submitted Data Counts'] = np.where(df['Submitted Data']=='N', 0, 1)\n",
    "df['Passed Quality Counts'] = np.where(df['Passed Quality Assurance Check']==\"Y\", 1, 0)"
   ]
  },
  {
   "cell_type": "code",
   "execution_count": 120,
   "id": "small-projection",
   "metadata": {},
   "outputs": [],
   "source": [
    "grouped = df.groupby(by = ['Federal Provider Number', 'Provider Name', 'Provider State']).sum().reset_index()"
   ]
  },
  {
   "cell_type": "code",
   "execution_count": 121,
   "id": "blank-interpretation",
   "metadata": {},
   "outputs": [
    {
     "data": {
      "text/plain": [
       "29.308799749621823"
      ]
     },
     "execution_count": 121,
     "metadata": {},
     "output_type": "execute_result"
    }
   ],
   "source": [
    "grouped['Submitted Data Counts'].mean()"
   ]
  },
  {
   "cell_type": "code",
   "execution_count": 122,
   "id": "global-nutrition",
   "metadata": {},
   "outputs": [
    {
     "data": {
      "text/html": [
       "<div>\n",
       "<style scoped>\n",
       "    .dataframe tbody tr th:only-of-type {\n",
       "        vertical-align: middle;\n",
       "    }\n",
       "\n",
       "    .dataframe tbody tr th {\n",
       "        vertical-align: top;\n",
       "    }\n",
       "\n",
       "    .dataframe thead th {\n",
       "        text-align: right;\n",
       "    }\n",
       "</style>\n",
       "<table border=\"1\" class=\"dataframe\">\n",
       "  <thead>\n",
       "    <tr style=\"text-align: right;\">\n",
       "      <th></th>\n",
       "      <th>Federal Provider Number</th>\n",
       "      <th>Provider Name</th>\n",
       "      <th>Provider State</th>\n",
       "      <th>Provider Zip Code</th>\n",
       "      <th>Residents Weekly Admissions COVID-19</th>\n",
       "      <th>Residents Total Admissions COVID-19</th>\n",
       "      <th>Residents Weekly Confirmed COVID-19</th>\n",
       "      <th>Residents Total Confirmed COVID-19</th>\n",
       "      <th>Residents Weekly Suspected COVID-19</th>\n",
       "      <th>Residents Total Suspected COVID-19</th>\n",
       "      <th>...</th>\n",
       "      <th>Number of Staff and/or Personnel with a New Positive COVID-19 Test Result with Positive Antigen Test AND Negative NAAT (PCR) Test</th>\n",
       "      <th>Number of Staff and/or Personnel with a New Positive COVID-19 Test Result with Any Other Combination of Antigen Test and/or NAAT (PCR) Test with At Least One Positive Test</th>\n",
       "      <th>Number of Staff and/or Personnel with a New Positive COVID-19 Test Result who are Reinfected</th>\n",
       "      <th>Number of Staff and/or Personnel with a New Positive COVID-19 Test Result who are Reinfected and Symptomatic</th>\n",
       "      <th>Number of Staff and/or Personnel with a New Positive COVID-19 Test Result who are Reinfected and Asymptomatic</th>\n",
       "      <th>Number of Staff and/or Personnel with New Influenza</th>\n",
       "      <th>Number of Staff and/or Personnel with Acute Respiratory Illness Symptoms Excluding COVID-19 and/or Influenza</th>\n",
       "      <th>Number of Staff and/or Personnel with Confirmed Coinfection with Influenza and COVID-19</th>\n",
       "      <th>Submitted Data Counts</th>\n",
       "      <th>Passed Quality Counts</th>\n",
       "    </tr>\n",
       "  </thead>\n",
       "  <tbody>\n",
       "    <tr>\n",
       "      <th>0</th>\n",
       "      <td>55139</td>\n",
       "      <td>SANTA TERESITA MANOR</td>\n",
       "      <td>CA</td>\n",
       "      <td>182020</td>\n",
       "      <td>0.0</td>\n",
       "      <td>4.0</td>\n",
       "      <td>0.0</td>\n",
       "      <td>12.0</td>\n",
       "      <td>0.0</td>\n",
       "      <td>0.0</td>\n",
       "      <td>...</td>\n",
       "      <td>0.0</td>\n",
       "      <td>0.0</td>\n",
       "      <td>0.0</td>\n",
       "      <td>0.0</td>\n",
       "      <td>0.0</td>\n",
       "      <td>0.0</td>\n",
       "      <td>0.0</td>\n",
       "      <td>0.0</td>\n",
       "      <td>2</td>\n",
       "      <td>2</td>\n",
       "    </tr>\n",
       "  </tbody>\n",
       "</table>\n",
       "<p>1 rows × 57 columns</p>\n",
       "</div>"
      ],
      "text/plain": [
       "  Federal Provider Number         Provider Name Provider State  \\\n",
       "0                   55139  SANTA TERESITA MANOR             CA   \n",
       "\n",
       "   Provider Zip Code  Residents Weekly Admissions COVID-19  \\\n",
       "0             182020                                   0.0   \n",
       "\n",
       "   Residents Total Admissions COVID-19  Residents Weekly Confirmed COVID-19  \\\n",
       "0                                  4.0                                  0.0   \n",
       "\n",
       "   Residents Total Confirmed COVID-19  Residents Weekly Suspected COVID-19  \\\n",
       "0                                12.0                                  0.0   \n",
       "\n",
       "   Residents Total Suspected COVID-19  ...  \\\n",
       "0                                 0.0  ...   \n",
       "\n",
       "   Number of Staff and/or Personnel with a New Positive COVID-19 Test Result with Positive Antigen Test AND Negative NAAT (PCR) Test  \\\n",
       "0                                                0.0                                                                                   \n",
       "\n",
       "   Number of Staff and/or Personnel with a New Positive COVID-19 Test Result with Any Other Combination of Antigen Test and/or NAAT (PCR) Test with At Least One Positive Test  \\\n",
       "0                                                0.0                                                                                                                             \n",
       "\n",
       "   Number of Staff and/or Personnel with a New Positive COVID-19 Test Result who are Reinfected  \\\n",
       "0                                                0.0                                              \n",
       "\n",
       "   Number of Staff and/or Personnel with a New Positive COVID-19 Test Result who are Reinfected and Symptomatic  \\\n",
       "0                                                0.0                                                              \n",
       "\n",
       "   Number of Staff and/or Personnel with a New Positive COVID-19 Test Result who are Reinfected and Asymptomatic  \\\n",
       "0                                                0.0                                                               \n",
       "\n",
       "   Number of Staff and/or Personnel with New Influenza  \\\n",
       "0                                                0.0     \n",
       "\n",
       "   Number of Staff and/or Personnel with Acute Respiratory Illness Symptoms Excluding COVID-19 and/or Influenza  \\\n",
       "0                                                0.0                                                              \n",
       "\n",
       "   Number of Staff and/or Personnel with Confirmed Coinfection with Influenza and COVID-19  \\\n",
       "0                                                0.0                                         \n",
       "\n",
       "   Submitted Data Counts  Passed Quality Counts  \n",
       "0                      2                      2  \n",
       "\n",
       "[1 rows x 57 columns]"
      ]
     },
     "execution_count": 122,
     "metadata": {},
     "output_type": "execute_result"
    }
   ],
   "source": [
    "grouped.head(1)"
   ]
  },
  {
   "cell_type": "code",
   "execution_count": 125,
   "id": "hidden-strap",
   "metadata": {},
   "outputs": [],
   "source": [
    "# 12,739 facilities reported each of the 31 weeks\n",
    "# Only 11 out of the 12,739 reports are missing due to bad inputs\n",
    "# 15,027 facilities reported for more equal to or more than 20 weeks\n",
    "# 1,279 facilities reported fewer than 5 weeks\n",
    "# 71 facilities reported 0 times\n",
    "no_reporting = grouped[(grouped['Submitted Data Counts']>=30) & (grouped['Passed Quality Counts']>=30)]\n"
   ]
  },
  {
   "cell_type": "code",
   "execution_count": 127,
   "id": "lesbian-potter",
   "metadata": {},
   "outputs": [
    {
     "data": {
      "text/plain": [
       "(12728, 57)"
      ]
     },
     "execution_count": 127,
     "metadata": {},
     "output_type": "execute_result"
    }
   ],
   "source": [
    "no_reporting.shape"
   ]
  },
  {
   "cell_type": "code",
   "execution_count": 109,
   "id": "attended-shopper",
   "metadata": {},
   "outputs": [
    {
     "data": {
      "text/plain": [
       "TX    16\n",
       "OH    12\n",
       "FL     7\n",
       "CA     6\n",
       "OK     4\n",
       "IN     3\n",
       "NC     3\n",
       "IL     3\n",
       "KY     2\n",
       "VA     2\n",
       "GA     2\n",
       "NJ     1\n",
       "AZ     1\n",
       "WA     1\n",
       "OR     1\n",
       "KS     1\n",
       "TN     1\n",
       "MA     1\n",
       "UT     1\n",
       "MN     1\n",
       "ME     1\n",
       "MO     1\n",
       "Name: Provider State, dtype: int64"
      ]
     },
     "execution_count": 109,
     "metadata": {},
     "output_type": "execute_result"
    }
   ],
   "source": [
    "no_reporting['Provider State'].value_counts()"
   ]
  },
  {
   "cell_type": "code",
   "execution_count": null,
   "id": "retired-cameroon",
   "metadata": {},
   "outputs": [],
   "source": []
  }
 ],
 "metadata": {
  "kernelspec": {
   "display_name": "Python 3",
   "language": "python",
   "name": "python3"
  },
  "language_info": {
   "codemirror_mode": {
    "name": "ipython",
    "version": 3
   },
   "file_extension": ".py",
   "mimetype": "text/x-python",
   "name": "python",
   "nbconvert_exporter": "python",
   "pygments_lexer": "ipython3",
   "version": "3.8.7"
  }
 },
 "nbformat": 4,
 "nbformat_minor": 5
}
