{
 "cells": [
  {
   "cell_type": "code",
   "execution_count": null,
   "id": "suburban-reader",
   "metadata": {},
   "outputs": [],
   "source": [
    "import requests\n",
    "import pandas as pd\n",
    "import numpy as np\n",
    "from geopy.geocoders import Nominatim"
   ]
  },
  {
   "cell_type": "code",
   "execution_count": 2,
   "id": "worthy-distinction",
   "metadata": {},
   "outputs": [],
   "source": [
    "import sqlalchemy"
   ]
  },
  {
   "cell_type": "code",
   "execution_count": 3,
   "id": "buried-peter",
   "metadata": {},
   "outputs": [],
   "source": [
    "import json\n",
    "import re"
   ]
  },
  {
   "cell_type": "code",
   "execution_count": null,
   "id": "funny-champion",
   "metadata": {},
   "outputs": [],
   "source": [
    "from sodapy import Socrata\n",
    "\n",
    "MyAppToken = '5YNrrmFobthjbfVSPQWEZWkkk'\n",
    "username = 'jennifer.faith16@gmail.com'\n",
    "password = 'Nashua1998!'\n",
    "\n",
    "# Connect to dataset\n",
    "client = Socrata(\"data.cms.gov\",\n",
    "                 MyAppToken,\n",
    "                 username,\n",
    "                 password)\n",
    "\n",
    "results = client.get(\"s2uc-8wxp\", limit = 10)"
   ]
  },
  {
   "cell_type": "code",
   "execution_count": null,
   "id": "apparent-child",
   "metadata": {},
   "outputs": [],
   "source": [
    "results"
   ]
  },
  {
   "cell_type": "code",
   "execution_count": null,
   "id": "charged-palmer",
   "metadata": {},
   "outputs": [],
   "source": [
    "results = client.get(\"s2uc-8wxp\""
   ]
  },
  {
   "cell_type": "code",
   "execution_count": 5,
   "id": "tight-wrong",
   "metadata": {},
   "outputs": [],
   "source": [
    "# Convert to pandas DataFrame\n",
    "df = pd.DataFrame.from_records(results)"
   ]
  },
  {
   "cell_type": "code",
   "execution_count": 6,
   "id": "guilty-floating",
   "metadata": {},
   "outputs": [],
   "source": [
    "small = df[['federal_provider_number', 'provider_name', 'provider_address',\n",
    "    'provider_city', 'provider_state', 'provider_zip_code', 'county', 'geolocation']]"
   ]
  },
  {
   "cell_type": "code",
   "execution_count": 7,
   "id": "preliminary-florist",
   "metadata": {},
   "outputs": [
    {
     "name": "stderr",
     "output_type": "stream",
     "text": [
      "<ipython-input-7-7a40433a1853>:1: SettingWithCopyWarning: \n",
      "A value is trying to be set on a copy of a slice from a DataFrame.\n",
      "Try using .loc[row_indexer,col_indexer] = value instead\n",
      "\n",
      "See the caveats in the documentation: https://pandas.pydata.org/pandas-docs/stable/user_guide/indexing.html#returning-a-view-versus-a-copy\n",
      "  small['full_address']=small['provider_address'] + ', ' + small['provider_city'] + ', ' + small['provider_state'] + ', ' +  small['provider_zip_code']\n"
     ]
    }
   ],
   "source": [
    "small['full_address']=small['provider_address'] + ', ' + small['provider_city'] + ', ' + small['provider_state'] + ', ' +  small['provider_zip_code']"
   ]
  },
  {
   "cell_type": "code",
   "execution_count": 8,
   "id": "dying-corpus",
   "metadata": {},
   "outputs": [
    {
     "data": {
      "text/plain": [
       "48379"
      ]
     },
     "execution_count": 8,
     "metadata": {},
     "output_type": "execute_result"
    }
   ],
   "source": [
    "small['geolocation'].isnull().sum()"
   ]
  },
  {
   "cell_type": "code",
   "execution_count": 9,
   "id": "heard-domain",
   "metadata": {},
   "outputs": [],
   "source": [
    "no_dup = small.drop_duplicates(subset = ['federal_provider_number'])"
   ]
  },
  {
   "cell_type": "code",
   "execution_count": 36,
   "id": "armed-wright",
   "metadata": {},
   "outputs": [
    {
     "data": {
      "text/plain": [
       "1186"
      ]
     },
     "execution_count": 36,
     "metadata": {},
     "output_type": "execute_result"
    }
   ],
   "source": [
    "no_dup['geolocation'].isnull().sum()"
   ]
  },
  {
   "cell_type": "code",
   "execution_count": 37,
   "id": "shaped-saudi",
   "metadata": {
    "scrolled": false
   },
   "outputs": [
    {
     "name": "stderr",
     "output_type": "stream",
     "text": [
      "<ipython-input-37-5aa5a14d0a0b>:2: SettingWithCopyWarning: \n",
      "A value is trying to be set on a copy of a slice from a DataFrame.\n",
      "Try using .loc[row_indexer,col_indexer] = value instead\n",
      "\n",
      "See the caveats in the documentation: https://pandas.pydata.org/pandas-docs/stable/user_guide/indexing.html#returning-a-view-versus-a-copy\n",
      "  no_dup['geolocation']=no_dup['geolocation'].fillna(0)\n"
     ]
    }
   ],
   "source": [
    "# Fill location errors with 0s\n",
    "no_dup['geolocation']=no_dup['geolocation'].fillna(0)"
   ]
  },
  {
   "cell_type": "code",
   "execution_count": 46,
   "id": "divine-roulette",
   "metadata": {
    "scrolled": true
   },
   "outputs": [
    {
     "data": {
      "text/html": [
       "<div>\n",
       "<style scoped>\n",
       "    .dataframe tbody tr th:only-of-type {\n",
       "        vertical-align: middle;\n",
       "    }\n",
       "\n",
       "    .dataframe tbody tr th {\n",
       "        vertical-align: top;\n",
       "    }\n",
       "\n",
       "    .dataframe thead th {\n",
       "        text-align: right;\n",
       "    }\n",
       "</style>\n",
       "<table border=\"1\" class=\"dataframe\">\n",
       "  <thead>\n",
       "    <tr style=\"text-align: right;\">\n",
       "      <th></th>\n",
       "      <th>federal_provider_number</th>\n",
       "      <th>provider_name</th>\n",
       "      <th>provider_address</th>\n",
       "      <th>provider_city</th>\n",
       "      <th>provider_state</th>\n",
       "      <th>provider_zip_code</th>\n",
       "      <th>county</th>\n",
       "      <th>geolocation</th>\n",
       "      <th>full_address</th>\n",
       "    </tr>\n",
       "  </thead>\n",
       "  <tbody>\n",
       "    <tr>\n",
       "      <th>625387</th>\n",
       "      <td>676416</td>\n",
       "      <td>BRIGHTPOINTE AT LYTLE LAKE</td>\n",
       "      <td>1201 CLARKS DR</td>\n",
       "      <td>ABILENE</td>\n",
       "      <td>TX</td>\n",
       "      <td>79602</td>\n",
       "      <td>Taylor</td>\n",
       "      <td>[32.439629, -99.704298]</td>\n",
       "      <td>1201 CLARKS DR, ABILENE, TX, 79602</td>\n",
       "    </tr>\n",
       "    <tr>\n",
       "      <th>625389</th>\n",
       "      <td>676419</td>\n",
       "      <td>LA HACIENDA DE PAZ REHABILITATION AND CARE CENTER</td>\n",
       "      <td>3333 BOB ROGERS DR</td>\n",
       "      <td>EAGLE PASS</td>\n",
       "      <td>TX</td>\n",
       "      <td>78852</td>\n",
       "      <td>Maverick</td>\n",
       "      <td>[28.713779000000002, -100.457543]</td>\n",
       "      <td>3333 BOB ROGERS DR, EAGLE PASS, TX, 78852</td>\n",
       "    </tr>\n",
       "    <tr>\n",
       "      <th>625449</th>\n",
       "      <td>676477</td>\n",
       "      <td>WILLOW CREEK HEALTHCARE CENTRE</td>\n",
       "      <td>501 YATES STREET</td>\n",
       "      <td>MOUNT VERNON</td>\n",
       "      <td>TX</td>\n",
       "      <td>75457</td>\n",
       "      <td>Franklin</td>\n",
       "      <td>[33.184296, -95.228708]</td>\n",
       "      <td>501 YATES STREET, MOUNT VERNON, TX, 75457</td>\n",
       "    </tr>\n",
       "    <tr>\n",
       "      <th>625527</th>\n",
       "      <td>676479</td>\n",
       "      <td>RICHARD A. ANDERSON (STATE OF TEXAS VETERANS LAND</td>\n",
       "      <td>14041 COTTINGHAM ROAD</td>\n",
       "      <td>HOUSTON</td>\n",
       "      <td>TX</td>\n",
       "      <td>77048</td>\n",
       "      <td>Harris</td>\n",
       "      <td>0</td>\n",
       "      <td>14041 COTTINGHAM ROAD, HOUSTON, TX, 77048</td>\n",
       "    </tr>\n",
       "    <tr>\n",
       "      <th>625557</th>\n",
       "      <td>686123</td>\n",
       "      <td>KENDALL LAKES HEALTH AND REHABILITATION CENTER</td>\n",
       "      <td>5280 SW 157 AVENUE</td>\n",
       "      <td>MIAMI</td>\n",
       "      <td>FL</td>\n",
       "      <td>33185</td>\n",
       "      <td>Miami-Dade</td>\n",
       "      <td>0</td>\n",
       "      <td>5280 SW 157 AVENUE, MIAMI, FL, 33185</td>\n",
       "    </tr>\n",
       "  </tbody>\n",
       "</table>\n",
       "</div>"
      ],
      "text/plain": [
       "       federal_provider_number  \\\n",
       "625387                  676416   \n",
       "625389                  676419   \n",
       "625449                  676477   \n",
       "625527                  676479   \n",
       "625557                  686123   \n",
       "\n",
       "                                            provider_name  \\\n",
       "625387                         BRIGHTPOINTE AT LYTLE LAKE   \n",
       "625389  LA HACIENDA DE PAZ REHABILITATION AND CARE CENTER   \n",
       "625449                     WILLOW CREEK HEALTHCARE CENTRE   \n",
       "625527  RICHARD A. ANDERSON (STATE OF TEXAS VETERANS LAND   \n",
       "625557     KENDALL LAKES HEALTH AND REHABILITATION CENTER   \n",
       "\n",
       "             provider_address provider_city provider_state provider_zip_code  \\\n",
       "625387         1201 CLARKS DR       ABILENE             TX             79602   \n",
       "625389     3333 BOB ROGERS DR    EAGLE PASS             TX             78852   \n",
       "625449       501 YATES STREET  MOUNT VERNON             TX             75457   \n",
       "625527  14041 COTTINGHAM ROAD       HOUSTON             TX             77048   \n",
       "625557     5280 SW 157 AVENUE         MIAMI             FL             33185   \n",
       "\n",
       "            county                        geolocation  \\\n",
       "625387      Taylor            [32.439629, -99.704298]   \n",
       "625389    Maverick  [28.713779000000002, -100.457543]   \n",
       "625449    Franklin            [33.184296, -95.228708]   \n",
       "625527      Harris                                  0   \n",
       "625557  Miami-Dade                                  0   \n",
       "\n",
       "                                     full_address  \n",
       "625387         1201 CLARKS DR, ABILENE, TX, 79602  \n",
       "625389  3333 BOB ROGERS DR, EAGLE PASS, TX, 78852  \n",
       "625449  501 YATES STREET, MOUNT VERNON, TX, 75457  \n",
       "625527  14041 COTTINGHAM ROAD, HOUSTON, TX, 77048  \n",
       "625557       5280 SW 157 AVENUE, MIAMI, FL, 33185  "
      ]
     },
     "execution_count": 46,
     "metadata": {},
     "output_type": "execute_result"
    }
   ],
   "source": [
    "no_dup.tail()"
   ]
  },
  {
   "cell_type": "code",
   "execution_count": 57,
   "id": "cutting-lover",
   "metadata": {},
   "outputs": [],
   "source": [
    "def fill_geo(df):\n",
    "    for i in range(len(df)):\n",
    "        location = geolocator.geocode(df['full_address'][i])\n",
    "        if location==None:\n",
    "            df['geolocation']='error'\n",
    "        else:\n",
    "            df['geolocation'][i]=[location.latitude, location.longitude]\n",
    "    return df"
   ]
  },
  {
   "cell_type": "code",
   "execution_count": 66,
   "id": "compatible-receptor",
   "metadata": {},
   "outputs": [],
   "source": [
    "no_dup = no_dup.reset_index()\n",
    "no_dup.drop(columns='index', axis=1, inplace=True)"
   ]
  },
  {
   "cell_type": "code",
   "execution_count": null,
   "id": "affecting-turtle",
   "metadata": {},
   "outputs": [],
   "source": [
    "new_df = fill_geo(no_dup)"
   ]
  },
  {
   "cell_type": "code",
   "execution_count": 53,
   "id": "double-leonard",
   "metadata": {
    "scrolled": true
   },
   "outputs": [
    {
     "name": "stdout",
     "output_type": "stream",
     "text": [
      "33.184225 -95.229151\n"
     ]
    }
   ],
   "source": [
    "location = geolocator.geocode('501 YATES STREET, MOUNT VERNON, TX, 75457')\n",
    "print(location.latitude, location.longitude)"
   ]
  },
  {
   "cell_type": "code",
   "execution_count": 56,
   "id": "personalized-ballot",
   "metadata": {},
   "outputs": [
    {
     "data": {
      "text/plain": [
       "'188 COHASSET LANE, CHICO, CA, 95926'"
      ]
     },
     "execution_count": 56,
     "metadata": {},
     "output_type": "execute_result"
    }
   ],
   "source": [
    "no_dup['full_address'][1]"
   ]
  },
  {
   "cell_type": "code",
   "execution_count": 51,
   "id": "resident-gardening",
   "metadata": {},
   "outputs": [
    {
     "data": {
      "text/plain": [
       "True"
      ]
     },
     "execution_count": 51,
     "metadata": {},
     "output_type": "execute_result"
    }
   ],
   "source": [
    "location == None"
   ]
  },
  {
   "cell_type": "code",
   "execution_count": 41,
   "id": "quantitative-feature",
   "metadata": {},
   "outputs": [],
   "source": [
    "def geo_column_edit(dictionary):\n",
    "    if dictionary==0:\n",
    "        pass\n",
    "    else:\n",
    "        values = dictionary.values()\n",
    "        values_list = list(values)\n",
    "        return [values_list[1][1], values_list[1][0]]"
   ]
  },
  {
   "cell_type": "code",
   "execution_count": 13,
   "id": "ranking-shore",
   "metadata": {
    "scrolled": true
   },
   "outputs": [
    {
     "name": "stderr",
     "output_type": "stream",
     "text": [
      "<ipython-input-13-9e272aab63bf>:1: SettingWithCopyWarning: \n",
      "A value is trying to be set on a copy of a slice from a DataFrame.\n",
      "Try using .loc[row_indexer,col_indexer] = value instead\n",
      "\n",
      "See the caveats in the documentation: https://pandas.pydata.org/pandas-docs/stable/user_guide/indexing.html#returning-a-view-versus-a-copy\n",
      "  no_dup['geolocation']=no_dup['geolocation'].apply(geo_column_edit)\n"
     ]
    }
   ],
   "source": [
    "no_dup['geolocation']=no_dup['geolocation'].apply(geo_column_edit)"
   ]
  },
  {
   "cell_type": "code",
   "execution_count": 14,
   "id": "under-validity",
   "metadata": {},
   "outputs": [
    {
     "data": {
      "text/html": [
       "<div>\n",
       "<style scoped>\n",
       "    .dataframe tbody tr th:only-of-type {\n",
       "        vertical-align: middle;\n",
       "    }\n",
       "\n",
       "    .dataframe tbody tr th {\n",
       "        vertical-align: top;\n",
       "    }\n",
       "\n",
       "    .dataframe thead th {\n",
       "        text-align: right;\n",
       "    }\n",
       "</style>\n",
       "<table border=\"1\" class=\"dataframe\">\n",
       "  <thead>\n",
       "    <tr style=\"text-align: right;\">\n",
       "      <th></th>\n",
       "      <th>federal_provider_number</th>\n",
       "      <th>provider_name</th>\n",
       "      <th>provider_address</th>\n",
       "      <th>provider_city</th>\n",
       "      <th>provider_state</th>\n",
       "      <th>provider_zip_code</th>\n",
       "      <th>county</th>\n",
       "      <th>geolocation</th>\n",
       "      <th>full_address</th>\n",
       "    </tr>\n",
       "  </thead>\n",
       "  <tbody>\n",
       "    <tr>\n",
       "      <th>0</th>\n",
       "      <td>045277</td>\n",
       "      <td>ARKANSAS CONVALESCENT CENTER</td>\n",
       "      <td>6301 SOUTH  HAZEL STREET</td>\n",
       "      <td>PINE BLUFF</td>\n",
       "      <td>AR</td>\n",
       "      <td>71603</td>\n",
       "      <td>Jefferson</td>\n",
       "      <td>None</td>\n",
       "      <td>6301 SOUTH  HAZEL STREET, PINE BLUFF, AR, 71603</td>\n",
       "    </tr>\n",
       "    <tr>\n",
       "      <th>1</th>\n",
       "      <td>055516</td>\n",
       "      <td>WINDSOR CHICO CARE CENTER</td>\n",
       "      <td>188 COHASSET LANE</td>\n",
       "      <td>CHICO</td>\n",
       "      <td>CA</td>\n",
       "      <td>95926</td>\n",
       "      <td>Butte</td>\n",
       "      <td>[39.750127, -121.852568]</td>\n",
       "      <td>188 COHASSET LANE, CHICO, CA, 95926</td>\n",
       "    </tr>\n",
       "    <tr>\n",
       "      <th>2</th>\n",
       "      <td>056023</td>\n",
       "      <td>AVALON VILLA CARE CENTER</td>\n",
       "      <td>12029  AVALON BLVD</td>\n",
       "      <td>LOS ANGELES</td>\n",
       "      <td>CA</td>\n",
       "      <td>90061</td>\n",
       "      <td>Los Angeles</td>\n",
       "      <td>None</td>\n",
       "      <td>12029  AVALON BLVD, LOS ANGELES, CA, 90061</td>\n",
       "    </tr>\n",
       "    <tr>\n",
       "      <th>3</th>\n",
       "      <td>056317</td>\n",
       "      <td>GLENOAKS CONVALESCENT HOSPITAL</td>\n",
       "      <td>409 W. GLENOAKS BLVD.</td>\n",
       "      <td>GLENDALE</td>\n",
       "      <td>CA</td>\n",
       "      <td>91202</td>\n",
       "      <td>Los Angeles</td>\n",
       "      <td>[34.159818, -118.26193000000002]</td>\n",
       "      <td>409 W. GLENOAKS BLVD., GLENDALE, CA, 91202</td>\n",
       "    </tr>\n",
       "    <tr>\n",
       "      <th>4</th>\n",
       "      <td>05E119</td>\n",
       "      <td>TUSTIN CARE CENTER</td>\n",
       "      <td>1051 BRYAN AVENUE</td>\n",
       "      <td>TUSTIN</td>\n",
       "      <td>CA</td>\n",
       "      <td>92780</td>\n",
       "      <td>Orange</td>\n",
       "      <td>[33.743106, -117.81555699999998]</td>\n",
       "      <td>1051 BRYAN AVENUE, TUSTIN, CA, 92780</td>\n",
       "    </tr>\n",
       "  </tbody>\n",
       "</table>\n",
       "</div>"
      ],
      "text/plain": [
       "  federal_provider_number                   provider_name  \\\n",
       "0                  045277    ARKANSAS CONVALESCENT CENTER   \n",
       "1                  055516       WINDSOR CHICO CARE CENTER   \n",
       "2                  056023        AVALON VILLA CARE CENTER   \n",
       "3                  056317  GLENOAKS CONVALESCENT HOSPITAL   \n",
       "4                  05E119              TUSTIN CARE CENTER   \n",
       "\n",
       "           provider_address provider_city provider_state provider_zip_code  \\\n",
       "0  6301 SOUTH  HAZEL STREET    PINE BLUFF             AR             71603   \n",
       "1         188 COHASSET LANE         CHICO             CA             95926   \n",
       "2        12029  AVALON BLVD   LOS ANGELES             CA             90061   \n",
       "3     409 W. GLENOAKS BLVD.      GLENDALE             CA             91202   \n",
       "4         1051 BRYAN AVENUE        TUSTIN             CA             92780   \n",
       "\n",
       "        county                       geolocation  \\\n",
       "0    Jefferson                              None   \n",
       "1        Butte          [39.750127, -121.852568]   \n",
       "2  Los Angeles                              None   \n",
       "3  Los Angeles  [34.159818, -118.26193000000002]   \n",
       "4       Orange  [33.743106, -117.81555699999998]   \n",
       "\n",
       "                                      full_address  \n",
       "0  6301 SOUTH  HAZEL STREET, PINE BLUFF, AR, 71603  \n",
       "1              188 COHASSET LANE, CHICO, CA, 95926  \n",
       "2       12029  AVALON BLVD, LOS ANGELES, CA, 90061  \n",
       "3       409 W. GLENOAKS BLVD., GLENDALE, CA, 91202  \n",
       "4             1051 BRYAN AVENUE, TUSTIN, CA, 92780  "
      ]
     },
     "execution_count": 14,
     "metadata": {},
     "output_type": "execute_result"
    }
   ],
   "source": [
    "no_dup.head()"
   ]
  },
  {
   "cell_type": "code",
   "execution_count": 15,
   "id": "registered-training",
   "metadata": {},
   "outputs": [
    {
     "data": {
      "text/plain": [
       "(1186, 9)"
      ]
     },
     "execution_count": 15,
     "metadata": {},
     "output_type": "execute_result"
    }
   ],
   "source": [
    "# NOTE: 1,199 have bad addresses. \n",
    "no_dup[no_dup['geolocation'].isnull()].shape"
   ]
  },
  {
   "cell_type": "code",
   "execution_count": 16,
   "id": "constitutional-treasure",
   "metadata": {},
   "outputs": [
    {
     "data": {
      "text/plain": [
       "(15407, 9)"
      ]
     },
     "execution_count": 16,
     "metadata": {},
     "output_type": "execute_result"
    }
   ],
   "source": [
    "no_dup.shape"
   ]
  },
  {
   "cell_type": "code",
   "execution_count": null,
   "id": "dutch-billion",
   "metadata": {},
   "outputs": [],
   "source": [
    "new.to_csv('nhs_descriptors.csv')"
   ]
  },
  {
   "cell_type": "markdown",
   "id": "necessary-restriction",
   "metadata": {},
   "source": [
    "## ALL TRIAL CODE GOES BELOW HERE"
   ]
  },
  {
   "cell_type": "code",
   "execution_count": 40,
   "id": "north-hardwood",
   "metadata": {},
   "outputs": [],
   "source": [
    "import geopy.geocoders\n",
    "from geopy.geocoders import Nominatim\n",
    "\n",
    "geopy.geocoders.options.default_user_agent = 'my_app/2'\n",
    "geopy.geocoders.options.default_timeout = None\n",
    "\n",
    "geolocator = Nominatim(user_agent=\"skilled_nursing\")"
   ]
  },
  {
   "cell_type": "code",
   "execution_count": 39,
   "id": "horizontal-saver",
   "metadata": {},
   "outputs": [
    {
     "name": "stdout",
     "output_type": "stream",
     "text": [
      "34.159914072873924 -118.2624365591205\n"
     ]
    }
   ],
   "source": [
    "location = geolocator.geocode('409 W. GLENOAKS BLVD., GLENDALE, CA, 91202')\n",
    "print(location.latitude, location.longitude)"
   ]
  },
  {
   "cell_type": "code",
   "execution_count": 58,
   "id": "complicated-casino",
   "metadata": {},
   "outputs": [
    {
     "name": "stdout",
     "output_type": "stream",
     "text": [
      "(40.741059199999995, -73.98964162240998)\n"
     ]
    }
   ],
   "source": [
    "# location = geolocator.geocode(\"175 5th Avenue NYC\")\n",
    "# print((location.latitude, location.longitude))"
   ]
  },
  {
   "cell_type": "code",
   "execution_count": 19,
   "id": "possible-homeless",
   "metadata": {},
   "outputs": [],
   "source": [
    "nulls = no_dup[no_dup['geolocation'].isnull()]"
   ]
  },
  {
   "cell_type": "code",
   "execution_count": 22,
   "id": "fundamental-christian",
   "metadata": {},
   "outputs": [
    {
     "data": {
      "text/plain": [
       "0             PINE BLUFF, AR, 71603\n",
       "2            LOS ANGELES, CA, 90061\n",
       "5                   YUMA, CO, 80759\n",
       "6                  EAGLE, CO, 81631\n",
       "15        ATLANTIC BEACH, FL, 32233\n",
       "                    ...            \n",
       "625302           DIMMITT, TX, 79027\n",
       "625334           CYPRESS, TX, 77429\n",
       "625365            IRVING, TX, 75038\n",
       "625527           HOUSTON, TX, 77048\n",
       "625557             MIAMI, FL, 33185\n",
       "Name: geolocation, Length: 1186, dtype: object"
      ]
     },
     "execution_count": 22,
     "metadata": {},
     "output_type": "execute_result"
    }
   ],
   "source": [
    "nulls['geolocation']"
   ]
  },
  {
   "cell_type": "code",
   "execution_count": 21,
   "id": "announced-float",
   "metadata": {
    "scrolled": true
   },
   "outputs": [
    {
     "name": "stderr",
     "output_type": "stream",
     "text": [
      "<ipython-input-21-ed354414b01e>:1: SettingWithCopyWarning: \n",
      "A value is trying to be set on a copy of a slice from a DataFrame.\n",
      "Try using .loc[row_indexer,col_indexer] = value instead\n",
      "\n",
      "See the caveats in the documentation: https://pandas.pydata.org/pandas-docs/stable/user_guide/indexing.html#returning-a-view-versus-a-copy\n",
      "  nulls['geolocation']= nulls['provider_city'] + ', ' +nulls['provider_state'] + ', ' + nulls['provider_zip_code']\n"
     ]
    }
   ],
   "source": [
    "nulls['geolocation']= nulls['provider_city'] + ', ' +nulls['provider_state'] + ', ' + nulls['provider_zip_code']"
   ]
  },
  {
   "cell_type": "code",
   "execution_count": 23,
   "id": "clear-retro",
   "metadata": {},
   "outputs": [],
   "source": [
    "def geo_null(address):\n",
    "    location = geolocator.geocode(address)\n",
    "    return [location.latitude, location.longitude]"
   ]
  },
  {
   "cell_type": "code",
   "execution_count": null,
   "id": "cheap-fiction",
   "metadata": {},
   "outputs": [],
   "source": [
    "400:500"
   ]
  },
  {
   "cell_type": "code",
   "execution_count": 33,
   "id": "selective-stream",
   "metadata": {},
   "outputs": [],
   "source": [
    "nulls['geolocation'].iloc[450:500] = nulls['geolocation'].iloc[450:500].apply(geo_null)"
   ]
  },
  {
   "cell_type": "code",
   "execution_count": 26,
   "id": "removed-notification",
   "metadata": {
    "scrolled": true
   },
   "outputs": [
    {
     "data": {
      "text/plain": [
       "100238     [30.9038252, -84.5754768]\n",
       "104705     [39.7990175, -89.6439575]\n",
       "105669      [42.128704, -87.8265089]\n",
       "107603    [-32.7761075, -71.2007014]\n",
       "107860      [40.797821, -85.8205411]\n",
       "                     ...            \n",
       "161901     [43.1810844, -95.8561126]\n",
       "162594     [38.2319537, -97.7733809]\n",
       "163435     [37.2397486, -96.9955919]\n",
       "163961     [30.4943669, -92.4176324]\n",
       "166540     [38.2856247, -85.8241312]\n",
       "Name: geolocation, Length: 100, dtype: object"
      ]
     },
     "execution_count": 26,
     "metadata": {},
     "output_type": "execute_result"
    }
   ],
   "source": [
    "nulls['geolocation'].iloc[200:300]"
   ]
  },
  {
   "cell_type": "code",
   "execution_count": 31,
   "id": "incorporate-western",
   "metadata": {},
   "outputs": [
    {
     "data": {
      "text/plain": [
       "325239                  [41.2134073, -98.4580649]\n",
       "325294                 [37.6126634, -114.5142613]\n",
       "325307                 [42.6867264, -103.4133215]\n",
       "325332                  [41.4486334, -97.7307364]\n",
       "325333                  [38.5246441, -118.624578]\n",
       "                           ...                   \n",
       "625302                 [34.5488229, -102.3153053]\n",
       "625334                  [29.9691116, -95.6971686]\n",
       "625365                  [32.8295183, -96.9442177]\n",
       "625527                  [29.7589382, -95.3676974]\n",
       "625557    [25.72919456538001, -80.44483666022803]\n",
       "Name: geolocation, Length: 586, dtype: object"
      ]
     },
     "execution_count": 31,
     "metadata": {},
     "output_type": "execute_result"
    }
   ],
   "source": [
    "nulls['geolocation'].iloc[600:]"
   ]
  },
  {
   "cell_type": "code",
   "execution_count": null,
   "id": "smoking-chorus",
   "metadata": {},
   "outputs": [],
   "source": [
    "nulls_z = nulls[['federal_provider_number', 'geolocation']]"
   ]
  },
  {
   "cell_type": "code",
   "execution_count": 49,
   "id": "african-stranger",
   "metadata": {},
   "outputs": [],
   "source": [
    "new = no_dup.merge(nulls_z, on = 'federal_provider_number')"
   ]
  },
  {
   "cell_type": "code",
   "execution_count": 50,
   "id": "infectious-facing",
   "metadata": {},
   "outputs": [],
   "source": [
    "new.drop(columns = ['geolocation_x'], axis=1, inplace=True)"
   ]
  },
  {
   "cell_type": "code",
   "execution_count": 51,
   "id": "alpha-waters",
   "metadata": {},
   "outputs": [
    {
     "data": {
      "text/html": [
       "<div>\n",
       "<style scoped>\n",
       "    .dataframe tbody tr th:only-of-type {\n",
       "        vertical-align: middle;\n",
       "    }\n",
       "\n",
       "    .dataframe tbody tr th {\n",
       "        vertical-align: top;\n",
       "    }\n",
       "\n",
       "    .dataframe thead th {\n",
       "        text-align: right;\n",
       "    }\n",
       "</style>\n",
       "<table border=\"1\" class=\"dataframe\">\n",
       "  <thead>\n",
       "    <tr style=\"text-align: right;\">\n",
       "      <th></th>\n",
       "      <th>federal_provider_number</th>\n",
       "      <th>provider_name</th>\n",
       "      <th>provider_address</th>\n",
       "      <th>provider_city</th>\n",
       "      <th>provider_state</th>\n",
       "      <th>provider_zip_code</th>\n",
       "      <th>county</th>\n",
       "      <th>full_address</th>\n",
       "      <th>geolocation_y</th>\n",
       "    </tr>\n",
       "  </thead>\n",
       "  <tbody>\n",
       "    <tr>\n",
       "      <th>0</th>\n",
       "      <td>035242</td>\n",
       "      <td>CHINLE NURSING HOME</td>\n",
       "      <td>HIGHWAY 191 &amp; HOSPITAL ROAD</td>\n",
       "      <td>CHINLE</td>\n",
       "      <td>AZ</td>\n",
       "      <td>86503</td>\n",
       "      <td>Apache</td>\n",
       "      <td>HIGHWAY 191 &amp; HOSPITAL ROAD, CHINLE, AZ, 86503</td>\n",
       "      <td>[36.16763243080752, -109.68806973451998]</td>\n",
       "    </tr>\n",
       "    <tr>\n",
       "      <th>1</th>\n",
       "      <td>065309</td>\n",
       "      <td>WASHINGTON COUNTY NURSING HOME</td>\n",
       "      <td>676 W GREENHOUSE DR</td>\n",
       "      <td>AKRON</td>\n",
       "      <td>CO</td>\n",
       "      <td>80720</td>\n",
       "      <td>Washington</td>\n",
       "      <td>676 W GREENHOUSE DR, AKRON, CO, 80720</td>\n",
       "      <td>[49.82296369811355, 24.514349484476256]</td>\n",
       "    </tr>\n",
       "    <tr>\n",
       "      <th>2</th>\n",
       "      <td>115275</td>\n",
       "      <td>A.G. RHODES HOME, INC, THE</td>\n",
       "      <td>350 BOULVARD, S.E.</td>\n",
       "      <td>ATLANTA</td>\n",
       "      <td>GA</td>\n",
       "      <td>30312</td>\n",
       "      <td>Fulton</td>\n",
       "      <td>350 BOULVARD, S.E., ATLANTA, GA, 30312</td>\n",
       "      <td>[33.74310470677914, -84.37445028551396]</td>\n",
       "    </tr>\n",
       "    <tr>\n",
       "      <th>3</th>\n",
       "      <td>145323</td>\n",
       "      <td>CARRIER MILLS NSG &amp; REHAB CTR</td>\n",
       "      <td>6789 US RT 45</td>\n",
       "      <td>CARRIER MILLS</td>\n",
       "      <td>IL</td>\n",
       "      <td>62917</td>\n",
       "      <td>Saline</td>\n",
       "      <td>6789 US RT 45, CARRIER MILLS, IL, 62917</td>\n",
       "      <td>[37.682745708232396, -88.62537025784138]</td>\n",
       "    </tr>\n",
       "    <tr>\n",
       "      <th>4</th>\n",
       "      <td>145424</td>\n",
       "      <td>LANDMARK OF RICHTON PARK REHAB &amp; NSG CTR</td>\n",
       "      <td>22660 SOUTH CICERO AVENUE</td>\n",
       "      <td>RICHTON PARK</td>\n",
       "      <td>IL</td>\n",
       "      <td>60471</td>\n",
       "      <td>Cook</td>\n",
       "      <td>22660 SOUTH CICERO AVENUE, RICHTON PARK, IL, 6...</td>\n",
       "      <td>[41.48200539573889, -87.72284133679652]</td>\n",
       "    </tr>\n",
       "  </tbody>\n",
       "</table>\n",
       "</div>"
      ],
      "text/plain": [
       "  federal_provider_number                             provider_name  \\\n",
       "0                  035242                       CHINLE NURSING HOME   \n",
       "1                  065309            WASHINGTON COUNTY NURSING HOME   \n",
       "2                  115275                A.G. RHODES HOME, INC, THE   \n",
       "3                  145323             CARRIER MILLS NSG & REHAB CTR   \n",
       "4                  145424  LANDMARK OF RICHTON PARK REHAB & NSG CTR   \n",
       "\n",
       "              provider_address  provider_city provider_state  \\\n",
       "0  HIGHWAY 191 & HOSPITAL ROAD         CHINLE             AZ   \n",
       "1          676 W GREENHOUSE DR          AKRON             CO   \n",
       "2           350 BOULVARD, S.E.        ATLANTA             GA   \n",
       "3                6789 US RT 45  CARRIER MILLS             IL   \n",
       "4    22660 SOUTH CICERO AVENUE   RICHTON PARK             IL   \n",
       "\n",
       "  provider_zip_code      county  \\\n",
       "0             86503      Apache   \n",
       "1             80720  Washington   \n",
       "2             30312      Fulton   \n",
       "3             62917      Saline   \n",
       "4             60471        Cook   \n",
       "\n",
       "                                        full_address  \\\n",
       "0     HIGHWAY 191 & HOSPITAL ROAD, CHINLE, AZ, 86503   \n",
       "1              676 W GREENHOUSE DR, AKRON, CO, 80720   \n",
       "2             350 BOULVARD, S.E., ATLANTA, GA, 30312   \n",
       "3            6789 US RT 45, CARRIER MILLS, IL, 62917   \n",
       "4  22660 SOUTH CICERO AVENUE, RICHTON PARK, IL, 6...   \n",
       "\n",
       "                              geolocation_y  \n",
       "0  [36.16763243080752, -109.68806973451998]  \n",
       "1   [49.82296369811355, 24.514349484476256]  \n",
       "2   [33.74310470677914, -84.37445028551396]  \n",
       "3  [37.682745708232396, -88.62537025784138]  \n",
       "4   [41.48200539573889, -87.72284133679652]  "
      ]
     },
     "execution_count": 51,
     "metadata": {},
     "output_type": "execute_result"
    }
   ],
   "source": [
    "new.head()"
   ]
  },
  {
   "cell_type": "code",
   "execution_count": null,
   "id": "welcome-doubt",
   "metadata": {},
   "outputs": [],
   "source": []
  }
 ],
 "metadata": {
  "kernelspec": {
   "display_name": "Python 3",
   "language": "python",
   "name": "python3"
  },
  "language_info": {
   "codemirror_mode": {
    "name": "ipython",
    "version": 3
   },
   "file_extension": ".py",
   "mimetype": "text/x-python",
   "name": "python",
   "nbconvert_exporter": "python",
   "pygments_lexer": "ipython3",
   "version": "3.8.7"
  }
 },
 "nbformat": 4,
 "nbformat_minor": 5
}
