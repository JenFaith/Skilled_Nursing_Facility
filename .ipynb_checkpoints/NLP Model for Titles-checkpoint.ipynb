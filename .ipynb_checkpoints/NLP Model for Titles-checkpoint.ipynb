{
 "cells": [
  {
   "cell_type": "code",
   "execution_count": 91,
   "id": "trained-pressure",
   "metadata": {},
   "outputs": [],
   "source": [
    "# Basic Packages\n",
    "import numpy as np\n",
    "import pandas as pd\n",
    "import re\n",
    "\n",
    "# Modeling\n",
    "from sklearn.feature_extraction.text import TfidfVectorizer, CountVectorizer\n",
    "from sklearn.metrics.pairwise import cosine_similarity"
   ]
  },
  {
   "cell_type": "code",
   "execution_count": 92,
   "id": "worldwide-employment",
   "metadata": {},
   "outputs": [],
   "source": [
    "titles = pd.read_csv('nhs_descriptors.csv')"
   ]
  },
  {
   "cell_type": "markdown",
   "id": "brilliant-grant",
   "metadata": {},
   "source": [
    "# Model Using Cosing Similarity"
   ]
  },
  {
   "cell_type": "code",
   "execution_count": null,
   "id": "lasting-chess",
   "metadata": {},
   "outputs": [],
   "source": [
    "# Preprocessing text"
   ]
  },
  {
   "cell_type": "code",
   "execution_count": null,
   "id": "returning-quebec",
   "metadata": {},
   "outputs": [],
   "source": [
    "def return_similar(user_type, df):\n",
    "    # assign already existing values to lists\n",
    "    corpus = df['provider_name'].to_list()\n",
    "    number = df['federal_provider_number'].to_list()\n",
    "    \n",
    "    # insert user values\n",
    "    corpus.insert(0, user_input)\n",
    "    number.insert(0, \"user_input\")\n",
    "    \n",
    "    # clean text\n",
    "    for i in range(len(corpus)):\n",
    "        corpus[i] = text.lower()\n",
    "        corpus[i] = re.sub('[^a-z ]','', text)\n",
    "    \n",
    "        \n",
    "    "
   ]
  },
  {
   "cell_type": "code",
   "execution_count": 137,
   "id": "passing-missile",
   "metadata": {},
   "outputs": [],
   "source": [
    "# user_input = 'Arkans Convalesent center'"
   ]
  },
  {
   "cell_type": "code",
   "execution_count": 138,
   "id": "failing-portable",
   "metadata": {},
   "outputs": [],
   "source": [
    "# corpus = titles['provider_name'].to_list()"
   ]
  },
  {
   "cell_type": "code",
   "execution_count": 139,
   "id": "split-tattoo",
   "metadata": {},
   "outputs": [],
   "source": [
    "# number = titles['federal_provider_number'].to_list()"
   ]
  },
  {
   "cell_type": "code",
   "execution_count": 140,
   "id": "collective-checklist",
   "metadata": {
    "scrolled": false
   },
   "outputs": [],
   "source": [
    "# corpus.insert(0, user_input)\n",
    "# number.insert(0, \"user_input\")"
   ]
  },
  {
   "cell_type": "code",
   "execution_count": 141,
   "id": "optical-saudi",
   "metadata": {},
   "outputs": [],
   "source": [
    "for i in range(len(corpus)):\n",
    "    corpus[i] = clean_text(corpus[i])"
   ]
  },
  {
   "cell_type": "code",
   "execution_count": 87,
   "id": "technical-jones",
   "metadata": {},
   "outputs": [],
   "source": [
    "# userdata = np.array(user_input) \n",
    "# to_append = pd.Series(userdata)"
   ]
  },
  {
   "cell_type": "code",
   "execution_count": 84,
   "id": "bronze-turner",
   "metadata": {},
   "outputs": [
    {
     "data": {
      "text/plain": [
       "0                             arkansas convalescent center\n",
       "1                                windsor chico care center\n",
       "2                                 avalon villa care center\n",
       "3                           glenoaks convalescent hospital\n",
       "4                                       tustin care center\n",
       "                               ...                        \n",
       "15403    la hacienda de paz rehabilitation and care center\n",
       "15404                       willow creek healthcare centre\n",
       "15405      richard a anderson state of texas veterans land\n",
       "15406       kendall lakes health and rehabilitation center\n",
       "15407                            arkans convalesent center\n",
       "Length: 15408, dtype: object"
      ]
     },
     "execution_count": 84,
     "metadata": {},
     "output_type": "execute_result"
    }
   ],
   "source": [
    "# titles.append(to_append, ignore_index=True)"
   ]
  },
  {
   "cell_type": "code",
   "execution_count": null,
   "id": "cleared-vision",
   "metadata": {},
   "outputs": [],
   "source": []
  },
  {
   "cell_type": "code",
   "execution_count": 13,
   "id": "suffering-ozone",
   "metadata": {},
   "outputs": [],
   "source": [
    "def clean_text(text):\n",
    "    \"\"\"\n",
    "    Removes punctuation/special characters \n",
    "    & changes all text to lowercase.\n",
    "    \"\"\"\n",
    "    text = text.lower()\n",
    "    text = re.sub('[^a-z ]','', text)\n",
    "    return text"
   ]
  },
  {
   "cell_type": "code",
   "execution_count": 112,
   "id": "dedicated-delaware",
   "metadata": {},
   "outputs": [],
   "source": [
    "# titles['provider_name'] = titles['provider_name'].apply(clean_text);"
   ]
  },
  {
   "cell_type": "code",
   "execution_count": 146,
   "id": "juvenile-optics",
   "metadata": {},
   "outputs": [
    {
     "data": {
      "text/html": [
       "<div>\n",
       "<style scoped>\n",
       "    .dataframe tbody tr th:only-of-type {\n",
       "        vertical-align: middle;\n",
       "    }\n",
       "\n",
       "    .dataframe tbody tr th {\n",
       "        vertical-align: top;\n",
       "    }\n",
       "\n",
       "    .dataframe thead th {\n",
       "        text-align: right;\n",
       "    }\n",
       "</style>\n",
       "<table border=\"1\" class=\"dataframe\">\n",
       "  <thead>\n",
       "    <tr style=\"text-align: right;\">\n",
       "      <th></th>\n",
       "      <th></th>\n",
       "      <th>a</th>\n",
       "      <th>b</th>\n",
       "      <th>c</th>\n",
       "      <th>d</th>\n",
       "      <th>e</th>\n",
       "      <th>f</th>\n",
       "      <th>g</th>\n",
       "      <th>h</th>\n",
       "      <th>i</th>\n",
       "      <th>...</th>\n",
       "      <th>q</th>\n",
       "      <th>r</th>\n",
       "      <th>s</th>\n",
       "      <th>t</th>\n",
       "      <th>u</th>\n",
       "      <th>v</th>\n",
       "      <th>w</th>\n",
       "      <th>x</th>\n",
       "      <th>y</th>\n",
       "      <th>z</th>\n",
       "    </tr>\n",
       "  </thead>\n",
       "  <tbody>\n",
       "    <tr>\n",
       "      <th>user_input</th>\n",
       "      <td>0.212961</td>\n",
       "      <td>0.337834</td>\n",
       "      <td>0.0</td>\n",
       "      <td>0.263984</td>\n",
       "      <td>0.000000</td>\n",
       "      <td>0.435115</td>\n",
       "      <td>0.0</td>\n",
       "      <td>0.000000</td>\n",
       "      <td>0.000000</td>\n",
       "      <td>0.000000</td>\n",
       "      <td>...</td>\n",
       "      <td>0.0</td>\n",
       "      <td>0.224842</td>\n",
       "      <td>0.290090</td>\n",
       "      <td>0.238066</td>\n",
       "      <td>0.0</td>\n",
       "      <td>0.243130</td>\n",
       "      <td>0.000000</td>\n",
       "      <td>0.0</td>\n",
       "      <td>0.0</td>\n",
       "      <td>0.0</td>\n",
       "    </tr>\n",
       "    <tr>\n",
       "      <th>045277</th>\n",
       "      <td>0.188154</td>\n",
       "      <td>0.397975</td>\n",
       "      <td>0.0</td>\n",
       "      <td>0.349850</td>\n",
       "      <td>0.000000</td>\n",
       "      <td>0.384431</td>\n",
       "      <td>0.0</td>\n",
       "      <td>0.000000</td>\n",
       "      <td>0.000000</td>\n",
       "      <td>0.000000</td>\n",
       "      <td>...</td>\n",
       "      <td>0.0</td>\n",
       "      <td>0.198651</td>\n",
       "      <td>0.384448</td>\n",
       "      <td>0.210335</td>\n",
       "      <td>0.0</td>\n",
       "      <td>0.214809</td>\n",
       "      <td>0.000000</td>\n",
       "      <td>0.0</td>\n",
       "      <td>0.0</td>\n",
       "      <td>0.0</td>\n",
       "    </tr>\n",
       "    <tr>\n",
       "      <th>055516</th>\n",
       "      <td>0.326734</td>\n",
       "      <td>0.115182</td>\n",
       "      <td>0.0</td>\n",
       "      <td>0.540019</td>\n",
       "      <td>0.183524</td>\n",
       "      <td>0.333786</td>\n",
       "      <td>0.0</td>\n",
       "      <td>0.000000</td>\n",
       "      <td>0.143824</td>\n",
       "      <td>0.264330</td>\n",
       "      <td>...</td>\n",
       "      <td>0.0</td>\n",
       "      <td>0.344962</td>\n",
       "      <td>0.148356</td>\n",
       "      <td>0.121750</td>\n",
       "      <td>0.0</td>\n",
       "      <td>0.000000</td>\n",
       "      <td>0.263301</td>\n",
       "      <td>0.0</td>\n",
       "      <td>0.0</td>\n",
       "      <td>0.0</td>\n",
       "    </tr>\n",
       "    <tr>\n",
       "      <th>056023</th>\n",
       "      <td>0.315345</td>\n",
       "      <td>0.444669</td>\n",
       "      <td>0.0</td>\n",
       "      <td>0.260598</td>\n",
       "      <td>0.000000</td>\n",
       "      <td>0.322152</td>\n",
       "      <td>0.0</td>\n",
       "      <td>0.000000</td>\n",
       "      <td>0.000000</td>\n",
       "      <td>0.127558</td>\n",
       "      <td>...</td>\n",
       "      <td>0.0</td>\n",
       "      <td>0.221959</td>\n",
       "      <td>0.000000</td>\n",
       "      <td>0.117506</td>\n",
       "      <td>0.0</td>\n",
       "      <td>0.480024</td>\n",
       "      <td>0.000000</td>\n",
       "      <td>0.0</td>\n",
       "      <td>0.0</td>\n",
       "      <td>0.0</td>\n",
       "    </tr>\n",
       "    <tr>\n",
       "      <th>056317</th>\n",
       "      <td>0.188367</td>\n",
       "      <td>0.298819</td>\n",
       "      <td>0.0</td>\n",
       "      <td>0.233498</td>\n",
       "      <td>0.000000</td>\n",
       "      <td>0.288650</td>\n",
       "      <td>0.0</td>\n",
       "      <td>0.166425</td>\n",
       "      <td>0.124376</td>\n",
       "      <td>0.114293</td>\n",
       "      <td>...</td>\n",
       "      <td>0.0</td>\n",
       "      <td>0.000000</td>\n",
       "      <td>0.384883</td>\n",
       "      <td>0.210573</td>\n",
       "      <td>0.0</td>\n",
       "      <td>0.215052</td>\n",
       "      <td>0.000000</td>\n",
       "      <td>0.0</td>\n",
       "      <td>0.0</td>\n",
       "      <td>0.0</td>\n",
       "    </tr>\n",
       "  </tbody>\n",
       "</table>\n",
       "<p>5 rows × 27 columns</p>\n",
       "</div>"
      ],
      "text/plain": [
       "                             a    b         c         d         e    f  \\\n",
       "user_input  0.212961  0.337834  0.0  0.263984  0.000000  0.435115  0.0   \n",
       "045277      0.188154  0.397975  0.0  0.349850  0.000000  0.384431  0.0   \n",
       "055516      0.326734  0.115182  0.0  0.540019  0.183524  0.333786  0.0   \n",
       "056023      0.315345  0.444669  0.0  0.260598  0.000000  0.322152  0.0   \n",
       "056317      0.188367  0.298819  0.0  0.233498  0.000000  0.288650  0.0   \n",
       "\n",
       "                   g         h         i  ...    q         r         s  \\\n",
       "user_input  0.000000  0.000000  0.000000  ...  0.0  0.224842  0.290090   \n",
       "045277      0.000000  0.000000  0.000000  ...  0.0  0.198651  0.384448   \n",
       "055516      0.000000  0.143824  0.264330  ...  0.0  0.344962  0.148356   \n",
       "056023      0.000000  0.000000  0.127558  ...  0.0  0.221959  0.000000   \n",
       "056317      0.166425  0.124376  0.114293  ...  0.0  0.000000  0.384883   \n",
       "\n",
       "                   t    u         v         w    x    y    z  \n",
       "user_input  0.238066  0.0  0.243130  0.000000  0.0  0.0  0.0  \n",
       "045277      0.210335  0.0  0.214809  0.000000  0.0  0.0  0.0  \n",
       "055516      0.121750  0.0  0.000000  0.263301  0.0  0.0  0.0  \n",
       "056023      0.117506  0.0  0.480024  0.000000  0.0  0.0  0.0  \n",
       "056317      0.210573  0.0  0.215052  0.000000  0.0  0.0  0.0  \n",
       "\n",
       "[5 rows x 27 columns]"
      ]
     },
     "execution_count": 146,
     "metadata": {},
     "output_type": "execute_result"
    }
   ],
   "source": [
    "vectorizer = TfidfVectorizer(analyzer='char')\n",
    "trsfm=vectorizer.fit_transform(corpus)\n",
    "vect = pd.DataFrame(trsfm.toarray(),columns=vectorizer.get_feature_names(), index = number)\n",
    "vect.head()"
   ]
  },
  {
   "cell_type": "code",
   "execution_count": 120,
   "id": "magnetic-recipient",
   "metadata": {},
   "outputs": [],
   "source": [
    "# vectorizer = TfidfVectorizer(analyzer='char')\n",
    "# transformer=vectorizer.fit_transform(titles)\n",
    "# vect = pd.DataFrame(transformer.toarray(),columns=vectorizer.get_feature_names())"
   ]
  },
  {
   "cell_type": "code",
   "execution_count": 192,
   "id": "bridal-tongue",
   "metadata": {},
   "outputs": [],
   "source": [
    "similar_score = cosine_similarity(trsfm[0:1], trsfm)"
   ]
  },
  {
   "cell_type": "code",
   "execution_count": 195,
   "id": "brave-identification",
   "metadata": {},
   "outputs": [],
   "source": [
    "vect['score']= np.array(similar_score[0])"
   ]
  },
  {
   "cell_type": "code",
   "execution_count": 211,
   "id": "floral-winter",
   "metadata": {},
   "outputs": [],
   "source": [
    "vect = vect.sort_values(by = 'score', ascending = False).reset_index()"
   ]
  },
  {
   "cell_type": "code",
   "execution_count": 226,
   "id": "forbidden-manor",
   "metadata": {},
   "outputs": [
    {
     "name": "stdout",
     "output_type": "stream",
     "text": [
      "0    arkansas convalescent center\n",
      "Name: provider_name, dtype: object\n",
      "7534    sikeston convalescent center\n",
      "Name: provider_name, dtype: object\n",
      "2912    twin oaks convalescent center\n",
      "Name: provider_name, dtype: object\n"
     ]
    }
   ],
   "source": [
    "for i in range(1, 4):\n",
    "    answer = titles[titles['federal_provider_number']==(vect['index'][i])]['provider_name']\n",
    "    print(answer)"
   ]
  },
  {
   "cell_type": "code",
   "execution_count": 184,
   "id": "infectious-french",
   "metadata": {},
   "outputs": [],
   "source": [
    "similar_score = list(similar_score)"
   ]
  },
  {
   "cell_type": "code",
   "execution_count": 185,
   "id": "measured-pollution",
   "metadata": {},
   "outputs": [
    {
     "data": {
      "text/plain": [
       "array([0.98508688, 0.69264455, 0.79722424])"
      ]
     },
     "execution_count": 185,
     "metadata": {},
     "output_type": "execute_result"
    }
   ],
   "source": [
    "similar_score.sort(reverse = True)\n",
    "similar_score[0][1:4]"
   ]
  },
  {
   "cell_type": "code",
   "execution_count": 187,
   "id": "eleven-mentor",
   "metadata": {},
   "outputs": [
    {
     "data": {
      "text/plain": [
       "(15408, 27)"
      ]
     },
     "execution_count": 187,
     "metadata": {},
     "output_type": "execute_result"
    }
   ],
   "source": [
    "vect.shape"
   ]
  },
  {
   "cell_type": "code",
   "execution_count": 194,
   "id": "seven-direction",
   "metadata": {},
   "outputs": [
    {
     "data": {
      "text/plain": [
       "15408"
      ]
     },
     "execution_count": 194,
     "metadata": {},
     "output_type": "execute_result"
    }
   ],
   "source": [
    "len(similar_score[0])"
   ]
  },
  {
   "cell_type": "code",
   "execution_count": null,
   "id": "spiritual-enemy",
   "metadata": {},
   "outputs": [],
   "source": []
  },
  {
   "cell_type": "code",
   "execution_count": null,
   "id": "stopped-portugal",
   "metadata": {},
   "outputs": [],
   "source": []
  }
 ],
 "metadata": {
  "kernelspec": {
   "display_name": "Python 3",
   "language": "python",
   "name": "python3"
  },
  "language_info": {
   "codemirror_mode": {
    "name": "ipython",
    "version": 3
   },
   "file_extension": ".py",
   "mimetype": "text/x-python",
   "name": "python",
   "nbconvert_exporter": "python",
   "pygments_lexer": "ipython3",
   "version": "3.8.7"
  }
 },
 "nbformat": 4,
 "nbformat_minor": 5
}
