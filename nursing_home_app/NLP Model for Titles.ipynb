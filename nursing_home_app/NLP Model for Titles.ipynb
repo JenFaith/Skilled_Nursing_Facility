{
 "cells": [
  {
   "cell_type": "code",
   "execution_count": 1,
   "id": "trained-pressure",
   "metadata": {},
   "outputs": [],
   "source": [
    "# Basic Packages\n",
    "import numpy as np\n",
    "import pandas as pd\n",
    "import re\n",
    "\n",
    "# Modeling\n",
    "from sklearn.feature_extraction.text import TfidfVectorizer, CountVectorizer\n",
    "from sklearn.metrics.pairwise import cosine_similarity"
   ]
  },
  {
   "cell_type": "code",
   "execution_count": 4,
   "id": "engaged-writing",
   "metadata": {},
   "outputs": [],
   "source": [
    "titles = pd.read_csv('nhs_descriptors.csv')"
   ]
  },
  {
   "cell_type": "markdown",
   "id": "suspected-manual",
   "metadata": {},
   "source": [
    "# Model Using Cosing Similarity"
   ]
  },
  {
   "cell_type": "code",
   "execution_count": null,
   "id": "lasting-chess",
   "metadata": {},
   "outputs": [],
   "source": [
    "# Preprocessing text"
   ]
  },
  {
   "cell_type": "code",
   "execution_count": 15,
   "id": "nutritional-relations",
   "metadata": {},
   "outputs": [],
   "source": [
    "def return_similar(user_type, df):\n",
    "    # assign already existing values to lists\n",
    "    corpus = df['provider_name'].to_list()\n",
    "    number = df['federal_provider_number'].to_list()\n",
    "    \n",
    "    # insert user values\n",
    "    corpus.insert(0, user_type)\n",
    "    number.insert(0, \"user_input\")\n",
    "    \n",
    "    # clean text\n",
    "    for i in range(len(corpus)):\n",
    "        corpus[i] = corpus[i].lower()\n",
    "        corpus[i] = re.sub('[^a-z ]','', corpus[i])\n",
    "    \n",
    "    # vectorize\n",
    "    vectorizer = TfidfVectorizer(analyzer='char_wb')\n",
    "    trsfm=vectorizer.fit_transform(corpus)\n",
    "    vect = pd.DataFrame(trsfm.toarray(),columns=vectorizer.get_feature_names(), index = number)\n",
    "    similar_score = cosine_similarity(trsfm[0:1], trsfm)\n",
    "    vect['score']= np.array(similar_score[0])\n",
    "    vect = vect.sort_values(by = 'score', ascending = False).reset_index()\n",
    "    num1 = df[df['federal_provider_number']==(vect['index'][1])]['federal_provider_number'].values[0]\n",
    "    num2 = df[df['federal_provider_number']==(vect['index'][2])]['federal_provider_number'].values[0]\n",
    "    num3 = df[df['federal_provider_number']==(vect['index'][3])]['federal_provider_number'].values[0]\n",
    "    name1 = df[df['federal_provider_number']==num1]['provider_name'].values[0]\n",
    "    name2 = df[df['federal_provider_number']==num2]['provider_name'].values[0]\n",
    "    name3 = df[df['federal_provider_number']==num3]['provider_name'].values[0]\n",
    "    ad1 = df[df['federal_provider_number']==num1]['full_address'].values[0]\n",
    "    ad2 = df[df['federal_provider_number']==num2]['full_address'].values[0]\n",
    "    ad3 = df[df['federal_provider_number']==num3]['full_address'].values[0]\n",
    "    return num1, num2, num3,name1, name2, name3, ad1, ad2, ad3"
   ]
  },
  {
   "cell_type": "code",
   "execution_count": 16,
   "id": "appropriate-superior",
   "metadata": {
    "scrolled": true
   },
   "outputs": [
    {
     "data": {
      "text/plain": [
       "'1105 W HWY 418, SILSBEE, TX, 77656'"
      ]
     },
     "execution_count": 16,
     "metadata": {},
     "output_type": "execute_result"
    }
   ],
   "source": [
    "    answer1, answer2, answer3, row1, row2, row3, ad1, ad2, ad3 = return_similar('seeson carecenter', titles)\n",
    "    ad1"
   ]
  },
  {
   "cell_type": "code",
   "execution_count": null,
   "id": "coastal-indication",
   "metadata": {},
   "outputs": [],
   "source": []
  }
 ],
 "metadata": {
  "kernelspec": {
   "display_name": "Python 3",
   "language": "python",
   "name": "python3"
  },
  "language_info": {
   "codemirror_mode": {
    "name": "ipython",
    "version": 3
   },
   "file_extension": ".py",
   "mimetype": "text/x-python",
   "name": "python",
   "nbconvert_exporter": "python",
   "pygments_lexer": "ipython3",
   "version": "3.8.7"
  }
 },
 "nbformat": 4,
 "nbformat_minor": 5
}
