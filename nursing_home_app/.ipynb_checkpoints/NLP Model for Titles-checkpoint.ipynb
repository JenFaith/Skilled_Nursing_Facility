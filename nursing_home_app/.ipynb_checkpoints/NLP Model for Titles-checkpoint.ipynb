{
 "cells": [
  {
   "cell_type": "code",
   "execution_count": 1,
   "id": "trained-pressure",
   "metadata": {},
   "outputs": [],
   "source": [
    "# Basic Packages\n",
    "import numpy as np\n",
    "import pandas as pd\n",
    "import re\n",
    "\n",
    "# Modeling\n",
    "from sklearn.feature_extraction.text import TfidfVectorizer, CountVectorizer\n",
    "from sklearn.metrics.pairwise import cosine_similarity"
   ]
  },
  {
   "cell_type": "code",
   "execution_count": 2,
   "id": "devoted-austria",
   "metadata": {},
   "outputs": [],
   "source": [
    "titles = pd.read_csv('nhs_descriptors.csv')"
   ]
  },
  {
   "cell_type": "markdown",
   "id": "stone-problem",
   "metadata": {},
   "source": [
    "# Model Using Cosing Similarity"
   ]
  },
  {
   "cell_type": "code",
   "execution_count": null,
   "id": "lasting-chess",
   "metadata": {},
   "outputs": [],
   "source": [
    "# Preprocessing text"
   ]
  },
  {
   "cell_type": "code",
   "execution_count": 111,
   "id": "outside-donor",
   "metadata": {},
   "outputs": [],
   "source": [
    "def return_similar(user_type, df):\n",
    "    # assign already existing values to lists\n",
    "    corpus = df['provider_name'].to_list()\n",
    "    number = df['federal_provider_number'].to_list()\n",
    "    \n",
    "    # insert user values\n",
    "    corpus.insert(0, user_type)\n",
    "    number.insert(0, \"user_input\")\n",
    "    \n",
    "    # clean text\n",
    "    for i in range(len(corpus)):\n",
    "        corpus[i] = corpus[i].lower()\n",
    "        corpus[i] = re.sub('[^a-z ]','', corpus[i])\n",
    "    \n",
    "    # vectorize\n",
    "    vectorizer = TfidfVectorizer(analyzer='char_wb')\n",
    "    trsfm=vectorizer.fit_transform(corpus)\n",
    "    vect = pd.DataFrame(trsfm.toarray(),columns=vectorizer.get_feature_names(), index = number)\n",
    "    similar_score = cosine_similarity(trsfm[0:1], trsfm)\n",
    "    vect['score']= np.array(similar_score[0])\n",
    "    vect = vect.sort_values(by = 'score', ascending = False).reset_index()\n",
    "    num1 = df[df['federal_provider_number']==(vect['index'][1])]['federal_provider_number'].values[0]\n",
    "    num2 = df[df['federal_provider_number']==(vect['index'][2])]['federal_provider_number'].values[0]\n",
    "    num3 = df[df['federal_provider_number']==(vect['index'][3])]['federal_provider_number'].values[0]\n",
    "    row1 = df[df['federal_provider_number']==num1]\n",
    "    row2 = df[df['federal_provider_number']==num2]\n",
    "    row3 = df[df['federal_provider_number']==num3]\n",
    "    return num1, num2, num3, name1, name2, name3"
   ]
  },
  {
   "cell_type": "code",
   "execution_count": 117,
   "id": "physical-turner",
   "metadata": {
    "scrolled": true
   },
   "outputs": [
    {
     "name": "stdout",
     "output_type": "stream",
     "text": [
      "SEASONS CARE CENTER\n",
      "RENSSELAER CARE CENTER\n",
      "RENAISSANCE CARE CENTER\n"
     ]
    }
   ],
   "source": [
    "answer1, answer2, answer3, row1, row2, row3 = return_similar('seeson carecenter', titles)\n",
    "print(row1['provider_name'].values[0])\n",
    "print(row2['provider_name'].values[0])\n",
    "print(row3['provider_name'].values[0])"
   ]
  },
  {
   "cell_type": "code",
   "execution_count": null,
   "id": "iraqi-phase",
   "metadata": {},
   "outputs": [],
   "source": []
  }
 ],
 "metadata": {
  "kernelspec": {
   "display_name": "Python 3",
   "language": "python",
   "name": "python3"
  },
  "language_info": {
   "codemirror_mode": {
    "name": "ipython",
    "version": 3
   },
   "file_extension": ".py",
   "mimetype": "text/x-python",
   "name": "python",
   "nbconvert_exporter": "python",
   "pygments_lexer": "ipython3",
   "version": "3.8.7"
  }
 },
 "nbformat": 4,
 "nbformat_minor": 5
}
