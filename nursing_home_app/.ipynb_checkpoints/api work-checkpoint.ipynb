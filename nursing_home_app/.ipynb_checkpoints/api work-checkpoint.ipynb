{
 "cells": [
  {
   "cell_type": "code",
   "execution_count": null,
   "id": "suburban-reader",
   "metadata": {},
   "outputs": [],
   "source": [
    "import requests\n",
    "import pandas as pd\n",
    "import numpy as np\n",
    "from geopy.geocoders import Nominatim"
   ]
  },
  {
   "cell_type": "code",
   "execution_count": null,
   "id": "worthy-distinction",
   "metadata": {},
   "outputs": [],
   "source": [
    "import sqlalchemy"
   ]
  },
  {
   "cell_type": "code",
   "execution_count": null,
   "id": "buried-peter",
   "metadata": {},
   "outputs": [],
   "source": [
    "import json\n",
    "import re"
   ]
  },
  {
   "cell_type": "code",
   "execution_count": null,
   "id": "funny-champion",
   "metadata": {},
   "outputs": [],
   "source": [
    "from sodapy import Socrata\n",
    "\n",
    "MyAppToken = '5YNrrmFobthjbfVSPQWEZWkkk'\n",
    "username = 'jennifer.faith16@gmail.com'\n",
    "password = 'Nashua1998!'\n",
    "\n",
    "# Connect to dataset\n",
    "client = Socrata(\"data.cms.gov\",\n",
    "                 MyAppToken,\n",
    "                 username,\n",
    "                 password)\n",
    "\n",
    "results = client.get(\"s2uc-8wxp\", limit = 1000000)"
   ]
  },
  {
   "cell_type": "code",
   "execution_count": null,
   "id": "saved-november",
   "metadata": {},
   "outputs": [],
   "source": [
    "response = requests.get('https://data.cms.gov/resource/s2uc-8wxp.json?federal_provider_number&week_ending=2020-05-24T00:00:00.000')"
   ]
  },
  {
   "cell_type": "code",
   "execution_count": 13,
   "id": "tight-wrong",
   "metadata": {},
   "outputs": [],
   "source": [
    "# Convert to pandas DataFrame\n",
    "df = pd.DataFrame.from_records(results)"
   ]
  },
  {
   "cell_type": "code",
   "execution_count": 22,
   "id": "union-electronics",
   "metadata": {},
   "outputs": [
    {
     "data": {
      "text/plain": [
       "(614002, 52)"
      ]
     },
     "execution_count": 22,
     "metadata": {},
     "output_type": "execute_result"
    }
   ],
   "source": [
    "df.shape"
   ]
  },
  {
   "cell_type": "code",
   "execution_count": 24,
   "id": "deadly-madrid",
   "metadata": {},
   "outputs": [],
   "source": [
    "df.drop([':@computed_region_dz63_q6gx', ':@computed_region_ia25_mrsk', ':@computed_region_p3pw_njwh',\n",
    "        ':@computed_region_x9pa_s2gq', ':@computed_region_vbss_8z7g'], axis=1, inplace=True)\n",
    "\n",
    "lots_of_nulls = df.columns[df.isnull().sum() > 100000].tolist()\n",
    "df.drop(lots_of_nulls, axis=1, inplace = True)"
   ]
  },
  {
   "cell_type": "code",
   "execution_count": 51,
   "id": "directed-result",
   "metadata": {},
   "outputs": [
    {
     "data": {
      "text/plain": [
       "Index(['week_ending', 'federal_provider_number', 'provider_name',\n",
       "       'provider_address', 'provider_city', 'provider_state',\n",
       "       'provider_zip_code', 'submitted_data', 'county', 'reporting_interval',\n",
       "       'geolocation', 'passed_quality_assurance',\n",
       "       'residents_weekly_admissions', 'residents_total_admissions',\n",
       "       'residents_weekly_confirmed', 'residents_total_confirmed',\n",
       "       'residents_total_suspected', 'residents_weekly_all_deaths',\n",
       "       'residents_total_all_deaths', 'residents_weekly_covid_19',\n",
       "       'residents_total_covid_19', 'number_of_all_beds',\n",
       "       'total_number_of_occupied',\n",
       "       'total_resident_confirmed_covid_19_cases_per_1_000_residents',\n",
       "       'shortage_of_nursing_staff', 'shortage_of_clinical_staff',\n",
       "       'shortage_of_aides', 'shortage_of_other_staff'],\n",
       "      dtype='object')"
      ]
     },
     "execution_count": 51,
     "metadata": {},
     "output_type": "execute_result"
    }
   ],
   "source": [
    "df.columns[:30]"
   ]
  },
  {
   "cell_type": "code",
   "execution_count": 40,
   "id": "insured-credits",
   "metadata": {},
   "outputs": [],
   "source": [
    "df.drop(columns = ['any_current_supply_of_n95', 'one_week_supply_of_n95_masks',\n",
    "       'any_current_supply_of_surgical', 'total_resident_covid_19_deaths_per_1_000_residents',\n",
    "       'three_or_more_confirmed_covid_19_cases_this_week',\n",
    "       'initial_confirmed_covid_19_case_this_week'], axis=1, inplace = True)"
   ]
  },
  {
   "cell_type": "code",
   "execution_count": null,
   "id": "stylish-silver",
   "metadata": {},
   "outputs": [],
   "source": [
    "df.drop(columns = ['any_current_supply_of_n95', 'one_week_supply_of_n95_masks',\n",
    "       'any_current_supply_of_surgical', 'total_resident_covid_19_deaths_per_1_000_residents',\n",
    "       'three_or_more_confirmed_covid_19_cases_this_week',\n",
    "       'initial_confirmed_covid_19_case_this_week'], axis=1, inplace = True)"
   ]
  },
  {
   "cell_type": "code",
   "execution_count": 43,
   "id": "former-cooler",
   "metadata": {},
   "outputs": [],
   "source": [
    "df.drop(columns = ['staff_weekly_confirmed_covid', 'staff_total_confirmed_covid',\n",
    "       'staff_weekly_suspected_covid', 'staff_total_suspected_covid',\n",
    "       'staff_weekly_covid_19_deaths', 'staff_total_covid_19_deaths',\n",
    "       'weekly_resident_confirmed_covid_19_cases_per_1_000_residents',\n",
    "       'weekly_resident_covid_19_deaths_per_1_000_residents'], axis=1, inplace = True)"
   ]
  },
  {
   "cell_type": "code",
   "execution_count": null,
   "id": "ruled-encyclopedia",
   "metadata": {},
   "outputs": [],
   "source": [
    "df.drop(columns = ['reporting_interval', 'residents_weekly_admissions', 'residents_total_admissions',\n",
    "                  ], axis=1, inplace = True)"
   ]
  },
  {
   "cell_type": "code",
   "execution_count": 36,
   "id": "transsexual-antibody",
   "metadata": {},
   "outputs": [
    {
     "data": {
      "text/plain": [
       "N    569851\n",
       "Y     22795\n",
       "Name: ventilator_dependent_unit, dtype: int64"
      ]
     },
     "execution_count": 36,
     "metadata": {},
     "output_type": "execute_result"
    }
   ],
   "source": [
    "df['ventilator_dependent_unit'].value_counts()"
   ]
  },
  {
   "cell_type": "code",
   "execution_count": 14,
   "id": "prescription-brush",
   "metadata": {},
   "outputs": [],
   "source": [
    "# Fill location errors with 0s\n",
    "df['geolocation']=df['geolocation'].fillna(0)"
   ]
  },
  {
   "cell_type": "code",
   "execution_count": 7,
   "id": "presidential-french",
   "metadata": {},
   "outputs": [],
   "source": [
    "def geo_column(df):\n",
    "    reorder_list = []\n",
    "    for i in range(len(df)):\n",
    "        if df['geolocation'][i]==0:\n",
    "            df['geolocation'][i] ='Data Reporting Error'\n",
    "        else:\n",
    "            input_row = df['geolocation'][i]\n",
    "            values = input_row.values()\n",
    "            values_list = list(values)\n",
    "            lat = values_list[1][1]\n",
    "            lon = values_list[1][0]\n",
    "            df['geolocation'][i] = (lat, lon)\n",
    "    return df"
   ]
  },
  {
   "cell_type": "code",
   "execution_count": 8,
   "id": "overall-alberta",
   "metadata": {},
   "outputs": [
    {
     "ename": "KeyboardInterrupt",
     "evalue": "",
     "output_type": "error",
     "traceback": [
      "\u001b[0;31m---------------------------------------------------------------------------\u001b[0m",
      "\u001b[0;31mKeyboardInterrupt\u001b[0m                         Traceback (most recent call last)",
      "\u001b[0;32m<ipython-input-8-df7b39b5ebed>\u001b[0m in \u001b[0;36m<module>\u001b[0;34m\u001b[0m\n\u001b[0;32m----> 1\u001b[0;31m \u001b[0mdf\u001b[0m \u001b[0;34m=\u001b[0m \u001b[0mgeo_column\u001b[0m\u001b[0;34m(\u001b[0m\u001b[0mdf\u001b[0m\u001b[0;34m)\u001b[0m\u001b[0;34m\u001b[0m\u001b[0;34m\u001b[0m\u001b[0m\n\u001b[0m",
      "\u001b[0;32m<ipython-input-7-f9b96c2b6aae>\u001b[0m in \u001b[0;36mgeo_column\u001b[0;34m(df)\u001b[0m\n\u001b[1;32m     10\u001b[0m             \u001b[0mlat\u001b[0m \u001b[0;34m=\u001b[0m \u001b[0mvalues_list\u001b[0m\u001b[0;34m[\u001b[0m\u001b[0;36m1\u001b[0m\u001b[0;34m]\u001b[0m\u001b[0;34m[\u001b[0m\u001b[0;36m1\u001b[0m\u001b[0;34m]\u001b[0m\u001b[0;34m\u001b[0m\u001b[0;34m\u001b[0m\u001b[0m\n\u001b[1;32m     11\u001b[0m             \u001b[0mlon\u001b[0m \u001b[0;34m=\u001b[0m \u001b[0mvalues_list\u001b[0m\u001b[0;34m[\u001b[0m\u001b[0;36m1\u001b[0m\u001b[0;34m]\u001b[0m\u001b[0;34m[\u001b[0m\u001b[0;36m0\u001b[0m\u001b[0;34m]\u001b[0m\u001b[0;34m\u001b[0m\u001b[0;34m\u001b[0m\u001b[0m\n\u001b[0;32m---> 12\u001b[0;31m             \u001b[0mdf\u001b[0m\u001b[0;34m[\u001b[0m\u001b[0;34m'geolocation'\u001b[0m\u001b[0;34m]\u001b[0m\u001b[0;34m[\u001b[0m\u001b[0mi\u001b[0m\u001b[0;34m]\u001b[0m \u001b[0;34m=\u001b[0m \u001b[0;34m(\u001b[0m\u001b[0mlat\u001b[0m\u001b[0;34m,\u001b[0m \u001b[0mlon\u001b[0m\u001b[0;34m)\u001b[0m\u001b[0;34m\u001b[0m\u001b[0;34m\u001b[0m\u001b[0m\n\u001b[0m\u001b[1;32m     13\u001b[0m     \u001b[0;32mreturn\u001b[0m \u001b[0mdf\u001b[0m\u001b[0;34m\u001b[0m\u001b[0;34m\u001b[0m\u001b[0m\n",
      "\u001b[0;32m~/.local/share/virtualenvs/Skilled_Nursing_Facility-8i9DRTdL/lib/python3.8/site-packages/pandas/core/series.py\u001b[0m in \u001b[0;36m__setitem__\u001b[0;34m(self, key, value)\u001b[0m\n\u001b[1;32m    999\u001b[0m \u001b[0;34m\u001b[0m\u001b[0m\n\u001b[1;32m   1000\u001b[0m         \u001b[0;32mif\u001b[0m \u001b[0mcacher_needs_updating\u001b[0m\u001b[0;34m:\u001b[0m\u001b[0;34m\u001b[0m\u001b[0;34m\u001b[0m\u001b[0m\n\u001b[0;32m-> 1001\u001b[0;31m             \u001b[0mself\u001b[0m\u001b[0;34m.\u001b[0m\u001b[0m_maybe_update_cacher\u001b[0m\u001b[0;34m(\u001b[0m\u001b[0;34m)\u001b[0m\u001b[0;34m\u001b[0m\u001b[0;34m\u001b[0m\u001b[0m\n\u001b[0m\u001b[1;32m   1002\u001b[0m \u001b[0;34m\u001b[0m\u001b[0m\n\u001b[1;32m   1003\u001b[0m     \u001b[0;32mdef\u001b[0m \u001b[0m_set_with_engine\u001b[0m\u001b[0;34m(\u001b[0m\u001b[0mself\u001b[0m\u001b[0;34m,\u001b[0m \u001b[0mkey\u001b[0m\u001b[0;34m,\u001b[0m \u001b[0mvalue\u001b[0m\u001b[0;34m)\u001b[0m\u001b[0;34m:\u001b[0m\u001b[0;34m\u001b[0m\u001b[0;34m\u001b[0m\u001b[0m\n",
      "\u001b[0;32m~/.local/share/virtualenvs/Skilled_Nursing_Facility-8i9DRTdL/lib/python3.8/site-packages/pandas/core/generic.py\u001b[0m in \u001b[0;36m_maybe_update_cacher\u001b[0;34m(self, clear, verify_is_copy)\u001b[0m\n\u001b[1;32m   3471\u001b[0m                 \u001b[0;32mif\u001b[0m \u001b[0mlen\u001b[0m\u001b[0;34m(\u001b[0m\u001b[0mself\u001b[0m\u001b[0;34m)\u001b[0m \u001b[0;34m==\u001b[0m \u001b[0mlen\u001b[0m\u001b[0;34m(\u001b[0m\u001b[0mref\u001b[0m\u001b[0;34m)\u001b[0m\u001b[0;34m:\u001b[0m\u001b[0;34m\u001b[0m\u001b[0;34m\u001b[0m\u001b[0m\n\u001b[1;32m   3472\u001b[0m                     \u001b[0;31m# otherwise, either self or ref has swapped in new arrays\u001b[0m\u001b[0;34m\u001b[0m\u001b[0;34m\u001b[0m\u001b[0;34m\u001b[0m\u001b[0m\n\u001b[0;32m-> 3473\u001b[0;31m                     \u001b[0mref\u001b[0m\u001b[0;34m.\u001b[0m\u001b[0m_maybe_cache_changed\u001b[0m\u001b[0;34m(\u001b[0m\u001b[0mcacher\u001b[0m\u001b[0;34m[\u001b[0m\u001b[0;36m0\u001b[0m\u001b[0;34m]\u001b[0m\u001b[0;34m,\u001b[0m \u001b[0mself\u001b[0m\u001b[0;34m)\u001b[0m\u001b[0;34m\u001b[0m\u001b[0;34m\u001b[0m\u001b[0m\n\u001b[0m\u001b[1;32m   3474\u001b[0m                 \u001b[0;32melse\u001b[0m\u001b[0;34m:\u001b[0m\u001b[0;34m\u001b[0m\u001b[0;34m\u001b[0m\u001b[0m\n\u001b[1;32m   3475\u001b[0m                     \u001b[0;31m# GH#33675 we have swapped in a new array, so parent\u001b[0m\u001b[0;34m\u001b[0m\u001b[0;34m\u001b[0m\u001b[0;34m\u001b[0m\u001b[0m\n",
      "\u001b[0;32m~/.local/share/virtualenvs/Skilled_Nursing_Facility-8i9DRTdL/lib/python3.8/site-packages/pandas/core/generic.py\u001b[0m in \u001b[0;36m_maybe_cache_changed\u001b[0;34m(self, item, value)\u001b[0m\n\u001b[1;32m   3429\u001b[0m         \"\"\"\n\u001b[1;32m   3430\u001b[0m         \u001b[0mloc\u001b[0m \u001b[0;34m=\u001b[0m \u001b[0mself\u001b[0m\u001b[0;34m.\u001b[0m\u001b[0m_info_axis\u001b[0m\u001b[0;34m.\u001b[0m\u001b[0mget_loc\u001b[0m\u001b[0;34m(\u001b[0m\u001b[0mitem\u001b[0m\u001b[0;34m)\u001b[0m\u001b[0;34m\u001b[0m\u001b[0;34m\u001b[0m\u001b[0m\n\u001b[0;32m-> 3431\u001b[0;31m         \u001b[0mself\u001b[0m\u001b[0;34m.\u001b[0m\u001b[0m_mgr\u001b[0m\u001b[0;34m.\u001b[0m\u001b[0miset\u001b[0m\u001b[0;34m(\u001b[0m\u001b[0mloc\u001b[0m\u001b[0;34m,\u001b[0m \u001b[0mvalue\u001b[0m\u001b[0;34m)\u001b[0m\u001b[0;34m\u001b[0m\u001b[0;34m\u001b[0m\u001b[0m\n\u001b[0m\u001b[1;32m   3432\u001b[0m \u001b[0;34m\u001b[0m\u001b[0m\n\u001b[1;32m   3433\u001b[0m     \u001b[0;34m@\u001b[0m\u001b[0mfinal\u001b[0m\u001b[0;34m\u001b[0m\u001b[0;34m\u001b[0m\u001b[0m\n",
      "\u001b[0;32m~/.local/share/virtualenvs/Skilled_Nursing_Facility-8i9DRTdL/lib/python3.8/site-packages/pandas/core/internals/managers.py\u001b[0m in \u001b[0;36miset\u001b[0;34m(self, loc, value)\u001b[0m\n\u001b[1;32m   1108\u001b[0m             \u001b[0mblk_locs\u001b[0m \u001b[0;34m=\u001b[0m \u001b[0mblklocs\u001b[0m\u001b[0;34m[\u001b[0m\u001b[0mval_locs\u001b[0m\u001b[0;34m.\u001b[0m\u001b[0mindexer\u001b[0m\u001b[0;34m]\u001b[0m\u001b[0;34m\u001b[0m\u001b[0;34m\u001b[0m\u001b[0m\n\u001b[1;32m   1109\u001b[0m             \u001b[0;32mif\u001b[0m \u001b[0mblk\u001b[0m\u001b[0;34m.\u001b[0m\u001b[0mshould_store\u001b[0m\u001b[0;34m(\u001b[0m\u001b[0mvalue\u001b[0m\u001b[0;34m)\u001b[0m\u001b[0;34m:\u001b[0m\u001b[0;34m\u001b[0m\u001b[0;34m\u001b[0m\u001b[0m\n\u001b[0;32m-> 1110\u001b[0;31m                 \u001b[0mblk\u001b[0m\u001b[0;34m.\u001b[0m\u001b[0mset_inplace\u001b[0m\u001b[0;34m(\u001b[0m\u001b[0mblk_locs\u001b[0m\u001b[0;34m,\u001b[0m \u001b[0mvalue_getitem\u001b[0m\u001b[0;34m(\u001b[0m\u001b[0mval_locs\u001b[0m\u001b[0;34m)\u001b[0m\u001b[0;34m)\u001b[0m\u001b[0;34m\u001b[0m\u001b[0;34m\u001b[0m\u001b[0m\n\u001b[0m\u001b[1;32m   1111\u001b[0m             \u001b[0;32melse\u001b[0m\u001b[0;34m:\u001b[0m\u001b[0;34m\u001b[0m\u001b[0;34m\u001b[0m\u001b[0m\n\u001b[1;32m   1112\u001b[0m                 \u001b[0munfit_mgr_locs\u001b[0m\u001b[0;34m.\u001b[0m\u001b[0mappend\u001b[0m\u001b[0;34m(\u001b[0m\u001b[0mblk\u001b[0m\u001b[0;34m.\u001b[0m\u001b[0mmgr_locs\u001b[0m\u001b[0;34m.\u001b[0m\u001b[0mas_array\u001b[0m\u001b[0;34m[\u001b[0m\u001b[0mblk_locs\u001b[0m\u001b[0;34m]\u001b[0m\u001b[0;34m)\u001b[0m\u001b[0;34m\u001b[0m\u001b[0;34m\u001b[0m\u001b[0m\n",
      "\u001b[0;32m~/.local/share/virtualenvs/Skilled_Nursing_Facility-8i9DRTdL/lib/python3.8/site-packages/pandas/core/internals/blocks.py\u001b[0m in \u001b[0;36mset_inplace\u001b[0;34m(self, locs, values)\u001b[0m\n\u001b[1;32m    361\u001b[0m         \u001b[0mcreate\u001b[0m \u001b[0ma\u001b[0m \u001b[0mnew\u001b[0m \u001b[0marray\u001b[0m \u001b[0;32mand\u001b[0m \u001b[0malways\u001b[0m \u001b[0mcreates\u001b[0m \u001b[0ma\u001b[0m \u001b[0mnew\u001b[0m \u001b[0mBlock\u001b[0m\u001b[0;34m.\u001b[0m\u001b[0;34m\u001b[0m\u001b[0;34m\u001b[0m\u001b[0m\n\u001b[1;32m    362\u001b[0m         \"\"\"\n\u001b[0;32m--> 363\u001b[0;31m         \u001b[0mself\u001b[0m\u001b[0;34m.\u001b[0m\u001b[0mvalues\u001b[0m\u001b[0;34m[\u001b[0m\u001b[0mlocs\u001b[0m\u001b[0;34m]\u001b[0m \u001b[0;34m=\u001b[0m \u001b[0mvalues\u001b[0m\u001b[0;34m\u001b[0m\u001b[0;34m\u001b[0m\u001b[0m\n\u001b[0m\u001b[1;32m    364\u001b[0m \u001b[0;34m\u001b[0m\u001b[0m\n\u001b[1;32m    365\u001b[0m     \u001b[0;32mdef\u001b[0m \u001b[0mdelete\u001b[0m\u001b[0;34m(\u001b[0m\u001b[0mself\u001b[0m\u001b[0;34m,\u001b[0m \u001b[0mloc\u001b[0m\u001b[0;34m)\u001b[0m \u001b[0;34m->\u001b[0m \u001b[0;32mNone\u001b[0m\u001b[0;34m:\u001b[0m\u001b[0;34m\u001b[0m\u001b[0;34m\u001b[0m\u001b[0m\n",
      "\u001b[0;31mKeyboardInterrupt\u001b[0m: "
     ]
    }
   ],
   "source": [
    "df = geo_column(df)"
   ]
  },
  {
   "cell_type": "markdown",
   "id": "necessary-restriction",
   "metadata": {},
   "source": [
    "## ALL TRIAL CODE GOES BELOW HERE"
   ]
  },
  {
   "cell_type": "code",
   "execution_count": 137,
   "id": "north-hardwood",
   "metadata": {},
   "outputs": [],
   "source": [
    "# import geopy.geocoders\n",
    "# from geopy.geocoders import Nominatim\n",
    "\n",
    "# geopy.geocoders.options.default_user_agent = 'my_app/2'\n",
    "# geopy.geocoders.options.default_timeout = None\n",
    "\n",
    "\n",
    "# geolocator = Nominatim(user_agent=\"skilled_nursing\")"
   ]
  },
  {
   "cell_type": "code",
   "execution_count": 305,
   "id": "complicated-casino",
   "metadata": {},
   "outputs": [
    {
     "data": {
      "text/plain": [
       "Index(['week_ending', 'federal_provider_number', 'provider_name',\n",
       "       'provider_address', 'provider_city', 'provider_state',\n",
       "       'provider_zip_code', 'submitted_data', 'county', 'reporting_interval',\n",
       "       'geolocation', ':@computed_region_dz63_q6gx',\n",
       "       ':@computed_region_ia25_mrsk', ':@computed_region_p3pw_njwh',\n",
       "       ':@computed_region_x9pa_s2gq', ':@computed_region_vbss_8z7g',\n",
       "       'passed_quality_assurance', 'residents_weekly_admissions',\n",
       "       'residents_total_admissions', 'residents_weekly_confirmed',\n",
       "       'residents_total_confirmed', 'residents_total_suspected',\n",
       "       'residents_weekly_all_deaths', 'residents_total_all_deaths',\n",
       "       'residents_weekly_covid_19', 'residents_total_covid_19',\n",
       "       'number_of_all_beds', 'total_number_of_occupied',\n",
       "       'staff_weekly_confirmed_covid', 'staff_total_confirmed_covid',\n",
       "       'staff_weekly_suspected_covid', 'staff_total_suspected_covid',\n",
       "       'staff_weekly_covid_19_deaths', 'staff_total_covid_19_deaths',\n",
       "       'weekly_resident_confirmed_covid_19_cases_per_1_000_residents',\n",
       "       'weekly_resident_covid_19_deaths_per_1_000_residents',\n",
       "       'total_resident_confirmed_covid_19_cases_per_1_000_residents',\n",
       "       'total_resident_covid_19_deaths_per_1_000_residents',\n",
       "       'three_or_more_confirmed_covid_19_cases_this_week',\n",
       "       'initial_confirmed_covid_19_case_this_week',\n",
       "       'shortage_of_nursing_staff', 'shortage_of_clinical_staff',\n",
       "       'shortage_of_aides', 'shortage_of_other_staff',\n",
       "       'any_current_supply_of_n95', 'one_week_supply_of_n95_masks',\n",
       "       'any_current_supply_of_surgical', 'one_week_supply_of_surgical',\n",
       "       'any_current_supply_of_eye', 'one_week_supply_of_eye',\n",
       "       'any_current_supply_of_gowns', 'one_week_supply_of_gowns',\n",
       "       'any_current_supply_of_gloves', 'one_week_supply_of_gloves',\n",
       "       'any_current_supply_of_hand', 'one_week_supply_of_hand',\n",
       "       'ventilator_dependent_unit'],\n",
       "      dtype='object')"
      ]
     },
     "execution_count": 305,
     "metadata": {},
     "output_type": "execute_result"
    }
   ],
   "source": [
    "df.columns"
   ]
  },
  {
   "cell_type": "code",
   "execution_count": null,
   "id": "hawaiian-humanity",
   "metadata": {},
   "outputs": [],
   "source": []
  }
 ],
 "metadata": {
  "kernelspec": {
   "display_name": "Python 3",
   "language": "python",
   "name": "python3"
  },
  "language_info": {
   "codemirror_mode": {
    "name": "ipython",
    "version": 3
   },
   "file_extension": ".py",
   "mimetype": "text/x-python",
   "name": "python",
   "nbconvert_exporter": "python",
   "pygments_lexer": "ipython3",
   "version": "3.8.7"
  }
 },
 "nbformat": 4,
 "nbformat_minor": 5
}
