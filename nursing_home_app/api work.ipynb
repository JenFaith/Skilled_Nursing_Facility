{
 "cells": [
  {
   "cell_type": "code",
   "execution_count": 55,
   "id": "suburban-reader",
   "metadata": {},
   "outputs": [],
   "source": [
    "import requests\n",
    "import pandas as pd\n",
    "import numpy as np\n",
    "from geopy.geocoders import Nominatim"
   ]
  },
  {
   "cell_type": "code",
   "execution_count": null,
   "id": "worthy-distinction",
   "metadata": {},
   "outputs": [],
   "source": [
    "import sqlalchemy"
   ]
  },
  {
   "cell_type": "code",
   "execution_count": null,
   "id": "buried-peter",
   "metadata": {},
   "outputs": [],
   "source": [
    "import json\n",
    "import re"
   ]
  },
  {
   "cell_type": "code",
   "execution_count": 3,
   "id": "funny-champion",
   "metadata": {},
   "outputs": [],
   "source": [
    "from sodapy import Socrata\n",
    "\n",
    "MyAppToken = '5YNrrmFobthjbfVSPQWEZWkkk'\n",
    "username = 'jennifer.faith16@gmail.com'\n",
    "password = 'Nashua1998!'\n",
    "\n",
    "# Connect to dataset\n",
    "client = Socrata(\"data.cms.gov\",\n",
    "                 MyAppToken,\n",
    "                 username,\n",
    "                 password)\n",
    "\n",
    "results = client.get(\"s2uc-8wxp\", limit = 1000000)"
   ]
  },
  {
   "cell_type": "code",
   "execution_count": null,
   "id": "manufactured-offense",
   "metadata": {},
   "outputs": [],
   "source": [
    "#response = requests.get('https://data.cms.gov/resource/s2uc-8wxp.json?federal_provider_number==)"
   ]
  },
  {
   "cell_type": "code",
   "execution_count": null,
   "id": "successful-comparative",
   "metadata": {},
   "outputs": [],
   "source": [
    "response.json()"
   ]
  },
  {
   "cell_type": "code",
   "execution_count": 21,
   "id": "tight-wrong",
   "metadata": {},
   "outputs": [],
   "source": [
    "# Convert to pandas DataFrame\n",
    "df = pd.DataFrame.from_records(results)"
   ]
  },
  {
   "cell_type": "code",
   "execution_count": 22,
   "id": "native-ending",
   "metadata": {},
   "outputs": [
    {
     "data": {
      "text/plain": [
       "Index(['week_ending', 'federal_provider_number', 'provider_name',\n",
       "       'provider_address', 'provider_city', 'provider_state',\n",
       "       'provider_zip_code', 'submitted_data', 'county', 'reporting_interval',\n",
       "       'geolocation', ':@computed_region_dz63_q6gx',\n",
       "       ':@computed_region_ia25_mrsk', ':@computed_region_p3pw_njwh',\n",
       "       ':@computed_region_x9pa_s2gq', ':@computed_region_vbss_8z7g',\n",
       "       'passed_quality_assurance', 'residents_weekly_admissions',\n",
       "       'residents_total_admissions', 'residents_weekly_confirmed'],\n",
       "      dtype='object')"
      ]
     },
     "execution_count": 22,
     "metadata": {},
     "output_type": "execute_result"
    }
   ],
   "source": [
    "df.columns[0:20]"
   ]
  },
  {
   "cell_type": "code",
   "execution_count": 119,
   "id": "guilty-floating",
   "metadata": {},
   "outputs": [],
   "source": [
    "small = df[['federal_provider_number', 'provider_name', 'provider_address',\n",
    "    'provider_city', 'provider_state', 'provider_zip_code', 'county', 'geolocation']]"
   ]
  },
  {
   "cell_type": "code",
   "execution_count": 120,
   "id": "japanese-bumper",
   "metadata": {
    "scrolled": true
   },
   "outputs": [
    {
     "data": {
      "text/html": [
       "<div>\n",
       "<style scoped>\n",
       "    .dataframe tbody tr th:only-of-type {\n",
       "        vertical-align: middle;\n",
       "    }\n",
       "\n",
       "    .dataframe tbody tr th {\n",
       "        vertical-align: top;\n",
       "    }\n",
       "\n",
       "    .dataframe thead th {\n",
       "        text-align: right;\n",
       "    }\n",
       "</style>\n",
       "<table border=\"1\" class=\"dataframe\">\n",
       "  <thead>\n",
       "    <tr style=\"text-align: right;\">\n",
       "      <th></th>\n",
       "      <th>federal_provider_number</th>\n",
       "      <th>provider_name</th>\n",
       "      <th>provider_address</th>\n",
       "      <th>provider_city</th>\n",
       "      <th>provider_state</th>\n",
       "      <th>provider_zip_code</th>\n",
       "      <th>county</th>\n",
       "      <th>geolocation</th>\n",
       "    </tr>\n",
       "  </thead>\n",
       "  <tbody>\n",
       "    <tr>\n",
       "      <th>0</th>\n",
       "      <td>035242</td>\n",
       "      <td>CHINLE NURSING HOME</td>\n",
       "      <td>HIGHWAY 191 &amp; HOSPITAL ROAD</td>\n",
       "      <td>CHINLE</td>\n",
       "      <td>AZ</td>\n",
       "      <td>86503</td>\n",
       "      <td>Apache</td>\n",
       "      <td>NaN</td>\n",
       "    </tr>\n",
       "    <tr>\n",
       "      <th>1</th>\n",
       "      <td>045143</td>\n",
       "      <td>CONCORDIA NURSING &amp; REHAB, LLC</td>\n",
       "      <td>7 PROFESSIONAL DRIVE</td>\n",
       "      <td>BELLA VISTA</td>\n",
       "      <td>AR</td>\n",
       "      <td>72714</td>\n",
       "      <td>Benton</td>\n",
       "      <td>{'type': 'Point', 'coordinates': [-94.25299200...</td>\n",
       "    </tr>\n",
       "    <tr>\n",
       "      <th>2</th>\n",
       "      <td>045460</td>\n",
       "      <td>COLONEL GLENN HEALTH AND REHAB, LLC</td>\n",
       "      <td>13700 DAVID O DODD ROAD</td>\n",
       "      <td>LITTLE ROCK</td>\n",
       "      <td>AR</td>\n",
       "      <td>72210</td>\n",
       "      <td>Pulaski</td>\n",
       "      <td>{'type': 'Point', 'coordinates': [-92.410304, ...</td>\n",
       "    </tr>\n",
       "    <tr>\n",
       "      <th>3</th>\n",
       "      <td>056317</td>\n",
       "      <td>GLENOAKS CONVALESCENT HOSPITAL</td>\n",
       "      <td>409 W. GLENOAKS BLVD.</td>\n",
       "      <td>GLENDALE</td>\n",
       "      <td>CA</td>\n",
       "      <td>91202</td>\n",
       "      <td>Los Angeles</td>\n",
       "      <td>{'type': 'Point', 'coordinates': [-118.2619300...</td>\n",
       "    </tr>\n",
       "    <tr>\n",
       "      <th>4</th>\n",
       "      <td>065309</td>\n",
       "      <td>WASHINGTON COUNTY NURSING HOME</td>\n",
       "      <td>676 W GREENHOUSE DR</td>\n",
       "      <td>AKRON</td>\n",
       "      <td>CO</td>\n",
       "      <td>80720</td>\n",
       "      <td>Washington</td>\n",
       "      <td>NaN</td>\n",
       "    </tr>\n",
       "  </tbody>\n",
       "</table>\n",
       "</div>"
      ],
      "text/plain": [
       "  federal_provider_number                        provider_name  \\\n",
       "0                  035242                  CHINLE NURSING HOME   \n",
       "1                  045143       CONCORDIA NURSING & REHAB, LLC   \n",
       "2                  045460  COLONEL GLENN HEALTH AND REHAB, LLC   \n",
       "3                  056317       GLENOAKS CONVALESCENT HOSPITAL   \n",
       "4                  065309       WASHINGTON COUNTY NURSING HOME   \n",
       "\n",
       "              provider_address provider_city provider_state provider_zip_code  \\\n",
       "0  HIGHWAY 191 & HOSPITAL ROAD        CHINLE             AZ             86503   \n",
       "1         7 PROFESSIONAL DRIVE   BELLA VISTA             AR             72714   \n",
       "2      13700 DAVID O DODD ROAD   LITTLE ROCK             AR             72210   \n",
       "3        409 W. GLENOAKS BLVD.      GLENDALE             CA             91202   \n",
       "4          676 W GREENHOUSE DR         AKRON             CO             80720   \n",
       "\n",
       "        county                                        geolocation  \n",
       "0       Apache                                                NaN  \n",
       "1       Benton  {'type': 'Point', 'coordinates': [-94.25299200...  \n",
       "2      Pulaski  {'type': 'Point', 'coordinates': [-92.410304, ...  \n",
       "3  Los Angeles  {'type': 'Point', 'coordinates': [-118.2619300...  \n",
       "4   Washington                                                NaN  "
      ]
     },
     "execution_count": 120,
     "metadata": {},
     "output_type": "execute_result"
    }
   ],
   "source": [
    "small.head()"
   ]
  },
  {
   "cell_type": "code",
   "execution_count": 121,
   "id": "corrected-pepper",
   "metadata": {},
   "outputs": [
    {
     "name": "stderr",
     "output_type": "stream",
     "text": [
      "<ipython-input-121-7a40433a1853>:1: SettingWithCopyWarning: \n",
      "A value is trying to be set on a copy of a slice from a DataFrame.\n",
      "Try using .loc[row_indexer,col_indexer] = value instead\n",
      "\n",
      "See the caveats in the documentation: https://pandas.pydata.org/pandas-docs/stable/user_guide/indexing.html#returning-a-view-versus-a-copy\n",
      "  small['full_address']=small['provider_address'] + ', ' + small['provider_city'] + ', ' + small['provider_state'] + ', ' +  small['provider_zip_code']\n"
     ]
    }
   ],
   "source": [
    "small['full_address']=small['provider_address'] + ', ' + small['provider_city'] + ', ' + small['provider_state'] + ', ' +  small['provider_zip_code']"
   ]
  },
  {
   "cell_type": "code",
   "execution_count": 124,
   "id": "pacific-roller",
   "metadata": {},
   "outputs": [
    {
     "data": {
      "text/plain": [
       "47717"
      ]
     },
     "execution_count": 124,
     "metadata": {},
     "output_type": "execute_result"
    }
   ],
   "source": [
    "small['geolocation'].isnull().sum()"
   ]
  },
  {
   "cell_type": "code",
   "execution_count": 125,
   "id": "limiting-latex",
   "metadata": {},
   "outputs": [],
   "source": [
    "no_dup = small.drop_duplicates(subset = ['federal_provider_number'])"
   ]
  },
  {
   "cell_type": "code",
   "execution_count": 126,
   "id": "backed-struggle",
   "metadata": {},
   "outputs": [
    {
     "data": {
      "text/plain": [
       "1199"
      ]
     },
     "execution_count": 126,
     "metadata": {},
     "output_type": "execute_result"
    }
   ],
   "source": [
    "no_dup['geolocation'].isnull().sum()"
   ]
  },
  {
   "cell_type": "code",
   "execution_count": 127,
   "id": "every-surgeon",
   "metadata": {
    "scrolled": true
   },
   "outputs": [
    {
     "name": "stderr",
     "output_type": "stream",
     "text": [
      "<ipython-input-127-5aa5a14d0a0b>:2: SettingWithCopyWarning: \n",
      "A value is trying to be set on a copy of a slice from a DataFrame.\n",
      "Try using .loc[row_indexer,col_indexer] = value instead\n",
      "\n",
      "See the caveats in the documentation: https://pandas.pydata.org/pandas-docs/stable/user_guide/indexing.html#returning-a-view-versus-a-copy\n",
      "  no_dup['geolocation']=no_dup['geolocation'].fillna(0)\n"
     ]
    }
   ],
   "source": [
    "# Fill location errors with 0s\n",
    "no_dup['geolocation']=no_dup['geolocation'].fillna(0)"
   ]
  },
  {
   "cell_type": "code",
   "execution_count": 130,
   "id": "wired-parks",
   "metadata": {},
   "outputs": [],
   "source": [
    "def geo_column_edit(dictionary):\n",
    "    if dictionary==0:\n",
    "        pass\n",
    "    else:\n",
    "        values = dictionary.values()\n",
    "        values_list = list(values)\n",
    "        return (values_list[1][1], values_list[1][0])"
   ]
  },
  {
   "cell_type": "code",
   "execution_count": 131,
   "id": "wound-advance",
   "metadata": {},
   "outputs": [
    {
     "name": "stderr",
     "output_type": "stream",
     "text": [
      "<ipython-input-131-9e272aab63bf>:1: SettingWithCopyWarning: \n",
      "A value is trying to be set on a copy of a slice from a DataFrame.\n",
      "Try using .loc[row_indexer,col_indexer] = value instead\n",
      "\n",
      "See the caveats in the documentation: https://pandas.pydata.org/pandas-docs/stable/user_guide/indexing.html#returning-a-view-versus-a-copy\n",
      "  no_dup['geolocation']=no_dup['geolocation'].apply(geo_column_edit)\n"
     ]
    }
   ],
   "source": [
    "no_dup['geolocation']=no_dup['geolocation'].apply(geo_column_edit)"
   ]
  },
  {
   "cell_type": "code",
   "execution_count": 138,
   "id": "dedicated-prayer",
   "metadata": {},
   "outputs": [
    {
     "data": {
      "text/plain": [
       "(1199, 9)"
      ]
     },
     "execution_count": 138,
     "metadata": {},
     "output_type": "execute_result"
    }
   ],
   "source": [
    "# NOTE: 1,199 have bad addresses. \n",
    "# These will not be mapped\n",
    "no_dup[no_dup['geolocation'].isnull()].shape"
   ]
  },
  {
   "cell_type": "code",
   "execution_count": 139,
   "id": "opposed-portland",
   "metadata": {},
   "outputs": [
    {
     "data": {
      "text/plain": [
       "(15407, 9)"
      ]
     },
     "execution_count": 139,
     "metadata": {},
     "output_type": "execute_result"
    }
   ],
   "source": [
    "no_dup.shape"
   ]
  },
  {
   "cell_type": "code",
   "execution_count": 180,
   "id": "least-syndicate",
   "metadata": {},
   "outputs": [],
   "source": [
    "new.to_csv('nhs_descriptors.csv')"
   ]
  },
  {
   "cell_type": "markdown",
   "id": "necessary-restriction",
   "metadata": {},
   "source": [
    "## ALL TRIAL CODE GOES BELOW HERE"
   ]
  },
  {
   "cell_type": "code",
   "execution_count": 57,
   "id": "north-hardwood",
   "metadata": {},
   "outputs": [
    {
     "name": "stdout",
     "output_type": "stream",
     "text": [
      "(40.741059199999995, -73.98964162240998)\n"
     ]
    }
   ],
   "source": [
    "import geopy.geocoders\n",
    "from geopy.geocoders import Nominatim\n",
    "\n",
    "geopy.geocoders.options.default_user_agent = 'my_app/2'\n",
    "geopy.geocoders.options.default_timeout = None\n",
    "\n",
    "geolocator = Nominatim(user_agent=\"skilled_nursing\")\n",
    "location = geolocator.geocode(\"175 5th Avenue NYC\")\n",
    "print((location.latitude, location.longitude))"
   ]
  },
  {
   "cell_type": "code",
   "execution_count": 58,
   "id": "complicated-casino",
   "metadata": {},
   "outputs": [
    {
     "name": "stdout",
     "output_type": "stream",
     "text": [
      "(40.741059199999995, -73.98964162240998)\n"
     ]
    }
   ],
   "source": [
    "location = geolocator.geocode(\"175 5th Avenue NYC\")\n",
    "print((location.latitude, location.longitude))"
   ]
  },
  {
   "cell_type": "code",
   "execution_count": 82,
   "id": "hawaiian-humanity",
   "metadata": {},
   "outputs": [],
   "source": [
    "a = small['full_address'][2]"
   ]
  },
  {
   "cell_type": "code",
   "execution_count": 146,
   "id": "danish-zambia",
   "metadata": {},
   "outputs": [
    {
     "name": "stdout",
     "output_type": "stream",
     "text": [
      "(60.1219006, -149.438559)\n"
     ]
    }
   ],
   "source": [
    "location = geolocator.geocode('SEWARD, AK, 99664')\n",
    "print((location.latitude, location.longitude))"
   ]
  },
  {
   "cell_type": "code",
   "execution_count": 75,
   "id": "aware-agreement",
   "metadata": {},
   "outputs": [
    {
     "name": "stdout",
     "output_type": "stream",
     "text": [
      "None\n"
     ]
    }
   ],
   "source": [
    "print(location)"
   ]
  },
  {
   "cell_type": "code",
   "execution_count": 78,
   "id": "superb-aspect",
   "metadata": {},
   "outputs": [],
   "source": [
    "def geo_coordinates(address):\n",
    "    location = geolocator.geocode(address)\n",
    "    if location == None:\n",
    "        return \"Data Input Error\"\n",
    "    else:\n",
    "        return (location.latitude, location.longitude)"
   ]
  },
  {
   "cell_type": "code",
   "execution_count": 158,
   "id": "tough-finnish",
   "metadata": {},
   "outputs": [
    {
     "data": {
      "text/plain": [
       "(36.16763243080752, -109.68806973451998)"
      ]
     },
     "execution_count": 158,
     "metadata": {},
     "output_type": "execute_result"
    }
   ],
   "source": [
    "geo_coordinates('86503')"
   ]
  },
  {
   "cell_type": "code",
   "execution_count": 87,
   "id": "furnished-paper",
   "metadata": {},
   "outputs": [],
   "source": [
    "smaller = small.iloc[0:20]"
   ]
  },
  {
   "cell_type": "code",
   "execution_count": 89,
   "id": "spoken-juvenile",
   "metadata": {},
   "outputs": [
    {
     "name": "stderr",
     "output_type": "stream",
     "text": [
      "<ipython-input-89-f573131adb3a>:1: SettingWithCopyWarning: \n",
      "A value is trying to be set on a copy of a slice from a DataFrame.\n",
      "Try using .loc[row_indexer,col_indexer] = value instead\n",
      "\n",
      "See the caveats in the documentation: https://pandas.pydata.org/pandas-docs/stable/user_guide/indexing.html#returning-a-view-versus-a-copy\n",
      "  smaller['geo']=smaller['full_address'].apply(geo_coordinates)\n"
     ]
    }
   ],
   "source": [
    "smaller['geo']=smaller['full_address'].apply(geo_coordinates)"
   ]
  },
  {
   "cell_type": "code",
   "execution_count": null,
   "id": "polish-holmes",
   "metadata": {},
   "outputs": [],
   "source": [
    "small.to_csv('nhs_identifiers')"
   ]
  },
  {
   "cell_type": "code",
   "execution_count": 91,
   "id": "varied-islam",
   "metadata": {},
   "outputs": [
    {
     "data": {
      "text/plain": [
       "{'type': 'Point', 'coordinates': [-92.410304, 34.708313]}"
      ]
     },
     "execution_count": 91,
     "metadata": {},
     "output_type": "execute_result"
    }
   ],
   "source": [
    "smaller['geolocation'][2]"
   ]
  },
  {
   "cell_type": "code",
   "execution_count": 102,
   "id": "extraordinary-utilization",
   "metadata": {},
   "outputs": [],
   "source": [
    "def geo_column_edit(dictionary):\n",
    "    if dictionary==0:\n",
    "        pass\n",
    "    else:\n",
    "        values = dictionary.values()\n",
    "        values_list = list(values)\n",
    "        return (values_list[1][1], values_list[1][0])"
   ]
  },
  {
   "cell_type": "code",
   "execution_count": 117,
   "id": "frozen-dragon",
   "metadata": {},
   "outputs": [
    {
     "name": "stderr",
     "output_type": "stream",
     "text": [
      "<ipython-input-117-348d1c545b56>:1: SettingWithCopyWarning: \n",
      "A value is trying to be set on a copy of a slice from a DataFrame.\n",
      "Try using .loc[row_indexer,col_indexer] = value instead\n",
      "\n",
      "See the caveats in the documentation: https://pandas.pydata.org/pandas-docs/stable/user_guide/indexing.html#returning-a-view-versus-a-copy\n",
      "  small['geolocation'] = small['geolocation'].fillna(0)\n"
     ]
    }
   ],
   "source": [
    "small['geolocation'] = small['geolocation'].fillna(0)"
   ]
  },
  {
   "cell_type": "code",
   "execution_count": 118,
   "id": "coordinated-formula",
   "metadata": {},
   "outputs": [
    {
     "ename": "AttributeError",
     "evalue": "'tuple' object has no attribute 'values'",
     "output_type": "error",
     "traceback": [
      "\u001b[0;31m---------------------------------------------------------------------------\u001b[0m",
      "\u001b[0;31mAttributeError\u001b[0m                            Traceback (most recent call last)",
      "\u001b[0;32m<ipython-input-118-802e96147c26>\u001b[0m in \u001b[0;36m<module>\u001b[0;34m\u001b[0m\n\u001b[0;32m----> 1\u001b[0;31m \u001b[0msmall\u001b[0m\u001b[0;34m[\u001b[0m\u001b[0;34m'geolocation'\u001b[0m\u001b[0;34m]\u001b[0m \u001b[0;34m=\u001b[0m \u001b[0msmall\u001b[0m\u001b[0;34m[\u001b[0m\u001b[0;34m'geolocation'\u001b[0m\u001b[0;34m]\u001b[0m\u001b[0;34m.\u001b[0m\u001b[0mapply\u001b[0m\u001b[0;34m(\u001b[0m\u001b[0mgeo_column_edit\u001b[0m\u001b[0;34m)\u001b[0m\u001b[0;34m\u001b[0m\u001b[0;34m\u001b[0m\u001b[0m\n\u001b[0m",
      "\u001b[0;32m~/.local/share/virtualenvs/Skilled_Nursing_Facility-8i9DRTdL/lib/python3.8/site-packages/pandas/core/series.py\u001b[0m in \u001b[0;36mapply\u001b[0;34m(self, func, convert_dtype, args, **kwds)\u001b[0m\n\u001b[1;32m   4136\u001b[0m             \u001b[0;32melse\u001b[0m\u001b[0;34m:\u001b[0m\u001b[0;34m\u001b[0m\u001b[0;34m\u001b[0m\u001b[0m\n\u001b[1;32m   4137\u001b[0m                 \u001b[0mvalues\u001b[0m \u001b[0;34m=\u001b[0m \u001b[0mself\u001b[0m\u001b[0;34m.\u001b[0m\u001b[0mastype\u001b[0m\u001b[0;34m(\u001b[0m\u001b[0mobject\u001b[0m\u001b[0;34m)\u001b[0m\u001b[0;34m.\u001b[0m\u001b[0m_values\u001b[0m\u001b[0;34m\u001b[0m\u001b[0;34m\u001b[0m\u001b[0m\n\u001b[0;32m-> 4138\u001b[0;31m                 \u001b[0mmapped\u001b[0m \u001b[0;34m=\u001b[0m \u001b[0mlib\u001b[0m\u001b[0;34m.\u001b[0m\u001b[0mmap_infer\u001b[0m\u001b[0;34m(\u001b[0m\u001b[0mvalues\u001b[0m\u001b[0;34m,\u001b[0m \u001b[0mf\u001b[0m\u001b[0;34m,\u001b[0m \u001b[0mconvert\u001b[0m\u001b[0;34m=\u001b[0m\u001b[0mconvert_dtype\u001b[0m\u001b[0;34m)\u001b[0m\u001b[0;34m\u001b[0m\u001b[0;34m\u001b[0m\u001b[0m\n\u001b[0m\u001b[1;32m   4139\u001b[0m \u001b[0;34m\u001b[0m\u001b[0m\n\u001b[1;32m   4140\u001b[0m         \u001b[0;32mif\u001b[0m \u001b[0mlen\u001b[0m\u001b[0;34m(\u001b[0m\u001b[0mmapped\u001b[0m\u001b[0;34m)\u001b[0m \u001b[0;32mand\u001b[0m \u001b[0misinstance\u001b[0m\u001b[0;34m(\u001b[0m\u001b[0mmapped\u001b[0m\u001b[0;34m[\u001b[0m\u001b[0;36m0\u001b[0m\u001b[0;34m]\u001b[0m\u001b[0;34m,\u001b[0m \u001b[0mSeries\u001b[0m\u001b[0;34m)\u001b[0m\u001b[0;34m:\u001b[0m\u001b[0;34m\u001b[0m\u001b[0;34m\u001b[0m\u001b[0m\n",
      "\u001b[0;32mpandas/_libs/lib.pyx\u001b[0m in \u001b[0;36mpandas._libs.lib.map_infer\u001b[0;34m()\u001b[0m\n",
      "\u001b[0;32m<ipython-input-102-cb87163771ae>\u001b[0m in \u001b[0;36mgeo_column_edit\u001b[0;34m(dictionary)\u001b[0m\n\u001b[1;32m      3\u001b[0m         \u001b[0;32mpass\u001b[0m\u001b[0;34m\u001b[0m\u001b[0;34m\u001b[0m\u001b[0m\n\u001b[1;32m      4\u001b[0m     \u001b[0;32melse\u001b[0m\u001b[0;34m:\u001b[0m\u001b[0;34m\u001b[0m\u001b[0;34m\u001b[0m\u001b[0m\n\u001b[0;32m----> 5\u001b[0;31m         \u001b[0mvalues\u001b[0m \u001b[0;34m=\u001b[0m \u001b[0mdictionary\u001b[0m\u001b[0;34m.\u001b[0m\u001b[0mvalues\u001b[0m\u001b[0;34m(\u001b[0m\u001b[0;34m)\u001b[0m\u001b[0;34m\u001b[0m\u001b[0;34m\u001b[0m\u001b[0m\n\u001b[0m\u001b[1;32m      6\u001b[0m         \u001b[0mvalues_list\u001b[0m \u001b[0;34m=\u001b[0m \u001b[0mlist\u001b[0m\u001b[0;34m(\u001b[0m\u001b[0mvalues\u001b[0m\u001b[0;34m)\u001b[0m\u001b[0;34m\u001b[0m\u001b[0;34m\u001b[0m\u001b[0m\n\u001b[1;32m      7\u001b[0m         \u001b[0;32mreturn\u001b[0m \u001b[0;34m(\u001b[0m\u001b[0mvalues_list\u001b[0m\u001b[0;34m[\u001b[0m\u001b[0;36m1\u001b[0m\u001b[0;34m]\u001b[0m\u001b[0;34m[\u001b[0m\u001b[0;36m1\u001b[0m\u001b[0;34m]\u001b[0m\u001b[0;34m,\u001b[0m \u001b[0mvalues_list\u001b[0m\u001b[0;34m[\u001b[0m\u001b[0;36m1\u001b[0m\u001b[0;34m]\u001b[0m\u001b[0;34m[\u001b[0m\u001b[0;36m0\u001b[0m\u001b[0;34m]\u001b[0m\u001b[0;34m)\u001b[0m\u001b[0;34m\u001b[0m\u001b[0;34m\u001b[0m\u001b[0m\n",
      "\u001b[0;31mAttributeError\u001b[0m: 'tuple' object has no attribute 'values'"
     ]
    }
   ],
   "source": [
    "small['geolocation'] = small['geolocation'].apply(geo_column_edit)"
   ]
  },
  {
   "cell_type": "code",
   "execution_count": 115,
   "id": "satellite-concept",
   "metadata": {
    "scrolled": true
   },
   "outputs": [
    {
     "data": {
      "text/html": [
       "<div>\n",
       "<style scoped>\n",
       "    .dataframe tbody tr th:only-of-type {\n",
       "        vertical-align: middle;\n",
       "    }\n",
       "\n",
       "    .dataframe tbody tr th {\n",
       "        vertical-align: top;\n",
       "    }\n",
       "\n",
       "    .dataframe thead th {\n",
       "        text-align: right;\n",
       "    }\n",
       "</style>\n",
       "<table border=\"1\" class=\"dataframe\">\n",
       "  <thead>\n",
       "    <tr style=\"text-align: right;\">\n",
       "      <th></th>\n",
       "      <th>federal_provider_number</th>\n",
       "      <th>provider_name</th>\n",
       "      <th>provider_address</th>\n",
       "      <th>provider_city</th>\n",
       "      <th>provider_state</th>\n",
       "      <th>provider_zip_code</th>\n",
       "      <th>county</th>\n",
       "      <th>geolocation</th>\n",
       "      <th>full_address</th>\n",
       "      <th>geo</th>\n",
       "    </tr>\n",
       "  </thead>\n",
       "  <tbody>\n",
       "    <tr>\n",
       "      <th>0</th>\n",
       "      <td>035242</td>\n",
       "      <td>CHINLE NURSING HOME</td>\n",
       "      <td>HIGHWAY 191 &amp; HOSPITAL ROAD</td>\n",
       "      <td>CHINLE</td>\n",
       "      <td>AZ</td>\n",
       "      <td>86503</td>\n",
       "      <td>Apache</td>\n",
       "      <td>None</td>\n",
       "      <td>HIGHWAY 191 &amp; HOSPITAL ROAD, CHINLE, AZ, 86503</td>\n",
       "      <td>Data Input Error</td>\n",
       "    </tr>\n",
       "    <tr>\n",
       "      <th>1</th>\n",
       "      <td>045143</td>\n",
       "      <td>CONCORDIA NURSING &amp; REHAB, LLC</td>\n",
       "      <td>7 PROFESSIONAL DRIVE</td>\n",
       "      <td>BELLA VISTA</td>\n",
       "      <td>AR</td>\n",
       "      <td>72714</td>\n",
       "      <td>Benton</td>\n",
       "      <td>(36.474911, -94.25299200000002)</td>\n",
       "      <td>7 PROFESSIONAL DRIVE, BELLA VISTA, AR, 72714</td>\n",
       "      <td>Data Input Error</td>\n",
       "    </tr>\n",
       "    <tr>\n",
       "      <th>2</th>\n",
       "      <td>045460</td>\n",
       "      <td>COLONEL GLENN HEALTH AND REHAB, LLC</td>\n",
       "      <td>13700 DAVID O DODD ROAD</td>\n",
       "      <td>LITTLE ROCK</td>\n",
       "      <td>AR</td>\n",
       "      <td>72210</td>\n",
       "      <td>Pulaski</td>\n",
       "      <td>(34.708313, -92.410304)</td>\n",
       "      <td>13700 DAVID O DODD ROAD, LITTLE ROCK, AR, 72210</td>\n",
       "      <td>(34.708389, -92.410092)</td>\n",
       "    </tr>\n",
       "    <tr>\n",
       "      <th>3</th>\n",
       "      <td>056317</td>\n",
       "      <td>GLENOAKS CONVALESCENT HOSPITAL</td>\n",
       "      <td>409 W. GLENOAKS BLVD.</td>\n",
       "      <td>GLENDALE</td>\n",
       "      <td>CA</td>\n",
       "      <td>91202</td>\n",
       "      <td>Los Angeles</td>\n",
       "      <td>(34.159818, -118.26193000000002)</td>\n",
       "      <td>409 W. GLENOAKS BLVD., GLENDALE, CA, 91202</td>\n",
       "      <td>(34.159914072873924, -118.2624365591205)</td>\n",
       "    </tr>\n",
       "    <tr>\n",
       "      <th>4</th>\n",
       "      <td>065309</td>\n",
       "      <td>WASHINGTON COUNTY NURSING HOME</td>\n",
       "      <td>676 W GREENHOUSE DR</td>\n",
       "      <td>AKRON</td>\n",
       "      <td>CO</td>\n",
       "      <td>80720</td>\n",
       "      <td>Washington</td>\n",
       "      <td>None</td>\n",
       "      <td>676 W GREENHOUSE DR, AKRON, CO, 80720</td>\n",
       "      <td>Data Input Error</td>\n",
       "    </tr>\n",
       "    <tr>\n",
       "      <th>5</th>\n",
       "      <td>06A088</td>\n",
       "      <td>LITTLE SISTERS OF THE POOR - MULLEN HOME</td>\n",
       "      <td>3629 W 29TH AVE</td>\n",
       "      <td>DENVER</td>\n",
       "      <td>CO</td>\n",
       "      <td>80211</td>\n",
       "      <td>Denver</td>\n",
       "      <td>(39.758508, -105.035758)</td>\n",
       "      <td>3629 W 29TH AVE, DENVER, CO, 80211</td>\n",
       "      <td>(39.759577, -105.03614551455956)</td>\n",
       "    </tr>\n",
       "    <tr>\n",
       "      <th>6</th>\n",
       "      <td>105089</td>\n",
       "      <td>MANOR PINES CONVALESCENT CENTER</td>\n",
       "      <td>1701 NE 26TH ST</td>\n",
       "      <td>FORT LAUDERDALE</td>\n",
       "      <td>FL</td>\n",
       "      <td>33305</td>\n",
       "      <td>Broward</td>\n",
       "      <td>(26.159670000000002, -80.12451)</td>\n",
       "      <td>1701 NE 26TH ST, FORT LAUDERDALE, FL, 33305</td>\n",
       "      <td>(26.1598026, -80.1180731)</td>\n",
       "    </tr>\n",
       "    <tr>\n",
       "      <th>7</th>\n",
       "      <td>105384</td>\n",
       "      <td>CALUSA HARBOUR</td>\n",
       "      <td>2525 FIRST ST</td>\n",
       "      <td>FORT MYERS</td>\n",
       "      <td>FL</td>\n",
       "      <td>33901</td>\n",
       "      <td>Lee</td>\n",
       "      <td>(26.647471, -81.864238)</td>\n",
       "      <td>2525 FIRST ST, FORT MYERS, FL, 33901</td>\n",
       "      <td>(26.64866775, -81.86512731343228)</td>\n",
       "    </tr>\n",
       "    <tr>\n",
       "      <th>8</th>\n",
       "      <td>115275</td>\n",
       "      <td>A.G. RHODES HOME, INC, THE</td>\n",
       "      <td>350 BOULVARD, S.E.</td>\n",
       "      <td>ATLANTA</td>\n",
       "      <td>GA</td>\n",
       "      <td>30312</td>\n",
       "      <td>Fulton</td>\n",
       "      <td>None</td>\n",
       "      <td>350 BOULVARD, S.E., ATLANTA, GA, 30312</td>\n",
       "      <td>Data Input Error</td>\n",
       "    </tr>\n",
       "    <tr>\n",
       "      <th>9</th>\n",
       "      <td>145323</td>\n",
       "      <td>CARRIER MILLS NSG &amp; REHAB CTR</td>\n",
       "      <td>6789 US RT 45</td>\n",
       "      <td>CARRIER MILLS</td>\n",
       "      <td>IL</td>\n",
       "      <td>62917</td>\n",
       "      <td>Saline</td>\n",
       "      <td>None</td>\n",
       "      <td>6789 US RT 45, CARRIER MILLS, IL, 62917</td>\n",
       "      <td>Data Input Error</td>\n",
       "    </tr>\n",
       "    <tr>\n",
       "      <th>10</th>\n",
       "      <td>145337</td>\n",
       "      <td>SYMPHONY OF BRONZEVILLE</td>\n",
       "      <td>3400 SOUTH INDIANA</td>\n",
       "      <td>CHICAGO</td>\n",
       "      <td>IL</td>\n",
       "      <td>60616</td>\n",
       "      <td>Cook</td>\n",
       "      <td>(41.832778, -87.621794)</td>\n",
       "      <td>3400 SOUTH INDIANA, CHICAGO, IL, 60616</td>\n",
       "      <td>Data Input Error</td>\n",
       "    </tr>\n",
       "    <tr>\n",
       "      <th>11</th>\n",
       "      <td>145424</td>\n",
       "      <td>LANDMARK OF RICHTON PARK REHAB &amp; NSG CTR</td>\n",
       "      <td>22660 SOUTH CICERO AVENUE</td>\n",
       "      <td>RICHTON PARK</td>\n",
       "      <td>IL</td>\n",
       "      <td>60471</td>\n",
       "      <td>Cook</td>\n",
       "      <td>None</td>\n",
       "      <td>22660 SOUTH CICERO AVENUE, RICHTON PARK, IL, 6...</td>\n",
       "      <td>(41.4562535, -87.7322514)</td>\n",
       "    </tr>\n",
       "    <tr>\n",
       "      <th>12</th>\n",
       "      <td>145482</td>\n",
       "      <td>SHERIDAN VILLAGE NRSG &amp; RHB</td>\n",
       "      <td>5838 NORTH SHERIDAN ROAD</td>\n",
       "      <td>CHICAGO</td>\n",
       "      <td>IL</td>\n",
       "      <td>60660</td>\n",
       "      <td>Cook</td>\n",
       "      <td>(41.988403, -87.655337)</td>\n",
       "      <td>5838 NORTH SHERIDAN ROAD, CHICAGO, IL, 60660</td>\n",
       "      <td>(41.9884028, -87.65567059122193)</td>\n",
       "    </tr>\n",
       "    <tr>\n",
       "      <th>13</th>\n",
       "      <td>145691</td>\n",
       "      <td>HALLMARK HEALTHCARE OF PEKIN</td>\n",
       "      <td>2501 ALLENTOWN ROAD</td>\n",
       "      <td>PEKIN</td>\n",
       "      <td>IL</td>\n",
       "      <td>61554</td>\n",
       "      <td>Tazewell</td>\n",
       "      <td>(40.555505, -89.608493)</td>\n",
       "      <td>2501 ALLENTOWN ROAD, PEKIN, IL, 61554</td>\n",
       "      <td>(40.555657, -89.608786)</td>\n",
       "    </tr>\n",
       "    <tr>\n",
       "      <th>14</th>\n",
       "      <td>145924</td>\n",
       "      <td>CHAMPAIGN REHAB CENTER</td>\n",
       "      <td>1915 SOUTH MATTIS STREET</td>\n",
       "      <td>CHAMPAIGN</td>\n",
       "      <td>IL</td>\n",
       "      <td>61821</td>\n",
       "      <td>Champaign</td>\n",
       "      <td>(40.091516, -88.276416)</td>\n",
       "      <td>1915 SOUTH MATTIS STREET, CHAMPAIGN, IL, 61821</td>\n",
       "      <td>(40.1110535, -88.2767334)</td>\n",
       "    </tr>\n",
       "    <tr>\n",
       "      <th>15</th>\n",
       "      <td>146074</td>\n",
       "      <td>MASON POINT</td>\n",
       "      <td>ONE MASONIC WAY</td>\n",
       "      <td>SULLIVAN</td>\n",
       "      <td>IL</td>\n",
       "      <td>61951</td>\n",
       "      <td>Moultrie</td>\n",
       "      <td>None</td>\n",
       "      <td>ONE MASONIC WAY, SULLIVAN, IL, 61951</td>\n",
       "      <td>Data Input Error</td>\n",
       "    </tr>\n",
       "    <tr>\n",
       "      <th>16</th>\n",
       "      <td>155290</td>\n",
       "      <td>ST ELIZABETH HEALTHCARE CENTER</td>\n",
       "      <td>701 ARMORY RD</td>\n",
       "      <td>DELPHI</td>\n",
       "      <td>IN</td>\n",
       "      <td>46923</td>\n",
       "      <td>Carroll</td>\n",
       "      <td>(40.576453, -86.672233)</td>\n",
       "      <td>701 ARMORY RD, DELPHI, IN, 46923</td>\n",
       "      <td>Data Input Error</td>\n",
       "    </tr>\n",
       "    <tr>\n",
       "      <th>17</th>\n",
       "      <td>155349</td>\n",
       "      <td>SAINT ANNE HOME</td>\n",
       "      <td>1900 RANDALLIA DR</td>\n",
       "      <td>FORT WAYNE</td>\n",
       "      <td>IN</td>\n",
       "      <td>46805</td>\n",
       "      <td>Allen</td>\n",
       "      <td>(41.093492, -85.11143)</td>\n",
       "      <td>1900 RANDALLIA DR, FORT WAYNE, IN, 46805</td>\n",
       "      <td>Data Input Error</td>\n",
       "    </tr>\n",
       "    <tr>\n",
       "      <th>18</th>\n",
       "      <td>155358</td>\n",
       "      <td>MEADOWS MANOR EAST</td>\n",
       "      <td>3300 POPLAR ST</td>\n",
       "      <td>TERRE HAUTE</td>\n",
       "      <td>IN</td>\n",
       "      <td>47803</td>\n",
       "      <td>Vigo</td>\n",
       "      <td>(39.462953, -87.36899)</td>\n",
       "      <td>3300 POPLAR ST, TERRE HAUTE, IN, 47803</td>\n",
       "      <td>(39.4627909, -87.3326209)</td>\n",
       "    </tr>\n",
       "    <tr>\n",
       "      <th>19</th>\n",
       "      <td>155359</td>\n",
       "      <td>MAJESTIC CARE OF FORT WAYNE</td>\n",
       "      <td>7519 WINCHESTER RD</td>\n",
       "      <td>FORT WAYNE</td>\n",
       "      <td>IN</td>\n",
       "      <td>46819</td>\n",
       "      <td>Allen</td>\n",
       "      <td>(41.013635, -85.143034)</td>\n",
       "      <td>7519 WINCHESTER RD, FORT WAYNE, IN, 46819</td>\n",
       "      <td>(41.013826, -85.1427194)</td>\n",
       "    </tr>\n",
       "  </tbody>\n",
       "</table>\n",
       "</div>"
      ],
      "text/plain": [
       "   federal_provider_number                             provider_name  \\\n",
       "0                   035242                       CHINLE NURSING HOME   \n",
       "1                   045143            CONCORDIA NURSING & REHAB, LLC   \n",
       "2                   045460       COLONEL GLENN HEALTH AND REHAB, LLC   \n",
       "3                   056317            GLENOAKS CONVALESCENT HOSPITAL   \n",
       "4                   065309            WASHINGTON COUNTY NURSING HOME   \n",
       "5                   06A088  LITTLE SISTERS OF THE POOR - MULLEN HOME   \n",
       "6                   105089           MANOR PINES CONVALESCENT CENTER   \n",
       "7                   105384                            CALUSA HARBOUR   \n",
       "8                   115275                A.G. RHODES HOME, INC, THE   \n",
       "9                   145323             CARRIER MILLS NSG & REHAB CTR   \n",
       "10                  145337                   SYMPHONY OF BRONZEVILLE   \n",
       "11                  145424  LANDMARK OF RICHTON PARK REHAB & NSG CTR   \n",
       "12                  145482               SHERIDAN VILLAGE NRSG & RHB   \n",
       "13                  145691              HALLMARK HEALTHCARE OF PEKIN   \n",
       "14                  145924                    CHAMPAIGN REHAB CENTER   \n",
       "15                  146074                               MASON POINT   \n",
       "16                  155290            ST ELIZABETH HEALTHCARE CENTER   \n",
       "17                  155349                           SAINT ANNE HOME   \n",
       "18                  155358                        MEADOWS MANOR EAST   \n",
       "19                  155359               MAJESTIC CARE OF FORT WAYNE   \n",
       "\n",
       "               provider_address    provider_city provider_state  \\\n",
       "0   HIGHWAY 191 & HOSPITAL ROAD           CHINLE             AZ   \n",
       "1          7 PROFESSIONAL DRIVE      BELLA VISTA             AR   \n",
       "2       13700 DAVID O DODD ROAD      LITTLE ROCK             AR   \n",
       "3         409 W. GLENOAKS BLVD.         GLENDALE             CA   \n",
       "4           676 W GREENHOUSE DR            AKRON             CO   \n",
       "5               3629 W 29TH AVE           DENVER             CO   \n",
       "6               1701 NE 26TH ST  FORT LAUDERDALE             FL   \n",
       "7                 2525 FIRST ST       FORT MYERS             FL   \n",
       "8            350 BOULVARD, S.E.          ATLANTA             GA   \n",
       "9                 6789 US RT 45    CARRIER MILLS             IL   \n",
       "10           3400 SOUTH INDIANA          CHICAGO             IL   \n",
       "11    22660 SOUTH CICERO AVENUE     RICHTON PARK             IL   \n",
       "12     5838 NORTH SHERIDAN ROAD          CHICAGO             IL   \n",
       "13          2501 ALLENTOWN ROAD            PEKIN             IL   \n",
       "14     1915 SOUTH MATTIS STREET        CHAMPAIGN             IL   \n",
       "15              ONE MASONIC WAY         SULLIVAN             IL   \n",
       "16                701 ARMORY RD           DELPHI             IN   \n",
       "17            1900 RANDALLIA DR       FORT WAYNE             IN   \n",
       "18               3300 POPLAR ST      TERRE HAUTE             IN   \n",
       "19           7519 WINCHESTER RD       FORT WAYNE             IN   \n",
       "\n",
       "   provider_zip_code       county                       geolocation  \\\n",
       "0              86503       Apache                              None   \n",
       "1              72714       Benton   (36.474911, -94.25299200000002)   \n",
       "2              72210      Pulaski           (34.708313, -92.410304)   \n",
       "3              91202  Los Angeles  (34.159818, -118.26193000000002)   \n",
       "4              80720   Washington                              None   \n",
       "5              80211       Denver          (39.758508, -105.035758)   \n",
       "6              33305      Broward   (26.159670000000002, -80.12451)   \n",
       "7              33901          Lee           (26.647471, -81.864238)   \n",
       "8              30312       Fulton                              None   \n",
       "9              62917       Saline                              None   \n",
       "10             60616         Cook           (41.832778, -87.621794)   \n",
       "11             60471         Cook                              None   \n",
       "12             60660         Cook           (41.988403, -87.655337)   \n",
       "13             61554     Tazewell           (40.555505, -89.608493)   \n",
       "14             61821    Champaign           (40.091516, -88.276416)   \n",
       "15             61951     Moultrie                              None   \n",
       "16             46923      Carroll           (40.576453, -86.672233)   \n",
       "17             46805        Allen            (41.093492, -85.11143)   \n",
       "18             47803         Vigo            (39.462953, -87.36899)   \n",
       "19             46819        Allen           (41.013635, -85.143034)   \n",
       "\n",
       "                                         full_address  \\\n",
       "0      HIGHWAY 191 & HOSPITAL ROAD, CHINLE, AZ, 86503   \n",
       "1        7 PROFESSIONAL DRIVE, BELLA VISTA, AR, 72714   \n",
       "2     13700 DAVID O DODD ROAD, LITTLE ROCK, AR, 72210   \n",
       "3          409 W. GLENOAKS BLVD., GLENDALE, CA, 91202   \n",
       "4               676 W GREENHOUSE DR, AKRON, CO, 80720   \n",
       "5                  3629 W 29TH AVE, DENVER, CO, 80211   \n",
       "6         1701 NE 26TH ST, FORT LAUDERDALE, FL, 33305   \n",
       "7                2525 FIRST ST, FORT MYERS, FL, 33901   \n",
       "8              350 BOULVARD, S.E., ATLANTA, GA, 30312   \n",
       "9             6789 US RT 45, CARRIER MILLS, IL, 62917   \n",
       "10             3400 SOUTH INDIANA, CHICAGO, IL, 60616   \n",
       "11  22660 SOUTH CICERO AVENUE, RICHTON PARK, IL, 6...   \n",
       "12       5838 NORTH SHERIDAN ROAD, CHICAGO, IL, 60660   \n",
       "13              2501 ALLENTOWN ROAD, PEKIN, IL, 61554   \n",
       "14     1915 SOUTH MATTIS STREET, CHAMPAIGN, IL, 61821   \n",
       "15               ONE MASONIC WAY, SULLIVAN, IL, 61951   \n",
       "16                   701 ARMORY RD, DELPHI, IN, 46923   \n",
       "17           1900 RANDALLIA DR, FORT WAYNE, IN, 46805   \n",
       "18             3300 POPLAR ST, TERRE HAUTE, IN, 47803   \n",
       "19          7519 WINCHESTER RD, FORT WAYNE, IN, 46819   \n",
       "\n",
       "                                         geo  \n",
       "0                           Data Input Error  \n",
       "1                           Data Input Error  \n",
       "2                    (34.708389, -92.410092)  \n",
       "3   (34.159914072873924, -118.2624365591205)  \n",
       "4                           Data Input Error  \n",
       "5           (39.759577, -105.03614551455956)  \n",
       "6                  (26.1598026, -80.1180731)  \n",
       "7          (26.64866775, -81.86512731343228)  \n",
       "8                           Data Input Error  \n",
       "9                           Data Input Error  \n",
       "10                          Data Input Error  \n",
       "11                 (41.4562535, -87.7322514)  \n",
       "12          (41.9884028, -87.65567059122193)  \n",
       "13                   (40.555657, -89.608786)  \n",
       "14                 (40.1110535, -88.2767334)  \n",
       "15                          Data Input Error  \n",
       "16                          Data Input Error  \n",
       "17                          Data Input Error  \n",
       "18                 (39.4627909, -87.3326209)  \n",
       "19                  (41.013826, -85.1427194)  "
      ]
     },
     "execution_count": 115,
     "metadata": {},
     "output_type": "execute_result"
    }
   ],
   "source": [
    "smaller"
   ]
  },
  {
   "cell_type": "code",
   "execution_count": 148,
   "id": "upper-english",
   "metadata": {},
   "outputs": [],
   "source": [
    "nulls = no_dup[no_dup['geolocation'].isnull()]"
   ]
  },
  {
   "cell_type": "code",
   "execution_count": 163,
   "id": "remarkable-mirror",
   "metadata": {},
   "outputs": [
    {
     "data": {
      "text/plain": [
       "0         86503\n",
       "4         80720\n",
       "8         30312\n",
       "9         62917\n",
       "11        60471\n",
       "          ...  \n",
       "607659    77845\n",
       "607683    76549\n",
       "607696    75090\n",
       "607859    78070\n",
       "608000    77640\n",
       "Name: geolocation, Length: 1199, dtype: object"
      ]
     },
     "execution_count": 163,
     "metadata": {},
     "output_type": "execute_result"
    }
   ],
   "source": [
    "nulls['geolocation']"
   ]
  },
  {
   "cell_type": "code",
   "execution_count": 159,
   "id": "bottom-atlantic",
   "metadata": {},
   "outputs": [
    {
     "name": "stderr",
     "output_type": "stream",
     "text": [
      "<ipython-input-159-b879417a5aeb>:1: SettingWithCopyWarning: \n",
      "A value is trying to be set on a copy of a slice from a DataFrame.\n",
      "Try using .loc[row_indexer,col_indexer] = value instead\n",
      "\n",
      "See the caveats in the documentation: https://pandas.pydata.org/pandas-docs/stable/user_guide/indexing.html#returning-a-view-versus-a-copy\n",
      "  nulls['geolocation']= nulls['provider_zip_code']\n"
     ]
    }
   ],
   "source": [
    "nulls['geolocation']= nulls['provider_zip_code']"
   ]
  },
  {
   "cell_type": "code",
   "execution_count": 164,
   "id": "latter-rebecca",
   "metadata": {},
   "outputs": [],
   "source": [
    "def geo_null(address):\n",
    "    location = geolocator.geocode(address)\n",
    "    return (location.latitude, location.longitude)"
   ]
  },
  {
   "cell_type": "code",
   "execution_count": 165,
   "id": "enabling-reason",
   "metadata": {},
   "outputs": [
    {
     "name": "stderr",
     "output_type": "stream",
     "text": [
      "<ipython-input-165-d81eea947679>:1: SettingWithCopyWarning: \n",
      "A value is trying to be set on a copy of a slice from a DataFrame.\n",
      "Try using .loc[row_indexer,col_indexer] = value instead\n",
      "\n",
      "See the caveats in the documentation: https://pandas.pydata.org/pandas-docs/stable/user_guide/indexing.html#returning-a-view-versus-a-copy\n",
      "  nulls['geolocation'] = nulls['geolocation'].apply(geo_null)\n"
     ]
    }
   ],
   "source": [
    "nulls['geolocation'] = nulls['geolocation'].apply(geo_null)"
   ]
  },
  {
   "cell_type": "code",
   "execution_count": 174,
   "id": "taken-volunteer",
   "metadata": {},
   "outputs": [],
   "source": [
    "nulls_z = nulls[['federal_provider_number', 'geolocation']]"
   ]
  },
  {
   "cell_type": "code",
   "execution_count": 175,
   "id": "criminal-nerve",
   "metadata": {},
   "outputs": [],
   "source": [
    "new = no_dup.merge(nulls_z, on = 'federal_provider_number')"
   ]
  },
  {
   "cell_type": "code",
   "execution_count": 177,
   "id": "narrative-bunch",
   "metadata": {},
   "outputs": [],
   "source": [
    "new.drop(columns = ['geolocation_x'], axis=1, inplace=True)"
   ]
  },
  {
   "cell_type": "code",
   "execution_count": 179,
   "id": "basic-scott",
   "metadata": {},
   "outputs": [
    {
     "data": {
      "text/html": [
       "<div>\n",
       "<style scoped>\n",
       "    .dataframe tbody tr th:only-of-type {\n",
       "        vertical-align: middle;\n",
       "    }\n",
       "\n",
       "    .dataframe tbody tr th {\n",
       "        vertical-align: top;\n",
       "    }\n",
       "\n",
       "    .dataframe thead th {\n",
       "        text-align: right;\n",
       "    }\n",
       "</style>\n",
       "<table border=\"1\" class=\"dataframe\">\n",
       "  <thead>\n",
       "    <tr style=\"text-align: right;\">\n",
       "      <th></th>\n",
       "      <th>federal_provider_number</th>\n",
       "      <th>provider_name</th>\n",
       "      <th>provider_address</th>\n",
       "      <th>provider_city</th>\n",
       "      <th>provider_state</th>\n",
       "      <th>provider_zip_code</th>\n",
       "      <th>county</th>\n",
       "      <th>full_address</th>\n",
       "      <th>geolocation_y</th>\n",
       "    </tr>\n",
       "  </thead>\n",
       "  <tbody>\n",
       "    <tr>\n",
       "      <th>0</th>\n",
       "      <td>035242</td>\n",
       "      <td>CHINLE NURSING HOME</td>\n",
       "      <td>HIGHWAY 191 &amp; HOSPITAL ROAD</td>\n",
       "      <td>CHINLE</td>\n",
       "      <td>AZ</td>\n",
       "      <td>86503</td>\n",
       "      <td>Apache</td>\n",
       "      <td>HIGHWAY 191 &amp; HOSPITAL ROAD, CHINLE, AZ, 86503</td>\n",
       "      <td>(36.16763243080752, -109.68806973451998)</td>\n",
       "    </tr>\n",
       "    <tr>\n",
       "      <th>1</th>\n",
       "      <td>065309</td>\n",
       "      <td>WASHINGTON COUNTY NURSING HOME</td>\n",
       "      <td>676 W GREENHOUSE DR</td>\n",
       "      <td>AKRON</td>\n",
       "      <td>CO</td>\n",
       "      <td>80720</td>\n",
       "      <td>Washington</td>\n",
       "      <td>676 W GREENHOUSE DR, AKRON, CO, 80720</td>\n",
       "      <td>(49.82296369811355, 24.514349484476256)</td>\n",
       "    </tr>\n",
       "    <tr>\n",
       "      <th>2</th>\n",
       "      <td>115275</td>\n",
       "      <td>A.G. RHODES HOME, INC, THE</td>\n",
       "      <td>350 BOULVARD, S.E.</td>\n",
       "      <td>ATLANTA</td>\n",
       "      <td>GA</td>\n",
       "      <td>30312</td>\n",
       "      <td>Fulton</td>\n",
       "      <td>350 BOULVARD, S.E., ATLANTA, GA, 30312</td>\n",
       "      <td>(33.74310470677914, -84.37445028551396)</td>\n",
       "    </tr>\n",
       "    <tr>\n",
       "      <th>3</th>\n",
       "      <td>145323</td>\n",
       "      <td>CARRIER MILLS NSG &amp; REHAB CTR</td>\n",
       "      <td>6789 US RT 45</td>\n",
       "      <td>CARRIER MILLS</td>\n",
       "      <td>IL</td>\n",
       "      <td>62917</td>\n",
       "      <td>Saline</td>\n",
       "      <td>6789 US RT 45, CARRIER MILLS, IL, 62917</td>\n",
       "      <td>(37.682745708232396, -88.62537025784138)</td>\n",
       "    </tr>\n",
       "    <tr>\n",
       "      <th>4</th>\n",
       "      <td>145424</td>\n",
       "      <td>LANDMARK OF RICHTON PARK REHAB &amp; NSG CTR</td>\n",
       "      <td>22660 SOUTH CICERO AVENUE</td>\n",
       "      <td>RICHTON PARK</td>\n",
       "      <td>IL</td>\n",
       "      <td>60471</td>\n",
       "      <td>Cook</td>\n",
       "      <td>22660 SOUTH CICERO AVENUE, RICHTON PARK, IL, 6...</td>\n",
       "      <td>(41.48200539573889, -87.72284133679652)</td>\n",
       "    </tr>\n",
       "  </tbody>\n",
       "</table>\n",
       "</div>"
      ],
      "text/plain": [
       "  federal_provider_number                             provider_name  \\\n",
       "0                  035242                       CHINLE NURSING HOME   \n",
       "1                  065309            WASHINGTON COUNTY NURSING HOME   \n",
       "2                  115275                A.G. RHODES HOME, INC, THE   \n",
       "3                  145323             CARRIER MILLS NSG & REHAB CTR   \n",
       "4                  145424  LANDMARK OF RICHTON PARK REHAB & NSG CTR   \n",
       "\n",
       "              provider_address  provider_city provider_state  \\\n",
       "0  HIGHWAY 191 & HOSPITAL ROAD         CHINLE             AZ   \n",
       "1          676 W GREENHOUSE DR          AKRON             CO   \n",
       "2           350 BOULVARD, S.E.        ATLANTA             GA   \n",
       "3                6789 US RT 45  CARRIER MILLS             IL   \n",
       "4    22660 SOUTH CICERO AVENUE   RICHTON PARK             IL   \n",
       "\n",
       "  provider_zip_code      county  \\\n",
       "0             86503      Apache   \n",
       "1             80720  Washington   \n",
       "2             30312      Fulton   \n",
       "3             62917      Saline   \n",
       "4             60471        Cook   \n",
       "\n",
       "                                        full_address  \\\n",
       "0     HIGHWAY 191 & HOSPITAL ROAD, CHINLE, AZ, 86503   \n",
       "1              676 W GREENHOUSE DR, AKRON, CO, 80720   \n",
       "2             350 BOULVARD, S.E., ATLANTA, GA, 30312   \n",
       "3            6789 US RT 45, CARRIER MILLS, IL, 62917   \n",
       "4  22660 SOUTH CICERO AVENUE, RICHTON PARK, IL, 6...   \n",
       "\n",
       "                              geolocation_y  \n",
       "0  (36.16763243080752, -109.68806973451998)  \n",
       "1   (49.82296369811355, 24.514349484476256)  \n",
       "2   (33.74310470677914, -84.37445028551396)  \n",
       "3  (37.682745708232396, -88.62537025784138)  \n",
       "4   (41.48200539573889, -87.72284133679652)  "
      ]
     },
     "execution_count": 179,
     "metadata": {},
     "output_type": "execute_result"
    }
   ],
   "source": [
    "new.head()"
   ]
  },
  {
   "cell_type": "code",
   "execution_count": null,
   "id": "centered-violence",
   "metadata": {},
   "outputs": [],
   "source": []
  }
 ],
 "metadata": {
  "kernelspec": {
   "display_name": "Python 3",
   "language": "python",
   "name": "python3"
  },
  "language_info": {
   "codemirror_mode": {
    "name": "ipython",
    "version": 3
   },
   "file_extension": ".py",
   "mimetype": "text/x-python",
   "name": "python",
   "nbconvert_exporter": "python",
   "pygments_lexer": "ipython3",
   "version": "3.8.7"
  }
 },
 "nbformat": 4,
 "nbformat_minor": 5
}
