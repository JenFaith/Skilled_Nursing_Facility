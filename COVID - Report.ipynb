{
 "cells": [
  {
   "cell_type": "markdown",
   "id": "sufficient-distinction",
   "metadata": {},
   "source": [
    "## Imports"
   ]
  },
  {
   "cell_type": "code",
   "execution_count": 1,
   "id": "photographic-chicago",
   "metadata": {},
   "outputs": [],
   "source": [
    "import numpy as np\n",
    "import pandas as pd\n",
    "import warnings\n",
    "warnings.filterwarnings(\"ignore\")"
   ]
  },
  {
   "cell_type": "code",
   "execution_count": 2,
   "id": "radical-logic",
   "metadata": {},
   "outputs": [],
   "source": [
    "df = pd.read_csv(\"COVID-19_Nursing_Home_Dataset.csv\", parse_dates=['Week Ending'])"
   ]
  },
  {
   "cell_type": "markdown",
   "id": "spare-appendix",
   "metadata": {},
   "source": [
    "## Basic Analysis "
   ]
  },
  {
   "cell_type": "code",
   "execution_count": 18,
   "id": "sexual-jungle",
   "metadata": {},
   "outputs": [
    {
     "data": {
      "text/plain": [
       "(567976, 122)"
      ]
     },
     "execution_count": 18,
     "metadata": {},
     "output_type": "execute_result"
    }
   ],
   "source": [
    "all_shape = df.shape\n",
    "all_shape"
   ]
  },
  {
   "cell_type": "code",
   "execution_count": 4,
   "id": "listed-soundtrack",
   "metadata": {},
   "outputs": [],
   "source": [
    "submitted = df[df['Submitted Data']=='Y']"
   ]
  },
  {
   "cell_type": "code",
   "execution_count": 5,
   "id": "hispanic-hawaiian",
   "metadata": {},
   "outputs": [],
   "source": [
    "did_sub_shape = submitted.shape"
   ]
  },
  {
   "cell_type": "code",
   "execution_count": 6,
   "id": "matched-terrorist",
   "metadata": {},
   "outputs": [
    {
     "data": {
      "text/plain": [
       "6097"
      ]
     },
     "execution_count": 6,
     "metadata": {},
     "output_type": "execute_result"
    }
   ],
   "source": [
    "# Only 6,097 missing rows of data\n",
    "\n",
    "all_shape[0]-did_sub_shape[0]"
   ]
  },
  {
   "cell_type": "code",
   "execution_count": 19,
   "id": "social-antibody",
   "metadata": {},
   "outputs": [
    {
     "data": {
      "text/plain": [
       "19171"
      ]
     },
     "execution_count": 19,
     "metadata": {},
     "output_type": "execute_result"
    }
   ],
   "source": [
    "# 19,171 unique federal provider numbers for skilled nursing facilities\n",
    "\n",
    "df['Federal Provider Number'].nunique()"
   ]
  },
  {
   "cell_type": "code",
   "execution_count": 20,
   "id": "religious-breakdown",
   "metadata": {},
   "outputs": [
    {
     "data": {
      "text/html": [
       "<div>\n",
       "<style scoped>\n",
       "    .dataframe tbody tr th:only-of-type {\n",
       "        vertical-align: middle;\n",
       "    }\n",
       "\n",
       "    .dataframe tbody tr th {\n",
       "        vertical-align: top;\n",
       "    }\n",
       "\n",
       "    .dataframe thead th {\n",
       "        text-align: right;\n",
       "    }\n",
       "</style>\n",
       "<table border=\"1\" class=\"dataframe\">\n",
       "  <thead>\n",
       "    <tr style=\"text-align: right;\">\n",
       "      <th></th>\n",
       "      <th>Week Ending</th>\n",
       "      <th>Federal Provider Number</th>\n",
       "      <th>Provider Name</th>\n",
       "      <th>Provider Address</th>\n",
       "      <th>Provider City</th>\n",
       "      <th>Provider State</th>\n",
       "      <th>Provider Zip Code</th>\n",
       "      <th>Submitted Data</th>\n",
       "      <th>Passed Quality Assurance Check</th>\n",
       "      <th>Residents Weekly Admissions COVID-19</th>\n",
       "      <th>...</th>\n",
       "      <th>Number of Staff and/or Personnel with a New Positive COVID-19 Test Result with Positive Antigen Test AND Negative NAAT (PCR) Test</th>\n",
       "      <th>Number of Staff and/or Personnel with a New Positive COVID-19 Test Result with Any Other Combination of Antigen Test and/or NAAT (PCR) Test with At Least One Positive Test</th>\n",
       "      <th>Number of Staff and/or Personnel with a New Positive COVID-19 Test Result who are Reinfected</th>\n",
       "      <th>Number of Staff and/or Personnel with a New Positive COVID-19 Test Result who are Reinfected and Symptomatic</th>\n",
       "      <th>Number of Staff and/or Personnel with a New Positive COVID-19 Test Result who are Reinfected and Asymptomatic</th>\n",
       "      <th>Number of Staff and/or Personnel with New Influenza</th>\n",
       "      <th>Number of Staff and/or Personnel with Acute Respiratory Illness Symptoms Excluding COVID-19 and/or Influenza</th>\n",
       "      <th>Number of Staff and/or Personnel with Confirmed Coinfection with Influenza and COVID-19</th>\n",
       "      <th>Submitted Data Counts</th>\n",
       "      <th>Passed Quality Counts</th>\n",
       "    </tr>\n",
       "  </thead>\n",
       "  <tbody>\n",
       "    <tr>\n",
       "      <th>0</th>\n",
       "      <td>2020-05-24</td>\n",
       "      <td>045189</td>\n",
       "      <td>SOMERSET SENIOR LIVING AT PINE HILLS</td>\n",
       "      <td>900 MAGNOLIA RD</td>\n",
       "      <td>CAMDEN</td>\n",
       "      <td>AR</td>\n",
       "      <td>71701</td>\n",
       "      <td>N</td>\n",
       "      <td>NaN</td>\n",
       "      <td>NaN</td>\n",
       "      <td>...</td>\n",
       "      <td>NaN</td>\n",
       "      <td>NaN</td>\n",
       "      <td>NaN</td>\n",
       "      <td>NaN</td>\n",
       "      <td>NaN</td>\n",
       "      <td>NaN</td>\n",
       "      <td>NaN</td>\n",
       "      <td>NaN</td>\n",
       "      <td>0</td>\n",
       "      <td>0</td>\n",
       "    </tr>\n",
       "  </tbody>\n",
       "</table>\n",
       "<p>1 rows × 122 columns</p>\n",
       "</div>"
      ],
      "text/plain": [
       "  Week Ending Federal Provider Number                         Provider Name  \\\n",
       "0  2020-05-24                  045189  SOMERSET SENIOR LIVING AT PINE HILLS   \n",
       "\n",
       "  Provider Address Provider City Provider State  Provider Zip Code  \\\n",
       "0  900 MAGNOLIA RD        CAMDEN             AR              71701   \n",
       "\n",
       "  Submitted Data Passed Quality Assurance Check  \\\n",
       "0              N                            NaN   \n",
       "\n",
       "   Residents Weekly Admissions COVID-19  ...  \\\n",
       "0                                   NaN  ...   \n",
       "\n",
       "   Number of Staff and/or Personnel with a New Positive COVID-19 Test Result with Positive Antigen Test AND Negative NAAT (PCR) Test  \\\n",
       "0                                                NaN                                                                                   \n",
       "\n",
       "   Number of Staff and/or Personnel with a New Positive COVID-19 Test Result with Any Other Combination of Antigen Test and/or NAAT (PCR) Test with At Least One Positive Test  \\\n",
       "0                                                NaN                                                                                                                             \n",
       "\n",
       "   Number of Staff and/or Personnel with a New Positive COVID-19 Test Result who are Reinfected  \\\n",
       "0                                                NaN                                              \n",
       "\n",
       "   Number of Staff and/or Personnel with a New Positive COVID-19 Test Result who are Reinfected and Symptomatic  \\\n",
       "0                                                NaN                                                              \n",
       "\n",
       "   Number of Staff and/or Personnel with a New Positive COVID-19 Test Result who are Reinfected and Asymptomatic  \\\n",
       "0                                                NaN                                                               \n",
       "\n",
       "   Number of Staff and/or Personnel with New Influenza  \\\n",
       "0                                                NaN     \n",
       "\n",
       "   Number of Staff and/or Personnel with Acute Respiratory Illness Symptoms Excluding COVID-19 and/or Influenza  \\\n",
       "0                                                NaN                                                              \n",
       "\n",
       "   Number of Staff and/or Personnel with Confirmed Coinfection with Influenza and COVID-19  \\\n",
       "0                                                NaN                                         \n",
       "\n",
       "   Submitted Data Counts  Passed Quality Counts  \n",
       "0                      0                      0  \n",
       "\n",
       "[1 rows x 122 columns]"
      ]
     },
     "execution_count": 20,
     "metadata": {},
     "output_type": "execute_result"
    }
   ],
   "source": [
    "df.head(1)"
   ]
  },
  {
   "cell_type": "code",
   "execution_count": 21,
   "id": "constant-carpet",
   "metadata": {},
   "outputs": [
    {
     "data": {
      "text/plain": [
       "19100"
      ]
     },
     "execution_count": 21,
     "metadata": {},
     "output_type": "execute_result"
    }
   ],
   "source": [
    "# 71 facilities did not submit data\n",
    "\n",
    "submitted['Federal Provider Number'].nunique()"
   ]
  },
  {
   "cell_type": "code",
   "execution_count": 22,
   "id": "western-marina",
   "metadata": {},
   "outputs": [
    {
     "data": {
      "text/plain": [
       "15353.25"
      ]
     },
     "execution_count": 22,
     "metadata": {},
     "output_type": "execute_result"
    }
   ],
   "source": [
    "# First report for 2020 was filed the week of May 24th\n",
    "# There are 31 weeks between those dates\n",
    "# On average, 15,353 reports were filed weekly\n",
    "year_2020 = df[df['Week Ending'] < '12/31/20']\n",
    "year_2020['Week Ending'].value_counts().mean()"
   ]
  },
  {
   "cell_type": "code",
   "execution_count": 23,
   "id": "opponent-forth",
   "metadata": {},
   "outputs": [],
   "source": [
    "# finding distribution of reporting\n",
    "df['Submitted Data Counts'] = np.where(df['Submitted Data']=='N', 0, 1)\n",
    "df['Passed Quality Counts'] = np.where(df['Passed Quality Assurance Check']==\"Y\", 1, 0)"
   ]
  },
  {
   "cell_type": "code",
   "execution_count": 24,
   "id": "small-projection",
   "metadata": {},
   "outputs": [],
   "source": [
    "grouped = df.groupby(by = ['Federal Provider Number', 'Provider Name', 'Provider State']).sum().reset_index()"
   ]
  },
  {
   "cell_type": "code",
   "execution_count": 25,
   "id": "blank-interpretation",
   "metadata": {},
   "outputs": [
    {
     "data": {
      "text/plain": [
       "29.308799749621823"
      ]
     },
     "execution_count": 25,
     "metadata": {},
     "output_type": "execute_result"
    }
   ],
   "source": [
    "# On average, facilities submitted for 29 of the 31 weeks\n",
    "# That's a fairly good average\n",
    "grouped['Submitted Data Counts'].mean()"
   ]
  },
  {
   "cell_type": "code",
   "execution_count": 30,
   "id": "global-nutrition",
   "metadata": {},
   "outputs": [
    {
     "data": {
      "text/html": [
       "<div>\n",
       "<style scoped>\n",
       "    .dataframe tbody tr th:only-of-type {\n",
       "        vertical-align: middle;\n",
       "    }\n",
       "\n",
       "    .dataframe tbody tr th {\n",
       "        vertical-align: top;\n",
       "    }\n",
       "\n",
       "    .dataframe thead th {\n",
       "        text-align: right;\n",
       "    }\n",
       "</style>\n",
       "<table border=\"1\" class=\"dataframe\">\n",
       "  <thead>\n",
       "    <tr style=\"text-align: right;\">\n",
       "      <th></th>\n",
       "      <th>Federal Provider Number</th>\n",
       "      <th>Provider Name</th>\n",
       "      <th>Provider State</th>\n",
       "      <th>Provider Zip Code</th>\n",
       "      <th>Residents Weekly Admissions COVID-19</th>\n",
       "      <th>Residents Total Admissions COVID-19</th>\n",
       "      <th>Residents Weekly Confirmed COVID-19</th>\n",
       "      <th>Residents Total Confirmed COVID-19</th>\n",
       "      <th>Residents Weekly Suspected COVID-19</th>\n",
       "      <th>Residents Total Suspected COVID-19</th>\n",
       "      <th>...</th>\n",
       "      <th>Number of Staff and/or Personnel with a New Positive COVID-19 Test Result with Positive Antigen Test AND Negative NAAT (PCR) Test</th>\n",
       "      <th>Number of Staff and/or Personnel with a New Positive COVID-19 Test Result with Any Other Combination of Antigen Test and/or NAAT (PCR) Test with At Least One Positive Test</th>\n",
       "      <th>Number of Staff and/or Personnel with a New Positive COVID-19 Test Result who are Reinfected</th>\n",
       "      <th>Number of Staff and/or Personnel with a New Positive COVID-19 Test Result who are Reinfected and Symptomatic</th>\n",
       "      <th>Number of Staff and/or Personnel with a New Positive COVID-19 Test Result who are Reinfected and Asymptomatic</th>\n",
       "      <th>Number of Staff and/or Personnel with New Influenza</th>\n",
       "      <th>Number of Staff and/or Personnel with Acute Respiratory Illness Symptoms Excluding COVID-19 and/or Influenza</th>\n",
       "      <th>Number of Staff and/or Personnel with Confirmed Coinfection with Influenza and COVID-19</th>\n",
       "      <th>Submitted Data Counts</th>\n",
       "      <th>Passed Quality Counts</th>\n",
       "    </tr>\n",
       "  </thead>\n",
       "  <tbody>\n",
       "    <tr>\n",
       "      <th>0</th>\n",
       "      <td>55139</td>\n",
       "      <td>SANTA TERESITA MANOR</td>\n",
       "      <td>CA</td>\n",
       "      <td>182020</td>\n",
       "      <td>0.0</td>\n",
       "      <td>4.0</td>\n",
       "      <td>0.0</td>\n",
       "      <td>12.0</td>\n",
       "      <td>0.0</td>\n",
       "      <td>0.0</td>\n",
       "      <td>...</td>\n",
       "      <td>0.0</td>\n",
       "      <td>0.0</td>\n",
       "      <td>0.0</td>\n",
       "      <td>0.0</td>\n",
       "      <td>0.0</td>\n",
       "      <td>0.0</td>\n",
       "      <td>0.0</td>\n",
       "      <td>0.0</td>\n",
       "      <td>2</td>\n",
       "      <td>2</td>\n",
       "    </tr>\n",
       "    <tr>\n",
       "      <th>1</th>\n",
       "      <td>55141</td>\n",
       "      <td>RAMONA NURSING &amp; REHABILITATION CENTER</td>\n",
       "      <td>CA</td>\n",
       "      <td>91732</td>\n",
       "      <td>0.0</td>\n",
       "      <td>21.0</td>\n",
       "      <td>0.0</td>\n",
       "      <td>63.0</td>\n",
       "      <td>3.0</td>\n",
       "      <td>32.0</td>\n",
       "      <td>...</td>\n",
       "      <td>0.0</td>\n",
       "      <td>0.0</td>\n",
       "      <td>0.0</td>\n",
       "      <td>0.0</td>\n",
       "      <td>0.0</td>\n",
       "      <td>0.0</td>\n",
       "      <td>0.0</td>\n",
       "      <td>0.0</td>\n",
       "      <td>1</td>\n",
       "      <td>1</td>\n",
       "    </tr>\n",
       "    <tr>\n",
       "      <th>2</th>\n",
       "      <td>55147</td>\n",
       "      <td>MADERA REHABILITATION &amp; NURSING CENTER</td>\n",
       "      <td>CA</td>\n",
       "      <td>374552</td>\n",
       "      <td>8.0</td>\n",
       "      <td>72.0</td>\n",
       "      <td>30.0</td>\n",
       "      <td>289.0</td>\n",
       "      <td>14.0</td>\n",
       "      <td>342.0</td>\n",
       "      <td>...</td>\n",
       "      <td>0.0</td>\n",
       "      <td>0.0</td>\n",
       "      <td>0.0</td>\n",
       "      <td>0.0</td>\n",
       "      <td>0.0</td>\n",
       "      <td>0.0</td>\n",
       "      <td>0.0</td>\n",
       "      <td>0.0</td>\n",
       "      <td>4</td>\n",
       "      <td>4</td>\n",
       "    </tr>\n",
       "    <tr>\n",
       "      <th>3</th>\n",
       "      <td>55150</td>\n",
       "      <td>WINDSOR MANOR REHABILITATION CENTER</td>\n",
       "      <td>CA</td>\n",
       "      <td>94521</td>\n",
       "      <td>0.0</td>\n",
       "      <td>0.0</td>\n",
       "      <td>0.0</td>\n",
       "      <td>0.0</td>\n",
       "      <td>0.0</td>\n",
       "      <td>0.0</td>\n",
       "      <td>...</td>\n",
       "      <td>0.0</td>\n",
       "      <td>0.0</td>\n",
       "      <td>0.0</td>\n",
       "      <td>0.0</td>\n",
       "      <td>0.0</td>\n",
       "      <td>0.0</td>\n",
       "      <td>0.0</td>\n",
       "      <td>0.0</td>\n",
       "      <td>1</td>\n",
       "      <td>1</td>\n",
       "    </tr>\n",
       "    <tr>\n",
       "      <th>4</th>\n",
       "      <td>55153</td>\n",
       "      <td>MONTEBELLO CARE CENTER</td>\n",
       "      <td>CA</td>\n",
       "      <td>181280</td>\n",
       "      <td>0.0</td>\n",
       "      <td>24.0</td>\n",
       "      <td>0.0</td>\n",
       "      <td>95.0</td>\n",
       "      <td>0.0</td>\n",
       "      <td>0.0</td>\n",
       "      <td>...</td>\n",
       "      <td>0.0</td>\n",
       "      <td>0.0</td>\n",
       "      <td>0.0</td>\n",
       "      <td>0.0</td>\n",
       "      <td>0.0</td>\n",
       "      <td>0.0</td>\n",
       "      <td>0.0</td>\n",
       "      <td>0.0</td>\n",
       "      <td>2</td>\n",
       "      <td>2</td>\n",
       "    </tr>\n",
       "  </tbody>\n",
       "</table>\n",
       "<p>5 rows × 57 columns</p>\n",
       "</div>"
      ],
      "text/plain": [
       "  Federal Provider Number                           Provider Name  \\\n",
       "0                   55139                    SANTA TERESITA MANOR   \n",
       "1                   55141  RAMONA NURSING & REHABILITATION CENTER   \n",
       "2                   55147  MADERA REHABILITATION & NURSING CENTER   \n",
       "3                   55150     WINDSOR MANOR REHABILITATION CENTER   \n",
       "4                   55153                  MONTEBELLO CARE CENTER   \n",
       "\n",
       "  Provider State  Provider Zip Code  Residents Weekly Admissions COVID-19  \\\n",
       "0             CA             182020                                   0.0   \n",
       "1             CA              91732                                   0.0   \n",
       "2             CA             374552                                   8.0   \n",
       "3             CA              94521                                   0.0   \n",
       "4             CA             181280                                   0.0   \n",
       "\n",
       "   Residents Total Admissions COVID-19  Residents Weekly Confirmed COVID-19  \\\n",
       "0                                  4.0                                  0.0   \n",
       "1                                 21.0                                  0.0   \n",
       "2                                 72.0                                 30.0   \n",
       "3                                  0.0                                  0.0   \n",
       "4                                 24.0                                  0.0   \n",
       "\n",
       "   Residents Total Confirmed COVID-19  Residents Weekly Suspected COVID-19  \\\n",
       "0                                12.0                                  0.0   \n",
       "1                                63.0                                  3.0   \n",
       "2                               289.0                                 14.0   \n",
       "3                                 0.0                                  0.0   \n",
       "4                                95.0                                  0.0   \n",
       "\n",
       "   Residents Total Suspected COVID-19  ...  \\\n",
       "0                                 0.0  ...   \n",
       "1                                32.0  ...   \n",
       "2                               342.0  ...   \n",
       "3                                 0.0  ...   \n",
       "4                                 0.0  ...   \n",
       "\n",
       "   Number of Staff and/or Personnel with a New Positive COVID-19 Test Result with Positive Antigen Test AND Negative NAAT (PCR) Test  \\\n",
       "0                                                0.0                                                                                   \n",
       "1                                                0.0                                                                                   \n",
       "2                                                0.0                                                                                   \n",
       "3                                                0.0                                                                                   \n",
       "4                                                0.0                                                                                   \n",
       "\n",
       "   Number of Staff and/or Personnel with a New Positive COVID-19 Test Result with Any Other Combination of Antigen Test and/or NAAT (PCR) Test with At Least One Positive Test  \\\n",
       "0                                                0.0                                                                                                                             \n",
       "1                                                0.0                                                                                                                             \n",
       "2                                                0.0                                                                                                                             \n",
       "3                                                0.0                                                                                                                             \n",
       "4                                                0.0                                                                                                                             \n",
       "\n",
       "   Number of Staff and/or Personnel with a New Positive COVID-19 Test Result who are Reinfected  \\\n",
       "0                                                0.0                                              \n",
       "1                                                0.0                                              \n",
       "2                                                0.0                                              \n",
       "3                                                0.0                                              \n",
       "4                                                0.0                                              \n",
       "\n",
       "   Number of Staff and/or Personnel with a New Positive COVID-19 Test Result who are Reinfected and Symptomatic  \\\n",
       "0                                                0.0                                                              \n",
       "1                                                0.0                                                              \n",
       "2                                                0.0                                                              \n",
       "3                                                0.0                                                              \n",
       "4                                                0.0                                                              \n",
       "\n",
       "   Number of Staff and/or Personnel with a New Positive COVID-19 Test Result who are Reinfected and Asymptomatic  \\\n",
       "0                                                0.0                                                               \n",
       "1                                                0.0                                                               \n",
       "2                                                0.0                                                               \n",
       "3                                                0.0                                                               \n",
       "4                                                0.0                                                               \n",
       "\n",
       "   Number of Staff and/or Personnel with New Influenza  \\\n",
       "0                                                0.0     \n",
       "1                                                0.0     \n",
       "2                                                0.0     \n",
       "3                                                0.0     \n",
       "4                                                0.0     \n",
       "\n",
       "   Number of Staff and/or Personnel with Acute Respiratory Illness Symptoms Excluding COVID-19 and/or Influenza  \\\n",
       "0                                                0.0                                                              \n",
       "1                                                0.0                                                              \n",
       "2                                                0.0                                                              \n",
       "3                                                0.0                                                              \n",
       "4                                                0.0                                                              \n",
       "\n",
       "   Number of Staff and/or Personnel with Confirmed Coinfection with Influenza and COVID-19  \\\n",
       "0                                                0.0                                         \n",
       "1                                                0.0                                         \n",
       "2                                                0.0                                         \n",
       "3                                                0.0                                         \n",
       "4                                                0.0                                         \n",
       "\n",
       "   Submitted Data Counts  Passed Quality Counts  \n",
       "0                      2                      2  \n",
       "1                      1                      1  \n",
       "2                      4                      4  \n",
       "3                      1                      1  \n",
       "4                      2                      2  \n",
       "\n",
       "[5 rows x 57 columns]"
      ]
     },
     "execution_count": 30,
     "metadata": {},
     "output_type": "execute_result"
    }
   ],
   "source": [
    "grouped.head(5)"
   ]
  },
  {
   "cell_type": "code",
   "execution_count": 28,
   "id": "hidden-strap",
   "metadata": {},
   "outputs": [],
   "source": [
    "# 12,739 facilities reported each of the 31 weeks\n",
    "# Only 11 out of the 12,739 reports are missing due to bad inputs\n",
    "# 15,027 facilities reported for more equal to or more than 20 weeks\n",
    "# 1,279 facilities reported fewer than 5 weeks\n",
    "# 71 facilities reported 0 times\n",
    "reported_with_no_errors = grouped[(grouped['Submitted Data Counts']>=30) & (grouped['Passed Quality Counts']>=30)]\n",
    "no_reporting = grouped[grouped['Submitted Data Counts']==0]"
   ]
  },
  {
   "cell_type": "code",
   "execution_count": 29,
   "id": "lesbian-potter",
   "metadata": {},
   "outputs": [
    {
     "data": {
      "text/plain": [
       "(71, 57)"
      ]
     },
     "execution_count": 29,
     "metadata": {},
     "output_type": "execute_result"
    }
   ],
   "source": [
    "# 71 facilities did not report at all\n",
    "no_reporting.shape"
   ]
  },
  {
   "cell_type": "code",
   "execution_count": 31,
   "id": "attended-shopper",
   "metadata": {},
   "outputs": [
    {
     "data": {
      "text/plain": [
       "TX    16\n",
       "OH    12\n",
       "FL     7\n",
       "CA     6\n",
       "OK     4\n",
       "IN     3\n",
       "IL     3\n",
       "NC     3\n",
       "VA     2\n",
       "GA     2\n",
       "KY     2\n",
       "NJ     1\n",
       "AZ     1\n",
       "OR     1\n",
       "MA     1\n",
       "WA     1\n",
       "MO     1\n",
       "MN     1\n",
       "TN     1\n",
       "ME     1\n",
       "KS     1\n",
       "UT     1\n",
       "Name: Provider State, dtype: int64"
      ]
     },
     "execution_count": 31,
     "metadata": {},
     "output_type": "execute_result"
    }
   ],
   "source": [
    "no_reporting['Provider State'].value_counts()"
   ]
  },
  {
   "cell_type": "code",
   "execution_count": null,
   "id": "retired-cameroon",
   "metadata": {},
   "outputs": [],
   "source": []
  }
 ],
 "metadata": {
  "kernelspec": {
   "display_name": "Python 3",
   "language": "python",
   "name": "python3"
  },
  "language_info": {
   "codemirror_mode": {
    "name": "ipython",
    "version": 3
   },
   "file_extension": ".py",
   "mimetype": "text/x-python",
   "name": "python",
   "nbconvert_exporter": "python",
   "pygments_lexer": "ipython3",
   "version": "3.8.7"
  }
 },
 "nbformat": 4,
 "nbformat_minor": 5
}
