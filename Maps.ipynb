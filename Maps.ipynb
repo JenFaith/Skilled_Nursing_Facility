{
 "cells": [
  {
   "cell_type": "code",
   "execution_count": 1,
   "id": "federal-inquiry",
   "metadata": {},
   "outputs": [],
   "source": [
    "import os \n",
    "import folium\n",
    "from folium import plugins\n",
    "import rasterio as rio\n",
    "from rasterio.warp import calculate_default_transform, reproject, Resampling\n",
    "import earthpy as et\n",
    "import pandas as pd\n",
    "\n",
    "# # Import data from EarthPy\n",
    "# data = et.data.get_data('colorado-flood')\n",
    "\n",
    "# # Set working directory to earth-analytics\n",
    "# os.chdir(os.path.join(et.io.HOME, 'earth-analytics'))"
   ]
  },
  {
   "cell_type": "code",
   "execution_count": 17,
   "id": "starting-today",
   "metadata": {},
   "outputs": [],
   "source": [
    "map_instruct = pd.read_csv('nursing_home_app/nhs_descriptors.csv')"
   ]
  },
  {
   "cell_type": "code",
   "execution_count": 18,
   "id": "naughty-wonder",
   "metadata": {
    "scrolled": true
   },
   "outputs": [],
   "source": [
    "map_instruct['geolocation_y'] = map_instruct['geolocation_y'].astype(str)"
   ]
  },
  {
   "cell_type": "code",
   "execution_count": 19,
   "id": "responsible-yahoo",
   "metadata": {},
   "outputs": [
    {
     "data": {
      "text/plain": [
       "dtype('O')"
      ]
     },
     "execution_count": 19,
     "metadata": {},
     "output_type": "execute_result"
    }
   ],
   "source": [
    "map_instruct['geolocation_y'].dtype"
   ]
  },
  {
   "cell_type": "code",
   "execution_count": 20,
   "id": "interested-pledge",
   "metadata": {},
   "outputs": [],
   "source": [
    "test = map_instruct"
   ]
  },
  {
   "cell_type": "code",
   "execution_count": 21,
   "id": "valid-disability",
   "metadata": {},
   "outputs": [],
   "source": [
    "NY = test[test['provider_state']=='NY']"
   ]
  },
  {
   "cell_type": "code",
   "execution_count": 22,
   "id": "amber-windows",
   "metadata": {
    "scrolled": true
   },
   "outputs": [],
   "source": [
    "map_instruct[['latitude', 'longitude']] = map_instruct.geolocation_y.str.split(expand=True)"
   ]
  },
  {
   "cell_type": "code",
   "execution_count": 23,
   "id": "aggressive-eagle",
   "metadata": {},
   "outputs": [
    {
     "data": {
      "text/html": [
       "<div>\n",
       "<style scoped>\n",
       "    .dataframe tbody tr th:only-of-type {\n",
       "        vertical-align: middle;\n",
       "    }\n",
       "\n",
       "    .dataframe tbody tr th {\n",
       "        vertical-align: top;\n",
       "    }\n",
       "\n",
       "    .dataframe thead th {\n",
       "        text-align: right;\n",
       "    }\n",
       "</style>\n",
       "<table border=\"1\" class=\"dataframe\">\n",
       "  <thead>\n",
       "    <tr style=\"text-align: right;\">\n",
       "      <th></th>\n",
       "      <th>Unnamed: 0</th>\n",
       "      <th>federal_provider_number</th>\n",
       "      <th>provider_name</th>\n",
       "      <th>provider_address</th>\n",
       "      <th>provider_city</th>\n",
       "      <th>provider_state</th>\n",
       "      <th>provider_zip_code</th>\n",
       "      <th>county</th>\n",
       "      <th>full_address</th>\n",
       "      <th>geolocation_y</th>\n",
       "      <th>latitude</th>\n",
       "      <th>longitude</th>\n",
       "    </tr>\n",
       "  </thead>\n",
       "  <tbody>\n",
       "    <tr>\n",
       "      <th>0</th>\n",
       "      <td>0</td>\n",
       "      <td>035242</td>\n",
       "      <td>CHINLE NURSING HOME</td>\n",
       "      <td>HIGHWAY 191 &amp; HOSPITAL ROAD</td>\n",
       "      <td>CHINLE</td>\n",
       "      <td>AZ</td>\n",
       "      <td>86503</td>\n",
       "      <td>Apache</td>\n",
       "      <td>HIGHWAY 191 &amp; HOSPITAL ROAD, CHINLE, AZ, 86503</td>\n",
       "      <td>[36.16763243080752, -109.68806973451998]</td>\n",
       "      <td>[36.16763243080752,</td>\n",
       "      <td>-109.68806973451998]</td>\n",
       "    </tr>\n",
       "  </tbody>\n",
       "</table>\n",
       "</div>"
      ],
      "text/plain": [
       "   Unnamed: 0 federal_provider_number        provider_name  \\\n",
       "0           0                  035242  CHINLE NURSING HOME   \n",
       "\n",
       "              provider_address provider_city provider_state  \\\n",
       "0  HIGHWAY 191 & HOSPITAL ROAD        CHINLE             AZ   \n",
       "\n",
       "   provider_zip_code  county                                    full_address  \\\n",
       "0              86503  Apache  HIGHWAY 191 & HOSPITAL ROAD, CHINLE, AZ, 86503   \n",
       "\n",
       "                              geolocation_y             latitude  \\\n",
       "0  [36.16763243080752, -109.68806973451998]  [36.16763243080752,   \n",
       "\n",
       "              longitude  \n",
       "0  -109.68806973451998]  "
      ]
     },
     "execution_count": 23,
     "metadata": {},
     "output_type": "execute_result"
    }
   ],
   "source": [
    "map_instruct.head(1)"
   ]
  },
  {
   "cell_type": "code",
   "execution_count": 24,
   "id": "premium-plate",
   "metadata": {},
   "outputs": [],
   "source": [
    "def strip_col(input):\n",
    "    input = input.strip('[,]')\n",
    "    input = float(input)\n",
    "    return input"
   ]
  },
  {
   "cell_type": "code",
   "execution_count": 28,
   "id": "finite-valuable",
   "metadata": {
    "scrolled": true
   },
   "outputs": [
    {
     "data": {
      "text/html": [
       "<div>\n",
       "<style scoped>\n",
       "    .dataframe tbody tr th:only-of-type {\n",
       "        vertical-align: middle;\n",
       "    }\n",
       "\n",
       "    .dataframe tbody tr th {\n",
       "        vertical-align: top;\n",
       "    }\n",
       "\n",
       "    .dataframe thead th {\n",
       "        text-align: right;\n",
       "    }\n",
       "</style>\n",
       "<table border=\"1\" class=\"dataframe\">\n",
       "  <thead>\n",
       "    <tr style=\"text-align: right;\">\n",
       "      <th></th>\n",
       "      <th>Unnamed: 0</th>\n",
       "      <th>federal_provider_number</th>\n",
       "      <th>provider_name</th>\n",
       "      <th>provider_address</th>\n",
       "      <th>provider_city</th>\n",
       "      <th>provider_state</th>\n",
       "      <th>provider_zip_code</th>\n",
       "      <th>county</th>\n",
       "      <th>full_address</th>\n",
       "      <th>geolocation_y</th>\n",
       "      <th>latitude</th>\n",
       "      <th>longitude</th>\n",
       "    </tr>\n",
       "  </thead>\n",
       "  <tbody>\n",
       "    <tr>\n",
       "      <th>23</th>\n",
       "      <td>23</td>\n",
       "      <td>385269</td>\n",
       "      <td>VILLAGE AT HILLSIDE</td>\n",
       "      <td>400 NW HILLSIDE PARK WAY</td>\n",
       "      <td>MCMINNVILLE</td>\n",
       "      <td>OR</td>\n",
       "      <td>97128</td>\n",
       "      <td>Yamhill</td>\n",
       "      <td>400 NW HILLSIDE PARK WAY, MCMINNVILLE, OR, 97128</td>\n",
       "      <td>[16.13238508058608, -61.58205104299407]</td>\n",
       "      <td>16.132385</td>\n",
       "      <td>-61.582051</td>\n",
       "    </tr>\n",
       "  </tbody>\n",
       "</table>\n",
       "</div>"
      ],
      "text/plain": [
       "    Unnamed: 0 federal_provider_number        provider_name  \\\n",
       "23          23                  385269  VILLAGE AT HILLSIDE   \n",
       "\n",
       "            provider_address provider_city provider_state  provider_zip_code  \\\n",
       "23  400 NW HILLSIDE PARK WAY   MCMINNVILLE             OR              97128   \n",
       "\n",
       "     county                                      full_address  \\\n",
       "23  Yamhill  400 NW HILLSIDE PARK WAY, MCMINNVILLE, OR, 97128   \n",
       "\n",
       "                              geolocation_y   latitude  longitude  \n",
       "23  [16.13238508058608, -61.58205104299407]  16.132385 -61.582051  "
      ]
     },
     "execution_count": 28,
     "metadata": {},
     "output_type": "execute_result"
    }
   ],
   "source": [
    "map_instruct[map_instruct['provider_name']=='VILLAGE AT HILLSIDE']"
   ]
  },
  {
   "cell_type": "code",
   "execution_count": null,
   "id": "patient-commerce",
   "metadata": {},
   "outputs": [],
   "source": []
  },
  {
   "cell_type": "code",
   "execution_count": 26,
   "id": "approved-coverage",
   "metadata": {},
   "outputs": [],
   "source": [
    "map_instruct['latitude'] = map_instruct['latitude'].astype(str)\n",
    "map_instruct['longitude'] = map_instruct['longitude'].astype(str)"
   ]
  },
  {
   "cell_type": "code",
   "execution_count": 27,
   "id": "maritime-witness",
   "metadata": {},
   "outputs": [],
   "source": [
    "map_instruct['latitude'] = map_instruct['latitude'].apply(strip_col)\n",
    "map_instruct['longitude'] = map_instruct['longitude'].apply(strip_col)"
   ]
  },
  {
   "cell_type": "code",
   "execution_count": 13,
   "id": "earned-numbers",
   "metadata": {
    "scrolled": true
   },
   "outputs": [
    {
     "data": {
      "text/html": [
       "<div style=\"width:100%;\"><div style=\"position:relative;width:100%;height:0;padding-bottom:60%;\"><span style=\"color:#565656\">Make this Notebook Trusted to load map: File -> Trust Notebook</span><iframe src=\"about:blank\" style=\"position:absolute;width:100%;height:100%;left:0;top:0;border:none !important;\" data-html=%3C%21DOCTYPE%20html%3E%0A%3Chead%3E%20%20%20%20%0A%20%20%20%20%3Cmeta%20http-equiv%3D%22content-type%22%20content%3D%22text/html%3B%20charset%3DUTF-8%22%20/%3E%0A%20%20%20%20%0A%20%20%20%20%20%20%20%20%3Cscript%3E%0A%20%20%20%20%20%20%20%20%20%20%20%20L_NO_TOUCH%20%3D%20false%3B%0A%20%20%20%20%20%20%20%20%20%20%20%20L_DISABLE_3D%20%3D%20false%3B%0A%20%20%20%20%20%20%20%20%3C/script%3E%0A%20%20%20%20%0A%20%20%20%20%3Cstyle%3Ehtml%2C%20body%20%7Bwidth%3A%20100%25%3Bheight%3A%20100%25%3Bmargin%3A%200%3Bpadding%3A%200%3B%7D%3C/style%3E%0A%20%20%20%20%3Cstyle%3E%23map%20%7Bposition%3Aabsolute%3Btop%3A0%3Bbottom%3A0%3Bright%3A0%3Bleft%3A0%3B%7D%3C/style%3E%0A%20%20%20%20%3Cscript%20src%3D%22https%3A//cdn.jsdelivr.net/npm/leaflet%401.6.0/dist/leaflet.js%22%3E%3C/script%3E%0A%20%20%20%20%3Cscript%20src%3D%22https%3A//code.jquery.com/jquery-1.12.4.min.js%22%3E%3C/script%3E%0A%20%20%20%20%3Cscript%20src%3D%22https%3A//maxcdn.bootstrapcdn.com/bootstrap/3.2.0/js/bootstrap.min.js%22%3E%3C/script%3E%0A%20%20%20%20%3Cscript%20src%3D%22https%3A//cdnjs.cloudflare.com/ajax/libs/Leaflet.awesome-markers/2.0.2/leaflet.awesome-markers.js%22%3E%3C/script%3E%0A%20%20%20%20%3Clink%20rel%3D%22stylesheet%22%20href%3D%22https%3A//cdn.jsdelivr.net/npm/leaflet%401.6.0/dist/leaflet.css%22/%3E%0A%20%20%20%20%3Clink%20rel%3D%22stylesheet%22%20href%3D%22https%3A//maxcdn.bootstrapcdn.com/bootstrap/3.2.0/css/bootstrap.min.css%22/%3E%0A%20%20%20%20%3Clink%20rel%3D%22stylesheet%22%20href%3D%22https%3A//maxcdn.bootstrapcdn.com/bootstrap/3.2.0/css/bootstrap-theme.min.css%22/%3E%0A%20%20%20%20%3Clink%20rel%3D%22stylesheet%22%20href%3D%22https%3A//maxcdn.bootstrapcdn.com/font-awesome/4.6.3/css/font-awesome.min.css%22/%3E%0A%20%20%20%20%3Clink%20rel%3D%22stylesheet%22%20href%3D%22https%3A//cdnjs.cloudflare.com/ajax/libs/Leaflet.awesome-markers/2.0.2/leaflet.awesome-markers.css%22/%3E%0A%20%20%20%20%3Clink%20rel%3D%22stylesheet%22%20href%3D%22https%3A//cdn.jsdelivr.net/gh/python-visualization/folium/folium/templates/leaflet.awesome.rotate.min.css%22/%3E%0A%20%20%20%20%0A%20%20%20%20%20%20%20%20%20%20%20%20%3Cmeta%20name%3D%22viewport%22%20content%3D%22width%3Ddevice-width%2C%0A%20%20%20%20%20%20%20%20%20%20%20%20%20%20%20%20initial-scale%3D1.0%2C%20maximum-scale%3D1.0%2C%20user-scalable%3Dno%22%20/%3E%0A%20%20%20%20%20%20%20%20%20%20%20%20%3Cstyle%3E%0A%20%20%20%20%20%20%20%20%20%20%20%20%20%20%20%20%23map_f3de8e2e75a74da1accdfac9720dd343%20%7B%0A%20%20%20%20%20%20%20%20%20%20%20%20%20%20%20%20%20%20%20%20position%3A%20relative%3B%0A%20%20%20%20%20%20%20%20%20%20%20%20%20%20%20%20%20%20%20%20width%3A%20100.0%25%3B%0A%20%20%20%20%20%20%20%20%20%20%20%20%20%20%20%20%20%20%20%20height%3A%20100.0%25%3B%0A%20%20%20%20%20%20%20%20%20%20%20%20%20%20%20%20%20%20%20%20left%3A%200.0%25%3B%0A%20%20%20%20%20%20%20%20%20%20%20%20%20%20%20%20%20%20%20%20top%3A%200.0%25%3B%0A%20%20%20%20%20%20%20%20%20%20%20%20%20%20%20%20%7D%0A%20%20%20%20%20%20%20%20%20%20%20%20%3C/style%3E%0A%20%20%20%20%20%20%20%20%0A%3C/head%3E%0A%3Cbody%3E%20%20%20%20%0A%20%20%20%20%0A%20%20%20%20%20%20%20%20%20%20%20%20%3Cdiv%20class%3D%22folium-map%22%20id%3D%22map_f3de8e2e75a74da1accdfac9720dd343%22%20%3E%3C/div%3E%0A%20%20%20%20%20%20%20%20%0A%3C/body%3E%0A%3Cscript%3E%20%20%20%20%0A%20%20%20%20%0A%20%20%20%20%20%20%20%20%20%20%20%20var%20map_f3de8e2e75a74da1accdfac9720dd343%20%3D%20L.map%28%0A%20%20%20%20%20%20%20%20%20%20%20%20%20%20%20%20%22map_f3de8e2e75a74da1accdfac9720dd343%22%2C%0A%20%20%20%20%20%20%20%20%20%20%20%20%20%20%20%20%7B%0A%20%20%20%20%20%20%20%20%20%20%20%20%20%20%20%20%20%20%20%20center%3A%20%5B37.09024%2C%20-95.712891%5D%2C%0A%20%20%20%20%20%20%20%20%20%20%20%20%20%20%20%20%20%20%20%20crs%3A%20L.CRS.EPSG3857%2C%0A%20%20%20%20%20%20%20%20%20%20%20%20%20%20%20%20%20%20%20%20zoom%3A%204%2C%0A%20%20%20%20%20%20%20%20%20%20%20%20%20%20%20%20%20%20%20%20zoomControl%3A%20true%2C%0A%20%20%20%20%20%20%20%20%20%20%20%20%20%20%20%20%20%20%20%20preferCanvas%3A%20false%2C%0A%20%20%20%20%20%20%20%20%20%20%20%20%20%20%20%20%7D%0A%20%20%20%20%20%20%20%20%20%20%20%20%29%3B%0A%0A%20%20%20%20%20%20%20%20%20%20%20%20%0A%0A%20%20%20%20%20%20%20%20%0A%20%20%20%20%0A%20%20%20%20%20%20%20%20%20%20%20%20var%20tile_layer_b899fc72133b44e0b32ef1279c8cdf49%20%3D%20L.tileLayer%28%0A%20%20%20%20%20%20%20%20%20%20%20%20%20%20%20%20%22https%3A//api.mapbox.com/styles/v1/jenfaith/ckm3ufeuf0v8y17qqi8d7gfre/tiles/256/%7Bz%7D/%7Bx%7D/%7By%7D%402x%3Faccess_token%3Dpk.eyJ1IjoiamVuZmFpdGgiLCJhIjoiY2ttM3QzYnI1MDhzZTJucWRubXlzMHphdCJ9.3FsZLNb_YZlAwssJDfV4Cw%22%2C%0A%20%20%20%20%20%20%20%20%20%20%20%20%20%20%20%20%7B%22attribution%22%3A%20%22Map%20Box%20Attribute%22%2C%20%22detectRetina%22%3A%20false%2C%20%22minZoom%22%3A%204%2C%20%22noWrap%22%3A%20false%2C%20%22opacity%22%3A%201%2C%20%22subdomains%22%3A%20%22abc%22%2C%20%22tms%22%3A%20false%7D%0A%20%20%20%20%20%20%20%20%20%20%20%20%29.addTo%28map_f3de8e2e75a74da1accdfac9720dd343%29%3B%0A%20%20%20%20%20%20%20%20%0A%3C/script%3E onload=\"this.contentDocument.open();this.contentDocument.write(    decodeURIComponent(this.getAttribute('data-html')));this.contentDocument.close();\" allowfullscreen webkitallowfullscreen mozallowfullscreen></iframe></div></div>"
      ],
      "text/plain": [
       "<folium.folium.Map at 0x1206240a0>"
      ]
     },
     "execution_count": 13,
     "metadata": {},
     "output_type": "execute_result"
    }
   ],
   "source": [
    "a = folium.Map(location=[37.09024, -95.712891], \n",
    "               width='100%', \n",
    "               height='100%', \n",
    "               left='0%', \n",
    "               top='0%', \n",
    "               position='relative', \n",
    "               tiles='https://api.mapbox.com/styles/v1/jenfaith/ckm3ufeuf0v8y17qqi8d7gfre/tiles/256/{z}/{x}/{y}@2x?access_token=pk.eyJ1IjoiamVuZmFpdGgiLCJhIjoiY2ttM3QzYnI1MDhzZTJucWRubXlzMHphdCJ9.3FsZLNb_YZlAwssJDfV4Cw', \n",
    "               attr='Map Box Attribute', \n",
    "               min_zoom=4, \n",
    "               max_zoom=None, \n",
    "               zoom_start=4,\n",
    "               min_lat= -90, \n",
    "               max_lat=90, \n",
    "               min_lon=- 180, \n",
    "               max_lon=180, max_bounds=False, \n",
    "               crs='EPSG3857', control_scale=False, \n",
    "               prefer_canvas=False, no_touch=False, \n",
    "               disable_3d=False, png_enabled=False, \n",
    "               zoom_control=True)\n",
    "a"
   ]
  },
  {
   "cell_type": "code",
   "execution_count": 15,
   "id": "relative-charles",
   "metadata": {},
   "outputs": [
    {
     "data": {
      "text/html": [
       "<div style=\"width:100%;\"><div style=\"position:relative;width:100%;height:0;padding-bottom:60%;\"><span style=\"color:#565656\">Make this Notebook Trusted to load map: File -> Trust Notebook</span><iframe src=\"about:blank\" style=\"position:absolute;width:100%;height:100%;left:0;top:0;border:none !important;\" data-html=%3C%21DOCTYPE%20html%3E%0A%3Chead%3E%20%20%20%20%0A%20%20%20%20%3Cmeta%20http-equiv%3D%22content-type%22%20content%3D%22text/html%3B%20charset%3DUTF-8%22%20/%3E%0A%20%20%20%20%0A%20%20%20%20%20%20%20%20%3Cscript%3E%0A%20%20%20%20%20%20%20%20%20%20%20%20L_NO_TOUCH%20%3D%20false%3B%0A%20%20%20%20%20%20%20%20%20%20%20%20L_DISABLE_3D%20%3D%20false%3B%0A%20%20%20%20%20%20%20%20%3C/script%3E%0A%20%20%20%20%0A%20%20%20%20%3Cstyle%3Ehtml%2C%20body%20%7Bwidth%3A%20100%25%3Bheight%3A%20100%25%3Bmargin%3A%200%3Bpadding%3A%200%3B%7D%3C/style%3E%0A%20%20%20%20%3Cstyle%3E%23map%20%7Bposition%3Aabsolute%3Btop%3A0%3Bbottom%3A0%3Bright%3A0%3Bleft%3A0%3B%7D%3C/style%3E%0A%20%20%20%20%3Cscript%20src%3D%22https%3A//cdn.jsdelivr.net/npm/leaflet%401.6.0/dist/leaflet.js%22%3E%3C/script%3E%0A%20%20%20%20%3Cscript%20src%3D%22https%3A//code.jquery.com/jquery-1.12.4.min.js%22%3E%3C/script%3E%0A%20%20%20%20%3Cscript%20src%3D%22https%3A//maxcdn.bootstrapcdn.com/bootstrap/3.2.0/js/bootstrap.min.js%22%3E%3C/script%3E%0A%20%20%20%20%3Cscript%20src%3D%22https%3A//cdnjs.cloudflare.com/ajax/libs/Leaflet.awesome-markers/2.0.2/leaflet.awesome-markers.js%22%3E%3C/script%3E%0A%20%20%20%20%3Clink%20rel%3D%22stylesheet%22%20href%3D%22https%3A//cdn.jsdelivr.net/npm/leaflet%401.6.0/dist/leaflet.css%22/%3E%0A%20%20%20%20%3Clink%20rel%3D%22stylesheet%22%20href%3D%22https%3A//maxcdn.bootstrapcdn.com/bootstrap/3.2.0/css/bootstrap.min.css%22/%3E%0A%20%20%20%20%3Clink%20rel%3D%22stylesheet%22%20href%3D%22https%3A//maxcdn.bootstrapcdn.com/bootstrap/3.2.0/css/bootstrap-theme.min.css%22/%3E%0A%20%20%20%20%3Clink%20rel%3D%22stylesheet%22%20href%3D%22https%3A//maxcdn.bootstrapcdn.com/font-awesome/4.6.3/css/font-awesome.min.css%22/%3E%0A%20%20%20%20%3Clink%20rel%3D%22stylesheet%22%20href%3D%22https%3A//cdnjs.cloudflare.com/ajax/libs/Leaflet.awesome-markers/2.0.2/leaflet.awesome-markers.css%22/%3E%0A%20%20%20%20%3Clink%20rel%3D%22stylesheet%22%20href%3D%22https%3A//cdn.jsdelivr.net/gh/python-visualization/folium/folium/templates/leaflet.awesome.rotate.min.css%22/%3E%0A%20%20%20%20%0A%20%20%20%20%20%20%20%20%20%20%20%20%3Cmeta%20name%3D%22viewport%22%20content%3D%22width%3Ddevice-width%2C%0A%20%20%20%20%20%20%20%20%20%20%20%20%20%20%20%20initial-scale%3D1.0%2C%20maximum-scale%3D1.0%2C%20user-scalable%3Dno%22%20/%3E%0A%20%20%20%20%20%20%20%20%20%20%20%20%3Cstyle%3E%0A%20%20%20%20%20%20%20%20%20%20%20%20%20%20%20%20%23map_f3de8e2e75a74da1accdfac9720dd343%20%7B%0A%20%20%20%20%20%20%20%20%20%20%20%20%20%20%20%20%20%20%20%20position%3A%20relative%3B%0A%20%20%20%20%20%20%20%20%20%20%20%20%20%20%20%20%20%20%20%20width%3A%20100.0%25%3B%0A%20%20%20%20%20%20%20%20%20%20%20%20%20%20%20%20%20%20%20%20height%3A%20100.0%25%3B%0A%20%20%20%20%20%20%20%20%20%20%20%20%20%20%20%20%20%20%20%20left%3A%200.0%25%3B%0A%20%20%20%20%20%20%20%20%20%20%20%20%20%20%20%20%20%20%20%20top%3A%200.0%25%3B%0A%20%20%20%20%20%20%20%20%20%20%20%20%20%20%20%20%7D%0A%20%20%20%20%20%20%20%20%20%20%20%20%3C/style%3E%0A%20%20%20%20%20%20%20%20%0A%3C/head%3E%0A%3Cbody%3E%20%20%20%20%0A%20%20%20%20%0A%20%20%20%20%20%20%20%20%20%20%20%20%3Cdiv%20class%3D%22folium-map%22%20id%3D%22map_f3de8e2e75a74da1accdfac9720dd343%22%20%3E%3C/div%3E%0A%20%20%20%20%20%20%20%20%0A%3C/body%3E%0A%3Cscript%3E%20%20%20%20%0A%20%20%20%20%0A%20%20%20%20%20%20%20%20%20%20%20%20var%20map_f3de8e2e75a74da1accdfac9720dd343%20%3D%20L.map%28%0A%20%20%20%20%20%20%20%20%20%20%20%20%20%20%20%20%22map_f3de8e2e75a74da1accdfac9720dd343%22%2C%0A%20%20%20%20%20%20%20%20%20%20%20%20%20%20%20%20%7B%0A%20%20%20%20%20%20%20%20%20%20%20%20%20%20%20%20%20%20%20%20center%3A%20%5B37.09024%2C%20-95.712891%5D%2C%0A%20%20%20%20%20%20%20%20%20%20%20%20%20%20%20%20%20%20%20%20crs%3A%20L.CRS.EPSG3857%2C%0A%20%20%20%20%20%20%20%20%20%20%20%20%20%20%20%20%20%20%20%20zoom%3A%204%2C%0A%20%20%20%20%20%20%20%20%20%20%20%20%20%20%20%20%20%20%20%20zoomControl%3A%20true%2C%0A%20%20%20%20%20%20%20%20%20%20%20%20%20%20%20%20%20%20%20%20preferCanvas%3A%20false%2C%0A%20%20%20%20%20%20%20%20%20%20%20%20%20%20%20%20%7D%0A%20%20%20%20%20%20%20%20%20%20%20%20%29%3B%0A%0A%20%20%20%20%20%20%20%20%20%20%20%20%0A%0A%20%20%20%20%20%20%20%20%0A%20%20%20%20%0A%20%20%20%20%20%20%20%20%20%20%20%20var%20tile_layer_b899fc72133b44e0b32ef1279c8cdf49%20%3D%20L.tileLayer%28%0A%20%20%20%20%20%20%20%20%20%20%20%20%20%20%20%20%22https%3A//api.mapbox.com/styles/v1/jenfaith/ckm3ufeuf0v8y17qqi8d7gfre/tiles/256/%7Bz%7D/%7Bx%7D/%7By%7D%402x%3Faccess_token%3Dpk.eyJ1IjoiamVuZmFpdGgiLCJhIjoiY2ttM3QzYnI1MDhzZTJucWRubXlzMHphdCJ9.3FsZLNb_YZlAwssJDfV4Cw%22%2C%0A%20%20%20%20%20%20%20%20%20%20%20%20%20%20%20%20%7B%22attribution%22%3A%20%22Map%20Box%20Attribute%22%2C%20%22detectRetina%22%3A%20false%2C%20%22minZoom%22%3A%204%2C%20%22noWrap%22%3A%20false%2C%20%22opacity%22%3A%201%2C%20%22subdomains%22%3A%20%22abc%22%2C%20%22tms%22%3A%20false%7D%0A%20%20%20%20%20%20%20%20%20%20%20%20%29.addTo%28map_f3de8e2e75a74da1accdfac9720dd343%29%3B%0A%20%20%20%20%20%20%20%20%0A%20%20%20%20%0A%20%20%20%20%20%20%20%20%20%20%20%20var%20marker_ce3227f9717647988ce981f6ccbdf70d%20%3D%20L.marker%28%0A%20%20%20%20%20%20%20%20%20%20%20%20%20%20%20%20%5B40.76879168614267%2C%20-73.82285349073014%5D%2C%0A%20%20%20%20%20%20%20%20%20%20%20%20%20%20%20%20%7B%7D%0A%20%20%20%20%20%20%20%20%20%20%20%20%29.addTo%28map_f3de8e2e75a74da1accdfac9720dd343%29%3B%0A%20%20%20%20%20%20%20%20%0A%20%20%20%20%0A%20%20%20%20%20%20%20%20%20%20%20%20var%20icon_14b49055470a4e8c9bba4958c94fff06%20%3D%20L.AwesomeMarkers.icon%28%0A%20%20%20%20%20%20%20%20%20%20%20%20%20%20%20%20%7B%22extraClasses%22%3A%20%22fa-rotate-0%22%2C%20%22icon%22%3A%20%22home%22%2C%20%22iconColor%22%3A%20%22white%22%2C%20%22markerColor%22%3A%20%22red%22%2C%20%22prefix%22%3A%20%22fa%22%7D%0A%20%20%20%20%20%20%20%20%20%20%20%20%29%3B%0A%20%20%20%20%20%20%20%20%20%20%20%20marker_ce3227f9717647988ce981f6ccbdf70d.setIcon%28icon_14b49055470a4e8c9bba4958c94fff06%29%3B%0A%20%20%20%20%20%20%20%20%0A%20%20%20%20%0A%20%20%20%20%20%20%20%20var%20popup_66958ff11d5f4b2089bab74a3a1b0d90%20%3D%20L.popup%28%7B%22maxWidth%22%3A%20%22100%25%22%7D%29%3B%0A%0A%20%20%20%20%20%20%20%20%0A%20%20%20%20%20%20%20%20%20%20%20%20var%20html_fd1b3dfbf7414e80b04535e19b8434d3%20%3D%20%24%28%60%3Cdiv%20id%3D%22html_fd1b3dfbf7414e80b04535e19b8434d3%22%20style%3D%22width%3A%20100.0%25%3B%20height%3A%20100.0%25%3B%22%3E%3Ca%20href%3D%22https%3A//www.google.com/%22%20target%3D%22_blank%22%3ETHE%20CITADEL%20REHAB%20AND%20NURSING%20CTR%20AT%20KINGSBRIDGE%3C/a%3E%3C/div%3E%60%29%5B0%5D%3B%0A%20%20%20%20%20%20%20%20%20%20%20%20popup_66958ff11d5f4b2089bab74a3a1b0d90.setContent%28html_fd1b3dfbf7414e80b04535e19b8434d3%29%3B%0A%20%20%20%20%20%20%20%20%0A%0A%20%20%20%20%20%20%20%20marker_ce3227f9717647988ce981f6ccbdf70d.bindPopup%28popup_66958ff11d5f4b2089bab74a3a1b0d90%29%0A%20%20%20%20%20%20%20%20%3B%0A%0A%20%20%20%20%20%20%20%20%0A%20%20%20%20%0A%20%20%20%20%0A%20%20%20%20%20%20%20%20%20%20%20%20var%20marker_a2fe7cba46b94a0abd95bb2c112f562e%20%3D%20L.marker%28%0A%20%20%20%20%20%20%20%20%20%20%20%20%20%20%20%20%5B40.76879168614267%2C%20-73.82285349073014%5D%2C%0A%20%20%20%20%20%20%20%20%20%20%20%20%20%20%20%20%7B%7D%0A%20%20%20%20%20%20%20%20%20%20%20%20%29.addTo%28map_f3de8e2e75a74da1accdfac9720dd343%29%3B%0A%20%20%20%20%20%20%20%20%0A%20%20%20%20%0A%20%20%20%20%20%20%20%20%20%20%20%20var%20icon_72414abd373a4edcbfb47107f69ddc75%20%3D%20L.AwesomeMarkers.icon%28%0A%20%20%20%20%20%20%20%20%20%20%20%20%20%20%20%20%7B%22extraClasses%22%3A%20%22fa-rotate-0%22%2C%20%22icon%22%3A%20%22home%22%2C%20%22iconColor%22%3A%20%22white%22%2C%20%22markerColor%22%3A%20%22red%22%2C%20%22prefix%22%3A%20%22fa%22%7D%0A%20%20%20%20%20%20%20%20%20%20%20%20%29%3B%0A%20%20%20%20%20%20%20%20%20%20%20%20marker_a2fe7cba46b94a0abd95bb2c112f562e.setIcon%28icon_72414abd373a4edcbfb47107f69ddc75%29%3B%0A%20%20%20%20%20%20%20%20%0A%20%20%20%20%0A%20%20%20%20%20%20%20%20var%20popup_03a4c62141ec41a0bc8767dbc88fc7a5%20%3D%20L.popup%28%7B%22maxWidth%22%3A%20%22100%25%22%7D%29%3B%0A%0A%20%20%20%20%20%20%20%20%0A%20%20%20%20%20%20%20%20%20%20%20%20var%20html_78091dbca4bf4ee887357077638dfdc4%20%3D%20%24%28%60%3Cdiv%20id%3D%22html_78091dbca4bf4ee887357077638dfdc4%22%20style%3D%22width%3A%20100.0%25%3B%20height%3A%20100.0%25%3B%22%3E%3Ca%20href%3D%22https%3A//www.google.com/%22%20target%3D%22_blank%22%3ETHE%20CITADEL%20REHAB%20AND%20NURSING%20CTR%20AT%20KINGSBRIDGE%3C/a%3E%3C/div%3E%60%29%5B0%5D%3B%0A%20%20%20%20%20%20%20%20%20%20%20%20popup_03a4c62141ec41a0bc8767dbc88fc7a5.setContent%28html_78091dbca4bf4ee887357077638dfdc4%29%3B%0A%20%20%20%20%20%20%20%20%0A%0A%20%20%20%20%20%20%20%20marker_a2fe7cba46b94a0abd95bb2c112f562e.bindPopup%28popup_03a4c62141ec41a0bc8767dbc88fc7a5%29%0A%20%20%20%20%20%20%20%20%3B%0A%0A%20%20%20%20%20%20%20%20%0A%20%20%20%20%0A%3C/script%3E onload=\"this.contentDocument.open();this.contentDocument.write(    decodeURIComponent(this.getAttribute('data-html')));this.contentDocument.close();\" allowfullscreen webkitallowfullscreen mozallowfullscreen></iframe></div></div>"
      ],
      "text/plain": [
       "<folium.folium.Map at 0x1206240a0>"
      ]
     },
     "execution_count": 15,
     "metadata": {},
     "output_type": "execute_result"
    }
   ],
   "source": [
    "folium.Marker(\n",
    "    location=[40.76879168614267, -73.82285349073014], # coordinates for the marker\n",
    "    popup='<a href=\"https://www.google.com/\" target=\"_blank\">THE CITADEL REHAB AND NURSING CTR AT KINGSBRIDGE</a>', # pop-up label for the marker\n",
    "    icon=folium.Icon(color='red', icon='home', prefix='fa')\n",
    ").add_to(a)\n",
    "\n",
    "a\n",
    "#a.save('index.html')"
   ]
  },
  {
   "cell_type": "code",
   "execution_count": 16,
   "id": "brown-waste",
   "metadata": {},
   "outputs": [],
   "source": [
    "folium.Marker(\n",
    "    location=[40.76879168614267, -73.82285349073014], # coordinates for the marker\n",
    "    popup='<a href= {href_tag} target=\"_blank\">{name}</a>'.format(href_tag = '/report?facility_name='+'THE CITADEL REHAB AND NURSING CTR AT KINGSBRIDGE'.replace(' ', '+'), name = 'THE CITADEL REHAB AND NURSING CTR AT KINGSBRIDGE'), # pop-up label for the marker\n",
    "    # popup='<a href=\"myurl\" target=\"_blank\">mytext</a>',\n",
    "    icon=folium.Icon(color='red', icon='home', prefix='fa')\n",
    "    ).add_to(a)\n",
    "\n",
    "a\n",
    "a.save('index.html')"
   ]
  },
  {
   "cell_type": "code",
   "execution_count": null,
   "id": "developed-leonard",
   "metadata": {},
   "outputs": [],
   "source": [
    "# Testing idea to make sure it works\n",
    "\n",
    "facility_name = 'THE CITADEL REHAB AND NURSING CTR AT KINGSBRIDGE'\n",
    "html_response = '/report?facility_name='+facility_name.replace(' ', '+')\n",
    "\n",
    "get = 'https://data.cms.gov/resource/s2uc-8wxp.json?provider_name={facility_name}'.format(facility_name = facility_name)\n",
    "response = requests.get(get)"
   ]
  },
  {
   "cell_type": "code",
   "execution_count": null,
   "id": "intelligent-treaty",
   "metadata": {},
   "outputs": [],
   "source": [
    "# Testing idea again\n",
    "\n",
    "facility_name = 'THE CITADEL REHAB AND NURSING CTR AT KINGSBRIDGE'\n",
    "html_response = '/report?facility_name='+facility_name.replace(' ', '+')\n",
    "\n",
    "get = 'https://data.cms.gov/resource/s2uc-8wxp.json?provider_name={facility_name}'.format(facility_name = facility_name)\n",
    "response = requests.get(get)"
   ]
  },
  {
   "cell_type": "code",
   "execution_count": null,
   "id": "detailed-munich",
   "metadata": {},
   "outputs": [],
   "source": [
    "tiles='https://api.mapbox.com/v4/mapbox.streets/{z}/{x}/{y}.png?access_token=mytoken',"
   ]
  },
  {
   "cell_type": "code",
   "execution_count": null,
   "id": "iraqi-burner",
   "metadata": {},
   "outputs": [],
   "source": [
    "facility_name = 'THE CITADEL REHAB AND NURSING CTR AT KINGSBRIDGE'\n",
    "html_response = '/report?facility_name='+facility_name.replace(' ', '+')\n",
    "\n",
    "get = 'https://data.cms.gov/resource/s2uc-8wxp.json?provider_name={facility_name}'.format(facility_name = facility_name)\n",
    "response = requests.get(get)"
   ]
  },
  {
   "cell_type": "markdown",
   "id": "changed-supplement",
   "metadata": {},
   "source": [
    "## Function To Generate All Points"
   ]
  },
  {
   "cell_type": "code",
   "execution_count": 125,
   "id": "unusual-clinic",
   "metadata": {},
   "outputs": [
    {
     "data": {
      "text/html": [
       "<div>\n",
       "<style scoped>\n",
       "    .dataframe tbody tr th:only-of-type {\n",
       "        vertical-align: middle;\n",
       "    }\n",
       "\n",
       "    .dataframe tbody tr th {\n",
       "        vertical-align: top;\n",
       "    }\n",
       "\n",
       "    .dataframe thead th {\n",
       "        text-align: right;\n",
       "    }\n",
       "</style>\n",
       "<table border=\"1\" class=\"dataframe\">\n",
       "  <thead>\n",
       "    <tr style=\"text-align: right;\">\n",
       "      <th></th>\n",
       "      <th>provider_name</th>\n",
       "      <th>latitude</th>\n",
       "      <th>longitude</th>\n",
       "    </tr>\n",
       "  </thead>\n",
       "  <tbody>\n",
       "    <tr>\n",
       "      <th>0</th>\n",
       "      <td>CHINLE NURSING HOME</td>\n",
       "      <td>36.167632</td>\n",
       "      <td>-109.688070</td>\n",
       "    </tr>\n",
       "    <tr>\n",
       "      <th>1</th>\n",
       "      <td>PARK TERRACE CARE CENTER</td>\n",
       "      <td>40.748089</td>\n",
       "      <td>-73.860624</td>\n",
       "    </tr>\n",
       "    <tr>\n",
       "      <th>2</th>\n",
       "      <td>REGO PARK NURSING HOME</td>\n",
       "      <td>40.748089</td>\n",
       "      <td>-73.860624</td>\n",
       "    </tr>\n",
       "  </tbody>\n",
       "</table>\n",
       "</div>"
      ],
      "text/plain": [
       "              provider_name   latitude   longitude\n",
       "0       CHINLE NURSING HOME  36.167632 -109.688070\n",
       "1  PARK TERRACE CARE CENTER  40.748089  -73.860624\n",
       "2    REGO PARK NURSING HOME  40.748089  -73.860624"
      ]
     },
     "execution_count": 125,
     "metadata": {},
     "output_type": "execute_result"
    }
   ],
   "source": [
    "data = [['CHINLE NURSING HOME', 36.16763243080752, -109.68806973451998], \n",
    "        ['PARK TERRACE CARE CENTER', 40.748088772582804, -73.86062360133637], \n",
    "        ['REGO PARK NURSING HOME', 40.748088772582804, -73.86062360133637]] \n",
    "df = pd.DataFrame(data, columns = ['provider_name', 'latitude', 'longitude'])\n",
    "df"
   ]
  },
  {
   "cell_type": "code",
   "execution_count": 132,
   "id": "welsh-estimate",
   "metadata": {},
   "outputs": [],
   "source": [
    "def generate_points(df):\n",
    "    a = folium.Map(location=[37.09024, -95.712891], \n",
    "               width='100%', \n",
    "               height='100%', \n",
    "               left='0%', \n",
    "               top='0%', \n",
    "               position='relative', \n",
    "               tiles='https://api.mapbox.com/styles/v1/jenfaith/ckm3ufeuf0v8y17qqi8d7gfre/tiles/256/{z}/{x}/{y}@2x?access_token=pk.eyJ1IjoiamVuZmFpdGgiLCJhIjoiY2ttM3QzYnI1MDhzZTJucWRubXlzMHphdCJ9.3FsZLNb_YZlAwssJDfV4Cw', \n",
    "               attr='Map Box Attribute', \n",
    "               min_zoom=4, \n",
    "               max_zoom=None, \n",
    "               zoom_start=4,\n",
    "               min_lat= -90, \n",
    "               max_lat=90, \n",
    "               min_lon=- 180, \n",
    "               max_lon=180, max_bounds=False, \n",
    "               crs='EPSG3857', control_scale=False, \n",
    "               prefer_canvas=False, no_touch=False, \n",
    "               disable_3d=False, png_enabled=False, \n",
    "               zoom_control=True)\n",
    "    \n",
    "    for i in range(len(df)):\n",
    "        name = df['provider_name'].iloc[i]\n",
    "        i = folium.Marker(\n",
    "            location=[df['latitude'].iloc[i], df['longitude'].iloc[i]], # coordinates for the marker\n",
    "            popup='<a href= {href_tag} target=\"_blank\">{name}</a>'.format(href_tag = \n",
    "                                                                          '/report?facility_name='\n",
    "                                                                          + name.replace(' ', '+'), \n",
    "                                                                          name = name), # pop-up label for the marker\n",
    "            icon=folium.Icon(color='red', icon='home', prefix='fa')\n",
    "        ).add_to(a)\n",
    "    return a\n",
    "    "
   ]
  },
  {
   "cell_type": "code",
   "execution_count": 107,
   "id": "understood-gilbert",
   "metadata": {
    "scrolled": true
   },
   "outputs": [
    {
     "data": {
      "text/plain": [
       "'/report?facility_name=THE+CITADEL+REHAB+AND+NURSING+CTR+AT+KINGSBRIDGE'"
      ]
     },
     "execution_count": 107,
     "metadata": {},
     "output_type": "execute_result"
    }
   ],
   "source": [
    "href_tag = '/report?facility_name='+ name.replace(' ', '+')\n",
    "href_tag"
   ]
  },
  {
   "cell_type": "code",
   "execution_count": null,
   "id": "sufficient-teacher",
   "metadata": {},
   "outputs": [],
   "source": [
    "/report?facility_name=MEDICINE+WHEEL+VILLAGE"
   ]
  },
  {
   "cell_type": "code",
   "execution_count": 133,
   "id": "neural-reduction",
   "metadata": {},
   "outputs": [],
   "source": [
    "new_map = generate_points(df)"
   ]
  },
  {
   "cell_type": "code",
   "execution_count": 130,
   "id": "alleged-desktop",
   "metadata": {},
   "outputs": [],
   "source": [
    "new_map.save('index.html')"
   ]
  },
  {
   "cell_type": "code",
   "execution_count": 134,
   "id": "adapted-transportation",
   "metadata": {
    "scrolled": true
   },
   "outputs": [
    {
     "data": {
      "text/html": [
       "<div style=\"width:100%;\"><div style=\"position:relative;width:100%;height:0;padding-bottom:60%;\"><span style=\"color:#565656\">Make this Notebook Trusted to load map: File -> Trust Notebook</span><iframe src=\"about:blank\" style=\"position:absolute;width:100%;height:100%;left:0;top:0;border:none !important;\" data-html=%3C%21DOCTYPE%20html%3E%0A%3Chead%3E%20%20%20%20%0A%20%20%20%20%3Cmeta%20http-equiv%3D%22content-type%22%20content%3D%22text/html%3B%20charset%3DUTF-8%22%20/%3E%0A%20%20%20%20%0A%20%20%20%20%20%20%20%20%3Cscript%3E%0A%20%20%20%20%20%20%20%20%20%20%20%20L_NO_TOUCH%20%3D%20false%3B%0A%20%20%20%20%20%20%20%20%20%20%20%20L_DISABLE_3D%20%3D%20false%3B%0A%20%20%20%20%20%20%20%20%3C/script%3E%0A%20%20%20%20%0A%20%20%20%20%3Cstyle%3Ehtml%2C%20body%20%7Bwidth%3A%20100%25%3Bheight%3A%20100%25%3Bmargin%3A%200%3Bpadding%3A%200%3B%7D%3C/style%3E%0A%20%20%20%20%3Cstyle%3E%23map%20%7Bposition%3Aabsolute%3Btop%3A0%3Bbottom%3A0%3Bright%3A0%3Bleft%3A0%3B%7D%3C/style%3E%0A%20%20%20%20%3Cscript%20src%3D%22https%3A//cdn.jsdelivr.net/npm/leaflet%401.6.0/dist/leaflet.js%22%3E%3C/script%3E%0A%20%20%20%20%3Cscript%20src%3D%22https%3A//code.jquery.com/jquery-1.12.4.min.js%22%3E%3C/script%3E%0A%20%20%20%20%3Cscript%20src%3D%22https%3A//maxcdn.bootstrapcdn.com/bootstrap/3.2.0/js/bootstrap.min.js%22%3E%3C/script%3E%0A%20%20%20%20%3Cscript%20src%3D%22https%3A//cdnjs.cloudflare.com/ajax/libs/Leaflet.awesome-markers/2.0.2/leaflet.awesome-markers.js%22%3E%3C/script%3E%0A%20%20%20%20%3Clink%20rel%3D%22stylesheet%22%20href%3D%22https%3A//cdn.jsdelivr.net/npm/leaflet%401.6.0/dist/leaflet.css%22/%3E%0A%20%20%20%20%3Clink%20rel%3D%22stylesheet%22%20href%3D%22https%3A//maxcdn.bootstrapcdn.com/bootstrap/3.2.0/css/bootstrap.min.css%22/%3E%0A%20%20%20%20%3Clink%20rel%3D%22stylesheet%22%20href%3D%22https%3A//maxcdn.bootstrapcdn.com/bootstrap/3.2.0/css/bootstrap-theme.min.css%22/%3E%0A%20%20%20%20%3Clink%20rel%3D%22stylesheet%22%20href%3D%22https%3A//maxcdn.bootstrapcdn.com/font-awesome/4.6.3/css/font-awesome.min.css%22/%3E%0A%20%20%20%20%3Clink%20rel%3D%22stylesheet%22%20href%3D%22https%3A//cdnjs.cloudflare.com/ajax/libs/Leaflet.awesome-markers/2.0.2/leaflet.awesome-markers.css%22/%3E%0A%20%20%20%20%3Clink%20rel%3D%22stylesheet%22%20href%3D%22https%3A//cdn.jsdelivr.net/gh/python-visualization/folium/folium/templates/leaflet.awesome.rotate.min.css%22/%3E%0A%20%20%20%20%0A%20%20%20%20%20%20%20%20%20%20%20%20%3Cmeta%20name%3D%22viewport%22%20content%3D%22width%3Ddevice-width%2C%0A%20%20%20%20%20%20%20%20%20%20%20%20%20%20%20%20initial-scale%3D1.0%2C%20maximum-scale%3D1.0%2C%20user-scalable%3Dno%22%20/%3E%0A%20%20%20%20%20%20%20%20%20%20%20%20%3Cstyle%3E%0A%20%20%20%20%20%20%20%20%20%20%20%20%20%20%20%20%23map_0ca9bcc2bcf6418baa9ddb47b67c365a%20%7B%0A%20%20%20%20%20%20%20%20%20%20%20%20%20%20%20%20%20%20%20%20position%3A%20relative%3B%0A%20%20%20%20%20%20%20%20%20%20%20%20%20%20%20%20%20%20%20%20width%3A%20100.0%25%3B%0A%20%20%20%20%20%20%20%20%20%20%20%20%20%20%20%20%20%20%20%20height%3A%20100.0%25%3B%0A%20%20%20%20%20%20%20%20%20%20%20%20%20%20%20%20%20%20%20%20left%3A%200.0%25%3B%0A%20%20%20%20%20%20%20%20%20%20%20%20%20%20%20%20%20%20%20%20top%3A%200.0%25%3B%0A%20%20%20%20%20%20%20%20%20%20%20%20%20%20%20%20%7D%0A%20%20%20%20%20%20%20%20%20%20%20%20%3C/style%3E%0A%20%20%20%20%20%20%20%20%0A%3C/head%3E%0A%3Cbody%3E%20%20%20%20%0A%20%20%20%20%0A%20%20%20%20%20%20%20%20%20%20%20%20%3Cdiv%20class%3D%22folium-map%22%20id%3D%22map_0ca9bcc2bcf6418baa9ddb47b67c365a%22%20%3E%3C/div%3E%0A%20%20%20%20%20%20%20%20%0A%3C/body%3E%0A%3Cscript%3E%20%20%20%20%0A%20%20%20%20%0A%20%20%20%20%20%20%20%20%20%20%20%20var%20map_0ca9bcc2bcf6418baa9ddb47b67c365a%20%3D%20L.map%28%0A%20%20%20%20%20%20%20%20%20%20%20%20%20%20%20%20%22map_0ca9bcc2bcf6418baa9ddb47b67c365a%22%2C%0A%20%20%20%20%20%20%20%20%20%20%20%20%20%20%20%20%7B%0A%20%20%20%20%20%20%20%20%20%20%20%20%20%20%20%20%20%20%20%20center%3A%20%5B37.09024%2C%20-95.712891%5D%2C%0A%20%20%20%20%20%20%20%20%20%20%20%20%20%20%20%20%20%20%20%20crs%3A%20L.CRS.EPSG3857%2C%0A%20%20%20%20%20%20%20%20%20%20%20%20%20%20%20%20%20%20%20%20zoom%3A%204%2C%0A%20%20%20%20%20%20%20%20%20%20%20%20%20%20%20%20%20%20%20%20zoomControl%3A%20true%2C%0A%20%20%20%20%20%20%20%20%20%20%20%20%20%20%20%20%20%20%20%20preferCanvas%3A%20false%2C%0A%20%20%20%20%20%20%20%20%20%20%20%20%20%20%20%20%7D%0A%20%20%20%20%20%20%20%20%20%20%20%20%29%3B%0A%0A%20%20%20%20%20%20%20%20%20%20%20%20%0A%0A%20%20%20%20%20%20%20%20%0A%20%20%20%20%0A%20%20%20%20%20%20%20%20%20%20%20%20var%20tile_layer_13a987c4eddb4308ad6b24e41a09ef1a%20%3D%20L.tileLayer%28%0A%20%20%20%20%20%20%20%20%20%20%20%20%20%20%20%20%22https%3A//api.mapbox.com/styles/v1/jenfaith/ckm3ufeuf0v8y17qqi8d7gfre/tiles/256/%7Bz%7D/%7Bx%7D/%7By%7D%402x%3Faccess_token%3Dpk.eyJ1IjoiamVuZmFpdGgiLCJhIjoiY2ttM3QzYnI1MDhzZTJucWRubXlzMHphdCJ9.3FsZLNb_YZlAwssJDfV4Cw%22%2C%0A%20%20%20%20%20%20%20%20%20%20%20%20%20%20%20%20%7B%22attribution%22%3A%20%22Map%20Box%20Attribute%22%2C%20%22detectRetina%22%3A%20false%2C%20%22minZoom%22%3A%204%2C%20%22noWrap%22%3A%20false%2C%20%22opacity%22%3A%201%2C%20%22subdomains%22%3A%20%22abc%22%2C%20%22tms%22%3A%20false%7D%0A%20%20%20%20%20%20%20%20%20%20%20%20%29.addTo%28map_0ca9bcc2bcf6418baa9ddb47b67c365a%29%3B%0A%20%20%20%20%20%20%20%20%0A%20%20%20%20%0A%20%20%20%20%20%20%20%20%20%20%20%20var%20marker_acd3a6466eef4d51844564781ea4d879%20%3D%20L.marker%28%0A%20%20%20%20%20%20%20%20%20%20%20%20%20%20%20%20%5B36.16763243080752%2C%20-109.68806973451998%5D%2C%0A%20%20%20%20%20%20%20%20%20%20%20%20%20%20%20%20%7B%7D%0A%20%20%20%20%20%20%20%20%20%20%20%20%29.addTo%28map_0ca9bcc2bcf6418baa9ddb47b67c365a%29%3B%0A%20%20%20%20%20%20%20%20%0A%20%20%20%20%0A%20%20%20%20%20%20%20%20%20%20%20%20var%20icon_e1fadfb6cc9e4aef920427768bb434e3%20%3D%20L.AwesomeMarkers.icon%28%0A%20%20%20%20%20%20%20%20%20%20%20%20%20%20%20%20%7B%22extraClasses%22%3A%20%22fa-rotate-0%22%2C%20%22icon%22%3A%20%22home%22%2C%20%22iconColor%22%3A%20%22white%22%2C%20%22markerColor%22%3A%20%22red%22%2C%20%22prefix%22%3A%20%22fa%22%7D%0A%20%20%20%20%20%20%20%20%20%20%20%20%29%3B%0A%20%20%20%20%20%20%20%20%20%20%20%20marker_acd3a6466eef4d51844564781ea4d879.setIcon%28icon_e1fadfb6cc9e4aef920427768bb434e3%29%3B%0A%20%20%20%20%20%20%20%20%0A%20%20%20%20%0A%20%20%20%20%20%20%20%20var%20popup_2e46a1a968d0499fa3c44775f97cd9d9%20%3D%20L.popup%28%7B%22maxWidth%22%3A%20%22100%25%22%7D%29%3B%0A%0A%20%20%20%20%20%20%20%20%0A%20%20%20%20%20%20%20%20%20%20%20%20var%20html_c4f4331bd8db4b43806967ae4db06fbf%20%3D%20%24%28%60%3Cdiv%20id%3D%22html_c4f4331bd8db4b43806967ae4db06fbf%22%20style%3D%22width%3A%20100.0%25%3B%20height%3A%20100.0%25%3B%22%3E%3Ca%20href%3D%20/report%3Ffacility_name%3DCHINLE%2BNURSING%2BHOME%20target%3D%22_blank%22%3ECHINLE%20NURSING%20HOME%3C/a%3E%3C/div%3E%60%29%5B0%5D%3B%0A%20%20%20%20%20%20%20%20%20%20%20%20popup_2e46a1a968d0499fa3c44775f97cd9d9.setContent%28html_c4f4331bd8db4b43806967ae4db06fbf%29%3B%0A%20%20%20%20%20%20%20%20%0A%0A%20%20%20%20%20%20%20%20marker_acd3a6466eef4d51844564781ea4d879.bindPopup%28popup_2e46a1a968d0499fa3c44775f97cd9d9%29%0A%20%20%20%20%20%20%20%20%3B%0A%0A%20%20%20%20%20%20%20%20%0A%20%20%20%20%0A%20%20%20%20%0A%20%20%20%20%20%20%20%20%20%20%20%20var%20marker_ed527e774d0f4181b0d948a4bebd3942%20%3D%20L.marker%28%0A%20%20%20%20%20%20%20%20%20%20%20%20%20%20%20%20%5B40.748088772582804%2C%20-73.86062360133637%5D%2C%0A%20%20%20%20%20%20%20%20%20%20%20%20%20%20%20%20%7B%7D%0A%20%20%20%20%20%20%20%20%20%20%20%20%29.addTo%28map_0ca9bcc2bcf6418baa9ddb47b67c365a%29%3B%0A%20%20%20%20%20%20%20%20%0A%20%20%20%20%0A%20%20%20%20%20%20%20%20%20%20%20%20var%20icon_d472d35d269546c9ad61f304f32ea279%20%3D%20L.AwesomeMarkers.icon%28%0A%20%20%20%20%20%20%20%20%20%20%20%20%20%20%20%20%7B%22extraClasses%22%3A%20%22fa-rotate-0%22%2C%20%22icon%22%3A%20%22home%22%2C%20%22iconColor%22%3A%20%22white%22%2C%20%22markerColor%22%3A%20%22red%22%2C%20%22prefix%22%3A%20%22fa%22%7D%0A%20%20%20%20%20%20%20%20%20%20%20%20%29%3B%0A%20%20%20%20%20%20%20%20%20%20%20%20marker_ed527e774d0f4181b0d948a4bebd3942.setIcon%28icon_d472d35d269546c9ad61f304f32ea279%29%3B%0A%20%20%20%20%20%20%20%20%0A%20%20%20%20%0A%20%20%20%20%20%20%20%20var%20popup_dcb2ae4dd7ef4d72873f063effe911cc%20%3D%20L.popup%28%7B%22maxWidth%22%3A%20%22100%25%22%7D%29%3B%0A%0A%20%20%20%20%20%20%20%20%0A%20%20%20%20%20%20%20%20%20%20%20%20var%20html_eb2ea1e6995741fca154ac8c9a3cbd14%20%3D%20%24%28%60%3Cdiv%20id%3D%22html_eb2ea1e6995741fca154ac8c9a3cbd14%22%20style%3D%22width%3A%20100.0%25%3B%20height%3A%20100.0%25%3B%22%3E%3Ca%20href%3D%20/report%3Ffacility_name%3DPARK%2BTERRACE%2BCARE%2BCENTER%20target%3D%22_blank%22%3EPARK%20TERRACE%20CARE%20CENTER%3C/a%3E%3C/div%3E%60%29%5B0%5D%3B%0A%20%20%20%20%20%20%20%20%20%20%20%20popup_dcb2ae4dd7ef4d72873f063effe911cc.setContent%28html_eb2ea1e6995741fca154ac8c9a3cbd14%29%3B%0A%20%20%20%20%20%20%20%20%0A%0A%20%20%20%20%20%20%20%20marker_ed527e774d0f4181b0d948a4bebd3942.bindPopup%28popup_dcb2ae4dd7ef4d72873f063effe911cc%29%0A%20%20%20%20%20%20%20%20%3B%0A%0A%20%20%20%20%20%20%20%20%0A%20%20%20%20%0A%20%20%20%20%0A%20%20%20%20%20%20%20%20%20%20%20%20var%20marker_27b134b95c0e46008fb1850a0ad2ec6b%20%3D%20L.marker%28%0A%20%20%20%20%20%20%20%20%20%20%20%20%20%20%20%20%5B40.748088772582804%2C%20-73.86062360133637%5D%2C%0A%20%20%20%20%20%20%20%20%20%20%20%20%20%20%20%20%7B%7D%0A%20%20%20%20%20%20%20%20%20%20%20%20%29.addTo%28map_0ca9bcc2bcf6418baa9ddb47b67c365a%29%3B%0A%20%20%20%20%20%20%20%20%0A%20%20%20%20%0A%20%20%20%20%20%20%20%20%20%20%20%20var%20icon_a7ed944b7a7143efa7d8e48835e1db67%20%3D%20L.AwesomeMarkers.icon%28%0A%20%20%20%20%20%20%20%20%20%20%20%20%20%20%20%20%7B%22extraClasses%22%3A%20%22fa-rotate-0%22%2C%20%22icon%22%3A%20%22home%22%2C%20%22iconColor%22%3A%20%22white%22%2C%20%22markerColor%22%3A%20%22red%22%2C%20%22prefix%22%3A%20%22fa%22%7D%0A%20%20%20%20%20%20%20%20%20%20%20%20%29%3B%0A%20%20%20%20%20%20%20%20%20%20%20%20marker_27b134b95c0e46008fb1850a0ad2ec6b.setIcon%28icon_a7ed944b7a7143efa7d8e48835e1db67%29%3B%0A%20%20%20%20%20%20%20%20%0A%20%20%20%20%0A%20%20%20%20%20%20%20%20var%20popup_3eef6540e7384e549b953f6d8f60746a%20%3D%20L.popup%28%7B%22maxWidth%22%3A%20%22100%25%22%7D%29%3B%0A%0A%20%20%20%20%20%20%20%20%0A%20%20%20%20%20%20%20%20%20%20%20%20var%20html_4ce109930cf44a788584e400bbe81aad%20%3D%20%24%28%60%3Cdiv%20id%3D%22html_4ce109930cf44a788584e400bbe81aad%22%20style%3D%22width%3A%20100.0%25%3B%20height%3A%20100.0%25%3B%22%3E%3Ca%20href%3D%20/report%3Ffacility_name%3DREGO%2BPARK%2BNURSING%2BHOME%20target%3D%22_blank%22%3EREGO%20PARK%20NURSING%20HOME%3C/a%3E%3C/div%3E%60%29%5B0%5D%3B%0A%20%20%20%20%20%20%20%20%20%20%20%20popup_3eef6540e7384e549b953f6d8f60746a.setContent%28html_4ce109930cf44a788584e400bbe81aad%29%3B%0A%20%20%20%20%20%20%20%20%0A%0A%20%20%20%20%20%20%20%20marker_27b134b95c0e46008fb1850a0ad2ec6b.bindPopup%28popup_3eef6540e7384e549b953f6d8f60746a%29%0A%20%20%20%20%20%20%20%20%3B%0A%0A%20%20%20%20%20%20%20%20%0A%20%20%20%20%0A%3C/script%3E onload=\"this.contentDocument.open();this.contentDocument.write(    decodeURIComponent(this.getAttribute('data-html')));this.contentDocument.close();\" allowfullscreen webkitallowfullscreen mozallowfullscreen></iframe></div></div>"
      ],
      "text/plain": [
       "<folium.folium.Map at 0x1168429d0>"
      ]
     },
     "execution_count": 134,
     "metadata": {},
     "output_type": "execute_result"
    }
   ],
   "source": [
    "new_map"
   ]
  },
  {
   "cell_type": "code",
   "execution_count": 191,
   "id": "fifteen-flour",
   "metadata": {},
   "outputs": [],
   "source": [
    "map_final = generate_points(map_instruct)"
   ]
  },
  {
   "cell_type": "code",
   "execution_count": 193,
   "id": "united-thompson",
   "metadata": {},
   "outputs": [],
   "source": [
    "map_final.save('index.html')"
   ]
  },
  {
   "cell_type": "code",
   "execution_count": null,
   "id": "weird-satellite",
   "metadata": {},
   "outputs": [],
   "source": []
  }
 ],
 "metadata": {
  "kernelspec": {
   "display_name": "Python 3",
   "language": "python",
   "name": "python3"
  },
  "language_info": {
   "codemirror_mode": {
    "name": "ipython",
    "version": 3
   },
   "file_extension": ".py",
   "mimetype": "text/x-python",
   "name": "python",
   "nbconvert_exporter": "python",
   "pygments_lexer": "ipython3",
   "version": "3.8.7"
  }
 },
 "nbformat": 4,
 "nbformat_minor": 5
}
