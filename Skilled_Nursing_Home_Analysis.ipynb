{
  "nbformat": 4,
  "nbformat_minor": 0,
  "metadata": {
    "colab": {
      "name": "Skilled Nursing Home Analysis",
      "provenance": [],
      "authorship_tag": "ABX9TyMNUJkTTjRGyaJ1X8TUkeB6",
      "include_colab_link": true
    },
    "kernelspec": {
      "name": "python3",
      "display_name": "Python 3"
    }
  },
  "cells": [
    {
      "cell_type": "markdown",
      "metadata": {
        "id": "view-in-github",
        "colab_type": "text"
      },
      "source": [
        "<a href=\"https://colab.research.google.com/github/JenFaith/Skilled_Nursing_Facility/blob/main/Skilled_Nursing_Home_Analysis.ipynb\" target=\"_parent\"><img src=\"https://colab.research.google.com/assets/colab-badge.svg\" alt=\"Open In Colab\"/></a>"
      ]
    },
    {
      "cell_type": "markdown",
      "metadata": {
        "id": "oJLR0R-KDQ2l"
      },
      "source": [
        "#**Nursing Home Data Analysis**"
      ]
    },
    {
      "cell_type": "markdown",
      "metadata": {
        "id": "7rTpPj2qDbjZ"
      },
      "source": [
        "##Importing Data & Packages"
      ]
    },
    {
      "cell_type": "code",
      "metadata": {
        "id": "0D4bGapdDMja"
      },
      "source": [
        "%%capture\n",
        "import sys\n",
        "if 'google.colab' in sys.modules:\n",
        "    !pip install category_encoders==2.*\n",
        "    !pip install pdpbox\n",
        "    !pip install shap\n",
        "\n",
        "\n",
        "import numpy as np\n",
        "import pandas as pd\n",
        "import matplotlib.pyplot as plt\n",
        "from datetime import datetime\n",
        "from functools import reduce\n",
        "import seaborn as sns"
      ],
      "execution_count": 1,
      "outputs": []
    },
    {
      "cell_type": "code",
      "metadata": {
        "id": "S8tJIvPeU21U"
      },
      "source": [
        "outcomes_14 = pd.read_csv('QualityMsr_Download_14.csv')\n",
        "outcomes_15 = pd.read_csv('QualityMsr_Download_15.csv')\n",
        "outcomes_16 = pd.read_csv('QualityMsrClaims_Download_16.csv')\n",
        "outcomes_17 = pd.read_csv('QualityMsrClaims_Download_17.csv',encoding='cp1252')\n",
        "outcomes_18 = pd.read_csv('QualityMsrClaims_Download_18.csv', encoding='cp1252')\n",
        "outcomes_19 = pd.read_csv('QualityMsrClaims_Download_19.csv', encoding='cp1252')\n",
        "outcomes_20 = pd.read_csv('NH_QualityMsr_Claims_Nov2020.csv',encoding='cp1252')"
      ],
      "execution_count": null,
      "outputs": []
    },
    {
      "cell_type": "code",
      "metadata": {
        "id": "4lxUFMQ_DqR5"
      },
      "source": [
        "#MEDICARE FILES\n",
        "\n",
        "medicare_2018 = pd.read_csv('Skilled_Nursing_Facility_Provider_by_RUG_Table__CY_2018.csv')\n",
        "medicare_2017 = pd.read_csv('Skilled_Nursing_Facility_Provider_by_RUG_Table__CY_2017.csv')\n",
        "medicare_2016 = pd.read_csv('Skilled_Nursing_Facility_Provider_by_RUG_Table__CY_2016.csv')\n",
        "medicare_2015 = pd.read_csv('Skilled_Nursing_Facility_Provider_by_RUG_Table__CY_2015.csv')\n",
        "medicare_2014 = pd.read_csv('Skilled_Nursing_Facility_Provider_by_RUG_Table__CY_2014.csv')\n",
        "medicare_2013 = pd.read_csv('Skilled_Nursing_Facility_Provider_by_RUG_Table__CY_2013.csv')"
      ],
      "execution_count": 3,
      "outputs": []
    },
    {
      "cell_type": "code",
      "metadata": {
        "id": "0Rq1Hy9inQ8F"
      },
      "source": [
        "#FACILITY INFORMATION FILES\n",
        "facility_info_19 = pd.read_csv('ProviderInfo_Download_19.csv', encoding='cp1252',parse_dates = ['FILEDATE', 'PARTICIPATION_DATE'])\n",
        "facility_info_18 = pd.read_csv('ProviderInfo_Download_18.csv', encoding='cp1252', parse_dates = ['FILEDATE', 'PARTICIPATION_DATE'])\n",
        "facility_info_17 = pd.read_csv('ProviderInfo_Download_17.csv', encoding='cp1252',parse_dates = ['FILEDATE', 'PARTICIPATION_DATE'])\n",
        "facility_info_16 = pd.read_csv('ProviderInfo_Download_16.csv', encoding='cp1252',parse_dates = ['FILEDATE', 'PARTICIPATION_DATE'])\n",
        "facility_info_15 = pd.read_csv('ProviderInfo_Download_15.csv', encoding='cp1252',parse_dates = ['FILEDATE', 'PARTICIPATION_DATE'])\n",
        "facility_info_14 = pd.read_csv('ProviderInfo_Download_14.csv', encoding='cp1252',parse_dates = ['FILEDATE', 'PARTICIPATION_DATE'])"
      ],
      "execution_count": 8,
      "outputs": []
    },
    {
      "cell_type": "code",
      "metadata": {
        "id": "Ha4KUFOjIHuE",
        "colab": {
          "base_uri": "https://localhost:8080/"
        },
        "outputId": "18484663-3cd6-4369-83ea-c617b66eaa49"
      },
      "source": [
        "#OVERVIEW FILES\n",
        "sample_2020 = pd.read_csv('NH_SurveySummary_Nov2020.csv', encoding='cp1252')\n",
        "sample_2020.drop(columns='Inspection Cycle', inplace=True)\n",
        "sample_2019 = pd.read_csv('SurveySummary_Download-19.csv', encoding='cp1252', parse_dates = ['FILEDATE', 'H_SURVEY_DATE', 'F_SURVEY_DATE'])\n",
        "sample_2018 = pd.read_csv('SurveySummary_Download_18.csv', encoding='cp1252', parse_dates = ['FILEDATE', 'H_SURVEY_DATE', 'F_SURVEY_DATE'])\n",
        "sample_2018.drop(columns='HLTHSRVY_POST20171128', inplace=True)\n",
        "sample_2015 = pd.read_csv('SurveySummary_Download_15.csv', encoding='cp1252', parse_dates = ['filedate', 'H_SURVEY_DATE', 'F_SURVEY_DATE'])"
      ],
      "execution_count": 9,
      "outputs": [
        {
          "output_type": "stream",
          "text": [
            "/usr/local/lib/python3.6/dist-packages/IPython/core/interactiveshell.py:2718: DtypeWarning: Columns (10,14,16,26,27,28,29,30,31,32,33,34,35,36,37,38,39,40,41,42,43,44) have mixed types.Specify dtype option on import or set low_memory=False.\n",
            "  interactivity=interactivity, compiler=compiler, result=result)\n"
          ],
          "name": "stderr"
        }
      ]
    },
    {
      "cell_type": "code",
      "metadata": {
        "id": "4LayKeLW3R8J"
      },
      "source": [
        "payments_percent = pd.read_csv('FY_2021_SNF_VBP_Facility_Performance.csv', encoding='cp1252')"
      ],
      "execution_count": 108,
      "outputs": []
    },
    {
      "cell_type": "markdown",
      "metadata": {
        "id": "4pTHrBQHSsGZ"
      },
      "source": [
        "##Important Chart Definitions\n",
        "\n",
        "**AIDHRD** - Reported CNA Staffing Hours per Resident per Day\n",
        "\n",
        "**VOCHRD** - Reported LPN Staffing Hours per Resident per Day\n",
        "\n",
        "**RNHRD** - Reported RN Staffing Hours per Resident per Day\n",
        "\n",
        "**TOTLICHRD** - Reported Licensed Staffing Hours per Resident per Day\n",
        "\n",
        "**TOTHRD** - Reported Total Nurse Staffing Hours per Resident per Day\n",
        "\n",
        "**PTHRD** - Reported Physical Therapist Staffing Hours per Resident Per Day\n",
        "\n",
        "**CHOW_LAST_12MOS** - Changed ownership in last 12 months\n",
        "\n"
      ]
    },
    {
      "cell_type": "markdown",
      "metadata": {
        "id": "yHXiziFpgWeZ"
      },
      "source": [
        "#I. WRANGLE DATA"
      ]
    },
    {
      "cell_type": "markdown",
      "metadata": {
        "id": "nv_KZlAbVPmu"
      },
      "source": [
        "##*FORMATTING OUTCOMES MEASUREMENTS*"
      ]
    },
    {
      "cell_type": "markdown",
      "metadata": {
        "id": "jJVffUfteUth"
      },
      "source": [
        "I realized that I can't actually use this since the measures aren't identical but I didn't want to totally trash the code."
      ]
    },
    {
      "cell_type": "code",
      "metadata": {
        "id": "w9vn15FTS_G4"
      },
      "source": [
        "#outcomes_20.drop(columns='Location', inplace=True)"
      ],
      "execution_count": 10,
      "outputs": []
    },
    {
      "cell_type": "code",
      "metadata": {
        "id": "FkXpR1utnfTU"
      },
      "source": [
        "# def outcomes_n(df):\n",
        "  \n",
        "#   #Standardize List Names\n",
        "#   list_c = ['PROVNUM', 'PROVNAME', 'ADDRESS', 'CITY', 'STATE', 'ZIP', 'MSR_CD',\n",
        "#        'MSR_DESCR', 'STAY_TYPE', 'SCORE_ADJUSTED', 'SCORE_OBSERVED',\n",
        "#        'SCORE_EXPECTED', 'SCORE_FN', 'FIVE_STAR_MSR', 'MEASURE_PERIOD',\n",
        "#        'FILEDATE']\n",
        "#   df.columns = list_c\n",
        "\n",
        "#   #Reformat spreadsheet so each score has it's own column\n",
        "#   df['REHOSPITALIZED_ADJ'] = np.where(df['MSR_DESCR'].str.contains('rehospitalized'),df['SCORE_ADJUSTED'], 0)\n",
        "#   df['OUT_EMERGENCY_ADJ'] = np.where(df['MSR_DESCR'].str.contains('outpatient'), df['SCORE_ADJUSTED'], 0)\n",
        "#   df['SUCCESS_ADJ'] = np.where(df['MSR_DESCR'].str.contains('successfully'), df['SCORE_ADJUSTED'], 0)\n",
        "\n",
        "#   #Add column to indicate year data is form\n",
        "#   df['YEAR']=df['MEASURE_PERIOD'].astype(str).str[:4]\n",
        "\n",
        "#   #Only keep needed columns\n",
        "#   df.drop(columns=['MSR_CD','MSR_DESCR', 'SCORE_ADJUSTED', 'SCORE_OBSERVED', 'SCORE_EXPECTED',\n",
        "#        'SCORE_FN', 'FIVE_STAR_MSR','FILEDATE','MEASURE_PERIOD'], inplace=True)\n",
        "\n",
        "#   #Regroup to push all repeating columns into 1\n",
        "#   df = df.groupby(['PROVNUM', 'PROVNAME', 'ADDRESS', 'CITY', 'STATE', 'ZIP', 'YEAR']).sum().reset_index()\n",
        "\n",
        "#   return df"
      ],
      "execution_count": 11,
      "outputs": []
    },
    {
      "cell_type": "markdown",
      "metadata": {
        "id": "YIpk2NB2F1Gz"
      },
      "source": [
        "##*Standardizing Facility Reports & Engineering New Features*"
      ]
    },
    {
      "cell_type": "code",
      "metadata": {
        "id": "83BlLCnttg3i"
      },
      "source": [
        "def facility_wrangle(df):\n",
        "  #Format all column titles the same\n",
        "  df.columns = df.columns.str.upper()\n",
        "  \n",
        "  #Add new column with just year of survey\n",
        "  year = pd.DatetimeIndex(df['FILEDATE']).year.tolist()\n",
        "  y_dict = {\"YEAR\":year}\n",
        "  years_col = pd.DataFrame(y_dict)\n",
        "  df = pd.concat([df, years_col], axis=1)\n",
        "\n",
        "  #Add new column telling legth of time certified to participate in Medicare/Medicaid program\n",
        "  df['CERT_LENGTH_YRS'] = df['FILEDATE'] - df['PARTICIPATION_DATE']\n",
        "  df['CERT_LENGTH_YRS'] = (df['CERT_LENGTH_YRS'].dt.days)/365.25\n",
        "  df['CERT_LENGTH_YRS'] = df['CERT_LENGTH_YRS'].round(1)\n",
        "\n",
        "  #Add new column to calculate difference in certified beds vs residents\n",
        "  df['CERTBED_vs_RESTOT'] = df['BEDCERT'] - df['RESTOT']\n",
        "\n",
        "  #Only keep summary columns\n",
        "  keep_facil =['PROVNUM','PROVNAME','ADDRESS','CITY','STATE','ZIP','COUNTY_NAME','OWNERSHIP','BEDCERT','RESTOT','CERTIFICATION','CERTBED_vs_RESTOT','CERT_LENGTH_YRS','YEAR',\n",
        "               'CHOW_LAST_12MOS', 'AIDHRD','VOCHRD','RNHRD', 'TOTLICHRD', 'TOTHRD', 'PTHRD']\n",
        "  df.drop(df.columns.difference(keep_facil), 1, inplace=True)\n",
        "\n",
        "  return df\n",
        "  "
      ],
      "execution_count": 12,
      "outputs": []
    },
    {
      "cell_type": "markdown",
      "metadata": {
        "id": "1XYmADm6HCvo"
      },
      "source": [
        "APPLYING WRANGLE FUNCTION TO EACH DATASET"
      ]
    },
    {
      "cell_type": "code",
      "metadata": {
        "id": "w_-6kb-1KpSs"
      },
      "source": [
        "facility_info_19 = facility_wrangle(facility_info_19)"
      ],
      "execution_count": 13,
      "outputs": []
    },
    {
      "cell_type": "code",
      "metadata": {
        "id": "iBySZQ8oE70n"
      },
      "source": [
        "facility_info_18 = facility_wrangle(facility_info_18)"
      ],
      "execution_count": 14,
      "outputs": []
    },
    {
      "cell_type": "code",
      "metadata": {
        "id": "c9vxnHL5FUy1"
      },
      "source": [
        "facility_info_17 = facility_wrangle(facility_info_17)"
      ],
      "execution_count": 15,
      "outputs": []
    },
    {
      "cell_type": "code",
      "metadata": {
        "id": "wjdUCgOcFeI3"
      },
      "source": [
        "facility_info_16 = facility_wrangle(facility_info_16)"
      ],
      "execution_count": 16,
      "outputs": []
    },
    {
      "cell_type": "code",
      "metadata": {
        "id": "3IXwJyG_FegD"
      },
      "source": [
        "facility_info_15 = facility_wrangle(facility_info_15)"
      ],
      "execution_count": 17,
      "outputs": []
    },
    {
      "cell_type": "code",
      "metadata": {
        "id": "5NwyjPzRFe7p"
      },
      "source": [
        "facility_info_14 = facility_wrangle(facility_info_14)"
      ],
      "execution_count": 18,
      "outputs": []
    },
    {
      "cell_type": "markdown",
      "metadata": {
        "id": "SKM701AKgZ9G"
      },
      "source": [
        "##*Standardizing Nursing Home Data & Engineering New Features*\n",
        "\n"
      ]
    },
    {
      "cell_type": "code",
      "metadata": {
        "id": "gb7XO0tD43b6"
      },
      "source": [
        "def sample_n(df):\n",
        "  #Standardize List Names\n",
        "  list_c = ['PROVNUM', 'PROVNAME', 'ADDRESS', 'CITY', 'STATE', 'ZIP', 'CYCLE', 'H_SURVEY_DATE', 'F_SURVEY_DATE',\n",
        "       'H_TOT_DFCNCY', 'F_TOT_DFCNCY', 'H_ABS_NEG_EXP_N', 'H_QOC_QOL_N',\n",
        "       'H_CARE_PLAN_N', 'H_NRS_MD_SVC_N', 'H_RES_RIGHTS_N', 'H_NUTRITION_N',\n",
        "       'H_PHARMACY_N', 'H_ENVIRONMENTAL_N', 'H_ADMINISTRATION_N',\n",
        "       'F_EMRGNCY_PREP_N', 'F_SPRINKLER_N', 'F_CONSTRUCTION_N', 'F_SERVICES_N',\n",
        "       'F_CORRIDOR_DOORS_N', 'F_EGRESS_N', 'F_ELECTRICAL_N',\n",
        "       'F_EMERGENCY_PLAN_N', 'F_FIRE_ALARM_N', 'F_SMOKE_N', 'F_INTERIOR_N',\n",
        "       'F_GAS_VAC_ELEC_N', 'F_HAZARD_AREA_N', 'F_ILLUMINATION_N',\n",
        "       'F_LABORATORIES_N', 'F_MEDICAL_GAS_N', 'F_SMOKING_REG_N',\n",
        "       'F_MISCELLANEOUS_N', 'FILEDATE']\n",
        "  df.columns = list_c\n",
        "\n",
        "  #Add new column with just year of survey\n",
        "  df.columns = df.columns.str.upper()\n",
        "  year = pd.DatetimeIndex(df['H_SURVEY_DATE']).year.tolist()\n",
        "  y_dict = {\"YEAR\":year}\n",
        "  years_col = pd.DataFrame(y_dict)\n",
        "  df = pd.concat([df, years_col], axis=1)\n",
        "\n",
        "  #Only keep summary columns\n",
        "  keep = ['PROVNUM','PROVNAME','ADDRESS', 'CITY', 'STATE','ZIP', 'H_TOT_DFCNCY', 'YEAR']\n",
        "  df.drop(df.columns.difference(keep), 1, inplace=True)\n",
        "  return df\n",
        "  "
      ],
      "execution_count": 19,
      "outputs": []
    },
    {
      "cell_type": "markdown",
      "metadata": {
        "id": "DBBBhKNPHB4Y"
      },
      "source": [
        "APPLYING WRANGLE FUNCTION TO EACH DATASET"
      ]
    },
    {
      "cell_type": "code",
      "metadata": {
        "id": "9nzdDYyPKQMC"
      },
      "source": [
        "sample_2018 = sample_n(sample_2018)"
      ],
      "execution_count": 20,
      "outputs": []
    },
    {
      "cell_type": "code",
      "metadata": {
        "id": "BROCFsjPEBwV"
      },
      "source": [
        "sample_2019 = sample_n(sample_2019)"
      ],
      "execution_count": 21,
      "outputs": []
    },
    {
      "cell_type": "code",
      "metadata": {
        "id": "9tHZp90zbbE8"
      },
      "source": [
        "sample_2020 = sample_n(sample_2020)"
      ],
      "execution_count": 22,
      "outputs": []
    },
    {
      "cell_type": "code",
      "metadata": {
        "id": "uS3NCtJQInDD"
      },
      "source": [
        "#Earlier data contained more columns so I adjusted here\n",
        "sample_2015['YEAR'] = pd.DatetimeIndex(sample_2015['H_SURVEY_DATE']).year.tolist()\n",
        "\n",
        "keep_15 = ['PROVNUM','PROVNAME','ADDRESS', 'CITY', 'STATE','ZIP', 'H_TOT_DFCNCY', 'YEAR']\n",
        "sample_2015.drop(sample_2015.columns.difference(keep_15), 1, inplace=True)\n"
      ],
      "execution_count": 23,
      "outputs": []
    },
    {
      "cell_type": "markdown",
      "metadata": {
        "id": "GDTJqF8DrE3X"
      },
      "source": [
        "##*Standardizing Medicare Data & Engineering New Features*"
      ]
    },
    {
      "cell_type": "code",
      "metadata": {
        "colab": {
          "base_uri": "https://localhost:8080/",
          "height": 0
        },
        "id": "LyVvvnvbUqiK",
        "outputId": "989e5b06-f10c-47fc-b194-1f64b933731e"
      },
      "source": [
        "medicare_2018['YEAR'] = len(medicare_2018)*[2018]\n",
        "medicare_2017['YEAR'] = len(medicare_2017)*[2017]\n",
        "medicare_2016['YEAR'] = len(medicare_2016)*[2016]\n",
        "medicare_2015['YEAR'] = len(medicare_2015)*[2015]\n",
        "medicare_2014['YEAR'] = len(medicare_2014)*[2014]\n",
        "medicare_2014.head(1)"
      ],
      "execution_count": 24,
      "outputs": [
        {
          "output_type": "execute_result",
          "data": {
            "text/html": [
              "<div>\n",
              "<style scoped>\n",
              "    .dataframe tbody tr th:only-of-type {\n",
              "        vertical-align: middle;\n",
              "    }\n",
              "\n",
              "    .dataframe tbody tr th {\n",
              "        vertical-align: top;\n",
              "    }\n",
              "\n",
              "    .dataframe thead th {\n",
              "        text-align: right;\n",
              "    }\n",
              "</style>\n",
              "<table border=\"1\" class=\"dataframe\">\n",
              "  <thead>\n",
              "    <tr style=\"text-align: right;\">\n",
              "      <th></th>\n",
              "      <th>Smry_Ctgry</th>\n",
              "      <th>State</th>\n",
              "      <th>Prvdr_ID</th>\n",
              "      <th>Prvdr_Name</th>\n",
              "      <th>Prvdr_City</th>\n",
              "      <th>Prvdr_ZIP</th>\n",
              "      <th>Grpng</th>\n",
              "      <th>Grpng_Desc</th>\n",
              "      <th>Bene_Dstnct_Cnt</th>\n",
              "      <th>Tot_Epsd_Stay_Cnt</th>\n",
              "      <th>Tot_Srvc_Days</th>\n",
              "      <th>Avg_Chrg_Per_Bene</th>\n",
              "      <th>Avg_Alowd_Amt_Per_Bene</th>\n",
              "      <th>Avg_Pymt_Amt_Per_Bene</th>\n",
              "      <th>Avg_Stdzd_Pymt_Amt_Per_Bene</th>\n",
              "      <th>Avg_Chrg_Per_Stay</th>\n",
              "      <th>Avg_Alowd_Amt_Per_Stay</th>\n",
              "      <th>Avg_Pymt_Amt_Per_Stay</th>\n",
              "      <th>Avg_Stdzd_Pymt_Amt_Per_Stay</th>\n",
              "      <th>Avg_Chrg_Per_Day</th>\n",
              "      <th>Avg_Alowd_Amt_Per_Day</th>\n",
              "      <th>Avg_Pymt_Amt_Per_Day</th>\n",
              "      <th>Avg_Stdzd_Pymt_Amt_Per_Day</th>\n",
              "      <th>YEAR</th>\n",
              "    </tr>\n",
              "  </thead>\n",
              "  <tbody>\n",
              "    <tr>\n",
              "      <th>0</th>\n",
              "      <td>NATION</td>\n",
              "      <td>NATIONAL TOTAL</td>\n",
              "      <td>NATION</td>\n",
              "      <td>NATIONAL TOTAL</td>\n",
              "      <td>NATIONAL TOTAL</td>\n",
              "      <td>NATIONAL TOTAL</td>\n",
              "      <td>AAA</td>\n",
              "      <td>Default</td>\n",
              "      <td>12931.0</td>\n",
              "      <td>14414.0</td>\n",
              "      <td>77490.0</td>\n",
              "      <td>3173.04</td>\n",
              "      <td>1124.51</td>\n",
              "      <td>684.74</td>\n",
              "      <td>696.89</td>\n",
              "      <td>2846.57</td>\n",
              "      <td>1008.81</td>\n",
              "      <td>614.29</td>\n",
              "      <td>625.19</td>\n",
              "      <td>529.49</td>\n",
              "      <td>187.65</td>\n",
              "      <td>114.27</td>\n",
              "      <td>116.29</td>\n",
              "      <td>2014</td>\n",
              "    </tr>\n",
              "  </tbody>\n",
              "</table>\n",
              "</div>"
            ],
            "text/plain": [
              "  Smry_Ctgry           State  ... Avg_Stdzd_Pymt_Amt_Per_Day  YEAR\n",
              "0     NATION  NATIONAL TOTAL  ...                     116.29  2014\n",
              "\n",
              "[1 rows x 24 columns]"
            ]
          },
          "metadata": {
            "tags": []
          },
          "execution_count": 24
        }
      ]
    },
    {
      "cell_type": "code",
      "metadata": {
        "id": "Oo1vcxaZz4yL"
      },
      "source": [
        "# Function to reformat all Medicare files to the same output\n",
        "# I changed the name of provider id column to match the nursing home data so it would be easier to merge the data later\n",
        "def medicare_wrangle(df):\n",
        "  list = ['Summary Category','State','PROVNUM','PROVNAME','City','ZIP',\n",
        " 'Grouping','Grouping Description','Distinct Beneficiaries','Stay Count','Days of Service','Average Charge per Beneficiary','Average Allowed Amount per Beneficiary',\n",
        " 'Average Payment Amount per Beneficiary', 'Average Standard Payment Amount per Beneficiary', 'Average Charge per Stay','Average Allowed Amount per Stay', 'Average Payment Amount per Stay',\n",
        " 'Average Standard Payment Amount per Stay', 'Average Charge per Day', 'Average Allowed Amount per Day', 'Average Payment Amount per Day', 'Average Standard Payment Amount per Day', 'YEAR']\n",
        "  df.columns = list\n",
        "  df = df[df['Summary Category']=='PROVIDER']\n",
        "  df['Difference Charge/Allowed'] = df['Average Charge per Day'] - df['Average Payment Amount per Day']\n",
        "  df.columns = df.columns.str.upper()\n",
        "  df['PROVNUM'] = df['PROVNUM'].apply(lambda x: '{0:0>6}'.format(x))\n",
        "  df.drop(columns = 'SUMMARY CATEGORY', inplace=True)\n",
        "\n",
        "  #REGROUPING AND AVERAGING ALL CATEGORIES OF MEDICARE\n",
        "  df = df.groupby(['PROVNUM','PROVNAME', 'YEAR']).agg(\n",
        "    {'DISTINCT BENEFICIARIES':'sum', \n",
        "     'STAY COUNT':'sum',\n",
        "     'DAYS OF SERVICE':'sum',\n",
        "     'AVERAGE CHARGE PER BENEFICIARY':'mean',\n",
        "     'AVERAGE ALLOWED AMOUNT PER BENEFICIARY':'mean',\n",
        "     'AVERAGE PAYMENT AMOUNT PER BENEFICIARY':'mean',\n",
        "     'AVERAGE STANDARD PAYMENT AMOUNT PER BENEFICIARY':'mean',\n",
        "     'AVERAGE ALLOWED AMOUNT PER STAY':'mean',\n",
        "     'AVERAGE STANDARD PAYMENT AMOUNT PER STAY':'mean',\n",
        "     'AVERAGE CHARGE PER DAY':'mean',\n",
        "     'AVERAGE ALLOWED AMOUNT PER DAY':'mean',\n",
        "     'AVERAGE PAYMENT AMOUNT PER DAY':'mean',\n",
        "     'AVERAGE STANDARD PAYMENT AMOUNT PER DAY':'mean',\n",
        "     'DIFFERENCE CHARGE/ALLOWED':'mean'\n",
        "     })\n",
        "  df = df.reset_index()\n",
        "  return df"
      ],
      "execution_count": 25,
      "outputs": []
    },
    {
      "cell_type": "code",
      "metadata": {
        "id": "gIw-Qv5bll8B"
      },
      "source": [
        "def medicare_regroup_wrangle(df):\n",
        "  df = df.groupby(['PROVNUM','PROVNAME', 'YEAR']).agg(\n",
        "    {'DISTINCT BENEFICIARIES':'sum', \n",
        "     'STAY COUNT':'sum',\n",
        "     'DAYS OF SERVICE':'sum',\n",
        "     'AVERAGE CHARGE PER BENEFICIARY':'mean',\n",
        "     'AVERAGE ALLOWED AMOUNT PER BENEFICIARY':'mean',\n",
        "     'AVERAGE PAYMENT AMOUNT PER BENEFICIARY':'mean',\n",
        "     'AVERAGE STANDARD PAYMENT AMOUNT PER BENEFICIARY':'mean',\n",
        "     'AVERAGE ALLOWED AMOUNT PER STAY':'mean',\n",
        "     'AVERAGE STANDARD PAYMENT AMOUNT PER STAY':'mean',\n",
        "     'AVERAGE CHARGE PER DAY':'mean',\n",
        "     'AVERAGE ALLOWED AMOUNT PER DAY':'mean',\n",
        "     'AVERAGE PAYMENT AMOUNT PER DAY':'mean',\n",
        "     'AVERAGE STANDARD PAYMENT AMOUNT PER DAY':'mean',\n",
        "     'DIFFERENCE CHARGE/ALLOWED':'mean'\n",
        "     })\n",
        "  df = df.reset_index()\n",
        "  return df"
      ],
      "execution_count": 26,
      "outputs": []
    },
    {
      "cell_type": "markdown",
      "metadata": {
        "id": "yqcWB0-_nF9J"
      },
      "source": [
        "APPLYING WRANGLE FUNCTION TO EACH DATASET"
      ]
    },
    {
      "cell_type": "code",
      "metadata": {
        "id": "EsUlj9zJL8Vq",
        "colab": {
          "base_uri": "https://localhost:8080/"
        },
        "outputId": "f5d88a92-35de-4cd5-d1a8-0a670843bb3b"
      },
      "source": [
        "medicare_2018 = medicare_wrangle(medicare_2018);"
      ],
      "execution_count": 27,
      "outputs": [
        {
          "output_type": "stream",
          "text": [
            "/usr/local/lib/python3.6/dist-packages/ipykernel_launcher.py:10: SettingWithCopyWarning: \n",
            "A value is trying to be set on a copy of a slice from a DataFrame.\n",
            "Try using .loc[row_indexer,col_indexer] = value instead\n",
            "\n",
            "See the caveats in the documentation: https://pandas.pydata.org/pandas-docs/stable/user_guide/indexing.html#returning-a-view-versus-a-copy\n",
            "  # Remove the CWD from sys.path while we load stuff.\n",
            "/usr/local/lib/python3.6/dist-packages/ipykernel_launcher.py:12: SettingWithCopyWarning: \n",
            "A value is trying to be set on a copy of a slice from a DataFrame.\n",
            "Try using .loc[row_indexer,col_indexer] = value instead\n",
            "\n",
            "See the caveats in the documentation: https://pandas.pydata.org/pandas-docs/stable/user_guide/indexing.html#returning-a-view-versus-a-copy\n",
            "  if sys.path[0] == '':\n",
            "/usr/local/lib/python3.6/dist-packages/pandas/core/frame.py:4174: SettingWithCopyWarning: \n",
            "A value is trying to be set on a copy of a slice from a DataFrame\n",
            "\n",
            "See the caveats in the documentation: https://pandas.pydata.org/pandas-docs/stable/user_guide/indexing.html#returning-a-view-versus-a-copy\n",
            "  errors=errors,\n"
          ],
          "name": "stderr"
        }
      ]
    },
    {
      "cell_type": "code",
      "metadata": {
        "id": "MNIsUVjDKAVs",
        "colab": {
          "base_uri": "https://localhost:8080/"
        },
        "outputId": "b1d44aae-3f00-4970-8d7c-01d382ea55e2"
      },
      "source": [
        "medicare_2017 = medicare_wrangle(medicare_2017)"
      ],
      "execution_count": 28,
      "outputs": [
        {
          "output_type": "stream",
          "text": [
            "/usr/local/lib/python3.6/dist-packages/ipykernel_launcher.py:10: SettingWithCopyWarning: \n",
            "A value is trying to be set on a copy of a slice from a DataFrame.\n",
            "Try using .loc[row_indexer,col_indexer] = value instead\n",
            "\n",
            "See the caveats in the documentation: https://pandas.pydata.org/pandas-docs/stable/user_guide/indexing.html#returning-a-view-versus-a-copy\n",
            "  # Remove the CWD from sys.path while we load stuff.\n",
            "/usr/local/lib/python3.6/dist-packages/ipykernel_launcher.py:12: SettingWithCopyWarning: \n",
            "A value is trying to be set on a copy of a slice from a DataFrame.\n",
            "Try using .loc[row_indexer,col_indexer] = value instead\n",
            "\n",
            "See the caveats in the documentation: https://pandas.pydata.org/pandas-docs/stable/user_guide/indexing.html#returning-a-view-versus-a-copy\n",
            "  if sys.path[0] == '':\n",
            "/usr/local/lib/python3.6/dist-packages/pandas/core/frame.py:4174: SettingWithCopyWarning: \n",
            "A value is trying to be set on a copy of a slice from a DataFrame\n",
            "\n",
            "See the caveats in the documentation: https://pandas.pydata.org/pandas-docs/stable/user_guide/indexing.html#returning-a-view-versus-a-copy\n",
            "  errors=errors,\n"
          ],
          "name": "stderr"
        }
      ]
    },
    {
      "cell_type": "code",
      "metadata": {
        "id": "9Lq5IMfSKHts",
        "colab": {
          "base_uri": "https://localhost:8080/"
        },
        "outputId": "6108e007-639f-4ade-d3b2-d5c2297a304e"
      },
      "source": [
        "medicare_2016 = medicare_wrangle(medicare_2016)"
      ],
      "execution_count": 29,
      "outputs": [
        {
          "output_type": "stream",
          "text": [
            "/usr/local/lib/python3.6/dist-packages/ipykernel_launcher.py:10: SettingWithCopyWarning: \n",
            "A value is trying to be set on a copy of a slice from a DataFrame.\n",
            "Try using .loc[row_indexer,col_indexer] = value instead\n",
            "\n",
            "See the caveats in the documentation: https://pandas.pydata.org/pandas-docs/stable/user_guide/indexing.html#returning-a-view-versus-a-copy\n",
            "  # Remove the CWD from sys.path while we load stuff.\n",
            "/usr/local/lib/python3.6/dist-packages/ipykernel_launcher.py:12: SettingWithCopyWarning: \n",
            "A value is trying to be set on a copy of a slice from a DataFrame.\n",
            "Try using .loc[row_indexer,col_indexer] = value instead\n",
            "\n",
            "See the caveats in the documentation: https://pandas.pydata.org/pandas-docs/stable/user_guide/indexing.html#returning-a-view-versus-a-copy\n",
            "  if sys.path[0] == '':\n",
            "/usr/local/lib/python3.6/dist-packages/pandas/core/frame.py:4174: SettingWithCopyWarning: \n",
            "A value is trying to be set on a copy of a slice from a DataFrame\n",
            "\n",
            "See the caveats in the documentation: https://pandas.pydata.org/pandas-docs/stable/user_guide/indexing.html#returning-a-view-versus-a-copy\n",
            "  errors=errors,\n"
          ],
          "name": "stderr"
        }
      ]
    },
    {
      "cell_type": "code",
      "metadata": {
        "id": "nC3Knazgmxgc",
        "colab": {
          "base_uri": "https://localhost:8080/"
        },
        "outputId": "182e393c-e59f-46c8-8607-c864200f6810"
      },
      "source": [
        "medicare_2015 = medicare_wrangle(medicare_2015)"
      ],
      "execution_count": 30,
      "outputs": [
        {
          "output_type": "stream",
          "text": [
            "/usr/local/lib/python3.6/dist-packages/ipykernel_launcher.py:10: SettingWithCopyWarning: \n",
            "A value is trying to be set on a copy of a slice from a DataFrame.\n",
            "Try using .loc[row_indexer,col_indexer] = value instead\n",
            "\n",
            "See the caveats in the documentation: https://pandas.pydata.org/pandas-docs/stable/user_guide/indexing.html#returning-a-view-versus-a-copy\n",
            "  # Remove the CWD from sys.path while we load stuff.\n",
            "/usr/local/lib/python3.6/dist-packages/ipykernel_launcher.py:12: SettingWithCopyWarning: \n",
            "A value is trying to be set on a copy of a slice from a DataFrame.\n",
            "Try using .loc[row_indexer,col_indexer] = value instead\n",
            "\n",
            "See the caveats in the documentation: https://pandas.pydata.org/pandas-docs/stable/user_guide/indexing.html#returning-a-view-versus-a-copy\n",
            "  if sys.path[0] == '':\n",
            "/usr/local/lib/python3.6/dist-packages/pandas/core/frame.py:4174: SettingWithCopyWarning: \n",
            "A value is trying to be set on a copy of a slice from a DataFrame\n",
            "\n",
            "See the caveats in the documentation: https://pandas.pydata.org/pandas-docs/stable/user_guide/indexing.html#returning-a-view-versus-a-copy\n",
            "  errors=errors,\n"
          ],
          "name": "stderr"
        }
      ]
    },
    {
      "cell_type": "code",
      "metadata": {
        "id": "eU_Ua1_5m0SI",
        "colab": {
          "base_uri": "https://localhost:8080/"
        },
        "outputId": "c544c383-991d-4d9f-9119-730e3f32a51e"
      },
      "source": [
        "medicare_2014 = medicare_wrangle(medicare_2014)"
      ],
      "execution_count": 31,
      "outputs": [
        {
          "output_type": "stream",
          "text": [
            "/usr/local/lib/python3.6/dist-packages/ipykernel_launcher.py:10: SettingWithCopyWarning: \n",
            "A value is trying to be set on a copy of a slice from a DataFrame.\n",
            "Try using .loc[row_indexer,col_indexer] = value instead\n",
            "\n",
            "See the caveats in the documentation: https://pandas.pydata.org/pandas-docs/stable/user_guide/indexing.html#returning-a-view-versus-a-copy\n",
            "  # Remove the CWD from sys.path while we load stuff.\n",
            "/usr/local/lib/python3.6/dist-packages/ipykernel_launcher.py:12: SettingWithCopyWarning: \n",
            "A value is trying to be set on a copy of a slice from a DataFrame.\n",
            "Try using .loc[row_indexer,col_indexer] = value instead\n",
            "\n",
            "See the caveats in the documentation: https://pandas.pydata.org/pandas-docs/stable/user_guide/indexing.html#returning-a-view-versus-a-copy\n",
            "  if sys.path[0] == '':\n",
            "/usr/local/lib/python3.6/dist-packages/pandas/core/frame.py:4174: SettingWithCopyWarning: \n",
            "A value is trying to be set on a copy of a slice from a DataFrame\n",
            "\n",
            "See the caveats in the documentation: https://pandas.pydata.org/pandas-docs/stable/user_guide/indexing.html#returning-a-view-versus-a-copy\n",
            "  errors=errors,\n"
          ],
          "name": "stderr"
        }
      ]
    },
    {
      "cell_type": "markdown",
      "metadata": {
        "id": "-yUtV-ZRHlxD"
      },
      "source": [
        "##Combining Datasets "
      ]
    },
    {
      "cell_type": "code",
      "metadata": {
        "id": "-5zRAW1rJFaA"
      },
      "source": [
        "#Combine two nusing home data sets into one while leaving out one of the reportings of 2016\n",
        "samp_concat = [sample_2019, sample_2018, sample_2015]\n",
        "all_sample = pd.concat(samp_concat, ignore_index=True)\n",
        "all_sample = all_sample.drop_duplicates()\n",
        "nursing_sample = all_sample.sort_values(['PROVNAME', 'YEAR'])"
      ],
      "execution_count": 32,
      "outputs": []
    },
    {
      "cell_type": "code",
      "metadata": {
        "id": "L5ca_jZRUTi0"
      },
      "source": [
        "nursing_sample = nursing_sample[nursing_sample['YEAR'] >=2014]"
      ],
      "execution_count": 33,
      "outputs": []
    },
    {
      "cell_type": "code",
      "metadata": {
        "colab": {
          "base_uri": "https://localhost:8080/"
        },
        "id": "BjfMWCakceTr",
        "outputId": "96f6e9fb-d106-44a0-cf84-6a2740a61b57"
      },
      "source": [
        "nursing_sample['PROVNUM'].nunique()"
      ],
      "execution_count": 34,
      "outputs": [
        {
          "output_type": "execute_result",
          "data": {
            "text/plain": [
              "16159"
            ]
          },
          "metadata": {
            "tags": []
          },
          "execution_count": 34
        }
      ]
    },
    {
      "cell_type": "code",
      "metadata": {
        "id": "wVlozLXxLTGY"
      },
      "source": [
        "#ADDING IN FACILITY INFO TO GENERAL NURSING HOME DATASET"
      ],
      "execution_count": 35,
      "outputs": []
    },
    {
      "cell_type": "code",
      "metadata": {
        "id": "5X7psUI5MtCa"
      },
      "source": [
        "facility_data_frames = [facility_info_14, facility_info_15, facility_info_16, facility_info_17, facility_info_18]"
      ],
      "execution_count": 36,
      "outputs": []
    },
    {
      "cell_type": "code",
      "metadata": {
        "id": "eiMkWkYxM2YL"
      },
      "source": [
        "#Joining Together All Facility Columns\n",
        "facility_all = pd.concat(facility_data_frames, ignore_index=True)\n",
        "facility_sort = facility_all.sort_values(['PROVNAME', 'YEAR'])"
      ],
      "execution_count": 37,
      "outputs": []
    },
    {
      "cell_type": "code",
      "metadata": {
        "id": "E0bZurRALamF"
      },
      "source": [
        "#Some of the data was lost at this stage since some of the sammary data included 2013 dates\n",
        "#I didn't want to use 2013 data so this was fine\n",
        "\n",
        "nursing_facil = pd.merge(nursing_sample,facility_sort)"
      ],
      "execution_count": 38,
      "outputs": []
    },
    {
      "cell_type": "code",
      "metadata": {
        "colab": {
          "base_uri": "https://localhost:8080/",
          "height": 0
        },
        "id": "6rCPq4AfOYs2",
        "outputId": "537db69b-b020-461d-8ec5-3ef4346e9264"
      },
      "source": [
        "nursing_facil.head()"
      ],
      "execution_count": 39,
      "outputs": [
        {
          "output_type": "execute_result",
          "data": {
            "text/html": [
              "<div>\n",
              "<style scoped>\n",
              "    .dataframe tbody tr th:only-of-type {\n",
              "        vertical-align: middle;\n",
              "    }\n",
              "\n",
              "    .dataframe tbody tr th {\n",
              "        vertical-align: top;\n",
              "    }\n",
              "\n",
              "    .dataframe thead th {\n",
              "        text-align: right;\n",
              "    }\n",
              "</style>\n",
              "<table border=\"1\" class=\"dataframe\">\n",
              "  <thead>\n",
              "    <tr style=\"text-align: right;\">\n",
              "      <th></th>\n",
              "      <th>PROVNUM</th>\n",
              "      <th>PROVNAME</th>\n",
              "      <th>ADDRESS</th>\n",
              "      <th>CITY</th>\n",
              "      <th>STATE</th>\n",
              "      <th>ZIP</th>\n",
              "      <th>H_TOT_DFCNCY</th>\n",
              "      <th>YEAR</th>\n",
              "      <th>COUNTY_NAME</th>\n",
              "      <th>OWNERSHIP</th>\n",
              "      <th>BEDCERT</th>\n",
              "      <th>RESTOT</th>\n",
              "      <th>CERTIFICATION</th>\n",
              "      <th>CHOW_LAST_12MOS</th>\n",
              "      <th>AIDHRD</th>\n",
              "      <th>VOCHRD</th>\n",
              "      <th>RNHRD</th>\n",
              "      <th>TOTLICHRD</th>\n",
              "      <th>TOTHRD</th>\n",
              "      <th>PTHRD</th>\n",
              "      <th>CERT_LENGTH_YRS</th>\n",
              "      <th>CERTBED_vs_RESTOT</th>\n",
              "    </tr>\n",
              "  </thead>\n",
              "  <tbody>\n",
              "    <tr>\n",
              "      <th>0</th>\n",
              "      <td>125063</td>\n",
              "      <td>15 CRAIGSIDE</td>\n",
              "      <td>15 CRAIGSIDE PLACE</td>\n",
              "      <td>HONOLULU</td>\n",
              "      <td>HI</td>\n",
              "      <td>96817</td>\n",
              "      <td>4</td>\n",
              "      <td>2016</td>\n",
              "      <td>Honolulu</td>\n",
              "      <td>Non profit - Corporation</td>\n",
              "      <td>41</td>\n",
              "      <td>37.0</td>\n",
              "      <td>Medicare</td>\n",
              "      <td>N</td>\n",
              "      <td>2.99595</td>\n",
              "      <td>0.54054</td>\n",
              "      <td>1.91486</td>\n",
              "      <td>2.45541</td>\n",
              "      <td>5.45135</td>\n",
              "      <td>0.15405</td>\n",
              "      <td>4.4</td>\n",
              "      <td>4.0</td>\n",
              "    </tr>\n",
              "    <tr>\n",
              "      <th>1</th>\n",
              "      <td>125063</td>\n",
              "      <td>15 CRAIGSIDE</td>\n",
              "      <td>15 CRAIGSIDE PLACE</td>\n",
              "      <td>HONOLULU</td>\n",
              "      <td>HI</td>\n",
              "      <td>96817</td>\n",
              "      <td>0</td>\n",
              "      <td>2017</td>\n",
              "      <td>Honolulu</td>\n",
              "      <td>Non profit - Corporation</td>\n",
              "      <td>41</td>\n",
              "      <td>39.0</td>\n",
              "      <td>Medicare</td>\n",
              "      <td>N</td>\n",
              "      <td>3.32436</td>\n",
              "      <td>0.38974</td>\n",
              "      <td>2.47308</td>\n",
              "      <td>2.86282</td>\n",
              "      <td>6.18718</td>\n",
              "      <td>0.14615</td>\n",
              "      <td>5.4</td>\n",
              "      <td>2.0</td>\n",
              "    </tr>\n",
              "    <tr>\n",
              "      <th>2</th>\n",
              "      <td>125063</td>\n",
              "      <td>15 CRAIGSIDE</td>\n",
              "      <td>15 CRAIGSIDE PLACE</td>\n",
              "      <td>HONOLULU</td>\n",
              "      <td>HI</td>\n",
              "      <td>96817</td>\n",
              "      <td>1</td>\n",
              "      <td>2018</td>\n",
              "      <td>Honolulu</td>\n",
              "      <td>Non profit - Corporation</td>\n",
              "      <td>41</td>\n",
              "      <td>39.5</td>\n",
              "      <td>Medicare</td>\n",
              "      <td>N</td>\n",
              "      <td>3.52866</td>\n",
              "      <td>0.31285</td>\n",
              "      <td>1.65360</td>\n",
              "      <td>1.96645</td>\n",
              "      <td>5.49511</td>\n",
              "      <td>0.04031</td>\n",
              "      <td>6.4</td>\n",
              "      <td>1.5</td>\n",
              "    </tr>\n",
              "    <tr>\n",
              "      <th>3</th>\n",
              "      <td>075442</td>\n",
              "      <td>60 WEST</td>\n",
              "      <td>60 WEST STREET</td>\n",
              "      <td>ROCKY HILL</td>\n",
              "      <td>CT</td>\n",
              "      <td>6067</td>\n",
              "      <td>2</td>\n",
              "      <td>2017</td>\n",
              "      <td>Hartford</td>\n",
              "      <td>For profit - Corporation</td>\n",
              "      <td>95</td>\n",
              "      <td>71.0</td>\n",
              "      <td>Medicare and Medicaid</td>\n",
              "      <td>N</td>\n",
              "      <td>3.10704</td>\n",
              "      <td>1.25141</td>\n",
              "      <td>0.97746</td>\n",
              "      <td>2.22887</td>\n",
              "      <td>5.33591</td>\n",
              "      <td>0.10282</td>\n",
              "      <td>1.3</td>\n",
              "      <td>24.0</td>\n",
              "    </tr>\n",
              "    <tr>\n",
              "      <th>4</th>\n",
              "      <td>075442</td>\n",
              "      <td>60 WEST</td>\n",
              "      <td>60 WEST STREET</td>\n",
              "      <td>ROCKY HILL</td>\n",
              "      <td>CT</td>\n",
              "      <td>6067</td>\n",
              "      <td>1</td>\n",
              "      <td>2018</td>\n",
              "      <td>Hartford</td>\n",
              "      <td>For profit - Corporation</td>\n",
              "      <td>95</td>\n",
              "      <td>83.7</td>\n",
              "      <td>Medicare and Medicaid</td>\n",
              "      <td>N</td>\n",
              "      <td>2.92580</td>\n",
              "      <td>0.99655</td>\n",
              "      <td>0.75949</td>\n",
              "      <td>1.75604</td>\n",
              "      <td>4.68184</td>\n",
              "      <td>0.08419</td>\n",
              "      <td>2.3</td>\n",
              "      <td>11.3</td>\n",
              "    </tr>\n",
              "  </tbody>\n",
              "</table>\n",
              "</div>"
            ],
            "text/plain": [
              "  PROVNUM      PROVNAME  ... CERT_LENGTH_YRS CERTBED_vs_RESTOT\n",
              "0  125063  15 CRAIGSIDE  ...             4.4               4.0\n",
              "1  125063  15 CRAIGSIDE  ...             5.4               2.0\n",
              "2  125063  15 CRAIGSIDE  ...             6.4               1.5\n",
              "3  075442       60 WEST  ...             1.3              24.0\n",
              "4  075442       60 WEST  ...             2.3              11.3\n",
              "\n",
              "[5 rows x 22 columns]"
            ]
          },
          "metadata": {
            "tags": []
          },
          "execution_count": 39
        }
      ]
    },
    {
      "cell_type": "code",
      "metadata": {
        "id": "0L6jlm-eLR7y"
      },
      "source": [
        "#ADDING IN MEDICARE DATA"
      ],
      "execution_count": 40,
      "outputs": []
    },
    {
      "cell_type": "code",
      "metadata": {
        "id": "ab5b8mfRUEna"
      },
      "source": [
        "medicare_data_frames = [medicare_2014, medicare_2015, medicare_2016, medicare_2017, medicare_2018]"
      ],
      "execution_count": 41,
      "outputs": []
    },
    {
      "cell_type": "code",
      "metadata": {
        "id": "jgvE9cbPUOcj"
      },
      "source": [
        "medicare_combined = pd.concat(medicare_data_frames, ignore_index=True)"
      ],
      "execution_count": 42,
      "outputs": []
    },
    {
      "cell_type": "code",
      "metadata": {
        "colab": {
          "base_uri": "https://localhost:8080/"
        },
        "id": "ZZkD5MGKmLsa",
        "outputId": "414a2f36-dea2-48d4-a3c1-ed03b00f91d7"
      },
      "source": [
        "medicare_combined.shape"
      ],
      "execution_count": 43,
      "outputs": [
        {
          "output_type": "execute_result",
          "data": {
            "text/plain": [
              "(37284, 17)"
            ]
          },
          "metadata": {
            "tags": []
          },
          "execution_count": 43
        }
      ]
    },
    {
      "cell_type": "code",
      "metadata": {
        "colab": {
          "base_uri": "https://localhost:8080/"
        },
        "id": "CX2_niWQmOqo",
        "outputId": "c710e0b1-7066-48af-f762-0a14e5e56fc7"
      },
      "source": [
        "nursing_facil.shape"
      ],
      "execution_count": 44,
      "outputs": [
        {
          "output_type": "execute_result",
          "data": {
            "text/plain": [
              "(57381, 22)"
            ]
          },
          "metadata": {
            "tags": []
          },
          "execution_count": 44
        }
      ]
    },
    {
      "cell_type": "code",
      "metadata": {
        "id": "qcNqzpBtW3YE"
      },
      "source": [
        "study_df = pd.merge(nursing_facil,medicare_combined)"
      ],
      "execution_count": 45,
      "outputs": []
    },
    {
      "cell_type": "code",
      "metadata": {
        "colab": {
          "base_uri": "https://localhost:8080/"
        },
        "id": "uahbROucXXng",
        "outputId": "d12d32ad-b91c-4210-8b97-eaef19ac413c"
      },
      "source": [
        "study_df.shape"
      ],
      "execution_count": 46,
      "outputs": [
        {
          "output_type": "execute_result",
          "data": {
            "text/plain": [
              "(27668, 36)"
            ]
          },
          "metadata": {
            "tags": []
          },
          "execution_count": 46
        }
      ]
    },
    {
      "cell_type": "code",
      "metadata": {
        "colab": {
          "base_uri": "https://localhost:8080/",
          "height": 0
        },
        "id": "UqDyfchzmY_b",
        "outputId": "690d064a-b600-4662-9428-2952cefd2d32"
      },
      "source": [
        "study_df.head(1)"
      ],
      "execution_count": 47,
      "outputs": [
        {
          "output_type": "execute_result",
          "data": {
            "text/html": [
              "<div>\n",
              "<style scoped>\n",
              "    .dataframe tbody tr th:only-of-type {\n",
              "        vertical-align: middle;\n",
              "    }\n",
              "\n",
              "    .dataframe tbody tr th {\n",
              "        vertical-align: top;\n",
              "    }\n",
              "\n",
              "    .dataframe thead th {\n",
              "        text-align: right;\n",
              "    }\n",
              "</style>\n",
              "<table border=\"1\" class=\"dataframe\">\n",
              "  <thead>\n",
              "    <tr style=\"text-align: right;\">\n",
              "      <th></th>\n",
              "      <th>PROVNUM</th>\n",
              "      <th>PROVNAME</th>\n",
              "      <th>ADDRESS</th>\n",
              "      <th>CITY</th>\n",
              "      <th>STATE</th>\n",
              "      <th>ZIP</th>\n",
              "      <th>H_TOT_DFCNCY</th>\n",
              "      <th>YEAR</th>\n",
              "      <th>COUNTY_NAME</th>\n",
              "      <th>OWNERSHIP</th>\n",
              "      <th>BEDCERT</th>\n",
              "      <th>RESTOT</th>\n",
              "      <th>CERTIFICATION</th>\n",
              "      <th>CHOW_LAST_12MOS</th>\n",
              "      <th>AIDHRD</th>\n",
              "      <th>VOCHRD</th>\n",
              "      <th>RNHRD</th>\n",
              "      <th>TOTLICHRD</th>\n",
              "      <th>TOTHRD</th>\n",
              "      <th>PTHRD</th>\n",
              "      <th>CERT_LENGTH_YRS</th>\n",
              "      <th>CERTBED_vs_RESTOT</th>\n",
              "      <th>DISTINCT BENEFICIARIES</th>\n",
              "      <th>STAY COUNT</th>\n",
              "      <th>DAYS OF SERVICE</th>\n",
              "      <th>AVERAGE CHARGE PER BENEFICIARY</th>\n",
              "      <th>AVERAGE ALLOWED AMOUNT PER BENEFICIARY</th>\n",
              "      <th>AVERAGE PAYMENT AMOUNT PER BENEFICIARY</th>\n",
              "      <th>AVERAGE STANDARD PAYMENT AMOUNT PER BENEFICIARY</th>\n",
              "      <th>AVERAGE ALLOWED AMOUNT PER STAY</th>\n",
              "      <th>AVERAGE STANDARD PAYMENT AMOUNT PER STAY</th>\n",
              "      <th>AVERAGE CHARGE PER DAY</th>\n",
              "      <th>AVERAGE ALLOWED AMOUNT PER DAY</th>\n",
              "      <th>AVERAGE PAYMENT AMOUNT PER DAY</th>\n",
              "      <th>AVERAGE STANDARD PAYMENT AMOUNT PER DAY</th>\n",
              "      <th>DIFFERENCE CHARGE/ALLOWED</th>\n",
              "    </tr>\n",
              "  </thead>\n",
              "  <tbody>\n",
              "    <tr>\n",
              "      <th>0</th>\n",
              "      <td>056376</td>\n",
              "      <td>A GRACE SUB ACUTE &amp; SKILLED CARE</td>\n",
              "      <td>1250 S. WINCHESTER BOULEVARD</td>\n",
              "      <td>SAN JOSE</td>\n",
              "      <td>CA</td>\n",
              "      <td>95128</td>\n",
              "      <td>18</td>\n",
              "      <td>2016</td>\n",
              "      <td>Santa Clara</td>\n",
              "      <td>For profit - Corporation</td>\n",
              "      <td>166</td>\n",
              "      <td>128.0</td>\n",
              "      <td>Medicare and Medicaid</td>\n",
              "      <td>N</td>\n",
              "      <td>2.49727</td>\n",
              "      <td>1.75508</td>\n",
              "      <td>1.075</td>\n",
              "      <td>2.83008</td>\n",
              "      <td>5.32735</td>\n",
              "      <td>0.08945</td>\n",
              "      <td>36.4</td>\n",
              "      <td>38.0</td>\n",
              "      <td>13.0</td>\n",
              "      <td>27.0</td>\n",
              "      <td>326.0</td>\n",
              "      <td>29378.69</td>\n",
              "      <td>27317.85</td>\n",
              "      <td>24410.84</td>\n",
              "      <td>14562.04</td>\n",
              "      <td>13153.04</td>\n",
              "      <td>7011.35</td>\n",
              "      <td>1171.54</td>\n",
              "      <td>1089.36</td>\n",
              "      <td>973.44</td>\n",
              "      <td>580.69</td>\n",
              "      <td>198.1</td>\n",
              "    </tr>\n",
              "  </tbody>\n",
              "</table>\n",
              "</div>"
            ],
            "text/plain": [
              "  PROVNUM  ... DIFFERENCE CHARGE/ALLOWED\n",
              "0  056376  ...                     198.1\n",
              "\n",
              "[1 rows x 36 columns]"
            ]
          },
          "metadata": {
            "tags": []
          },
          "execution_count": 47
        }
      ]
    },
    {
      "cell_type": "code",
      "metadata": {
        "colab": {
          "base_uri": "https://localhost:8080/"
        },
        "id": "4h9shLlDm9_K",
        "outputId": "5ce58044-e8d0-4ab3-d024-d3c2206e3454"
      },
      "source": [
        "study_df['PROVNAME'].nunique()"
      ],
      "execution_count": 48,
      "outputs": [
        {
          "output_type": "execute_result",
          "data": {
            "text/plain": [
              "11413"
            ]
          },
          "metadata": {
            "tags": []
          },
          "execution_count": 48
        }
      ]
    },
    {
      "cell_type": "code",
      "metadata": {
        "id": "MXMzo7txwmdh"
      },
      "source": [
        "#Add in New Column Based on Average Stay Length\n",
        "study_df['STAY_LENGTH']=study_df['DAYS OF SERVICE']/study_df['DISTINCT BENEFICIARIES']"
      ],
      "execution_count": 49,
      "outputs": []
    },
    {
      "cell_type": "code",
      "metadata": {
        "id": "FwNUD5iSyMe7"
      },
      "source": [
        "#Drop A Handful of Facilities that Charge on Average over 100k\n",
        "\n",
        "#These Skilled Nursing Facilities offer very specialized care so I did not believe \n",
        "#there were representative of most skilled nursing facilities.\n",
        "\n",
        "#For that reason, I felt comfortable dropping them\n",
        "study_df.drop(study_df[study_df['AVERAGE CHARGE PER BENEFICIARY']>100000].index, inplace=True)"
      ],
      "execution_count": 50,
      "outputs": []
    },
    {
      "cell_type": "markdown",
      "metadata": {
        "id": "NWVyVdOKwtQF"
      },
      "source": [
        "#II. SPLIT DATA"
      ]
    },
    {
      "cell_type": "code",
      "metadata": {
        "colab": {
          "base_uri": "https://localhost:8080/",
          "height": 0
        },
        "id": "bYPmJG-S6n2e",
        "outputId": "b7a8f7f2-ed65-431c-cdd4-7d692c5000e0"
      },
      "source": [
        "study_df.head(1)"
      ],
      "execution_count": 51,
      "outputs": [
        {
          "output_type": "execute_result",
          "data": {
            "text/html": [
              "<div>\n",
              "<style scoped>\n",
              "    .dataframe tbody tr th:only-of-type {\n",
              "        vertical-align: middle;\n",
              "    }\n",
              "\n",
              "    .dataframe tbody tr th {\n",
              "        vertical-align: top;\n",
              "    }\n",
              "\n",
              "    .dataframe thead th {\n",
              "        text-align: right;\n",
              "    }\n",
              "</style>\n",
              "<table border=\"1\" class=\"dataframe\">\n",
              "  <thead>\n",
              "    <tr style=\"text-align: right;\">\n",
              "      <th></th>\n",
              "      <th>PROVNUM</th>\n",
              "      <th>PROVNAME</th>\n",
              "      <th>ADDRESS</th>\n",
              "      <th>CITY</th>\n",
              "      <th>STATE</th>\n",
              "      <th>ZIP</th>\n",
              "      <th>H_TOT_DFCNCY</th>\n",
              "      <th>YEAR</th>\n",
              "      <th>COUNTY_NAME</th>\n",
              "      <th>OWNERSHIP</th>\n",
              "      <th>BEDCERT</th>\n",
              "      <th>RESTOT</th>\n",
              "      <th>CERTIFICATION</th>\n",
              "      <th>CHOW_LAST_12MOS</th>\n",
              "      <th>AIDHRD</th>\n",
              "      <th>VOCHRD</th>\n",
              "      <th>RNHRD</th>\n",
              "      <th>TOTLICHRD</th>\n",
              "      <th>TOTHRD</th>\n",
              "      <th>PTHRD</th>\n",
              "      <th>CERT_LENGTH_YRS</th>\n",
              "      <th>CERTBED_vs_RESTOT</th>\n",
              "      <th>DISTINCT BENEFICIARIES</th>\n",
              "      <th>STAY COUNT</th>\n",
              "      <th>DAYS OF SERVICE</th>\n",
              "      <th>AVERAGE CHARGE PER BENEFICIARY</th>\n",
              "      <th>AVERAGE ALLOWED AMOUNT PER BENEFICIARY</th>\n",
              "      <th>AVERAGE PAYMENT AMOUNT PER BENEFICIARY</th>\n",
              "      <th>AVERAGE STANDARD PAYMENT AMOUNT PER BENEFICIARY</th>\n",
              "      <th>AVERAGE ALLOWED AMOUNT PER STAY</th>\n",
              "      <th>AVERAGE STANDARD PAYMENT AMOUNT PER STAY</th>\n",
              "      <th>AVERAGE CHARGE PER DAY</th>\n",
              "      <th>AVERAGE ALLOWED AMOUNT PER DAY</th>\n",
              "      <th>AVERAGE PAYMENT AMOUNT PER DAY</th>\n",
              "      <th>AVERAGE STANDARD PAYMENT AMOUNT PER DAY</th>\n",
              "      <th>DIFFERENCE CHARGE/ALLOWED</th>\n",
              "      <th>STAY_LENGTH</th>\n",
              "    </tr>\n",
              "  </thead>\n",
              "  <tbody>\n",
              "    <tr>\n",
              "      <th>0</th>\n",
              "      <td>056376</td>\n",
              "      <td>A GRACE SUB ACUTE &amp; SKILLED CARE</td>\n",
              "      <td>1250 S. WINCHESTER BOULEVARD</td>\n",
              "      <td>SAN JOSE</td>\n",
              "      <td>CA</td>\n",
              "      <td>95128</td>\n",
              "      <td>18</td>\n",
              "      <td>2016</td>\n",
              "      <td>Santa Clara</td>\n",
              "      <td>For profit - Corporation</td>\n",
              "      <td>166</td>\n",
              "      <td>128.0</td>\n",
              "      <td>Medicare and Medicaid</td>\n",
              "      <td>N</td>\n",
              "      <td>2.49727</td>\n",
              "      <td>1.75508</td>\n",
              "      <td>1.075</td>\n",
              "      <td>2.83008</td>\n",
              "      <td>5.32735</td>\n",
              "      <td>0.08945</td>\n",
              "      <td>36.4</td>\n",
              "      <td>38.0</td>\n",
              "      <td>13.0</td>\n",
              "      <td>27.0</td>\n",
              "      <td>326.0</td>\n",
              "      <td>29378.69</td>\n",
              "      <td>27317.85</td>\n",
              "      <td>24410.84</td>\n",
              "      <td>14562.04</td>\n",
              "      <td>13153.04</td>\n",
              "      <td>7011.35</td>\n",
              "      <td>1171.54</td>\n",
              "      <td>1089.36</td>\n",
              "      <td>973.44</td>\n",
              "      <td>580.69</td>\n",
              "      <td>198.1</td>\n",
              "      <td>25.076923</td>\n",
              "    </tr>\n",
              "  </tbody>\n",
              "</table>\n",
              "</div>"
            ],
            "text/plain": [
              "  PROVNUM  ... STAY_LENGTH\n",
              "0  056376  ...   25.076923\n",
              "\n",
              "[1 rows x 37 columns]"
            ]
          },
          "metadata": {
            "tags": []
          },
          "execution_count": 51
        }
      ]
    },
    {
      "cell_type": "code",
      "metadata": {
        "id": "0ZbjI6iC-LUK"
      },
      "source": [
        "import scipy.stats"
      ],
      "execution_count": 52,
      "outputs": []
    },
    {
      "cell_type": "code",
      "metadata": {
        "colab": {
          "base_uri": "https://localhost:8080/",
          "height": 0
        },
        "id": "cqewwsW_-yuD",
        "outputId": "6b7b7deb-bf50-455d-db9c-1e8706e3b529"
      },
      "source": [
        "correlations_df = study_df.corr()\n",
        "correlations_df"
      ],
      "execution_count": 53,
      "outputs": [
        {
          "output_type": "execute_result",
          "data": {
            "text/html": [
              "<div>\n",
              "<style scoped>\n",
              "    .dataframe tbody tr th:only-of-type {\n",
              "        vertical-align: middle;\n",
              "    }\n",
              "\n",
              "    .dataframe tbody tr th {\n",
              "        vertical-align: top;\n",
              "    }\n",
              "\n",
              "    .dataframe thead th {\n",
              "        text-align: right;\n",
              "    }\n",
              "</style>\n",
              "<table border=\"1\" class=\"dataframe\">\n",
              "  <thead>\n",
              "    <tr style=\"text-align: right;\">\n",
              "      <th></th>\n",
              "      <th>ZIP</th>\n",
              "      <th>H_TOT_DFCNCY</th>\n",
              "      <th>YEAR</th>\n",
              "      <th>BEDCERT</th>\n",
              "      <th>RESTOT</th>\n",
              "      <th>AIDHRD</th>\n",
              "      <th>VOCHRD</th>\n",
              "      <th>RNHRD</th>\n",
              "      <th>TOTLICHRD</th>\n",
              "      <th>TOTHRD</th>\n",
              "      <th>PTHRD</th>\n",
              "      <th>CERT_LENGTH_YRS</th>\n",
              "      <th>CERTBED_vs_RESTOT</th>\n",
              "      <th>DISTINCT BENEFICIARIES</th>\n",
              "      <th>STAY COUNT</th>\n",
              "      <th>DAYS OF SERVICE</th>\n",
              "      <th>AVERAGE CHARGE PER BENEFICIARY</th>\n",
              "      <th>AVERAGE ALLOWED AMOUNT PER BENEFICIARY</th>\n",
              "      <th>AVERAGE PAYMENT AMOUNT PER BENEFICIARY</th>\n",
              "      <th>AVERAGE STANDARD PAYMENT AMOUNT PER BENEFICIARY</th>\n",
              "      <th>AVERAGE ALLOWED AMOUNT PER STAY</th>\n",
              "      <th>AVERAGE STANDARD PAYMENT AMOUNT PER STAY</th>\n",
              "      <th>AVERAGE CHARGE PER DAY</th>\n",
              "      <th>AVERAGE ALLOWED AMOUNT PER DAY</th>\n",
              "      <th>AVERAGE PAYMENT AMOUNT PER DAY</th>\n",
              "      <th>AVERAGE STANDARD PAYMENT AMOUNT PER DAY</th>\n",
              "      <th>DIFFERENCE CHARGE/ALLOWED</th>\n",
              "      <th>STAY_LENGTH</th>\n",
              "    </tr>\n",
              "  </thead>\n",
              "  <tbody>\n",
              "    <tr>\n",
              "      <th>ZIP</th>\n",
              "      <td>1.000000</td>\n",
              "      <td>0.189370</td>\n",
              "      <td>0.075109</td>\n",
              "      <td>-0.197571</td>\n",
              "      <td>-0.251780</td>\n",
              "      <td>0.139344</td>\n",
              "      <td>0.031686</td>\n",
              "      <td>0.007664</td>\n",
              "      <td>0.024160</td>\n",
              "      <td>0.097801</td>\n",
              "      <td>0.027644</td>\n",
              "      <td>-0.059819</td>\n",
              "      <td>0.083516</td>\n",
              "      <td>-0.065194</td>\n",
              "      <td>-0.059457</td>\n",
              "      <td>-0.036345</td>\n",
              "      <td>0.139194</td>\n",
              "      <td>0.164687</td>\n",
              "      <td>0.186179</td>\n",
              "      <td>0.129234</td>\n",
              "      <td>0.203941</td>\n",
              "      <td>0.135019</td>\n",
              "      <td>0.124055</td>\n",
              "      <td>0.242125</td>\n",
              "      <td>0.116739</td>\n",
              "      <td>0.144465</td>\n",
              "      <td>0.006364</td>\n",
              "      <td>0.097629</td>\n",
              "    </tr>\n",
              "    <tr>\n",
              "      <th>H_TOT_DFCNCY</th>\n",
              "      <td>0.189370</td>\n",
              "      <td>1.000000</td>\n",
              "      <td>0.086074</td>\n",
              "      <td>0.087259</td>\n",
              "      <td>0.070794</td>\n",
              "      <td>-0.090821</td>\n",
              "      <td>0.019401</td>\n",
              "      <td>-0.123642</td>\n",
              "      <td>-0.097869</td>\n",
              "      <td>-0.121322</td>\n",
              "      <td>-0.071441</td>\n",
              "      <td>0.138729</td>\n",
              "      <td>0.069941</td>\n",
              "      <td>-0.027451</td>\n",
              "      <td>-0.011445</td>\n",
              "      <td>0.002881</td>\n",
              "      <td>0.033061</td>\n",
              "      <td>0.103877</td>\n",
              "      <td>0.105516</td>\n",
              "      <td>0.054338</td>\n",
              "      <td>0.118398</td>\n",
              "      <td>0.024508</td>\n",
              "      <td>-0.000282</td>\n",
              "      <td>0.146214</td>\n",
              "      <td>0.011726</td>\n",
              "      <td>0.018820</td>\n",
              "      <td>-0.050471</td>\n",
              "      <td>0.055533</td>\n",
              "    </tr>\n",
              "    <tr>\n",
              "      <th>YEAR</th>\n",
              "      <td>0.075109</td>\n",
              "      <td>0.086074</td>\n",
              "      <td>1.000000</td>\n",
              "      <td>-0.060959</td>\n",
              "      <td>-0.075912</td>\n",
              "      <td>-0.067087</td>\n",
              "      <td>0.054246</td>\n",
              "      <td>-0.101312</td>\n",
              "      <td>-0.059096</td>\n",
              "      <td>-0.080365</td>\n",
              "      <td>0.004117</td>\n",
              "      <td>0.081231</td>\n",
              "      <td>0.026588</td>\n",
              "      <td>0.034592</td>\n",
              "      <td>0.054113</td>\n",
              "      <td>0.083103</td>\n",
              "      <td>0.182760</td>\n",
              "      <td>0.205543</td>\n",
              "      <td>0.235415</td>\n",
              "      <td>0.257502</td>\n",
              "      <td>0.260206</td>\n",
              "      <td>0.310038</td>\n",
              "      <td>0.248348</td>\n",
              "      <td>0.327751</td>\n",
              "      <td>0.253982</td>\n",
              "      <td>0.455568</td>\n",
              "      <td>-0.072582</td>\n",
              "      <td>0.131480</td>\n",
              "    </tr>\n",
              "    <tr>\n",
              "      <th>BEDCERT</th>\n",
              "      <td>-0.197571</td>\n",
              "      <td>0.087259</td>\n",
              "      <td>-0.060959</td>\n",
              "      <td>1.000000</td>\n",
              "      <td>0.941067</td>\n",
              "      <td>-0.103728</td>\n",
              "      <td>-0.042885</td>\n",
              "      <td>-0.236431</td>\n",
              "      <td>-0.231150</td>\n",
              "      <td>-0.222261</td>\n",
              "      <td>-0.208551</td>\n",
              "      <td>0.235175</td>\n",
              "      <td>0.453826</td>\n",
              "      <td>0.185495</td>\n",
              "      <td>0.216177</td>\n",
              "      <td>0.223122</td>\n",
              "      <td>-0.087474</td>\n",
              "      <td>0.032012</td>\n",
              "      <td>0.007236</td>\n",
              "      <td>-0.030773</td>\n",
              "      <td>0.009727</td>\n",
              "      <td>-0.054940</td>\n",
              "      <td>-0.059340</td>\n",
              "      <td>0.016162</td>\n",
              "      <td>-0.025565</td>\n",
              "      <td>-0.149936</td>\n",
              "      <td>-0.130427</td>\n",
              "      <td>0.029997</td>\n",
              "    </tr>\n",
              "    <tr>\n",
              "      <th>RESTOT</th>\n",
              "      <td>-0.251780</td>\n",
              "      <td>0.070794</td>\n",
              "      <td>-0.075912</td>\n",
              "      <td>0.941067</td>\n",
              "      <td>1.000000</td>\n",
              "      <td>-0.096665</td>\n",
              "      <td>-0.062026</td>\n",
              "      <td>-0.245537</td>\n",
              "      <td>-0.249675</td>\n",
              "      <td>-0.231151</td>\n",
              "      <td>-0.215536</td>\n",
              "      <td>0.250849</td>\n",
              "      <td>0.125697</td>\n",
              "      <td>0.202968</td>\n",
              "      <td>0.234791</td>\n",
              "      <td>0.242896</td>\n",
              "      <td>-0.099742</td>\n",
              "      <td>0.021476</td>\n",
              "      <td>-0.004376</td>\n",
              "      <td>-0.052261</td>\n",
              "      <td>0.004294</td>\n",
              "      <td>-0.076267</td>\n",
              "      <td>-0.068959</td>\n",
              "      <td>0.020263</td>\n",
              "      <td>-0.035503</td>\n",
              "      <td>-0.172648</td>\n",
              "      <td>-0.128127</td>\n",
              "      <td>0.017050</td>\n",
              "    </tr>\n",
              "    <tr>\n",
              "      <th>AIDHRD</th>\n",
              "      <td>0.139344</td>\n",
              "      <td>-0.090821</td>\n",
              "      <td>-0.067087</td>\n",
              "      <td>-0.103728</td>\n",
              "      <td>-0.096665</td>\n",
              "      <td>1.000000</td>\n",
              "      <td>0.061340</td>\n",
              "      <td>0.201858</td>\n",
              "      <td>0.210953</td>\n",
              "      <td>0.728209</td>\n",
              "      <td>0.136036</td>\n",
              "      <td>-0.042260</td>\n",
              "      <td>-0.051004</td>\n",
              "      <td>0.077669</td>\n",
              "      <td>0.071769</td>\n",
              "      <td>0.065054</td>\n",
              "      <td>-0.018061</td>\n",
              "      <td>-0.050477</td>\n",
              "      <td>-0.034361</td>\n",
              "      <td>-0.045987</td>\n",
              "      <td>-0.041059</td>\n",
              "      <td>-0.018562</td>\n",
              "      <td>0.034350</td>\n",
              "      <td>-0.000305</td>\n",
              "      <td>0.029851</td>\n",
              "      <td>0.019401</td>\n",
              "      <td>0.012865</td>\n",
              "      <td>-0.063106</td>\n",
              "    </tr>\n",
              "    <tr>\n",
              "      <th>VOCHRD</th>\n",
              "      <td>0.031686</td>\n",
              "      <td>0.019401</td>\n",
              "      <td>0.054246</td>\n",
              "      <td>-0.042885</td>\n",
              "      <td>-0.062026</td>\n",
              "      <td>0.061340</td>\n",
              "      <td>1.000000</td>\n",
              "      <td>-0.075925</td>\n",
              "      <td>0.483505</td>\n",
              "      <td>0.374598</td>\n",
              "      <td>0.143860</td>\n",
              "      <td>-0.060277</td>\n",
              "      <td>0.037364</td>\n",
              "      <td>0.080259</td>\n",
              "      <td>0.076496</td>\n",
              "      <td>0.067086</td>\n",
              "      <td>0.035398</td>\n",
              "      <td>0.010540</td>\n",
              "      <td>0.018517</td>\n",
              "      <td>0.019822</td>\n",
              "      <td>-0.004714</td>\n",
              "      <td>0.012381</td>\n",
              "      <td>0.021043</td>\n",
              "      <td>0.025953</td>\n",
              "      <td>0.011918</td>\n",
              "      <td>0.069350</td>\n",
              "      <td>0.036847</td>\n",
              "      <td>-0.025554</td>\n",
              "    </tr>\n",
              "    <tr>\n",
              "      <th>RNHRD</th>\n",
              "      <td>0.007664</td>\n",
              "      <td>-0.123642</td>\n",
              "      <td>-0.101312</td>\n",
              "      <td>-0.236431</td>\n",
              "      <td>-0.245537</td>\n",
              "      <td>0.201858</td>\n",
              "      <td>-0.075925</td>\n",
              "      <td>1.000000</td>\n",
              "      <td>0.836105</td>\n",
              "      <td>0.703360</td>\n",
              "      <td>0.559598</td>\n",
              "      <td>-0.102962</td>\n",
              "      <td>-0.049472</td>\n",
              "      <td>0.218695</td>\n",
              "      <td>0.154068</td>\n",
              "      <td>0.099532</td>\n",
              "      <td>0.197341</td>\n",
              "      <td>-0.173577</td>\n",
              "      <td>-0.135639</td>\n",
              "      <td>-0.185590</td>\n",
              "      <td>-0.157502</td>\n",
              "      <td>-0.118483</td>\n",
              "      <td>0.121878</td>\n",
              "      <td>-0.050318</td>\n",
              "      <td>0.017143</td>\n",
              "      <td>-0.042082</td>\n",
              "      <td>0.449395</td>\n",
              "      <td>-0.236541</td>\n",
              "    </tr>\n",
              "    <tr>\n",
              "      <th>TOTLICHRD</th>\n",
              "      <td>0.024160</td>\n",
              "      <td>-0.097869</td>\n",
              "      <td>-0.059096</td>\n",
              "      <td>-0.231150</td>\n",
              "      <td>-0.249675</td>\n",
              "      <td>0.210953</td>\n",
              "      <td>0.483505</td>\n",
              "      <td>0.836105</td>\n",
              "      <td>1.000000</td>\n",
              "      <td>0.823550</td>\n",
              "      <td>0.570419</td>\n",
              "      <td>-0.123549</td>\n",
              "      <td>-0.022874</td>\n",
              "      <td>0.236142</td>\n",
              "      <td>0.177337</td>\n",
              "      <td>0.124284</td>\n",
              "      <td>0.192715</td>\n",
              "      <td>-0.146580</td>\n",
              "      <td>-0.108887</td>\n",
              "      <td>-0.152019</td>\n",
              "      <td>-0.140861</td>\n",
              "      <td>-0.097202</td>\n",
              "      <td>0.118571</td>\n",
              "      <td>-0.029894</td>\n",
              "      <td>0.021606</td>\n",
              "      <td>0.001211</td>\n",
              "      <td>0.414785</td>\n",
              "      <td>-0.221712</td>\n",
              "    </tr>\n",
              "    <tr>\n",
              "      <th>TOTHRD</th>\n",
              "      <td>0.097801</td>\n",
              "      <td>-0.121322</td>\n",
              "      <td>-0.080365</td>\n",
              "      <td>-0.222261</td>\n",
              "      <td>-0.231151</td>\n",
              "      <td>0.728209</td>\n",
              "      <td>0.374598</td>\n",
              "      <td>0.703360</td>\n",
              "      <td>0.823550</td>\n",
              "      <td>1.000000</td>\n",
              "      <td>0.478894</td>\n",
              "      <td>-0.111148</td>\n",
              "      <td>-0.045635</td>\n",
              "      <td>0.210639</td>\n",
              "      <td>0.165985</td>\n",
              "      <td>0.124891</td>\n",
              "      <td>0.124638</td>\n",
              "      <td>-0.132064</td>\n",
              "      <td>-0.096284</td>\n",
              "      <td>-0.133272</td>\n",
              "      <td>-0.122589</td>\n",
              "      <td>-0.078923</td>\n",
              "      <td>0.103067</td>\n",
              "      <td>-0.021137</td>\n",
              "      <td>0.032472</td>\n",
              "      <td>0.012107</td>\n",
              "      <td>0.298284</td>\n",
              "      <td>-0.192070</td>\n",
              "    </tr>\n",
              "    <tr>\n",
              "      <th>PTHRD</th>\n",
              "      <td>0.027644</td>\n",
              "      <td>-0.071441</td>\n",
              "      <td>0.004117</td>\n",
              "      <td>-0.208551</td>\n",
              "      <td>-0.215536</td>\n",
              "      <td>0.136036</td>\n",
              "      <td>0.143860</td>\n",
              "      <td>0.559598</td>\n",
              "      <td>0.570419</td>\n",
              "      <td>0.478894</td>\n",
              "      <td>1.000000</td>\n",
              "      <td>-0.128833</td>\n",
              "      <td>-0.046415</td>\n",
              "      <td>0.259726</td>\n",
              "      <td>0.206886</td>\n",
              "      <td>0.135037</td>\n",
              "      <td>0.047482</td>\n",
              "      <td>-0.185260</td>\n",
              "      <td>-0.153388</td>\n",
              "      <td>-0.210413</td>\n",
              "      <td>-0.170954</td>\n",
              "      <td>-0.164889</td>\n",
              "      <td>0.043911</td>\n",
              "      <td>0.005768</td>\n",
              "      <td>-0.024474</td>\n",
              "      <td>-0.040371</td>\n",
              "      <td>0.301332</td>\n",
              "      <td>-0.263763</td>\n",
              "    </tr>\n",
              "    <tr>\n",
              "      <th>CERT_LENGTH_YRS</th>\n",
              "      <td>-0.059819</td>\n",
              "      <td>0.138729</td>\n",
              "      <td>0.081231</td>\n",
              "      <td>0.235175</td>\n",
              "      <td>0.250849</td>\n",
              "      <td>-0.042260</td>\n",
              "      <td>-0.060277</td>\n",
              "      <td>-0.102962</td>\n",
              "      <td>-0.123549</td>\n",
              "      <td>-0.111148</td>\n",
              "      <td>-0.128833</td>\n",
              "      <td>1.000000</td>\n",
              "      <td>0.027001</td>\n",
              "      <td>0.005957</td>\n",
              "      <td>0.020930</td>\n",
              "      <td>0.042021</td>\n",
              "      <td>0.041482</td>\n",
              "      <td>0.120539</td>\n",
              "      <td>0.127005</td>\n",
              "      <td>0.057507</td>\n",
              "      <td>0.158963</td>\n",
              "      <td>0.047388</td>\n",
              "      <td>0.042498</td>\n",
              "      <td>0.204444</td>\n",
              "      <td>0.053186</td>\n",
              "      <td>0.040316</td>\n",
              "      <td>-0.053333</td>\n",
              "      <td>0.055444</td>\n",
              "    </tr>\n",
              "    <tr>\n",
              "      <th>CERTBED_vs_RESTOT</th>\n",
              "      <td>0.083516</td>\n",
              "      <td>0.069941</td>\n",
              "      <td>0.026588</td>\n",
              "      <td>0.453826</td>\n",
              "      <td>0.125697</td>\n",
              "      <td>-0.051004</td>\n",
              "      <td>0.037364</td>\n",
              "      <td>-0.049472</td>\n",
              "      <td>-0.022874</td>\n",
              "      <td>-0.045635</td>\n",
              "      <td>-0.046415</td>\n",
              "      <td>0.027001</td>\n",
              "      <td>1.000000</td>\n",
              "      <td>0.009490</td>\n",
              "      <td>0.015387</td>\n",
              "      <td>0.014483</td>\n",
              "      <td>0.009692</td>\n",
              "      <td>0.038701</td>\n",
              "      <td>0.034177</td>\n",
              "      <td>0.049532</td>\n",
              "      <td>0.018687</td>\n",
              "      <td>0.040330</td>\n",
              "      <td>0.006292</td>\n",
              "      <td>-0.005230</td>\n",
              "      <td>0.015569</td>\n",
              "      <td>0.017237</td>\n",
              "      <td>-0.040586</td>\n",
              "      <td>0.044690</td>\n",
              "    </tr>\n",
              "    <tr>\n",
              "      <th>DISTINCT BENEFICIARIES</th>\n",
              "      <td>-0.065194</td>\n",
              "      <td>-0.027451</td>\n",
              "      <td>0.034592</td>\n",
              "      <td>0.185495</td>\n",
              "      <td>0.202968</td>\n",
              "      <td>0.077669</td>\n",
              "      <td>0.080259</td>\n",
              "      <td>0.218695</td>\n",
              "      <td>0.236142</td>\n",
              "      <td>0.210639</td>\n",
              "      <td>0.259726</td>\n",
              "      <td>0.005957</td>\n",
              "      <td>0.009490</td>\n",
              "      <td>1.000000</td>\n",
              "      <td>0.982619</td>\n",
              "      <td>0.898566</td>\n",
              "      <td>-0.040365</td>\n",
              "      <td>-0.203576</td>\n",
              "      <td>-0.191303</td>\n",
              "      <td>-0.222074</td>\n",
              "      <td>-0.220159</td>\n",
              "      <td>-0.187636</td>\n",
              "      <td>-0.012862</td>\n",
              "      <td>-0.132662</td>\n",
              "      <td>-0.050761</td>\n",
              "      <td>-0.174036</td>\n",
              "      <td>0.161986</td>\n",
              "      <td>-0.167234</td>\n",
              "    </tr>\n",
              "    <tr>\n",
              "      <th>STAY COUNT</th>\n",
              "      <td>-0.059457</td>\n",
              "      <td>-0.011445</td>\n",
              "      <td>0.054113</td>\n",
              "      <td>0.216177</td>\n",
              "      <td>0.234791</td>\n",
              "      <td>0.071769</td>\n",
              "      <td>0.076496</td>\n",
              "      <td>0.154068</td>\n",
              "      <td>0.177337</td>\n",
              "      <td>0.165985</td>\n",
              "      <td>0.206886</td>\n",
              "      <td>0.020930</td>\n",
              "      <td>0.015387</td>\n",
              "      <td>0.982619</td>\n",
              "      <td>1.000000</td>\n",
              "      <td>0.955391</td>\n",
              "      <td>-0.003925</td>\n",
              "      <td>-0.111445</td>\n",
              "      <td>-0.107330</td>\n",
              "      <td>-0.132348</td>\n",
              "      <td>-0.144674</td>\n",
              "      <td>-0.122519</td>\n",
              "      <td>-0.004821</td>\n",
              "      <td>-0.096954</td>\n",
              "      <td>-0.031026</td>\n",
              "      <td>-0.148600</td>\n",
              "      <td>0.111203</td>\n",
              "      <td>-0.058135</td>\n",
              "    </tr>\n",
              "    <tr>\n",
              "      <th>DAYS OF SERVICE</th>\n",
              "      <td>-0.036345</td>\n",
              "      <td>0.002881</td>\n",
              "      <td>0.083103</td>\n",
              "      <td>0.223122</td>\n",
              "      <td>0.242896</td>\n",
              "      <td>0.065054</td>\n",
              "      <td>0.067086</td>\n",
              "      <td>0.099532</td>\n",
              "      <td>0.124284</td>\n",
              "      <td>0.124891</td>\n",
              "      <td>0.135037</td>\n",
              "      <td>0.042021</td>\n",
              "      <td>0.014483</td>\n",
              "      <td>0.898566</td>\n",
              "      <td>0.955391</td>\n",
              "      <td>1.000000</td>\n",
              "      <td>0.116006</td>\n",
              "      <td>0.054964</td>\n",
              "      <td>0.046452</td>\n",
              "      <td>0.035941</td>\n",
              "      <td>0.021588</td>\n",
              "      <td>0.016725</td>\n",
              "      <td>0.034049</td>\n",
              "      <td>-0.037941</td>\n",
              "      <td>0.011902</td>\n",
              "      <td>-0.087457</td>\n",
              "      <td>0.086482</td>\n",
              "      <td>0.139599</td>\n",
              "    </tr>\n",
              "    <tr>\n",
              "      <th>AVERAGE CHARGE PER BENEFICIARY</th>\n",
              "      <td>0.139194</td>\n",
              "      <td>0.033061</td>\n",
              "      <td>0.182760</td>\n",
              "      <td>-0.087474</td>\n",
              "      <td>-0.099742</td>\n",
              "      <td>-0.018061</td>\n",
              "      <td>0.035398</td>\n",
              "      <td>0.197341</td>\n",
              "      <td>0.192715</td>\n",
              "      <td>0.124638</td>\n",
              "      <td>0.047482</td>\n",
              "      <td>0.041482</td>\n",
              "      <td>0.009692</td>\n",
              "      <td>-0.040365</td>\n",
              "      <td>-0.003925</td>\n",
              "      <td>0.116006</td>\n",
              "      <td>1.000000</td>\n",
              "      <td>0.667076</td>\n",
              "      <td>0.669783</td>\n",
              "      <td>0.668772</td>\n",
              "      <td>0.636292</td>\n",
              "      <td>0.544436</td>\n",
              "      <td>0.324916</td>\n",
              "      <td>0.381178</td>\n",
              "      <td>0.199693</td>\n",
              "      <td>0.388049</td>\n",
              "      <td>0.462920</td>\n",
              "      <td>0.607743</td>\n",
              "    </tr>\n",
              "    <tr>\n",
              "      <th>AVERAGE ALLOWED AMOUNT PER BENEFICIARY</th>\n",
              "      <td>0.164687</td>\n",
              "      <td>0.103877</td>\n",
              "      <td>0.205543</td>\n",
              "      <td>0.032012</td>\n",
              "      <td>0.021476</td>\n",
              "      <td>-0.050477</td>\n",
              "      <td>0.010540</td>\n",
              "      <td>-0.173577</td>\n",
              "      <td>-0.146580</td>\n",
              "      <td>-0.132064</td>\n",
              "      <td>-0.185260</td>\n",
              "      <td>0.120539</td>\n",
              "      <td>0.038701</td>\n",
              "      <td>-0.203576</td>\n",
              "      <td>-0.111445</td>\n",
              "      <td>0.054964</td>\n",
              "      <td>0.667076</td>\n",
              "      <td>1.000000</td>\n",
              "      <td>0.985451</td>\n",
              "      <td>0.948053</td>\n",
              "      <td>0.937634</td>\n",
              "      <td>0.745622</td>\n",
              "      <td>0.266594</td>\n",
              "      <td>0.638531</td>\n",
              "      <td>0.281942</td>\n",
              "      <td>0.506798</td>\n",
              "      <td>-0.117046</td>\n",
              "      <td>0.887527</td>\n",
              "    </tr>\n",
              "    <tr>\n",
              "      <th>AVERAGE PAYMENT AMOUNT PER BENEFICIARY</th>\n",
              "      <td>0.186179</td>\n",
              "      <td>0.105516</td>\n",
              "      <td>0.235415</td>\n",
              "      <td>0.007236</td>\n",
              "      <td>-0.004376</td>\n",
              "      <td>-0.034361</td>\n",
              "      <td>0.018517</td>\n",
              "      <td>-0.135639</td>\n",
              "      <td>-0.108887</td>\n",
              "      <td>-0.096284</td>\n",
              "      <td>-0.153388</td>\n",
              "      <td>0.127005</td>\n",
              "      <td>0.034177</td>\n",
              "      <td>-0.191303</td>\n",
              "      <td>-0.107330</td>\n",
              "      <td>0.046452</td>\n",
              "      <td>0.669783</td>\n",
              "      <td>0.985451</td>\n",
              "      <td>1.000000</td>\n",
              "      <td>0.935847</td>\n",
              "      <td>0.946303</td>\n",
              "      <td>0.746810</td>\n",
              "      <td>0.290653</td>\n",
              "      <td>0.716778</td>\n",
              "      <td>0.300855</td>\n",
              "      <td>0.604019</td>\n",
              "      <td>-0.100130</td>\n",
              "      <td>0.819195</td>\n",
              "    </tr>\n",
              "    <tr>\n",
              "      <th>AVERAGE STANDARD PAYMENT AMOUNT PER BENEFICIARY</th>\n",
              "      <td>0.129234</td>\n",
              "      <td>0.054338</td>\n",
              "      <td>0.257502</td>\n",
              "      <td>-0.030773</td>\n",
              "      <td>-0.052261</td>\n",
              "      <td>-0.045987</td>\n",
              "      <td>0.019822</td>\n",
              "      <td>-0.185590</td>\n",
              "      <td>-0.152019</td>\n",
              "      <td>-0.133272</td>\n",
              "      <td>-0.210413</td>\n",
              "      <td>0.057507</td>\n",
              "      <td>0.049532</td>\n",
              "      <td>-0.222074</td>\n",
              "      <td>-0.132348</td>\n",
              "      <td>0.035941</td>\n",
              "      <td>0.668772</td>\n",
              "      <td>0.948053</td>\n",
              "      <td>0.935847</td>\n",
              "      <td>1.000000</td>\n",
              "      <td>0.873779</td>\n",
              "      <td>0.805504</td>\n",
              "      <td>0.259378</td>\n",
              "      <td>0.520628</td>\n",
              "      <td>0.271430</td>\n",
              "      <td>0.615279</td>\n",
              "      <td>-0.101759</td>\n",
              "      <td>0.901529</td>\n",
              "    </tr>\n",
              "    <tr>\n",
              "      <th>AVERAGE ALLOWED AMOUNT PER STAY</th>\n",
              "      <td>0.203941</td>\n",
              "      <td>0.118398</td>\n",
              "      <td>0.260206</td>\n",
              "      <td>0.009727</td>\n",
              "      <td>0.004294</td>\n",
              "      <td>-0.041059</td>\n",
              "      <td>-0.004714</td>\n",
              "      <td>-0.157502</td>\n",
              "      <td>-0.140861</td>\n",
              "      <td>-0.122589</td>\n",
              "      <td>-0.170954</td>\n",
              "      <td>0.158963</td>\n",
              "      <td>0.018687</td>\n",
              "      <td>-0.220159</td>\n",
              "      <td>-0.144674</td>\n",
              "      <td>0.021588</td>\n",
              "      <td>0.636292</td>\n",
              "      <td>0.937634</td>\n",
              "      <td>0.946303</td>\n",
              "      <td>0.873779</td>\n",
              "      <td>1.000000</td>\n",
              "      <td>0.740644</td>\n",
              "      <td>0.308393</td>\n",
              "      <td>0.756862</td>\n",
              "      <td>0.320366</td>\n",
              "      <td>0.593171</td>\n",
              "      <td>-0.111068</td>\n",
              "      <td>0.782846</td>\n",
              "    </tr>\n",
              "    <tr>\n",
              "      <th>AVERAGE STANDARD PAYMENT AMOUNT PER STAY</th>\n",
              "      <td>0.135019</td>\n",
              "      <td>0.024508</td>\n",
              "      <td>0.310038</td>\n",
              "      <td>-0.054940</td>\n",
              "      <td>-0.076267</td>\n",
              "      <td>-0.018562</td>\n",
              "      <td>0.012381</td>\n",
              "      <td>-0.118483</td>\n",
              "      <td>-0.097202</td>\n",
              "      <td>-0.078923</td>\n",
              "      <td>-0.164889</td>\n",
              "      <td>0.047388</td>\n",
              "      <td>0.040330</td>\n",
              "      <td>-0.187636</td>\n",
              "      <td>-0.122519</td>\n",
              "      <td>0.016725</td>\n",
              "      <td>0.544436</td>\n",
              "      <td>0.745622</td>\n",
              "      <td>0.746810</td>\n",
              "      <td>0.805504</td>\n",
              "      <td>0.740644</td>\n",
              "      <td>1.000000</td>\n",
              "      <td>0.688747</td>\n",
              "      <td>0.467879</td>\n",
              "      <td>0.702965</td>\n",
              "      <td>0.584730</td>\n",
              "      <td>-0.195377</td>\n",
              "      <td>0.698794</td>\n",
              "    </tr>\n",
              "    <tr>\n",
              "      <th>AVERAGE CHARGE PER DAY</th>\n",
              "      <td>0.124055</td>\n",
              "      <td>-0.000282</td>\n",
              "      <td>0.248348</td>\n",
              "      <td>-0.059340</td>\n",
              "      <td>-0.068959</td>\n",
              "      <td>0.034350</td>\n",
              "      <td>0.021043</td>\n",
              "      <td>0.121878</td>\n",
              "      <td>0.118571</td>\n",
              "      <td>0.103067</td>\n",
              "      <td>0.043911</td>\n",
              "      <td>0.042498</td>\n",
              "      <td>0.006292</td>\n",
              "      <td>-0.012862</td>\n",
              "      <td>-0.004821</td>\n",
              "      <td>0.034049</td>\n",
              "      <td>0.324916</td>\n",
              "      <td>0.266594</td>\n",
              "      <td>0.290653</td>\n",
              "      <td>0.259378</td>\n",
              "      <td>0.308393</td>\n",
              "      <td>0.688747</td>\n",
              "      <td>1.000000</td>\n",
              "      <td>0.299993</td>\n",
              "      <td>0.971517</td>\n",
              "      <td>0.281848</td>\n",
              "      <td>-0.076972</td>\n",
              "      <td>0.181565</td>\n",
              "    </tr>\n",
              "    <tr>\n",
              "      <th>AVERAGE ALLOWED AMOUNT PER DAY</th>\n",
              "      <td>0.242125</td>\n",
              "      <td>0.146214</td>\n",
              "      <td>0.327751</td>\n",
              "      <td>0.016162</td>\n",
              "      <td>0.020263</td>\n",
              "      <td>-0.000305</td>\n",
              "      <td>0.025953</td>\n",
              "      <td>-0.050318</td>\n",
              "      <td>-0.029894</td>\n",
              "      <td>-0.021137</td>\n",
              "      <td>0.005768</td>\n",
              "      <td>0.204444</td>\n",
              "      <td>-0.005230</td>\n",
              "      <td>-0.132662</td>\n",
              "      <td>-0.096954</td>\n",
              "      <td>-0.037941</td>\n",
              "      <td>0.381178</td>\n",
              "      <td>0.638531</td>\n",
              "      <td>0.716778</td>\n",
              "      <td>0.520628</td>\n",
              "      <td>0.756862</td>\n",
              "      <td>0.467879</td>\n",
              "      <td>0.299993</td>\n",
              "      <td>1.000000</td>\n",
              "      <td>0.312795</td>\n",
              "      <td>0.704092</td>\n",
              "      <td>-0.112908</td>\n",
              "      <td>0.288291</td>\n",
              "    </tr>\n",
              "    <tr>\n",
              "      <th>AVERAGE PAYMENT AMOUNT PER DAY</th>\n",
              "      <td>0.116739</td>\n",
              "      <td>0.011726</td>\n",
              "      <td>0.253982</td>\n",
              "      <td>-0.025565</td>\n",
              "      <td>-0.035503</td>\n",
              "      <td>0.029851</td>\n",
              "      <td>0.011918</td>\n",
              "      <td>0.017143</td>\n",
              "      <td>0.021606</td>\n",
              "      <td>0.032472</td>\n",
              "      <td>-0.024474</td>\n",
              "      <td>0.053186</td>\n",
              "      <td>0.015569</td>\n",
              "      <td>-0.050761</td>\n",
              "      <td>-0.031026</td>\n",
              "      <td>0.011902</td>\n",
              "      <td>0.199693</td>\n",
              "      <td>0.281942</td>\n",
              "      <td>0.300855</td>\n",
              "      <td>0.271430</td>\n",
              "      <td>0.320366</td>\n",
              "      <td>0.702965</td>\n",
              "      <td>0.971517</td>\n",
              "      <td>0.312795</td>\n",
              "      <td>1.000000</td>\n",
              "      <td>0.280460</td>\n",
              "      <td>-0.311046</td>\n",
              "      <td>0.201121</td>\n",
              "    </tr>\n",
              "    <tr>\n",
              "      <th>AVERAGE STANDARD PAYMENT AMOUNT PER DAY</th>\n",
              "      <td>0.144465</td>\n",
              "      <td>0.018820</td>\n",
              "      <td>0.455568</td>\n",
              "      <td>-0.149936</td>\n",
              "      <td>-0.172648</td>\n",
              "      <td>0.019401</td>\n",
              "      <td>0.069350</td>\n",
              "      <td>-0.042082</td>\n",
              "      <td>0.001211</td>\n",
              "      <td>0.012107</td>\n",
              "      <td>-0.040371</td>\n",
              "      <td>0.040316</td>\n",
              "      <td>0.017237</td>\n",
              "      <td>-0.174036</td>\n",
              "      <td>-0.148600</td>\n",
              "      <td>-0.087457</td>\n",
              "      <td>0.388049</td>\n",
              "      <td>0.506798</td>\n",
              "      <td>0.604019</td>\n",
              "      <td>0.615279</td>\n",
              "      <td>0.593171</td>\n",
              "      <td>0.584730</td>\n",
              "      <td>0.281848</td>\n",
              "      <td>0.704092</td>\n",
              "      <td>0.280460</td>\n",
              "      <td>1.000000</td>\n",
              "      <td>-0.049630</td>\n",
              "      <td>0.281682</td>\n",
              "    </tr>\n",
              "    <tr>\n",
              "      <th>DIFFERENCE CHARGE/ALLOWED</th>\n",
              "      <td>0.006364</td>\n",
              "      <td>-0.050471</td>\n",
              "      <td>-0.072582</td>\n",
              "      <td>-0.130427</td>\n",
              "      <td>-0.128127</td>\n",
              "      <td>0.012865</td>\n",
              "      <td>0.036847</td>\n",
              "      <td>0.449395</td>\n",
              "      <td>0.414785</td>\n",
              "      <td>0.298284</td>\n",
              "      <td>0.301332</td>\n",
              "      <td>-0.053333</td>\n",
              "      <td>-0.040586</td>\n",
              "      <td>0.161986</td>\n",
              "      <td>0.111203</td>\n",
              "      <td>0.086482</td>\n",
              "      <td>0.462920</td>\n",
              "      <td>-0.117046</td>\n",
              "      <td>-0.100130</td>\n",
              "      <td>-0.101759</td>\n",
              "      <td>-0.111068</td>\n",
              "      <td>-0.195377</td>\n",
              "      <td>-0.076972</td>\n",
              "      <td>-0.112908</td>\n",
              "      <td>-0.311046</td>\n",
              "      <td>-0.049630</td>\n",
              "      <td>1.000000</td>\n",
              "      <td>-0.118012</td>\n",
              "    </tr>\n",
              "    <tr>\n",
              "      <th>STAY_LENGTH</th>\n",
              "      <td>0.097629</td>\n",
              "      <td>0.055533</td>\n",
              "      <td>0.131480</td>\n",
              "      <td>0.029997</td>\n",
              "      <td>0.017050</td>\n",
              "      <td>-0.063106</td>\n",
              "      <td>-0.025554</td>\n",
              "      <td>-0.236541</td>\n",
              "      <td>-0.221712</td>\n",
              "      <td>-0.192070</td>\n",
              "      <td>-0.263763</td>\n",
              "      <td>0.055444</td>\n",
              "      <td>0.044690</td>\n",
              "      <td>-0.167234</td>\n",
              "      <td>-0.058135</td>\n",
              "      <td>0.139599</td>\n",
              "      <td>0.607743</td>\n",
              "      <td>0.887527</td>\n",
              "      <td>0.819195</td>\n",
              "      <td>0.901529</td>\n",
              "      <td>0.782846</td>\n",
              "      <td>0.698794</td>\n",
              "      <td>0.181565</td>\n",
              "      <td>0.288291</td>\n",
              "      <td>0.201121</td>\n",
              "      <td>0.281682</td>\n",
              "      <td>-0.118012</td>\n",
              "      <td>1.000000</td>\n",
              "    </tr>\n",
              "  </tbody>\n",
              "</table>\n",
              "</div>"
            ],
            "text/plain": [
              "                                                      ZIP  ...  STAY_LENGTH\n",
              "ZIP                                              1.000000  ...     0.097629\n",
              "H_TOT_DFCNCY                                     0.189370  ...     0.055533\n",
              "YEAR                                             0.075109  ...     0.131480\n",
              "BEDCERT                                         -0.197571  ...     0.029997\n",
              "RESTOT                                          -0.251780  ...     0.017050\n",
              "AIDHRD                                           0.139344  ...    -0.063106\n",
              "VOCHRD                                           0.031686  ...    -0.025554\n",
              "RNHRD                                            0.007664  ...    -0.236541\n",
              "TOTLICHRD                                        0.024160  ...    -0.221712\n",
              "TOTHRD                                           0.097801  ...    -0.192070\n",
              "PTHRD                                            0.027644  ...    -0.263763\n",
              "CERT_LENGTH_YRS                                 -0.059819  ...     0.055444\n",
              "CERTBED_vs_RESTOT                                0.083516  ...     0.044690\n",
              "DISTINCT BENEFICIARIES                          -0.065194  ...    -0.167234\n",
              "STAY COUNT                                      -0.059457  ...    -0.058135\n",
              "DAYS OF SERVICE                                 -0.036345  ...     0.139599\n",
              "AVERAGE CHARGE PER BENEFICIARY                   0.139194  ...     0.607743\n",
              "AVERAGE ALLOWED AMOUNT PER BENEFICIARY           0.164687  ...     0.887527\n",
              "AVERAGE PAYMENT AMOUNT PER BENEFICIARY           0.186179  ...     0.819195\n",
              "AVERAGE STANDARD PAYMENT AMOUNT PER BENEFICIARY  0.129234  ...     0.901529\n",
              "AVERAGE ALLOWED AMOUNT PER STAY                  0.203941  ...     0.782846\n",
              "AVERAGE STANDARD PAYMENT AMOUNT PER STAY         0.135019  ...     0.698794\n",
              "AVERAGE CHARGE PER DAY                           0.124055  ...     0.181565\n",
              "AVERAGE ALLOWED AMOUNT PER DAY                   0.242125  ...     0.288291\n",
              "AVERAGE PAYMENT AMOUNT PER DAY                   0.116739  ...     0.201121\n",
              "AVERAGE STANDARD PAYMENT AMOUNT PER DAY          0.144465  ...     0.281682\n",
              "DIFFERENCE CHARGE/ALLOWED                        0.006364  ...    -0.118012\n",
              "STAY_LENGTH                                      0.097629  ...     1.000000\n",
              "\n",
              "[28 rows x 28 columns]"
            ]
          },
          "metadata": {
            "tags": []
          },
          "execution_count": 53
        }
      ]
    },
    {
      "cell_type": "code",
      "metadata": {
        "id": "VxwRXL7CfJW2"
      },
      "source": [
        "study_df_pred = study_df"
      ],
      "execution_count": 54,
      "outputs": []
    },
    {
      "cell_type": "code",
      "metadata": {
        "colab": {
          "base_uri": "https://localhost:8080/",
          "height": 0
        },
        "id": "rLFpDEJbEztv",
        "outputId": "3259a7d4-13be-4ea4-9cde-cb0b76592542"
      },
      "source": [
        "plt.scatter(study_df_pred['AVERAGE ALLOWED AMOUNT PER BENEFICIARY'], study_df_pred['H_TOT_DFCNCY']);"
      ],
      "execution_count": 55,
      "outputs": [
        {
          "output_type": "display_data",
          "data": {
            "image/png": "[encoded data removed]",
            "text/plain": [
              "<Figure size 432x288 with 1 Axes>"
            ]
          },
          "metadata": {
            "tags": [],
            "needs_background": "light"
          }
        }
      ]
    },
    {
      "cell_type": "code",
      "metadata": {
        "id": "OTd5sJ4--URZ"
      },
      "source": [
        "#There was one missing ownership value that I filled in by hand since I found the information elsewhere\n",
        "study_df_pred['OWNERSHIP'].fillna(value='For profit - Corporation', inplace=True)\n",
        "study_df_pred = study_df_pred.fillna(0)"
      ],
      "execution_count": 56,
      "outputs": []
    },
    {
      "cell_type": "code",
      "metadata": {
        "id": "Fmq64QGI3fmV"
      },
      "source": [
        "study_df_pred.drop(columns = ['PROVNUM', 'ADDRESS','ZIP', 'CITY','COUNTY_NAME'], inplace = True)\n",
        "study_df_pred = study_df_pred.set_index('PROVNAME')"
      ],
      "execution_count": 57,
      "outputs": []
    },
    {
      "cell_type": "code",
      "metadata": {
        "id": "OUk9Lvxj35Mv"
      },
      "source": [
        "#Would remove Medicare Columns\n",
        "#study_df_pred.columns[study_df_pred.columns.str.contains('AVERAGE')]"
      ],
      "execution_count": 58,
      "outputs": []
    },
    {
      "cell_type": "code",
      "metadata": {
        "id": "uB4orGfA3yx0"
      },
      "source": [
        "#study_df_pred.drop(columns = study_df_pred.columns[study_df_pred.columns.str.contains('AVERAGE')], inplace=True)"
      ],
      "execution_count": 59,
      "outputs": []
    },
    {
      "cell_type": "code",
      "metadata": {
        "id": "ZZ78V7o5ztEM"
      },
      "source": [
        "#Categorizing data based on ownership\n",
        "\n",
        "gov_owned = study_df[study_df['OWNERSHIP'].str.contains('Government')]\n",
        "non_profit = study_df[study_df['OWNERSHIP'].str.contains('Non profit')]\n",
        "for_profit = study_df[study_df['OWNERSHIP'].str.contains('For profit')]\n",
        "\n",
        "\n",
        "#Double Checking to make sure I captured all categories\n",
        "assert gov_owned.shape[0] + non_profit.shape[0] + for_profit.shape[0] == study_df.shape[0]"
      ],
      "execution_count": 60,
      "outputs": []
    },
    {
      "cell_type": "code",
      "metadata": {
        "colab": {
          "base_uri": "https://localhost:8080/"
        },
        "id": "Y6-XZ_bq2tz2",
        "outputId": "8226dc90-7e0c-444b-8c22-f535ad338925"
      },
      "source": [
        "print('Average for Government Owned Facilities is:', gov_owned['H_TOT_DFCNCY'].mean())\n",
        "print('Average for Non Profit Facilities is:', non_profit['H_TOT_DFCNCY'].mean())\n",
        "print('Average for For Profit Owned Facilities is:', for_profit['H_TOT_DFCNCY'].mean())"
      ],
      "execution_count": 61,
      "outputs": [
        {
          "output_type": "stream",
          "text": [
            "Average for Government Owned Facilities is: 5.395543175487465\n",
            "Average for Non Profit Facilities is: 5.06233303650935\n",
            "Average for For Profit Owned Facilities is: 6.527151297200103\n"
          ],
          "name": "stdout"
        }
      ]
    },
    {
      "cell_type": "code",
      "metadata": {
        "colab": {
          "base_uri": "https://localhost:8080/",
          "height": 0
        },
        "id": "REMzxgVis3LR",
        "outputId": "6bcf8ff8-4c3d-4454-dec0-693bea8aead4"
      },
      "source": [
        "import seaborn as sns; sns.set_theme(color_codes=True)\n",
        "ax = sns.regplot(x='STAY_LENGTH', y='H_TOT_DFCNCY', data=study_df_pred)"
      ],
      "execution_count": 62,
      "outputs": [
        {
          "output_type": "display_data",
          "data": {
            "image/png": "[encoded data removed]",
            "text/plain": [
              "<Figure size 432x288 with 1 Axes>"
            ]
          },
          "metadata": {
            "tags": []
          }
        }
      ]
    },
    {
      "cell_type": "markdown",
      "metadata": {
        "id": "pzKUIVjrzlDR"
      },
      "source": [
        "#II. Split Data (CONTINUED)"
      ]
    },
    {
      "cell_type": "code",
      "metadata": {
        "id": "qc-UP_oVxmks"
      },
      "source": [
        "#Setting feature matrix and target vector\n",
        "y = study_df_pred['H_TOT_DFCNCY']\n",
        "X = study_df_pred.drop(columns='H_TOT_DFCNCY')"
      ],
      "execution_count": 65,
      "outputs": []
    },
    {
      "cell_type": "code",
      "metadata": {
        "id": "2lYYcdrVx7CO"
      },
      "source": [
        "#Splitting into Test and Training Sets\n",
        "mask = X['YEAR'] < 2018\n",
        "\n",
        "X_train, y_train = X.loc[mask], y.loc[mask]\n",
        "X_test, y_test = X.loc[~mask], y.loc[~mask]"
      ],
      "execution_count": 66,
      "outputs": []
    },
    {
      "cell_type": "code",
      "metadata": {
        "colab": {
          "base_uri": "https://localhost:8080/"
        },
        "id": "A9XOokxysxc5",
        "outputId": "cb967851-4c0c-4368-9cd5-5ae7e95dcefe"
      },
      "source": [
        "study_df_pred['H_TOT_DFCNCY'].mean()"
      ],
      "execution_count": 79,
      "outputs": [
        {
          "output_type": "execute_result",
          "data": {
            "text/plain": [
              "6.111255834147401"
            ]
          },
          "metadata": {
            "tags": []
          },
          "execution_count": 79
        }
      ]
    },
    {
      "cell_type": "code",
      "metadata": {
        "id": "MPicREtKs6Xo"
      },
      "source": [
        "#FOR LOGISTIC MODEL\n",
        "\n",
        "#Average = 6\n",
        "study_log = study_df_pred\n",
        "#1 = Above Average\n",
        "#0 = Below Average\n",
        "\n",
        "study_log['Above/Below Avg']= np.where(study_log['H_TOT_DFCNCY'] > 6, 1, 0)\n",
        "study_log.drop(columns='H_TOT_DFCNCY', inplace=True)"
      ],
      "execution_count": 80,
      "outputs": []
    },
    {
      "cell_type": "code",
      "metadata": {
        "id": "Uy9HgdGUuZlx"
      },
      "source": [
        "y_l = study_log['Above/Below Avg']\n",
        "X_l = study_log.drop(columns='Above/Below Avg')"
      ],
      "execution_count": 88,
      "outputs": []
    },
    {
      "cell_type": "code",
      "metadata": {
        "id": "FOIOVGqLujJz"
      },
      "source": [
        "mask = X_l['YEAR'] < 2018\n",
        "\n",
        "X_l_train, y_l_train = X_l.loc[mask], y_l.loc[mask]\n",
        "X_l_test, y_l_test = X_l.loc[~mask], y_l.loc[~mask]"
      ],
      "execution_count": 89,
      "outputs": []
    },
    {
      "cell_type": "markdown",
      "metadata": {
        "id": "18o402D3ytl3"
      },
      "source": [
        "#III. SET BASELINE"
      ]
    },
    {
      "cell_type": "code",
      "metadata": {
        "id": "XzoPqlW1ywdv"
      },
      "source": [
        "from sklearn.metrics import mean_absolute_error"
      ],
      "execution_count": 67,
      "outputs": []
    },
    {
      "cell_type": "code",
      "metadata": {
        "colab": {
          "base_uri": "https://localhost:8080/"
        },
        "id": "MJCO476zy1Ob",
        "outputId": "d78ee72f-bc85-4e94-e09c-59fc9cb0ef74"
      },
      "source": [
        "#Linear Regression Model Baseline\n",
        "\n",
        "y_pred = [y_train.mean()]*len(y_train)\n",
        "print('Mean Number of Health Deficiencies:', y_train.mean())\n",
        "print('Baseline MAE:', mean_absolute_error(y_train, y_pred))"
      ],
      "execution_count": 68,
      "outputs": [
        {
          "output_type": "stream",
          "text": [
            "Mean Number of Health Deficiencies: 5.841100954093611\n",
            "Baseline MAE: 3.760130633278873\n"
          ],
          "name": "stdout"
        }
      ]
    },
    {
      "cell_type": "code",
      "metadata": {
        "colab": {
          "base_uri": "https://localhost:8080/"
        },
        "id": "SEeJAJuoracB",
        "outputId": "d1a14b40-c5b1-4e79-d660-3036d43c76d2"
      },
      "source": [
        "#Logistic Regression Model Baseline\n",
        "y_l_test.value_counts(normalize=True)\n",
        "\n",
        "print('Baseline for Logistic Regression Model is: 0.57')"
      ],
      "execution_count": 95,
      "outputs": [
        {
          "output_type": "execute_result",
          "data": {
            "text/plain": [
              "0    0.565354\n",
              "1    0.434646\n",
              "Name: Above/Below Avg, dtype: float64"
            ]
          },
          "metadata": {
            "tags": []
          },
          "execution_count": 95
        }
      ]
    },
    {
      "cell_type": "markdown",
      "metadata": {
        "id": "u5kTmEPCf87q"
      },
      "source": [
        "#IV. CREATE MODEL"
      ]
    },
    {
      "cell_type": "code",
      "metadata": {
        "id": "67aRDXuWzSs7"
      },
      "source": [
        "from sklearn.linear_model import LinearRegression, LogisticRegression\n",
        "from sklearn.pipeline import make_pipeline\n",
        "from sklearn_pandas import DataFrameMapper\n",
        "from sklearn.impute import SimpleImputer\n",
        "from sklearn.preprocessing import StandardScaler, OneHotEncoder\n",
        "from sklearn.feature_selection import SelectKBest, f_regression\n",
        "from sklearn.ensemble import RandomForestRegressor, GradientBoostingRegressor, RandomForestClassifier\n",
        "from scipy import stats"
      ],
      "execution_count": 98,
      "outputs": []
    },
    {
      "cell_type": "code",
      "metadata": {
        "id": "_fTh1mNwCoqf"
      },
      "source": [
        "#Basic Linear Regression\n",
        "\n",
        "model_lr = make_pipeline(\n",
        "    OneHotEncoder(handle_unknown='ignore'),\n",
        "    #SelectKBest(score_func=f_regression, k=15),\n",
        "    LinearRegression()\n",
        ")\n",
        "model_lr.fit(X_train, y_train);"
      ],
      "execution_count": 73,
      "outputs": []
    },
    {
      "cell_type": "code",
      "metadata": {
        "colab": {
          "base_uri": "https://localhost:8080/"
        },
        "id": "zJn3POBx6Q2X",
        "outputId": "cbe569e1-5c12-411c-87f6-4c2b40518d91"
      },
      "source": [
        "train_acc = model_lr.score(X_train, y_train)\n",
        "test_acc = model_lr.score(X_test, y_test)\n",
        "print(train_acc)\n",
        "print(test_acc)"
      ],
      "execution_count": 74,
      "outputs": [
        {
          "output_type": "stream",
          "text": [
            "0.9868992928260931\n",
            "0.1448166323687312\n"
          ],
          "name": "stdout"
        }
      ]
    },
    {
      "cell_type": "code",
      "metadata": {
        "id": "oM9FT1onsqdJ"
      },
      "source": [
        "#Linear R^2 Score of .144"
      ],
      "execution_count": null,
      "outputs": []
    },
    {
      "cell_type": "code",
      "metadata": {
        "id": "WMpjpNFj2dZU"
      },
      "source": [
        "# #Random Forrest Model\n",
        "\n",
        "# model = make_pipeline(\n",
        "#     OneHotEncoder(handle_unknown='ignore'),\n",
        "#     RandomForestRegressor(verbose=2, n_estimators=32)\n",
        "# )\n",
        "# model.fit(X_train, y_train);"
      ],
      "execution_count": 66,
      "outputs": []
    },
    {
      "cell_type": "code",
      "metadata": {
        "id": "FcTLkuBMJhmh"
      },
      "source": [
        "# from sklearn.metrics import r2_score\n",
        "\n",
        "# train_acc = model.score(X_train, y_train)\n",
        "# test_acc = model.score(X_test, y_test)\n",
        "# print(train_acc)\n",
        "# print(test_acc)"
      ],
      "execution_count": null,
      "outputs": []
    },
    {
      "cell_type": "code",
      "metadata": {
        "id": "epjcoXzEPp1h"
      },
      "source": [
        "#Gradient Boosting Model\n",
        "model_g = make_pipeline(\n",
        "    OneHotEncoder(handle_unknown='ignore'),\n",
        "    GradientBoostingRegressor(verbose=2, n_estimators=100, max_depth=7)\n",
        ")\n",
        "model_g.fit(X_train, y_train);"
      ],
      "execution_count": null,
      "outputs": []
    },
    {
      "cell_type": "code",
      "metadata": {
        "colab": {
          "base_uri": "https://localhost:8080/"
        },
        "id": "nceXbxJcP7Fu",
        "outputId": "75a1034e-b8cb-4e6b-eb73-4adb68da5754"
      },
      "source": [
        "train_acc = model_g.score(X_train, y_train)\n",
        "test_acc = model_g.score(X_test, y_test)\n",
        "print(train_acc)\n",
        "print(test_acc)"
      ],
      "execution_count": 76,
      "outputs": [
        {
          "output_type": "stream",
          "text": [
            "0.32385579408811593\n",
            "0.118023007955249\n"
          ],
          "name": "stdout"
        }
      ]
    },
    {
      "cell_type": "code",
      "metadata": {
        "id": "o9MXfD1VuDMG"
      },
      "source": [
        "#Basic Logistic Regression\n",
        "\n",
        "model_lg = make_pipeline(\n",
        "    OneHotEncoder(handle_unknown='ignore'),\n",
        "    #SelectKBest(score_func=f_regression, k=15),\n",
        "    LogisticRegression(max_iter=1000)\n",
        ")\n",
        "model_lg.fit(X_l_train, y_l_train);"
      ],
      "execution_count": 91,
      "outputs": []
    },
    {
      "cell_type": "code",
      "metadata": {
        "colab": {
          "base_uri": "https://localhost:8080/"
        },
        "id": "-hQZDLVLuEfP",
        "outputId": "7ff0591a-4d24-4eb7-eeb6-129748e6d2e7"
      },
      "source": [
        "print(model_lg.score(X_l_train, y_l_train))\n",
        "print(model_lg.score(X_l_test, y_l_test))"
      ],
      "execution_count": 97,
      "outputs": [
        {
          "output_type": "stream",
          "text": [
            "0.9932064538688247\n",
            "0.6576115485564304\n"
          ],
          "name": "stdout"
        }
      ]
    },
    {
      "cell_type": "code",
      "metadata": {
        "id": "PDzWzNG0wvQ7"
      },
      "source": [
        "#Random Forrest Model\n",
        "\n",
        "model_rf_l = make_pipeline(\n",
        "    OneHotEncoder(handle_unknown='ignore'),\n",
        "    RandomForestClassifier(n_estimators=50, max_depth=10)\n",
        ")\n",
        "model_rf_l.fit(X_l_train, y_l_train);"
      ],
      "execution_count": 105,
      "outputs": []
    },
    {
      "cell_type": "code",
      "metadata": {
        "colab": {
          "base_uri": "https://localhost:8080/"
        },
        "id": "B2XzIHHyxDh7",
        "outputId": "a1c9068b-b2e3-45b5-84af-7d5f22358359"
      },
      "source": [
        "print(model_rf_l.score(X_l_train, y_l_train));\n",
        "print(model_rf_l.score(X_l_test, y_l_test));"
      ],
      "execution_count": 106,
      "outputs": [
        {
          "output_type": "stream",
          "text": [
            "0.991008541885209\n",
            "0.6178477690288714\n"
          ],
          "name": "stdout"
        }
      ]
    },
    {
      "cell_type": "markdown",
      "metadata": {
        "id": "34k9zsg33OND"
      },
      "source": [
        "#Further Exloration of the Data"
      ]
    },
    {
      "cell_type": "markdown",
      "metadata": {
        "id": "M5XE3GdK41ej"
      },
      "source": [
        "At this point, I was just looking to see if I could find any other trends with the data that would explain the difficulties modeling."
      ]
    },
    {
      "cell_type": "code",
      "metadata": {
        "colab": {
          "base_uri": "https://localhost:8080/",
          "height": 270
        },
        "id": "B1ACwo8z3QUv",
        "outputId": "646b68a1-f513-4970-ecd3-fd6560f5aa1d"
      },
      "source": [
        "payments_percent.head(1)"
      ],
      "execution_count": 110,
      "outputs": [
        {
          "output_type": "execute_result",
          "data": {
            "text/html": [
              "<div>\n",
              "<style scoped>\n",
              "    .dataframe tbody tr th:only-of-type {\n",
              "        vertical-align: middle;\n",
              "    }\n",
              "\n",
              "    .dataframe tbody tr th {\n",
              "        vertical-align: top;\n",
              "    }\n",
              "\n",
              "    .dataframe thead th {\n",
              "        text-align: right;\n",
              "    }\n",
              "</style>\n",
              "<table border=\"1\" class=\"dataframe\">\n",
              "  <thead>\n",
              "    <tr style=\"text-align: right;\">\n",
              "      <th></th>\n",
              "      <th>SNF VBP Ranking</th>\n",
              "      <th>Footnote -- SNF VBP Ranking</th>\n",
              "      <th>Provider Number (CCN)</th>\n",
              "      <th>Provider Name</th>\n",
              "      <th>Provider Address</th>\n",
              "      <th>Provider City</th>\n",
              "      <th>Provider State</th>\n",
              "      <th>Provider Zip Code</th>\n",
              "      <th>Baseline Period: FY 2017 Risk-Standardized Readmission Rate</th>\n",
              "      <th>Footnote -- Baseline Period: FY 2017 Risk-Standardized Readmission Rate</th>\n",
              "      <th>Performance Period: FY 2019 Risk-Standardized Readmission Rate</th>\n",
              "      <th>Footnote -- Performance Period: FY 2019 Risk-Standardized Readmission Rate</th>\n",
              "      <th>Achievement Score</th>\n",
              "      <th>Footnote – Achievement Score</th>\n",
              "      <th>Improvement Score</th>\n",
              "      <th>Footnote -- Improvement Score</th>\n",
              "      <th>Performance Score</th>\n",
              "      <th>Footnote -- Performance Score</th>\n",
              "      <th>Incentive Payment Multiplier</th>\n",
              "      <th>Footnote -- Incentive Payment Multiplier</th>\n",
              "    </tr>\n",
              "  </thead>\n",
              "  <tbody>\n",
              "    <tr>\n",
              "      <th>0</th>\n",
              "      <td>1</td>\n",
              "      <td>NaN</td>\n",
              "      <td>15126</td>\n",
              "      <td>TRAYLOR RETIREMENT COMMUNITY</td>\n",
              "      <td>1235 YANCEY STREET  P O BOX 467</td>\n",
              "      <td>ROANOKE</td>\n",
              "      <td>AL</td>\n",
              "      <td>36274</td>\n",
              "      <td>0.16754</td>\n",
              "      <td>NaN</td>\n",
              "      <td>0.16533</td>\n",
              "      <td>NaN</td>\n",
              "      <td>100.0</td>\n",
              "      <td>NaN</td>\n",
              "      <td>90.0</td>\n",
              "      <td>NaN</td>\n",
              "      <td>100.0</td>\n",
              "      <td>NaN</td>\n",
              "      <td>1.021305</td>\n",
              "      <td>NaN</td>\n",
              "    </tr>\n",
              "  </tbody>\n",
              "</table>\n",
              "</div>"
            ],
            "text/plain": [
              "   SNF VBP Ranking  ... Footnote -- Incentive Payment Multiplier\n",
              "0                1  ...                                      NaN\n",
              "\n",
              "[1 rows x 20 columns]"
            ]
          },
          "metadata": {
            "tags": []
          },
          "execution_count": 110
        }
      ]
    },
    {
      "cell_type": "code",
      "metadata": {
        "colab": {
          "base_uri": "https://localhost:8080/"
        },
        "id": "-mXwbDnZ4PXl",
        "outputId": "69c5cc2b-440d-4507-cec2-f8f483f0a149"
      },
      "source": [
        "min = payments_percent['Incentive Payment Multiplier'].min()\n",
        "max = payments_percent['Incentive Payment Multiplier'].max()\n",
        "print(min)\n",
        "print(max)"
      ],
      "execution_count": 122,
      "outputs": [
        {
          "output_type": "stream",
          "text": [
            "0.9802783079999999\n",
            "1.021304566\n"
          ],
          "name": "stdout"
        }
      ]
    },
    {
      "cell_type": "code",
      "metadata": {
        "colab": {
          "base_uri": "https://localhost:8080/"
        },
        "id": "8FhpZvv94W2x",
        "outputId": "b11e9132-a895-493e-936f-969f6f013b25"
      },
      "source": [
        "difference = max - min\n",
        "print(difference)\n",
        "\n",
        "#The difference percent is taken off of just 2% of the reimbursement amount\n",
        "pay_percent = .02"
      ],
      "execution_count": 123,
      "outputs": [
        {
          "output_type": "stream",
          "text": [
            "0.04102625800000004\n"
          ],
          "name": "stdout"
        }
      ]
    },
    {
      "cell_type": "code",
      "metadata": {
        "colab": {
          "base_uri": "https://localhost:8080/"
        },
        "id": "kZzU6N525K9P",
        "outputId": "b6037239-751f-45c3-e2f8-31c887c3d53c"
      },
      "source": [
        "min_reimburse = 98 + min\n",
        "max_reimburse = 98 + max\n",
        "print(min_reimburse)\n",
        "print(max_reimburse)"
      ],
      "execution_count": 138,
      "outputs": [
        {
          "output_type": "stream",
          "text": [
            "98.980278308\n",
            "99.021304566\n"
          ],
          "name": "stdout"
        }
      ]
    },
    {
      "cell_type": "code",
      "metadata": {
        "id": "pVh6SXv14pHj"
      },
      "source": [
        "diff_tot_reim = max_reimburse - min_reimburse"
      ],
      "execution_count": 128,
      "outputs": []
    },
    {
      "cell_type": "code",
      "metadata": {
        "id": "iaReiAQL5ix7"
      },
      "source": [
        "min_mon = 1000 * (min_reimburse/100)"
      ],
      "execution_count": 135,
      "outputs": []
    },
    {
      "cell_type": "code",
      "metadata": {
        "id": "lM-IMbzF5sPo"
      },
      "source": [
        "max_mon = 1000 * (max_reimburse/100)"
      ],
      "execution_count": 136,
      "outputs": []
    },
    {
      "cell_type": "code",
      "metadata": {
        "colab": {
          "base_uri": "https://localhost:8080/"
        },
        "id": "xbdp2iTu7SBG",
        "outputId": "705388b9-1884-436d-fd46-54473eb1da68"
      },
      "source": [
        "print(min_mon)"
      ],
      "execution_count": 139,
      "outputs": [
        {
          "output_type": "stream",
          "text": [
            "989.8027830799999\n"
          ],
          "name": "stdout"
        }
      ]
    },
    {
      "cell_type": "code",
      "metadata": {
        "colab": {
          "base_uri": "https://localhost:8080/"
        },
        "id": "8Hp3ugJy7To0",
        "outputId": "4b748a82-22b4-40c4-c411-4852ac2376d6"
      },
      "source": [
        "print(max_mon)"
      ],
      "execution_count": 140,
      "outputs": [
        {
          "output_type": "stream",
          "text": [
            "990.21304566\n"
          ],
          "name": "stdout"
        }
      ]
    },
    {
      "cell_type": "code",
      "metadata": {
        "colab": {
          "base_uri": "https://localhost:8080/"
        },
        "id": "bmd0vBu159IZ",
        "outputId": "d3f389ec-d97a-435e-d5a9-f50bb60031c6"
      },
      "source": [
        "max_mon - min_mon "
      ],
      "execution_count": 137,
      "outputs": [
        {
          "output_type": "execute_result",
          "data": {
            "text/plain": [
              "0.41026258000010785"
            ]
          },
          "metadata": {
            "tags": []
          },
          "execution_count": 137
        }
      ]
    },
    {
      "cell_type": "code",
      "metadata": {
        "id": "H7-hK9QO6AgE"
      },
      "source": [
        ""
      ],
      "execution_count": null,
      "outputs": []
    }
  ]
}