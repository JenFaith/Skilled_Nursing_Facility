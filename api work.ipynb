{
 "cells": [
  {
   "cell_type": "code",
   "execution_count": 11,
   "id": "suburban-reader",
   "metadata": {},
   "outputs": [],
   "source": [
    "import requests\n",
    "from bs4 import BeautifulSoup\n",
    "import pandas as pd\n",
    "import numpy as np"
   ]
  },
  {
   "cell_type": "code",
   "execution_count": 12,
   "id": "worthy-distinction",
   "metadata": {},
   "outputs": [],
   "source": [
    "import sqlalchemy"
   ]
  },
  {
   "cell_type": "code",
   "execution_count": 52,
   "id": "buried-peter",
   "metadata": {},
   "outputs": [],
   "source": [
    "import json\n",
    "import re"
   ]
  },
  {
   "cell_type": "code",
   "execution_count": 189,
   "id": "funny-champion",
   "metadata": {},
   "outputs": [],
   "source": [
    "from sodapy import Socrata\n",
    "\n",
    "MyAppToken = '5YNrrmFobthjbfVSPQWEZWkkk'\n",
    "username = 'jennifer.faith16@gmail.com'\n",
    "password = 'Nashua1998!'\n",
    "\n",
    "#Example authenticated client (needed for non-public datasets):\n",
    "client = Socrata(\"data.cms.gov\",\n",
    "                 MyAppToken,\n",
    "                 username,\n",
    "                 password)\n",
    "\n",
    "# First 2000 results, returned as JSON from API / converted to Python list of\n",
    "# dictionaries by sodapy.\n",
    "results = client.get(\"s2uc-8wxp\", limit = 1000000)"
   ]
  },
  {
   "cell_type": "code",
   "execution_count": 190,
   "id": "tight-wrong",
   "metadata": {},
   "outputs": [],
   "source": [
    "# Convert to pandas DataFrame\n",
    "df = pd.DataFrame.from_records(results)"
   ]
  },
  {
   "cell_type": "code",
   "execution_count": 191,
   "id": "mechanical-paint",
   "metadata": {
    "scrolled": true
   },
   "outputs": [
    {
     "data": {
      "text/plain": [
       "Index(['week_ending', 'federal_provider_number', 'provider_name',\n",
       "       'provider_address', 'provider_city', 'provider_state',\n",
       "       'provider_zip_code', 'submitted_data', 'county', 'geolocation',\n",
       "       'reporting_interval', ':@computed_region_dz63_q6gx',\n",
       "       ':@computed_region_ia25_mrsk', ':@computed_region_p3pw_njwh',\n",
       "       ':@computed_region_x9pa_s2gq', ':@computed_region_vbss_8z7g',\n",
       "       'passed_quality_assurance', 'residents_weekly_admissions',\n",
       "       'residents_total_admissions', 'residents_weekly_confirmed'],\n",
       "      dtype='object')"
      ]
     },
     "execution_count": 191,
     "metadata": {},
     "output_type": "execute_result"
    }
   ],
   "source": [
    "df.columns[0:20]"
   ]
  },
  {
   "cell_type": "code",
   "execution_count": 56,
   "id": "ahead-standing",
   "metadata": {},
   "outputs": [],
   "source": [
    "geo_test = df['geolocation'][0]"
   ]
  },
  {
   "cell_type": "code",
   "execution_count": 59,
   "id": "reduced-breakdown",
   "metadata": {},
   "outputs": [],
   "source": [
    "geo_string = str(geo_test)"
   ]
  },
  {
   "cell_type": "code",
   "execution_count": 61,
   "id": "subsequent-graphic",
   "metadata": {},
   "outputs": [
    {
     "data": {
      "text/plain": [
       "\"{'type': 'Point', 'coordinates': [-94.25299200000002, 36.474911]}\""
      ]
     },
     "execution_count": 61,
     "metadata": {},
     "output_type": "execute_result"
    }
   ],
   "source": [
    "geo_string"
   ]
  },
  {
   "cell_type": "code",
   "execution_count": 63,
   "id": "sharp-jurisdiction",
   "metadata": {},
   "outputs": [],
   "source": [
    "geo_new = re.sub('[^0-9 .,-]', '', geo_string)"
   ]
  },
  {
   "cell_type": "code",
   "execution_count": 66,
   "id": "handy-muslim",
   "metadata": {},
   "outputs": [
    {
     "data": {
      "text/plain": [
       "' ,  -94.25299200000002, 36.474911'"
      ]
     },
     "execution_count": 66,
     "metadata": {},
     "output_type": "execute_result"
    }
   ],
   "source": [
    "geo_new.strip(\",\")"
   ]
  },
  {
   "cell_type": "code",
   "execution_count": 70,
   "id": "accompanied-eleven",
   "metadata": {},
   "outputs": [],
   "source": [
    "geo_new1 = re.sub('[^\\S+]', '', geo_new)"
   ]
  },
  {
   "cell_type": "code",
   "execution_count": 72,
   "id": "mighty-session",
   "metadata": {},
   "outputs": [],
   "source": [
    "geo_new2 = geo_new1.strip(\",\")"
   ]
  },
  {
   "cell_type": "code",
   "execution_count": 73,
   "id": "driving-basement",
   "metadata": {},
   "outputs": [
    {
     "data": {
      "text/plain": [
       "'-94.25299200000002,36.474911'"
      ]
     },
     "execution_count": 73,
     "metadata": {},
     "output_type": "execute_result"
    }
   ],
   "source": [
    "geo_new2"
   ]
  },
  {
   "cell_type": "code",
   "execution_count": 76,
   "id": "expired-ocean",
   "metadata": {},
   "outputs": [
    {
     "data": {
      "text/plain": [
       "['-94.25299200000002', '36.474911']"
      ]
     },
     "execution_count": 76,
     "metadata": {},
     "output_type": "execute_result"
    }
   ],
   "source": [
    "re.split(\",\", geo_new2, 1)"
   ]
  },
  {
   "cell_type": "code",
   "execution_count": 144,
   "id": "second-battery",
   "metadata": {},
   "outputs": [
    {
     "data": {
      "text/plain": [
       "dtype('O')"
      ]
     },
     "execution_count": 144,
     "metadata": {},
     "output_type": "execute_result"
    }
   ],
   "source": [
    "df['geolocation'].dtype"
   ]
  },
  {
   "cell_type": "code",
   "execution_count": 213,
   "id": "primary-missile",
   "metadata": {},
   "outputs": [],
   "source": [
    "def fix_geo_tags(list_geo):\n",
    "    # Change dictionary to string\n",
    "    geo_string = str(list_geo)\n",
    "    \n",
    "    # Remove punctuation and added, unneded words\n",
    "    geo_new = re.sub('[^0-9 .,-]', '', geo_string)\n",
    "    geo_new1 = re.sub('[^\\S+]', '', geo_new)\n",
    "    geo_new2 = geo_new1.strip(\",\")\n",
    "    geo_new3 = re.split(\",\", geo_new2, 1)\n",
    "    geo_new3.reverse()\n",
    "    #geo_final = [float(i) for i in geo_new3]\n",
    "    \n",
    "    # return cleaned data\n",
    "    return geo_new3"
   ]
  },
  {
   "cell_type": "code",
   "execution_count": 244,
   "id": "muslim-preview",
   "metadata": {},
   "outputs": [
    {
     "data": {
      "text/plain": [
       "['36.474911', '-94.25299200000002']"
      ]
     },
     "execution_count": 244,
     "metadata": {},
     "output_type": "execute_result"
    }
   ],
   "source": [
    "a"
   ]
  },
  {
   "cell_type": "code",
   "execution_count": 243,
   "id": "existing-probability",
   "metadata": {},
   "outputs": [],
   "source": [
    "a = df['geolocation'][0]"
   ]
  },
  {
   "cell_type": "code",
   "execution_count": 250,
   "id": "encouraging-treasure",
   "metadata": {},
   "outputs": [
    {
     "data": {
      "text/plain": [
       "list"
      ]
     },
     "execution_count": 250,
     "metadata": {},
     "output_type": "execute_result"
    }
   ],
   "source": [
    "type(a)"
   ]
  },
  {
   "cell_type": "code",
   "execution_count": 256,
   "id": "environmental-assistant",
   "metadata": {},
   "outputs": [],
   "source": [
    "def str_float(list_a):\n",
    "    new_l = []\n",
    "    for i in range(len(list_a)-1):\n",
    "        item = float(list[i])\n",
    "        list[l].append(item)\n",
    "    return new_l"
   ]
  },
  {
   "cell_type": "code",
   "execution_count": 253,
   "id": "damaged-creativity",
   "metadata": {},
   "outputs": [
    {
     "data": {
      "text/plain": [
       "range(0, 1)"
      ]
     },
     "execution_count": 253,
     "metadata": {},
     "output_type": "execute_result"
    }
   ],
   "source": [
    "range(len(a)-1)"
   ]
  },
  {
   "cell_type": "code",
   "execution_count": 260,
   "id": "favorite-suggestion",
   "metadata": {},
   "outputs": [
    {
     "data": {
      "text/plain": [
       "list"
      ]
     },
     "execution_count": 260,
     "metadata": {},
     "output_type": "execute_result"
    }
   ],
   "source": [
    "type(a)"
   ]
  },
  {
   "cell_type": "code",
   "execution_count": 258,
   "id": "equal-stock",
   "metadata": {},
   "outputs": [
    {
     "data": {
      "text/plain": [
       "'36.474911'"
      ]
     },
     "execution_count": 258,
     "metadata": {},
     "output_type": "execute_result"
    }
   ],
   "source": [
    "a[0]"
   ]
  },
  {
   "cell_type": "code",
   "execution_count": null,
   "id": "opposed-broadway",
   "metadata": {},
   "outputs": [],
   "source": [
    "    geo_new3 = geo_new3.reverse()\n",
    "    geo_new3 = [float(i) for i in geo_new3]"
   ]
  },
  {
   "cell_type": "code",
   "execution_count": 214,
   "id": "passive-campaign",
   "metadata": {},
   "outputs": [],
   "source": [
    "df['geolocation'] = df['geolocation'].apply(fix_geo_tags)"
   ]
  },
  {
   "cell_type": "code",
   "execution_count": null,
   "id": "fatal-diana",
   "metadata": {},
   "outputs": [],
   "source": [
    "df['']"
   ]
  },
  {
   "cell_type": "code",
   "execution_count": 221,
   "id": "structured-surgeon",
   "metadata": {},
   "outputs": [],
   "source": [
    "a = df['geolocation'][0]"
   ]
  },
  {
   "cell_type": "code",
   "execution_count": 220,
   "id": "optical-isaac",
   "metadata": {},
   "outputs": [],
   "source": [
    "geo_new3 = [float(i) for i in a]"
   ]
  },
  {
   "cell_type": "code",
   "execution_count": 223,
   "id": "choice-effect",
   "metadata": {},
   "outputs": [
    {
     "ename": "ValueError",
     "evalue": "could not convert string to float: 'w'",
     "output_type": "error",
     "traceback": [
      "\u001b[0;31m---------------------------------------------------------------------------\u001b[0m",
      "\u001b[0;31mValueError\u001b[0m                                Traceback (most recent call last)",
      "\u001b[0;32m<ipython-input-223-e9df3f89bc25>\u001b[0m in \u001b[0;36m<module>\u001b[0;34m\u001b[0m\n\u001b[1;32m      1\u001b[0m \u001b[0;32mfor\u001b[0m \u001b[0mrow\u001b[0m \u001b[0;32min\u001b[0m \u001b[0mdf\u001b[0m\u001b[0;34m:\u001b[0m\u001b[0;34m\u001b[0m\u001b[0;34m\u001b[0m\u001b[0m\n\u001b[0;32m----> 2\u001b[0;31m     \u001b[0mrow\u001b[0m \u001b[0;34m=\u001b[0m \u001b[0;34m[\u001b[0m\u001b[0mfloat\u001b[0m\u001b[0;34m(\u001b[0m\u001b[0mi\u001b[0m\u001b[0;34m)\u001b[0m \u001b[0;32mfor\u001b[0m \u001b[0mi\u001b[0m \u001b[0;32min\u001b[0m \u001b[0mrow\u001b[0m\u001b[0;34m]\u001b[0m\u001b[0;34m\u001b[0m\u001b[0;34m\u001b[0m\u001b[0m\n\u001b[0m",
      "\u001b[0;32m<ipython-input-223-e9df3f89bc25>\u001b[0m in \u001b[0;36m<listcomp>\u001b[0;34m(.0)\u001b[0m\n\u001b[1;32m      1\u001b[0m \u001b[0;32mfor\u001b[0m \u001b[0mrow\u001b[0m \u001b[0;32min\u001b[0m \u001b[0mdf\u001b[0m\u001b[0;34m:\u001b[0m\u001b[0;34m\u001b[0m\u001b[0;34m\u001b[0m\u001b[0m\n\u001b[0;32m----> 2\u001b[0;31m     \u001b[0mrow\u001b[0m \u001b[0;34m=\u001b[0m \u001b[0;34m[\u001b[0m\u001b[0mfloat\u001b[0m\u001b[0;34m(\u001b[0m\u001b[0mi\u001b[0m\u001b[0;34m)\u001b[0m \u001b[0;32mfor\u001b[0m \u001b[0mi\u001b[0m \u001b[0;32min\u001b[0m \u001b[0mrow\u001b[0m\u001b[0;34m]\u001b[0m\u001b[0;34m\u001b[0m\u001b[0;34m\u001b[0m\u001b[0m\n\u001b[0m",
      "\u001b[0;31mValueError\u001b[0m: could not convert string to float: 'w'"
     ]
    }
   ],
   "source": [
    "for row in df:\n",
    "    row = [float(i) for i in row]"
   ]
  },
  {
   "cell_type": "code",
   "execution_count": 264,
   "id": "elect-philosophy",
   "metadata": {
    "scrolled": true
   },
   "outputs": [
    {
     "data": {
      "text/plain": [
       "Index(['week_ending', 'federal_provider_number', 'provider_name',\n",
       "       'provider_address', 'provider_city', 'provider_state',\n",
       "       'provider_zip_code', 'submitted_data', 'county', 'geolocation',\n",
       "       'reporting_interval', ':@computed_region_dz63_q6gx',\n",
       "       ':@computed_region_ia25_mrsk', ':@computed_region_p3pw_njwh',\n",
       "       ':@computed_region_x9pa_s2gq', ':@computed_region_vbss_8z7g',\n",
       "       'passed_quality_assurance', 'residents_weekly_admissions',\n",
       "       'residents_total_admissions', 'residents_weekly_confirmed'],\n",
       "      dtype='object')"
      ]
     },
     "execution_count": 264,
     "metadata": {},
     "output_type": "execute_result"
    }
   ],
   "source": [
    "df.columns[:20]"
   ]
  },
  {
   "cell_type": "code",
   "execution_count": 270,
   "id": "dietary-creator",
   "metadata": {},
   "outputs": [],
   "source": [
    "df.drop([':@computed_region_dz63_q6gx', ':@computed_region_ia25_mrsk', ':@computed_region_p3pw_njwh',\n",
    "        ':@computed_region_x9pa_s2gq', ':@computed_region_vbss_8z7g'], axis=1, inplace=True)"
   ]
  },
  {
   "cell_type": "code",
   "execution_count": 271,
   "id": "tired-custody",
   "metadata": {},
   "outputs": [
    {
     "data": {
      "text/plain": [
       "Index(['week_ending', 'federal_provider_number', 'provider_name',\n",
       "       'provider_address', 'provider_city', 'provider_state',\n",
       "       'provider_zip_code', 'submitted_data', 'county', 'geolocation',\n",
       "       'reporting_interval', 'passed_quality_assurance',\n",
       "       'residents_weekly_admissions', 'residents_total_admissions',\n",
       "       'residents_weekly_confirmed', 'residents_total_confirmed',\n",
       "       'residents_weekly_suspected', 'residents_total_suspected',\n",
       "       'residents_weekly_all_deaths', 'residents_total_all_deaths'],\n",
       "      dtype='object')"
      ]
     },
     "execution_count": 271,
     "metadata": {},
     "output_type": "execute_result"
    }
   ],
   "source": [
    "df.columns[:20]"
   ]
  },
  {
   "cell_type": "code",
   "execution_count": 319,
   "id": "deadly-madrid",
   "metadata": {},
   "outputs": [],
   "source": [
    "lots_of_nulls = df.columns[df.isnull().sum() > 100000].tolist()"
   ]
  },
  {
   "cell_type": "code",
   "execution_count": 322,
   "id": "contrary-outline",
   "metadata": {},
   "outputs": [
    {
     "data": {
      "text/plain": [
       "68"
      ]
     },
     "execution_count": 322,
     "metadata": {},
     "output_type": "execute_result"
    }
   ],
   "source": [
    "len(lots_of_nulls)"
   ]
  },
  {
   "cell_type": "code",
   "execution_count": 325,
   "id": "eastern-organizer",
   "metadata": {},
   "outputs": [],
   "source": [
    "df.drop(lots_of_nulls, axis=1, inplace = True)"
   ]
  },
  {
   "cell_type": "code",
   "execution_count": 326,
   "id": "complicated-casino",
   "metadata": {},
   "outputs": [
    {
     "data": {
      "text/plain": [
       "Index(['week_ending', 'federal_provider_number', 'provider_name',\n",
       "       'provider_address', 'provider_city', 'provider_state',\n",
       "       'provider_zip_code', 'submitted_data', 'county', 'geolocation',\n",
       "       'reporting_interval', 'passed_quality_assurance',\n",
       "       'residents_weekly_admissions', 'residents_total_admissions',\n",
       "       'residents_weekly_confirmed', 'residents_total_confirmed',\n",
       "       'residents_total_suspected', 'residents_weekly_all_deaths',\n",
       "       'residents_total_all_deaths', 'residents_weekly_covid_19',\n",
       "       'residents_total_covid_19', 'number_of_all_beds',\n",
       "       'total_number_of_occupied', 'staff_weekly_confirmed_covid',\n",
       "       'staff_total_confirmed_covid', 'staff_weekly_suspected_covid',\n",
       "       'staff_total_suspected_covid', 'staff_weekly_covid_19_deaths',\n",
       "       'staff_total_covid_19_deaths', 'shortage_of_nursing_staff',\n",
       "       'shortage_of_clinical_staff', 'shortage_of_aides',\n",
       "       'shortage_of_other_staff', 'any_current_supply_of_n95',\n",
       "       'one_week_supply_of_n95_masks', 'any_current_supply_of_surgical',\n",
       "       'one_week_supply_of_surgical', 'any_current_supply_of_eye',\n",
       "       'one_week_supply_of_eye', 'any_current_supply_of_gowns',\n",
       "       'one_week_supply_of_gowns', 'any_current_supply_of_gloves',\n",
       "       'one_week_supply_of_gloves', 'any_current_supply_of_hand',\n",
       "       'one_week_supply_of_hand', 'ventilator_dependent_unit',\n",
       "       'weekly_resident_confirmed_covid_19_cases_per_1_000_residents',\n",
       "       'weekly_resident_covid_19_deaths_per_1_000_residents',\n",
       "       'total_resident_confirmed_covid_19_cases_per_1_000_residents',\n",
       "       'total_resident_covid_19_deaths_per_1_000_residents',\n",
       "       'three_or_more_confirmed_covid_19_cases_this_week',\n",
       "       'initial_confirmed_covid_19_case_this_week'],\n",
       "      dtype='object')"
      ]
     },
     "execution_count": 326,
     "metadata": {},
     "output_type": "execute_result"
    }
   ],
   "source": [
    "df.columns"
   ]
  },
  {
   "cell_type": "code",
   "execution_count": 318,
   "id": "textile-fellowship",
   "metadata": {},
   "outputs": [
    {
     "data": {
      "text/plain": [
       "7118"
      ]
     },
     "execution_count": 318,
     "metadata": {},
     "output_type": "execute_result"
    }
   ],
   "source": [
    "df['residents_weekly_confirmed'].isnull().sum()"
   ]
  },
  {
   "cell_type": "code",
   "execution_count": 311,
   "id": "threaded-nigeria",
   "metadata": {},
   "outputs": [
    {
     "data": {
      "text/plain": [
       "week_ending                                                                                 0\n",
       "federal_provider_number                                                                     0\n",
       "provider_name                                                                               0\n",
       "provider_address                                                                            0\n",
       "provider_city                                                                               0\n",
       "                                                                                        ...  \n",
       "enough_supplies_to_test_all_staff_and_or_personnel_using_point_of_care_test_machine    417852\n",
       "number_of_ventilators_in                                                               548866\n",
       "number_of_ventilators_in_1                                                             548893\n",
       "any_current_supply_of                                                                  548868\n",
       "one_week_supply_of_ventilator                                                          548866\n",
       "Length: 120, dtype: int64"
      ]
     },
     "execution_count": 311,
     "metadata": {},
     "output_type": "execute_result"
    }
   ],
   "source": [
    "df[df['passed_quality_assurance']=='Y'].isnull().sum()"
   ]
  },
  {
   "cell_type": "code",
   "execution_count": null,
   "id": "legendary-mistake",
   "metadata": {},
   "outputs": [],
   "source": []
  }
 ],
 "metadata": {
  "kernelspec": {
   "display_name": "Python 3",
   "language": "python",
   "name": "python3"
  },
  "language_info": {
   "codemirror_mode": {
    "name": "ipython",
    "version": 3
   },
   "file_extension": ".py",
   "mimetype": "text/x-python",
   "name": "python",
   "nbconvert_exporter": "python",
   "pygments_lexer": "ipython3",
   "version": "3.8.7"
  }
 },
 "nbformat": 4,
 "nbformat_minor": 5
}
