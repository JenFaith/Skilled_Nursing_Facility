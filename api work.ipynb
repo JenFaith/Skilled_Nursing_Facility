{
 "cells": [
  {
   "cell_type": "code",
   "execution_count": 3,
   "id": "suburban-reader",
   "metadata": {},
   "outputs": [],
   "source": [
    "import requests\n",
    "from bs4 import BeautifulSoup"
   ]
  },
  {
   "cell_type": "code",
   "execution_count": 9,
   "id": "funny-champion",
   "metadata": {},
   "outputs": [],
   "source": [
    "from sodapy import Socrata\n",
    "\n",
    "# Unauthenticated client only works with public data sets. Note 'None'\n",
    "# in place of application token, and no username or password:\n",
    "# client = Socrata(\"data.cms.gov\", None)\n",
    "\n",
    "MyAppToken = '5YNrrmFobthjbfVSPQWEZWkkk'\n",
    "username = 'jennifer.faith16@gmail.com'\n",
    "password = 'Nashua1998!'\n",
    "\n",
    "#Example authenticated client (needed for non-public datasets):\n",
    "client = Socrata(\"data.cms.gov\",\n",
    "                 MyAppToken,\n",
    "                 username,\n",
    "                 password)\n",
    "\n",
    "# First 2000 results, returned as JSON from API / converted to Python list of\n",
    "# dictionaries by sodapy.\n",
    "results = client.get(\"s2uc-8wxp\", limit = 10)\n",
    "\n",
    "# Convert to pandas DataFrame\n",
    "df = pd.DataFrame.from_records(results)"
   ]
  },
  {
   "cell_type": "code",
   "execution_count": 11,
   "id": "massive-numbers",
   "metadata": {},
   "outputs": [
    {
     "data": {
      "text/plain": [
       "[{'week_ending': '2020-05-24T00:00:00.000',\n",
       "  'federal_provider_number': '045143',\n",
       "  'provider_name': 'CONCORDIA NURSING & REHAB, LLC',\n",
       "  'provider_address': '7 PROFESSIONAL DRIVE',\n",
       "  'provider_city': 'BELLA VISTA',\n",
       "  'provider_state': 'AR',\n",
       "  'provider_zip_code': '72714',\n",
       "  'submitted_data': 'N',\n",
       "  'county': 'Benton',\n",
       "  'geolocation': {'type': 'Point',\n",
       "   'coordinates': [-94.25299200000002, 36.474911]},\n",
       "  'reporting_interval': 'Week 01 - May 24',\n",
       "  ':@computed_region_dz63_q6gx': '53',\n",
       "  ':@computed_region_ia25_mrsk': '85',\n",
       "  ':@computed_region_p3pw_njwh': '15',\n",
       "  ':@computed_region_x9pa_s2gq': '948',\n",
       "  ':@computed_region_vbss_8z7g': '32607'},\n",
       " {'week_ending': '2020-05-24T00:00:00.000',\n",
       "  'federal_provider_number': '045189',\n",
       "  'provider_name': 'SOMERSET SENIOR LIVING AT PINE HILLS',\n",
       "  'provider_address': '900 MAGNOLIA RD',\n",
       "  'provider_city': 'CAMDEN',\n",
       "  'provider_state': 'AR',\n",
       "  'provider_zip_code': '71701',\n",
       "  'submitted_data': 'N',\n",
       "  'county': 'Ouachita',\n",
       "  'geolocation': {'type': 'Point', 'coordinates': [-92.844676, 33.571818]},\n",
       "  'reporting_interval': 'Week 01 - May 24',\n",
       "  ':@computed_region_dz63_q6gx': '53',\n",
       "  ':@computed_region_ia25_mrsk': '84',\n",
       "  ':@computed_region_p3pw_njwh': '15',\n",
       "  ':@computed_region_x9pa_s2gq': '992',\n",
       "  ':@computed_region_vbss_8z7g': '26927'},\n",
       " {'week_ending': '2020-05-24T00:00:00.000',\n",
       "  'federal_provider_number': '045451',\n",
       "  'provider_name': 'COMMUNITY COMPASSION CENTER OF YELLVILLE',\n",
       "  'provider_address': '620 NORTH PANTHER AVENUE',\n",
       "  'provider_city': 'YELLVILLE',\n",
       "  'provider_state': 'AR',\n",
       "  'provider_zip_code': '72687',\n",
       "  'submitted_data': 'N',\n",
       "  'county': 'Marion',\n",
       "  'geolocation': {'type': 'Point', 'coordinates': [-92.686173, 36.230713]},\n",
       "  'reporting_interval': 'Week 01 - May 24',\n",
       "  ':@computed_region_dz63_q6gx': '53',\n",
       "  ':@computed_region_ia25_mrsk': '85',\n",
       "  ':@computed_region_p3pw_njwh': '15',\n",
       "  ':@computed_region_x9pa_s2gq': '1035',\n",
       "  ':@computed_region_vbss_8z7g': '32601'},\n",
       " {'week_ending': '2020-05-24T00:00:00.000',\n",
       "  'federal_provider_number': '055474',\n",
       "  'provider_name': 'MAGNOLIA REHABILITATION  & NURSING  CENTER',\n",
       "  'provider_address': '8133 MAGNOLIA AVENUE',\n",
       "  'provider_city': 'RIVERSIDE',\n",
       "  'provider_state': 'CA',\n",
       "  'provider_zip_code': '92504',\n",
       "  'submitted_data': 'N',\n",
       "  'county': 'Riverside',\n",
       "  'geolocation': {'type': 'Point',\n",
       "   'coordinates': [-117.42148400000002, 33.934686]},\n",
       "  'reporting_interval': 'Week 01 - May 24',\n",
       "  ':@computed_region_dz63_q6gx': '6',\n",
       "  ':@computed_region_ia25_mrsk': '112',\n",
       "  ':@computed_region_p3pw_njwh': '8',\n",
       "  ':@computed_region_x9pa_s2gq': '1177',\n",
       "  ':@computed_region_vbss_8z7g': '12170'},\n",
       " {'week_ending': '2020-05-31T00:00:00.000',\n",
       "  'federal_provider_number': '055527',\n",
       "  'provider_name': 'LOS PALOS POST-ACUTE CARE CENTER',\n",
       "  'provider_address': '1430 WEST  6TH STREET',\n",
       "  'provider_city': 'SAN PEDRO',\n",
       "  'provider_state': 'CA',\n",
       "  'provider_zip_code': '90732',\n",
       "  'submitted_data': 'N',\n",
       "  'county': 'Los Angeles',\n",
       "  'geolocation': {'type': 'Point',\n",
       "   'coordinates': [-118.30795499999999, 33.738825]},\n",
       "  'reporting_interval': 'Week 02 - May 31',\n",
       "  ':@computed_region_dz63_q6gx': '6',\n",
       "  ':@computed_region_p3pw_njwh': '8',\n",
       "  ':@computed_region_x9pa_s2gq': '1195',\n",
       "  ':@computed_region_vbss_8z7g': '3343'},\n",
       " {'week_ending': '2020-05-24T00:00:00.000',\n",
       "  'federal_provider_number': '056078',\n",
       "  'provider_name': 'LAKEVIEW TERRACE',\n",
       "  'provider_address': '831 S LAKE STREET',\n",
       "  'provider_city': 'LOS ANGELES',\n",
       "  'provider_state': 'CA',\n",
       "  'provider_zip_code': '90057',\n",
       "  'submitted_data': 'N',\n",
       "  'county': 'Los Angeles',\n",
       "  'geolocation': {'type': 'Point',\n",
       "   'coordinates': [-118.27943800000001, 34.054574]},\n",
       "  'reporting_interval': 'Week 01 - May 24',\n",
       "  ':@computed_region_dz63_q6gx': '6',\n",
       "  ':@computed_region_ia25_mrsk': '97',\n",
       "  ':@computed_region_p3pw_njwh': '8',\n",
       "  ':@computed_region_x9pa_s2gq': '1195',\n",
       "  ':@computed_region_vbss_8z7g': '24352'},\n",
       " {'week_ending': '2020-05-31T00:00:00.000',\n",
       "  'federal_provider_number': '065362',\n",
       "  'provider_name': 'MONTAGE HILLS',\n",
       "  'provider_address': '2500 S ROSLYN ST',\n",
       "  'provider_city': 'DENVER',\n",
       "  'provider_state': 'CO',\n",
       "  'provider_zip_code': '80231',\n",
       "  'submitted_data': 'N',\n",
       "  'county': 'Arapahoe',\n",
       "  'geolocation': {'type': 'Point',\n",
       "   'coordinates': [-104.90113200000002, 39.668975]},\n",
       "  'reporting_interval': 'Week 02 - May 31',\n",
       "  ':@computed_region_dz63_q6gx': '32',\n",
       "  ':@computed_region_ia25_mrsk': '237',\n",
       "  ':@computed_region_p3pw_njwh': '9',\n",
       "  ':@computed_region_x9pa_s2gq': '1444',\n",
       "  ':@computed_region_vbss_8z7g': '20968'},\n",
       " {'week_ending': '2020-05-24T00:00:00.000',\n",
       "  'federal_provider_number': '065413',\n",
       "  'provider_name': 'CENTER AT CORDERA, LLC, THE',\n",
       "  'provider_address': '9208 GRAND CORDERA PKWY',\n",
       "  'provider_city': 'COLORADO SPRINGS',\n",
       "  'provider_state': 'CO',\n",
       "  'provider_zip_code': '80924',\n",
       "  'submitted_data': 'N',\n",
       "  'county': 'El Paso',\n",
       "  'geolocation': {'type': 'Point', 'coordinates': [-104.734004, 38.964162]},\n",
       "  'reporting_interval': 'Week 01 - May 24',\n",
       "  ':@computed_region_dz63_q6gx': '32',\n",
       "  ':@computed_region_ia25_mrsk': '128',\n",
       "  ':@computed_region_p3pw_njwh': '9',\n",
       "  ':@computed_region_x9pa_s2gq': '1447',\n",
       "  ':@computed_region_vbss_8z7g': '10490'},\n",
       " {'week_ending': '2020-05-24T00:00:00.000',\n",
       "  'federal_provider_number': '075195',\n",
       "  'provider_name': 'PARKWAY PAVILION HEALTH AND REHABILITATION CENTER',\n",
       "  'provider_address': '1157 ENFIELD STREET',\n",
       "  'provider_city': 'ENFIELD',\n",
       "  'provider_state': 'CT',\n",
       "  'provider_zip_code': '06082',\n",
       "  'submitted_data': 'N',\n",
       "  'county': 'Hartford',\n",
       "  'geolocation': {'type': 'Point', 'coordinates': [-72.593179, 41.986582]},\n",
       "  'reporting_interval': 'Week 01 - May 24',\n",
       "  ':@computed_region_dz63_q6gx': '41',\n",
       "  ':@computed_region_ia25_mrsk': '242',\n",
       "  ':@computed_region_p3pw_njwh': '24',\n",
       "  ':@computed_region_x9pa_s2gq': '1041',\n",
       "  ':@computed_region_vbss_8z7g': '14452'},\n",
       " {'week_ending': '2020-08-09T00:00:00.000',\n",
       "  'federal_provider_number': '075317',\n",
       "  'provider_name': 'WILTON MEADOWS HEALTH CARE CEN',\n",
       "  'provider_address': '439 DANBURY RD RT 7',\n",
       "  'provider_city': 'WILTON',\n",
       "  'provider_state': 'CT',\n",
       "  'provider_zip_code': '06897',\n",
       "  'submitted_data': 'Y',\n",
       "  'passed_quality_assurance': 'Y',\n",
       "  'residents_weekly_admissions': '0',\n",
       "  'residents_total_admissions': '8',\n",
       "  'residents_weekly_confirmed': '0',\n",
       "  'residents_total_confirmed': '28',\n",
       "  'residents_weekly_suspected': '0',\n",
       "  'residents_total_suspected': '0',\n",
       "  'residents_weekly_all_deaths': '0',\n",
       "  'residents_total_all_deaths': '21',\n",
       "  'residents_weekly_covid_19': '0',\n",
       "  'residents_total_covid_19': '7',\n",
       "  'number_of_all_beds': '93',\n",
       "  'total_number_of_occupied': '100',\n",
       "  'resident_access_to_testing': 'Y',\n",
       "  'laboratory_type_is_state': 'N',\n",
       "  'laboratory_type_is_private': 'Y',\n",
       "  'laboratory_type_is_other': 'N',\n",
       "  'staff_weekly_confirmed_covid': '0',\n",
       "  'staff_total_confirmed_covid': '0',\n",
       "  'staff_weekly_suspected_covid': '0',\n",
       "  'staff_total_suspected_covid': '0',\n",
       "  'staff_weekly_covid_19_deaths': '0',\n",
       "  'staff_total_covid_19_deaths': '0',\n",
       "  'shortage_of_nursing_staff': 'N',\n",
       "  'shortage_of_clinical_staff': 'N',\n",
       "  'shortage_of_aides': 'N',\n",
       "  'shortage_of_other_staff': 'N',\n",
       "  'any_current_supply_of_n95': 'Y',\n",
       "  'one_week_supply_of_n95_masks': 'Y',\n",
       "  'any_current_supply_of_surgical': 'Y',\n",
       "  'one_week_supply_of_surgical': 'Y',\n",
       "  'any_current_supply_of_eye': 'Y',\n",
       "  'one_week_supply_of_eye': 'Y',\n",
       "  'any_current_supply_of_gowns': 'Y',\n",
       "  'one_week_supply_of_gowns': 'Y',\n",
       "  'any_current_supply_of_gloves': 'Y',\n",
       "  'one_week_supply_of_gloves': 'Y',\n",
       "  'any_current_supply_of_hand': 'Y',\n",
       "  'one_week_supply_of_hand': 'Y',\n",
       "  'ventilator_dependent_unit': 'N',\n",
       "  'weekly_resident_confirmed_covid_19_cases_per_1_000_residents': '0.0',\n",
       "  'weekly_resident_covid_19_deaths_per_1_000_residents': '0.0',\n",
       "  'total_resident_confirmed_covid_19_cases_per_1_000_residents': '280.0',\n",
       "  'total_resident_covid_19_deaths_per_1_000_residents': '70.0',\n",
       "  'total_residents_covid_19_deaths_as_a_percentage_of_confirmed_covid_19_cases': '25.0',\n",
       "  'county': 'Fairfield',\n",
       "  'three_or_more_confirmed_covid_19_cases_this_week': 'N',\n",
       "  'initial_confirmed_covid_19_case_this_week': 'N',\n",
       "  'reporting_interval': 'Week 12 - Aug  9'}]"
      ]
     },
     "execution_count": 11,
     "metadata": {},
     "output_type": "execute_result"
    }
   ],
   "source": [
    "results"
   ]
  },
  {
   "cell_type": "code",
   "execution_count": 16,
   "id": "amended-speed",
   "metadata": {},
   "outputs": [],
   "source": [
    "data=[]\n",
    "for i in range(len(response)):  \n",
    "    data.append({\n",
    "        \"week_ending\": response[i].get('week_ending'),\n",
    "        \"federal_provider_number\": response[i].get('federal_provider_number')\n",
    "    })"
   ]
  },
  {
   "cell_type": "code",
   "execution_count": 4,
   "id": "buried-peter",
   "metadata": {},
   "outputs": [],
   "source": [
    "import json"
   ]
  },
  {
   "cell_type": "code",
   "execution_count": 5,
   "id": "affecting-ebony",
   "metadata": {},
   "outputs": [],
   "source": [
    "import pandas as pd"
   ]
  },
  {
   "cell_type": "code",
   "execution_count": 1,
   "id": "liked-rider",
   "metadata": {},
   "outputs": [],
   "source": [
    "data = 'https://data.cms.gov/resource/s2uc-8wxp.json'"
   ]
  },
  {
   "cell_type": "code",
   "execution_count": 6,
   "id": "wooden-manufacturer",
   "metadata": {},
   "outputs": [],
   "source": [
    "request = requests.get(data)"
   ]
  },
  {
   "cell_type": "code",
   "execution_count": 7,
   "id": "three-condition",
   "metadata": {},
   "outputs": [
    {
     "name": "stdout",
     "output_type": "stream",
     "text": [
      "200\n"
     ]
    }
   ],
   "source": [
    "print(request.status_code)"
   ]
  },
  {
   "cell_type": "code",
   "execution_count": 8,
   "id": "instant-programming",
   "metadata": {},
   "outputs": [],
   "source": [
    "response = request.json()"
   ]
  },
  {
   "cell_type": "code",
   "execution_count": 15,
   "id": "amended-treat",
   "metadata": {},
   "outputs": [
    {
     "data": {
      "text/plain": [
       "'2020-05-24T00:00:00.000'"
      ]
     },
     "execution_count": 15,
     "metadata": {},
     "output_type": "execute_result"
    }
   ],
   "source": [
    "response[0].get('week_ending')"
   ]
  },
  {
   "cell_type": "code",
   "execution_count": 17,
   "id": "ordered-claim",
   "metadata": {},
   "outputs": [
    {
     "data": {
      "text/plain": [
       "1000"
      ]
     },
     "execution_count": 17,
     "metadata": {},
     "output_type": "execute_result"
    }
   ],
   "source": [
    "len(data)"
   ]
  },
  {
   "cell_type": "code",
   "execution_count": 18,
   "id": "fatal-hopkins",
   "metadata": {},
   "outputs": [
    {
     "data": {
      "text/html": [
       "<div>\n",
       "<style scoped>\n",
       "    .dataframe tbody tr th:only-of-type {\n",
       "        vertical-align: middle;\n",
       "    }\n",
       "\n",
       "    .dataframe tbody tr th {\n",
       "        vertical-align: top;\n",
       "    }\n",
       "\n",
       "    .dataframe thead th {\n",
       "        text-align: right;\n",
       "    }\n",
       "</style>\n",
       "<table border=\"1\" class=\"dataframe\">\n",
       "  <thead>\n",
       "    <tr style=\"text-align: right;\">\n",
       "      <th></th>\n",
       "      <th>week_ending</th>\n",
       "      <th>federal_provider_number</th>\n",
       "    </tr>\n",
       "  </thead>\n",
       "  <tbody>\n",
       "    <tr>\n",
       "      <th>0</th>\n",
       "      <td>2020-05-24T00:00:00.000</td>\n",
       "      <td>045143</td>\n",
       "    </tr>\n",
       "    <tr>\n",
       "      <th>1</th>\n",
       "      <td>2020-05-24T00:00:00.000</td>\n",
       "      <td>045189</td>\n",
       "    </tr>\n",
       "    <tr>\n",
       "      <th>2</th>\n",
       "      <td>2020-05-24T00:00:00.000</td>\n",
       "      <td>045451</td>\n",
       "    </tr>\n",
       "    <tr>\n",
       "      <th>3</th>\n",
       "      <td>2020-05-24T00:00:00.000</td>\n",
       "      <td>055474</td>\n",
       "    </tr>\n",
       "    <tr>\n",
       "      <th>4</th>\n",
       "      <td>2020-05-31T00:00:00.000</td>\n",
       "      <td>055527</td>\n",
       "    </tr>\n",
       "  </tbody>\n",
       "</table>\n",
       "</div>"
      ],
      "text/plain": [
       "               week_ending federal_provider_number\n",
       "0  2020-05-24T00:00:00.000                  045143\n",
       "1  2020-05-24T00:00:00.000                  045189\n",
       "2  2020-05-24T00:00:00.000                  045451\n",
       "3  2020-05-24T00:00:00.000                  055474\n",
       "4  2020-05-31T00:00:00.000                  055527"
      ]
     },
     "execution_count": 18,
     "metadata": {},
     "output_type": "execute_result"
    }
   ],
   "source": [
    "df=pd.DataFrame(data)\n",
    "df.head()"
   ]
  },
  {
   "cell_type": "code",
   "execution_count": 19,
   "id": "overall-sixth",
   "metadata": {},
   "outputs": [
    {
     "data": {
      "text/plain": [
       "38"
      ]
     },
     "execution_count": 19,
     "metadata": {},
     "output_type": "execute_result"
    }
   ],
   "source": [
    "df['week_ending'].nunique()"
   ]
  },
  {
   "cell_type": "code",
   "execution_count": 22,
   "id": "secret-tactics",
   "metadata": {},
   "outputs": [
    {
     "ename": "KeyboardInterrupt",
     "evalue": "",
     "output_type": "error",
     "traceback": [
      "\u001b[0;31m---------------------------------------------------------------------------\u001b[0m",
      "\u001b[0;31mKeyboardInterrupt\u001b[0m                         Traceback (most recent call last)",
      "\u001b[0;32m<ipython-input-22-7ce1115863bf>\u001b[0m in \u001b[0;36m<module>\u001b[0;34m\u001b[0m\n\u001b[1;32m     17\u001b[0m \u001b[0;31m# First 2000 results, returned as JSON from API / converted to Python list of\u001b[0m\u001b[0;34m\u001b[0m\u001b[0;34m\u001b[0m\u001b[0;34m\u001b[0m\u001b[0m\n\u001b[1;32m     18\u001b[0m \u001b[0;31m# dictionaries by sodapy.\u001b[0m\u001b[0;34m\u001b[0m\u001b[0;34m\u001b[0m\u001b[0;34m\u001b[0m\u001b[0m\n\u001b[0;32m---> 19\u001b[0;31m \u001b[0mresults\u001b[0m \u001b[0;34m=\u001b[0m \u001b[0mclient\u001b[0m\u001b[0;34m.\u001b[0m\u001b[0mget\u001b[0m\u001b[0;34m(\u001b[0m\u001b[0;34m\"s2uc-8wxp\"\u001b[0m\u001b[0;34m,\u001b[0m \u001b[0mlimit\u001b[0m \u001b[0;34m=\u001b[0m \u001b[0;36m1000000\u001b[0m\u001b[0;34m)\u001b[0m\u001b[0;34m\u001b[0m\u001b[0;34m\u001b[0m\u001b[0m\n\u001b[0m\u001b[1;32m     20\u001b[0m \u001b[0;34m\u001b[0m\u001b[0m\n\u001b[1;32m     21\u001b[0m \u001b[0;31m# Convert to pandas DataFrame\u001b[0m\u001b[0;34m\u001b[0m\u001b[0;34m\u001b[0m\u001b[0;34m\u001b[0m\u001b[0m\n",
      "\u001b[0;32m~/.local/share/virtualenvs/Skilled_Nursing_Facility-8i9DRTdL/lib/python3.8/site-packages/sodapy/socrata.py\u001b[0m in \u001b[0;36mget\u001b[0;34m(self, dataset_identifier, content_type, **kwargs)\u001b[0m\n\u001b[1;32m    410\u001b[0m         \u001b[0mparams\u001b[0m \u001b[0;34m=\u001b[0m \u001b[0mutils\u001b[0m\u001b[0;34m.\u001b[0m\u001b[0mclear_empty_values\u001b[0m\u001b[0;34m(\u001b[0m\u001b[0mparams\u001b[0m\u001b[0;34m)\u001b[0m\u001b[0;34m\u001b[0m\u001b[0;34m\u001b[0m\u001b[0m\n\u001b[1;32m    411\u001b[0m \u001b[0;34m\u001b[0m\u001b[0m\n\u001b[0;32m--> 412\u001b[0;31m         response = self._perform_request(\n\u001b[0m\u001b[1;32m    413\u001b[0m             \u001b[0;34m\"get\"\u001b[0m\u001b[0;34m,\u001b[0m \u001b[0mresource\u001b[0m\u001b[0;34m,\u001b[0m \u001b[0mheaders\u001b[0m\u001b[0;34m=\u001b[0m\u001b[0mheaders\u001b[0m\u001b[0;34m,\u001b[0m \u001b[0mparams\u001b[0m\u001b[0;34m=\u001b[0m\u001b[0mparams\u001b[0m\u001b[0;34m\u001b[0m\u001b[0;34m\u001b[0m\u001b[0m\n\u001b[1;32m    414\u001b[0m         )\n",
      "\u001b[0;32m~/.local/share/virtualenvs/Skilled_Nursing_Facility-8i9DRTdL/lib/python3.8/site-packages/sodapy/socrata.py\u001b[0m in \u001b[0;36m_perform_request\u001b[0;34m(self, request_type, resource, **kwargs)\u001b[0m\n\u001b[1;32m    563\u001b[0m         \u001b[0mcontent_type\u001b[0m \u001b[0;34m=\u001b[0m \u001b[0mresponse\u001b[0m\u001b[0;34m.\u001b[0m\u001b[0mheaders\u001b[0m\u001b[0;34m.\u001b[0m\u001b[0mget\u001b[0m\u001b[0;34m(\u001b[0m\u001b[0;34m\"content-type\"\u001b[0m\u001b[0;34m)\u001b[0m\u001b[0;34m.\u001b[0m\u001b[0mstrip\u001b[0m\u001b[0;34m(\u001b[0m\u001b[0;34m)\u001b[0m\u001b[0;34m.\u001b[0m\u001b[0mlower\u001b[0m\u001b[0;34m(\u001b[0m\u001b[0;34m)\u001b[0m\u001b[0;34m\u001b[0m\u001b[0;34m\u001b[0m\u001b[0m\n\u001b[1;32m    564\u001b[0m         \u001b[0;32mif\u001b[0m \u001b[0mre\u001b[0m\u001b[0;34m.\u001b[0m\u001b[0mmatch\u001b[0m\u001b[0;34m(\u001b[0m\u001b[0;34mr\"application\\/(vnd\\.geo\\+)?json\"\u001b[0m\u001b[0;34m,\u001b[0m \u001b[0mcontent_type\u001b[0m\u001b[0;34m)\u001b[0m\u001b[0;34m:\u001b[0m\u001b[0;34m\u001b[0m\u001b[0;34m\u001b[0m\u001b[0m\n\u001b[0;32m--> 565\u001b[0;31m             \u001b[0;32mreturn\u001b[0m \u001b[0mresponse\u001b[0m\u001b[0;34m.\u001b[0m\u001b[0mjson\u001b[0m\u001b[0;34m(\u001b[0m\u001b[0;34m)\u001b[0m\u001b[0;34m\u001b[0m\u001b[0;34m\u001b[0m\u001b[0m\n\u001b[0m\u001b[1;32m    566\u001b[0m         \u001b[0;32melif\u001b[0m \u001b[0mre\u001b[0m\u001b[0;34m.\u001b[0m\u001b[0mmatch\u001b[0m\u001b[0;34m(\u001b[0m\u001b[0;34mr\"text\\/csv\"\u001b[0m\u001b[0;34m,\u001b[0m \u001b[0mcontent_type\u001b[0m\u001b[0;34m)\u001b[0m\u001b[0;34m:\u001b[0m\u001b[0;34m\u001b[0m\u001b[0;34m\u001b[0m\u001b[0m\n\u001b[1;32m    567\u001b[0m             \u001b[0mcsv_stream\u001b[0m \u001b[0;34m=\u001b[0m \u001b[0mStringIO\u001b[0m\u001b[0;34m(\u001b[0m\u001b[0mresponse\u001b[0m\u001b[0;34m.\u001b[0m\u001b[0mtext\u001b[0m\u001b[0;34m)\u001b[0m\u001b[0;34m\u001b[0m\u001b[0;34m\u001b[0m\u001b[0m\n",
      "\u001b[0;32m~/.local/share/virtualenvs/Skilled_Nursing_Facility-8i9DRTdL/lib/python3.8/site-packages/requests/models.py\u001b[0m in \u001b[0;36mjson\u001b[0;34m(self, **kwargs)\u001b[0m\n\u001b[1;32m    898\u001b[0m                     \u001b[0;31m# used.\u001b[0m\u001b[0;34m\u001b[0m\u001b[0;34m\u001b[0m\u001b[0;34m\u001b[0m\u001b[0m\n\u001b[1;32m    899\u001b[0m                     \u001b[0;32mpass\u001b[0m\u001b[0;34m\u001b[0m\u001b[0;34m\u001b[0m\u001b[0m\n\u001b[0;32m--> 900\u001b[0;31m         \u001b[0;32mreturn\u001b[0m \u001b[0mcomplexjson\u001b[0m\u001b[0;34m.\u001b[0m\u001b[0mloads\u001b[0m\u001b[0;34m(\u001b[0m\u001b[0mself\u001b[0m\u001b[0;34m.\u001b[0m\u001b[0mtext\u001b[0m\u001b[0;34m,\u001b[0m \u001b[0;34m**\u001b[0m\u001b[0mkwargs\u001b[0m\u001b[0;34m)\u001b[0m\u001b[0;34m\u001b[0m\u001b[0;34m\u001b[0m\u001b[0m\n\u001b[0m\u001b[1;32m    901\u001b[0m \u001b[0;34m\u001b[0m\u001b[0m\n\u001b[1;32m    902\u001b[0m     \u001b[0;34m@\u001b[0m\u001b[0mproperty\u001b[0m\u001b[0;34m\u001b[0m\u001b[0;34m\u001b[0m\u001b[0m\n",
      "\u001b[0;32m/Library/Frameworks/Python.framework/Versions/3.8/lib/python3.8/json/__init__.py\u001b[0m in \u001b[0;36mloads\u001b[0;34m(s, cls, object_hook, parse_float, parse_int, parse_constant, object_pairs_hook, **kw)\u001b[0m\n\u001b[1;32m    355\u001b[0m             \u001b[0mparse_int\u001b[0m \u001b[0;32mis\u001b[0m \u001b[0;32mNone\u001b[0m \u001b[0;32mand\u001b[0m \u001b[0mparse_float\u001b[0m \u001b[0;32mis\u001b[0m \u001b[0;32mNone\u001b[0m \u001b[0;32mand\u001b[0m\u001b[0;34m\u001b[0m\u001b[0;34m\u001b[0m\u001b[0m\n\u001b[1;32m    356\u001b[0m             parse_constant is None and object_pairs_hook is None and not kw):\n\u001b[0;32m--> 357\u001b[0;31m         \u001b[0;32mreturn\u001b[0m \u001b[0m_default_decoder\u001b[0m\u001b[0;34m.\u001b[0m\u001b[0mdecode\u001b[0m\u001b[0;34m(\u001b[0m\u001b[0ms\u001b[0m\u001b[0;34m)\u001b[0m\u001b[0;34m\u001b[0m\u001b[0;34m\u001b[0m\u001b[0m\n\u001b[0m\u001b[1;32m    358\u001b[0m     \u001b[0;32mif\u001b[0m \u001b[0mcls\u001b[0m \u001b[0;32mis\u001b[0m \u001b[0;32mNone\u001b[0m\u001b[0;34m:\u001b[0m\u001b[0;34m\u001b[0m\u001b[0;34m\u001b[0m\u001b[0m\n\u001b[1;32m    359\u001b[0m         \u001b[0mcls\u001b[0m \u001b[0;34m=\u001b[0m \u001b[0mJSONDecoder\u001b[0m\u001b[0;34m\u001b[0m\u001b[0;34m\u001b[0m\u001b[0m\n",
      "\u001b[0;32m/Library/Frameworks/Python.framework/Versions/3.8/lib/python3.8/json/decoder.py\u001b[0m in \u001b[0;36mdecode\u001b[0;34m(self, s, _w)\u001b[0m\n\u001b[1;32m    335\u001b[0m \u001b[0;34m\u001b[0m\u001b[0m\n\u001b[1;32m    336\u001b[0m         \"\"\"\n\u001b[0;32m--> 337\u001b[0;31m         \u001b[0mobj\u001b[0m\u001b[0;34m,\u001b[0m \u001b[0mend\u001b[0m \u001b[0;34m=\u001b[0m \u001b[0mself\u001b[0m\u001b[0;34m.\u001b[0m\u001b[0mraw_decode\u001b[0m\u001b[0;34m(\u001b[0m\u001b[0ms\u001b[0m\u001b[0;34m,\u001b[0m \u001b[0midx\u001b[0m\u001b[0;34m=\u001b[0m\u001b[0m_w\u001b[0m\u001b[0;34m(\u001b[0m\u001b[0ms\u001b[0m\u001b[0;34m,\u001b[0m \u001b[0;36m0\u001b[0m\u001b[0;34m)\u001b[0m\u001b[0;34m.\u001b[0m\u001b[0mend\u001b[0m\u001b[0;34m(\u001b[0m\u001b[0;34m)\u001b[0m\u001b[0;34m)\u001b[0m\u001b[0;34m\u001b[0m\u001b[0;34m\u001b[0m\u001b[0m\n\u001b[0m\u001b[1;32m    338\u001b[0m         \u001b[0mend\u001b[0m \u001b[0;34m=\u001b[0m \u001b[0m_w\u001b[0m\u001b[0;34m(\u001b[0m\u001b[0ms\u001b[0m\u001b[0;34m,\u001b[0m \u001b[0mend\u001b[0m\u001b[0;34m)\u001b[0m\u001b[0;34m.\u001b[0m\u001b[0mend\u001b[0m\u001b[0;34m(\u001b[0m\u001b[0;34m)\u001b[0m\u001b[0;34m\u001b[0m\u001b[0;34m\u001b[0m\u001b[0m\n\u001b[1;32m    339\u001b[0m         \u001b[0;32mif\u001b[0m \u001b[0mend\u001b[0m \u001b[0;34m!=\u001b[0m \u001b[0mlen\u001b[0m\u001b[0;34m(\u001b[0m\u001b[0ms\u001b[0m\u001b[0;34m)\u001b[0m\u001b[0;34m:\u001b[0m\u001b[0;34m\u001b[0m\u001b[0;34m\u001b[0m\u001b[0m\n",
      "\u001b[0;32m/Library/Frameworks/Python.framework/Versions/3.8/lib/python3.8/json/decoder.py\u001b[0m in \u001b[0;36mraw_decode\u001b[0;34m(self, s, idx)\u001b[0m\n\u001b[1;32m    351\u001b[0m         \"\"\"\n\u001b[1;32m    352\u001b[0m         \u001b[0;32mtry\u001b[0m\u001b[0;34m:\u001b[0m\u001b[0;34m\u001b[0m\u001b[0;34m\u001b[0m\u001b[0m\n\u001b[0;32m--> 353\u001b[0;31m             \u001b[0mobj\u001b[0m\u001b[0;34m,\u001b[0m \u001b[0mend\u001b[0m \u001b[0;34m=\u001b[0m \u001b[0mself\u001b[0m\u001b[0;34m.\u001b[0m\u001b[0mscan_once\u001b[0m\u001b[0;34m(\u001b[0m\u001b[0ms\u001b[0m\u001b[0;34m,\u001b[0m \u001b[0midx\u001b[0m\u001b[0;34m)\u001b[0m\u001b[0;34m\u001b[0m\u001b[0;34m\u001b[0m\u001b[0m\n\u001b[0m\u001b[1;32m    354\u001b[0m         \u001b[0;32mexcept\u001b[0m \u001b[0mStopIteration\u001b[0m \u001b[0;32mas\u001b[0m \u001b[0merr\u001b[0m\u001b[0;34m:\u001b[0m\u001b[0;34m\u001b[0m\u001b[0;34m\u001b[0m\u001b[0m\n\u001b[1;32m    355\u001b[0m             \u001b[0;32mraise\u001b[0m \u001b[0mJSONDecodeError\u001b[0m\u001b[0;34m(\u001b[0m\u001b[0;34m\"Expecting value\"\u001b[0m\u001b[0;34m,\u001b[0m \u001b[0ms\u001b[0m\u001b[0;34m,\u001b[0m \u001b[0merr\u001b[0m\u001b[0;34m.\u001b[0m\u001b[0mvalue\u001b[0m\u001b[0;34m)\u001b[0m \u001b[0;32mfrom\u001b[0m \u001b[0;32mNone\u001b[0m\u001b[0;34m\u001b[0m\u001b[0;34m\u001b[0m\u001b[0m\n",
      "\u001b[0;31mKeyboardInterrupt\u001b[0m: "
     ]
    }
   ],
   "source": [
    "from sodapy import Socrata\n",
    "\n",
    "# Unauthenticated client only works with public data sets. Note 'None'\n",
    "# in place of application token, and no username or password:\n",
    "# client = Socrata(\"data.cms.gov\", None)\n",
    "\n",
    "MyAppToken = '5YNrrmFobthjbfVSPQWEZWkkk'\n",
    "username = 'jennifer.faith16@gmail.com'\n",
    "password = 'Nashua1998!'\n",
    "\n",
    "#Example authenticated client (needed for non-public datasets):\n",
    "client = Socrata(\"data.cms.gov\",\n",
    "                 MyAppToken,\n",
    "                 username,\n",
    "                 password)\n",
    "\n",
    "# First 2000 results, returned as JSON from API / converted to Python list of\n",
    "# dictionaries by sodapy.\n",
    "results = client.get(\"s2uc-8wxp\", limit = 1000000)\n",
    "\n",
    "# Convert to pandas DataFrame\n",
    "results_df = pd.DataFrame.from_records(results)"
   ]
  },
  {
   "cell_type": "code",
   "execution_count": 21,
   "id": "stretch-boards",
   "metadata": {},
   "outputs": [
    {
     "data": {
      "text/plain": [
       "(1000, 125)"
      ]
     },
     "execution_count": 21,
     "metadata": {},
     "output_type": "execute_result"
    }
   ],
   "source": [
    "results_df.shape"
   ]
  },
  {
   "cell_type": "code",
   "execution_count": null,
   "id": "dramatic-portland",
   "metadata": {},
   "outputs": [],
   "source": [
    "results_df.head()"
   ]
  },
  {
   "cell_type": "code",
   "execution_count": null,
   "id": "considerable-disclaimer",
   "metadata": {},
   "outputs": [],
   "source": []
  }
 ],
 "metadata": {
  "kernelspec": {
   "display_name": "Python 3",
   "language": "python",
   "name": "python3"
  },
  "language_info": {
   "codemirror_mode": {
    "name": "ipython",
    "version": 3
   },
   "file_extension": ".py",
   "mimetype": "text/x-python",
   "name": "python",
   "nbconvert_exporter": "python",
   "pygments_lexer": "ipython3",
   "version": "3.8.7"
  }
 },
 "nbformat": 4,
 "nbformat_minor": 5
}
